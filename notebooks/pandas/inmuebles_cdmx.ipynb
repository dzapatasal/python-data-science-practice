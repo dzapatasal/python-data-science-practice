{
 "cells": [
  {
   "cell_type": "markdown",
   "id": "d633f064",
   "metadata": {},
   "source": [
    "# Importando database"
   ]
  },
  {
   "cell_type": "code",
   "execution_count": 29,
   "id": "019e03ae",
   "metadata": {},
   "outputs": [
    {
     "data": {
      "application/vnd.microsoft.datawrangler.viewer.v0+json": {
       "columns": [
        {
         "name": "index",
         "rawType": "int64",
         "type": "integer"
        },
        {
         "name": "Tipo",
         "rawType": "object",
         "type": "string"
        },
        {
         "name": "Colonia",
         "rawType": "object",
         "type": "string"
        },
        {
         "name": "Habitaciones",
         "rawType": "int64",
         "type": "integer"
        },
        {
         "name": "Garages",
         "rawType": "int64",
         "type": "integer"
        },
        {
         "name": "Suites",
         "rawType": "int64",
         "type": "integer"
        },
        {
         "name": "Area",
         "rawType": "int64",
         "type": "integer"
        },
        {
         "name": "Valor",
         "rawType": "float64",
         "type": "float"
        },
        {
         "name": "Condominio",
         "rawType": "float64",
         "type": "float"
        },
        {
         "name": "Impuesto",
         "rawType": "float64",
         "type": "float"
        }
       ],
       "ref": "52d4cdcc-3714-4fa2-b5c0-f9447c495c13",
       "rows": [
        [
         "0",
         "Cocineta",
         "Condesa",
         "1",
         "0",
         "0",
         "40",
         "5950.0",
         "1750.0",
         "210.0"
        ],
        [
         "1",
         "Casa",
         "Polanco",
         "2",
         "0",
         "1",
         "100",
         "24500.0",
         null,
         null
        ],
        [
         "2",
         "Conjunto Comercial/Sala",
         "Santa Fe",
         "0",
         "4",
         "0",
         "150",
         "18200.0",
         "14070.0",
         "3888.5"
        ],
        [
         "3",
         "Departamento",
         "Centro Histórico",
         "1",
         "0",
         "0",
         "15",
         "2800.0",
         "1365.0",
         "70.0"
        ],
        [
         "4",
         "Departamento",
         "Del Valle",
         "1",
         "0",
         "0",
         "48",
         "2800.0",
         "805.0",
         null
        ]
       ],
       "shape": {
        "columns": 9,
        "rows": 5
       }
      },
      "text/html": [
       "<div>\n",
       "<style scoped>\n",
       "    .dataframe tbody tr th:only-of-type {\n",
       "        vertical-align: middle;\n",
       "    }\n",
       "\n",
       "    .dataframe tbody tr th {\n",
       "        vertical-align: top;\n",
       "    }\n",
       "\n",
       "    .dataframe thead th {\n",
       "        text-align: right;\n",
       "    }\n",
       "</style>\n",
       "<table border=\"1\" class=\"dataframe\">\n",
       "  <thead>\n",
       "    <tr style=\"text-align: right;\">\n",
       "      <th></th>\n",
       "      <th>Tipo</th>\n",
       "      <th>Colonia</th>\n",
       "      <th>Habitaciones</th>\n",
       "      <th>Garages</th>\n",
       "      <th>Suites</th>\n",
       "      <th>Area</th>\n",
       "      <th>Valor</th>\n",
       "      <th>Condominio</th>\n",
       "      <th>Impuesto</th>\n",
       "    </tr>\n",
       "  </thead>\n",
       "  <tbody>\n",
       "    <tr>\n",
       "      <th>0</th>\n",
       "      <td>Cocineta</td>\n",
       "      <td>Condesa</td>\n",
       "      <td>1</td>\n",
       "      <td>0</td>\n",
       "      <td>0</td>\n",
       "      <td>40</td>\n",
       "      <td>5950.0</td>\n",
       "      <td>1750.0</td>\n",
       "      <td>210.0</td>\n",
       "    </tr>\n",
       "    <tr>\n",
       "      <th>1</th>\n",
       "      <td>Casa</td>\n",
       "      <td>Polanco</td>\n",
       "      <td>2</td>\n",
       "      <td>0</td>\n",
       "      <td>1</td>\n",
       "      <td>100</td>\n",
       "      <td>24500.0</td>\n",
       "      <td>NaN</td>\n",
       "      <td>NaN</td>\n",
       "    </tr>\n",
       "    <tr>\n",
       "      <th>2</th>\n",
       "      <td>Conjunto Comercial/Sala</td>\n",
       "      <td>Santa Fe</td>\n",
       "      <td>0</td>\n",
       "      <td>4</td>\n",
       "      <td>0</td>\n",
       "      <td>150</td>\n",
       "      <td>18200.0</td>\n",
       "      <td>14070.0</td>\n",
       "      <td>3888.5</td>\n",
       "    </tr>\n",
       "    <tr>\n",
       "      <th>3</th>\n",
       "      <td>Departamento</td>\n",
       "      <td>Centro Histórico</td>\n",
       "      <td>1</td>\n",
       "      <td>0</td>\n",
       "      <td>0</td>\n",
       "      <td>15</td>\n",
       "      <td>2800.0</td>\n",
       "      <td>1365.0</td>\n",
       "      <td>70.0</td>\n",
       "    </tr>\n",
       "    <tr>\n",
       "      <th>4</th>\n",
       "      <td>Departamento</td>\n",
       "      <td>Del Valle</td>\n",
       "      <td>1</td>\n",
       "      <td>0</td>\n",
       "      <td>0</td>\n",
       "      <td>48</td>\n",
       "      <td>2800.0</td>\n",
       "      <td>805.0</td>\n",
       "      <td>NaN</td>\n",
       "    </tr>\n",
       "  </tbody>\n",
       "</table>\n",
       "</div>"
      ],
      "text/plain": [
       "                      Tipo           Colonia  Habitaciones  Garages  Suites  \\\n",
       "0                 Cocineta           Condesa             1        0       0   \n",
       "1                     Casa           Polanco             2        0       1   \n",
       "2  Conjunto Comercial/Sala          Santa Fe             0        4       0   \n",
       "3             Departamento  Centro Histórico             1        0       0   \n",
       "4             Departamento         Del Valle             1        0       0   \n",
       "\n",
       "   Area    Valor  Condominio  Impuesto  \n",
       "0    40   5950.0      1750.0     210.0  \n",
       "1   100  24500.0         NaN       NaN  \n",
       "2   150  18200.0     14070.0    3888.5  \n",
       "3    15   2800.0      1365.0      70.0  \n",
       "4    48   2800.0       805.0       NaN  "
      ]
     },
     "execution_count": 29,
     "metadata": {},
     "output_type": "execute_result"
    }
   ],
   "source": [
    "import numpy as np\n",
    "import pandas as pd\n",
    "\n",
    "#  URL del archivo raw de un Gist\n",
    "# Gist: 'https://gist.github.com/ahcamachod/a572cfcc2527046db93101f88011b26e'\n",
    "# Adjuntamos ruta 'raw' DE GIST\n",
    "url = 'https://gist.githubusercontent.com/ahcamachod/a572cfcc2527046db93101f88011b26e/raw/ffb13f45a79d31223e645611a119397dd127ee3c/alquiler.csv'\n",
    "\n",
    "# Lectura de datos\n",
    "df = pd.read_csv(url, sep=';') # utilizo ';' ya que segun el dataframe estan separados por ese símbolo.\n",
    "df.head() # visualizacion solo de las 5 primeras filas\n"
   ]
  },
  {
   "cell_type": "code",
   "execution_count": 33,
   "id": "87d3f98f",
   "metadata": {},
   "outputs": [
    {
     "data": {
      "application/vnd.microsoft.datawrangler.viewer.v0+json": {
       "columns": [
        {
         "name": "index",
         "rawType": "int64",
         "type": "integer"
        },
        {
         "name": "Tipo",
         "rawType": "object",
         "type": "string"
        },
        {
         "name": "Colonia",
         "rawType": "object",
         "type": "string"
        },
        {
         "name": "Habitaciones",
         "rawType": "int64",
         "type": "integer"
        },
        {
         "name": "Garages",
         "rawType": "int64",
         "type": "integer"
        },
        {
         "name": "Suites",
         "rawType": "int64",
         "type": "integer"
        },
        {
         "name": "Area",
         "rawType": "int64",
         "type": "integer"
        },
        {
         "name": "Valor",
         "rawType": "float64",
         "type": "float"
        },
        {
         "name": "Condominio",
         "rawType": "float64",
         "type": "float"
        },
        {
         "name": "Impuesto",
         "rawType": "float64",
         "type": "float"
        }
       ],
       "ref": "51cd7e11-7f45-45f5-9ca2-9ac20966d9e1",
       "rows": [
        [
         "21383",
         "Departamento",
         "Condesa",
         "3",
         "2",
         "1",
         "220",
         "28000.0",
         "6650.0",
         "18200.0"
        ],
        [
         "18567",
         "Conjunto Comercial/Sala",
         "Santa Fe",
         "0",
         "1",
         "0",
         "36",
         "4200.0",
         "2975.0",
         "735.0"
        ],
        [
         "20718",
         "Casa",
         "Roma Sur",
         "2",
         "1",
         "0",
         "52",
         "2975.0",
         null,
         null
        ],
        [
         "20615",
         "Casa",
         "San Jerónimo",
         "4",
         "3",
         "1",
         "379",
         "52500.0",
         "4200.0",
         null
        ],
        [
         "15428",
         "Departamento",
         "Santa Fe",
         "5",
         "2",
         "5",
         "330",
         "28000.0",
         "7000.0",
         "17500.0"
        ],
        [
         "22032",
         "Conjunto Comercial/Sala",
         "Santa Fe",
         "0",
         "1",
         "0",
         "30",
         "3500.0",
         "2481.5",
         "640.5"
        ],
        [
         "12283",
         "Departamento en Hotel",
         "Lomas de Chapultepec",
         "1",
         "1",
         "0",
         "60",
         "19250.0",
         "7105.0",
         "910.0"
        ],
        [
         "7583",
         "Departamento",
         "Lomas de Chapultepec",
         "2",
         "1",
         "0",
         "62",
         "10150.0",
         "2800.0",
         "430.5"
        ],
        [
         "15023",
         "Departamento",
         "Santa Fe",
         "1",
         "2",
         "0",
         "71",
         "10150.0",
         "4942.0",
         null
        ],
        [
         "5581",
         "Departamento",
         "Coyoacán",
         "4",
         "1",
         "1",
         "350",
         "49000.0",
         "8750.0",
         null
        ]
       ],
       "shape": {
        "columns": 9,
        "rows": 10
       }
      },
      "text/html": [
       "<div>\n",
       "<style scoped>\n",
       "    .dataframe tbody tr th:only-of-type {\n",
       "        vertical-align: middle;\n",
       "    }\n",
       "\n",
       "    .dataframe tbody tr th {\n",
       "        vertical-align: top;\n",
       "    }\n",
       "\n",
       "    .dataframe thead th {\n",
       "        text-align: right;\n",
       "    }\n",
       "</style>\n",
       "<table border=\"1\" class=\"dataframe\">\n",
       "  <thead>\n",
       "    <tr style=\"text-align: right;\">\n",
       "      <th></th>\n",
       "      <th>Tipo</th>\n",
       "      <th>Colonia</th>\n",
       "      <th>Habitaciones</th>\n",
       "      <th>Garages</th>\n",
       "      <th>Suites</th>\n",
       "      <th>Area</th>\n",
       "      <th>Valor</th>\n",
       "      <th>Condominio</th>\n",
       "      <th>Impuesto</th>\n",
       "    </tr>\n",
       "  </thead>\n",
       "  <tbody>\n",
       "    <tr>\n",
       "      <th>21383</th>\n",
       "      <td>Departamento</td>\n",
       "      <td>Condesa</td>\n",
       "      <td>3</td>\n",
       "      <td>2</td>\n",
       "      <td>1</td>\n",
       "      <td>220</td>\n",
       "      <td>28000.0</td>\n",
       "      <td>6650.0</td>\n",
       "      <td>18200.0</td>\n",
       "    </tr>\n",
       "    <tr>\n",
       "      <th>18567</th>\n",
       "      <td>Conjunto Comercial/Sala</td>\n",
       "      <td>Santa Fe</td>\n",
       "      <td>0</td>\n",
       "      <td>1</td>\n",
       "      <td>0</td>\n",
       "      <td>36</td>\n",
       "      <td>4200.0</td>\n",
       "      <td>2975.0</td>\n",
       "      <td>735.0</td>\n",
       "    </tr>\n",
       "    <tr>\n",
       "      <th>20718</th>\n",
       "      <td>Casa</td>\n",
       "      <td>Roma Sur</td>\n",
       "      <td>2</td>\n",
       "      <td>1</td>\n",
       "      <td>0</td>\n",
       "      <td>52</td>\n",
       "      <td>2975.0</td>\n",
       "      <td>NaN</td>\n",
       "      <td>NaN</td>\n",
       "    </tr>\n",
       "    <tr>\n",
       "      <th>20615</th>\n",
       "      <td>Casa</td>\n",
       "      <td>San Jerónimo</td>\n",
       "      <td>4</td>\n",
       "      <td>3</td>\n",
       "      <td>1</td>\n",
       "      <td>379</td>\n",
       "      <td>52500.0</td>\n",
       "      <td>4200.0</td>\n",
       "      <td>NaN</td>\n",
       "    </tr>\n",
       "    <tr>\n",
       "      <th>15428</th>\n",
       "      <td>Departamento</td>\n",
       "      <td>Santa Fe</td>\n",
       "      <td>5</td>\n",
       "      <td>2</td>\n",
       "      <td>5</td>\n",
       "      <td>330</td>\n",
       "      <td>28000.0</td>\n",
       "      <td>7000.0</td>\n",
       "      <td>17500.0</td>\n",
       "    </tr>\n",
       "    <tr>\n",
       "      <th>22032</th>\n",
       "      <td>Conjunto Comercial/Sala</td>\n",
       "      <td>Santa Fe</td>\n",
       "      <td>0</td>\n",
       "      <td>1</td>\n",
       "      <td>0</td>\n",
       "      <td>30</td>\n",
       "      <td>3500.0</td>\n",
       "      <td>2481.5</td>\n",
       "      <td>640.5</td>\n",
       "    </tr>\n",
       "    <tr>\n",
       "      <th>12283</th>\n",
       "      <td>Departamento en Hotel</td>\n",
       "      <td>Lomas de Chapultepec</td>\n",
       "      <td>1</td>\n",
       "      <td>1</td>\n",
       "      <td>0</td>\n",
       "      <td>60</td>\n",
       "      <td>19250.0</td>\n",
       "      <td>7105.0</td>\n",
       "      <td>910.0</td>\n",
       "    </tr>\n",
       "    <tr>\n",
       "      <th>7583</th>\n",
       "      <td>Departamento</td>\n",
       "      <td>Lomas de Chapultepec</td>\n",
       "      <td>2</td>\n",
       "      <td>1</td>\n",
       "      <td>0</td>\n",
       "      <td>62</td>\n",
       "      <td>10150.0</td>\n",
       "      <td>2800.0</td>\n",
       "      <td>430.5</td>\n",
       "    </tr>\n",
       "    <tr>\n",
       "      <th>15023</th>\n",
       "      <td>Departamento</td>\n",
       "      <td>Santa Fe</td>\n",
       "      <td>1</td>\n",
       "      <td>2</td>\n",
       "      <td>0</td>\n",
       "      <td>71</td>\n",
       "      <td>10150.0</td>\n",
       "      <td>4942.0</td>\n",
       "      <td>NaN</td>\n",
       "    </tr>\n",
       "    <tr>\n",
       "      <th>5581</th>\n",
       "      <td>Departamento</td>\n",
       "      <td>Coyoacán</td>\n",
       "      <td>4</td>\n",
       "      <td>1</td>\n",
       "      <td>1</td>\n",
       "      <td>350</td>\n",
       "      <td>49000.0</td>\n",
       "      <td>8750.0</td>\n",
       "      <td>NaN</td>\n",
       "    </tr>\n",
       "  </tbody>\n",
       "</table>\n",
       "</div>"
      ],
      "text/plain": [
       "                          Tipo               Colonia  Habitaciones  Garages  \\\n",
       "21383             Departamento               Condesa             3        2   \n",
       "18567  Conjunto Comercial/Sala              Santa Fe             0        1   \n",
       "20718                     Casa              Roma Sur             2        1   \n",
       "20615                     Casa          San Jerónimo             4        3   \n",
       "15428             Departamento              Santa Fe             5        2   \n",
       "22032  Conjunto Comercial/Sala              Santa Fe             0        1   \n",
       "12283    Departamento en Hotel  Lomas de Chapultepec             1        1   \n",
       "7583              Departamento  Lomas de Chapultepec             2        1   \n",
       "15023             Departamento              Santa Fe             1        2   \n",
       "5581              Departamento              Coyoacán             4        1   \n",
       "\n",
       "       Suites  Area    Valor  Condominio  Impuesto  \n",
       "21383       1   220  28000.0      6650.0   18200.0  \n",
       "18567       0    36   4200.0      2975.0     735.0  \n",
       "20718       0    52   2975.0         NaN       NaN  \n",
       "20615       1   379  52500.0      4200.0       NaN  \n",
       "15428       5   330  28000.0      7000.0   17500.0  \n",
       "22032       0    30   3500.0      2481.5     640.5  \n",
       "12283       0    60  19250.0      7105.0     910.0  \n",
       "7583        0    62  10150.0      2800.0     430.5  \n",
       "15023       0    71  10150.0      4942.0       NaN  \n",
       "5581        1   350  49000.0      8750.0       NaN  "
      ]
     },
     "execution_count": 33,
     "metadata": {},
     "output_type": "execute_result"
    }
   ],
   "source": [
    "# Tomamos una muestra aleatoria de 10 filas del dataframe\n",
    "df.sample(10)"
   ]
  },
  {
   "cell_type": "code",
   "execution_count": 34,
   "id": "7d378f41",
   "metadata": {},
   "outputs": [
    {
     "data": {
      "text/plain": [
       "pandas.core.frame.DataFrame"
      ]
     },
     "execution_count": 34,
     "metadata": {},
     "output_type": "execute_result"
    }
   ],
   "source": [
    "# Verificando el tipo de datos, efectivamente es un dataFrame\n",
    "type(df)"
   ]
  },
  {
   "cell_type": "markdown",
   "id": "de8ea35e",
   "metadata": {},
   "source": [
    "# First Analysis data exploration"
   ]
  },
  {
   "cell_type": "code",
   "execution_count": 35,
   "id": "2816f471",
   "metadata": {},
   "outputs": [
    {
     "data": {
      "application/vnd.microsoft.datawrangler.viewer.v0+json": {
       "columns": [
        {
         "name": "index",
         "rawType": "int64",
         "type": "integer"
        },
        {
         "name": "Tipo",
         "rawType": "object",
         "type": "string"
        },
        {
         "name": "Colonia",
         "rawType": "object",
         "type": "string"
        },
        {
         "name": "Habitaciones",
         "rawType": "int64",
         "type": "integer"
        },
        {
         "name": "Garages",
         "rawType": "int64",
         "type": "integer"
        },
        {
         "name": "Suites",
         "rawType": "int64",
         "type": "integer"
        },
        {
         "name": "Area",
         "rawType": "int64",
         "type": "integer"
        },
        {
         "name": "Valor",
         "rawType": "float64",
         "type": "float"
        },
        {
         "name": "Condominio",
         "rawType": "float64",
         "type": "float"
        },
        {
         "name": "Impuesto",
         "rawType": "float64",
         "type": "float"
        }
       ],
       "ref": "c10cd1f5-a117-4d17-a614-a40122c14ee5",
       "rows": [
        [
         "5932",
         "Conjunto Comercial/Sala",
         "Centro Histórico",
         "0",
         "0",
         "0",
         "21",
         "2100.0",
         "1067.5",
         "353.5"
        ],
        [
         "4373",
         "Departamento",
         "Santa Fe",
         "1",
         "1",
         "0",
         "56",
         "6300.0",
         "3353.0",
         null
        ],
        [
         "3267",
         "Departamento",
         "Narvarte",
         "4",
         "1",
         "0",
         "230",
         "12250.0",
         "2541.0",
         "441.0"
        ],
        [
         "14004",
         "Conjunto Comercial/Sala",
         "Coyoacán",
         "0",
         "1",
         "0",
         "33",
         "12250.0",
         "2761.5",
         "903.0"
        ],
        [
         "9172",
         "Departamento",
         "Coyoacán",
         "3",
         "2",
         "1",
         "133",
         "22750.0",
         "8750.0",
         "2208.5"
        ]
       ],
       "shape": {
        "columns": 9,
        "rows": 5
       }
      },
      "text/html": [
       "<div>\n",
       "<style scoped>\n",
       "    .dataframe tbody tr th:only-of-type {\n",
       "        vertical-align: middle;\n",
       "    }\n",
       "\n",
       "    .dataframe tbody tr th {\n",
       "        vertical-align: top;\n",
       "    }\n",
       "\n",
       "    .dataframe thead th {\n",
       "        text-align: right;\n",
       "    }\n",
       "</style>\n",
       "<table border=\"1\" class=\"dataframe\">\n",
       "  <thead>\n",
       "    <tr style=\"text-align: right;\">\n",
       "      <th></th>\n",
       "      <th>Tipo</th>\n",
       "      <th>Colonia</th>\n",
       "      <th>Habitaciones</th>\n",
       "      <th>Garages</th>\n",
       "      <th>Suites</th>\n",
       "      <th>Area</th>\n",
       "      <th>Valor</th>\n",
       "      <th>Condominio</th>\n",
       "      <th>Impuesto</th>\n",
       "    </tr>\n",
       "  </thead>\n",
       "  <tbody>\n",
       "    <tr>\n",
       "      <th>5932</th>\n",
       "      <td>Conjunto Comercial/Sala</td>\n",
       "      <td>Centro Histórico</td>\n",
       "      <td>0</td>\n",
       "      <td>0</td>\n",
       "      <td>0</td>\n",
       "      <td>21</td>\n",
       "      <td>2100.0</td>\n",
       "      <td>1067.5</td>\n",
       "      <td>353.5</td>\n",
       "    </tr>\n",
       "    <tr>\n",
       "      <th>4373</th>\n",
       "      <td>Departamento</td>\n",
       "      <td>Santa Fe</td>\n",
       "      <td>1</td>\n",
       "      <td>1</td>\n",
       "      <td>0</td>\n",
       "      <td>56</td>\n",
       "      <td>6300.0</td>\n",
       "      <td>3353.0</td>\n",
       "      <td>NaN</td>\n",
       "    </tr>\n",
       "    <tr>\n",
       "      <th>3267</th>\n",
       "      <td>Departamento</td>\n",
       "      <td>Narvarte</td>\n",
       "      <td>4</td>\n",
       "      <td>1</td>\n",
       "      <td>0</td>\n",
       "      <td>230</td>\n",
       "      <td>12250.0</td>\n",
       "      <td>2541.0</td>\n",
       "      <td>441.0</td>\n",
       "    </tr>\n",
       "    <tr>\n",
       "      <th>14004</th>\n",
       "      <td>Conjunto Comercial/Sala</td>\n",
       "      <td>Coyoacán</td>\n",
       "      <td>0</td>\n",
       "      <td>1</td>\n",
       "      <td>0</td>\n",
       "      <td>33</td>\n",
       "      <td>12250.0</td>\n",
       "      <td>2761.5</td>\n",
       "      <td>903.0</td>\n",
       "    </tr>\n",
       "    <tr>\n",
       "      <th>9172</th>\n",
       "      <td>Departamento</td>\n",
       "      <td>Coyoacán</td>\n",
       "      <td>3</td>\n",
       "      <td>2</td>\n",
       "      <td>1</td>\n",
       "      <td>133</td>\n",
       "      <td>22750.0</td>\n",
       "      <td>8750.0</td>\n",
       "      <td>2208.5</td>\n",
       "    </tr>\n",
       "  </tbody>\n",
       "</table>\n",
       "</div>"
      ],
      "text/plain": [
       "                          Tipo           Colonia  Habitaciones  Garages  \\\n",
       "5932   Conjunto Comercial/Sala  Centro Histórico             0        0   \n",
       "4373              Departamento          Santa Fe             1        1   \n",
       "3267              Departamento          Narvarte             4        1   \n",
       "14004  Conjunto Comercial/Sala          Coyoacán             0        1   \n",
       "9172              Departamento          Coyoacán             3        2   \n",
       "\n",
       "       Suites  Area    Valor  Condominio  Impuesto  \n",
       "5932        0    21   2100.0      1067.5     353.5  \n",
       "4373        0    56   6300.0      3353.0       NaN  \n",
       "3267        0   230  12250.0      2541.0     441.0  \n",
       "14004       0    33  12250.0      2761.5     903.0  \n",
       "9172        1   133  22750.0      8750.0    2208.5  "
      ]
     },
     "execution_count": 35,
     "metadata": {},
     "output_type": "execute_result"
    }
   ],
   "source": [
    "df.sample(5)"
   ]
  },
  {
   "cell_type": "code",
   "execution_count": 36,
   "id": "1c5d5a53",
   "metadata": {},
   "outputs": [
    {
     "data": {
      "text/plain": [
       "(25121, 9)"
      ]
     },
     "execution_count": 36,
     "metadata": {},
     "output_type": "execute_result"
    }
   ],
   "source": [
    "# Verificacion de la cantidad de dimensiones del array\n",
    "df.shape"
   ]
  },
  {
   "cell_type": "code",
   "execution_count": 37,
   "id": "0a237b37",
   "metadata": {},
   "outputs": [
    {
     "data": {
      "text/plain": [
       "Index(['Tipo', 'Colonia', 'Habitaciones', 'Garages', 'Suites', 'Area', 'Valor',\n",
       "       'Condominio', 'Impuesto'],\n",
       "      dtype='object')"
      ]
     },
     "execution_count": 37,
     "metadata": {},
     "output_type": "execute_result"
    }
   ],
   "source": [
    "# Verificamos las etiquetas de las columnas\n",
    "df.columns"
   ]
  },
  {
   "cell_type": "code",
   "execution_count": 38,
   "id": "d15ee3d4",
   "metadata": {},
   "outputs": [
    {
     "name": "stdout",
     "output_type": "stream",
     "text": [
      "<class 'pandas.core.frame.DataFrame'>\n",
      "RangeIndex: 25121 entries, 0 to 25120\n",
      "Data columns (total 9 columns):\n",
      " #   Column        Non-Null Count  Dtype  \n",
      "---  ------        --------------  -----  \n",
      " 0   Tipo          25121 non-null  object \n",
      " 1   Colonia       25121 non-null  object \n",
      " 2   Habitaciones  25121 non-null  int64  \n",
      " 3   Garages       25121 non-null  int64  \n",
      " 4   Suites        25121 non-null  int64  \n",
      " 5   Area          25121 non-null  int64  \n",
      " 6   Valor         25107 non-null  float64\n",
      " 7   Condominio    22495 non-null  float64\n",
      " 8   Impuesto      18037 non-null  float64\n",
      "dtypes: float64(3), int64(4), object(2)\n",
      "memory usage: 1.7+ MB\n"
     ]
    }
   ],
   "source": [
    "# Resumen de los datos analizados\n",
    "df.info()"
   ]
  },
  {
   "cell_type": "code",
   "execution_count": 39,
   "id": "66e6b069",
   "metadata": {},
   "outputs": [
    {
     "data": {
      "application/vnd.microsoft.datawrangler.viewer.v0+json": {
       "columns": [
        {
         "name": "index",
         "rawType": "int64",
         "type": "integer"
        },
        {
         "name": "Colonia",
         "rawType": "object",
         "type": "string"
        }
       ],
       "ref": "91ed059d-6e00-4a5d-a37c-0e83696bd07d",
       "rows": [
        [
         "0",
         "Condesa"
        ],
        [
         "1",
         "Polanco"
        ],
        [
         "2",
         "Santa Fe"
        ],
        [
         "3",
         "Centro Histórico"
        ],
        [
         "4",
         "Del Valle"
        ],
        [
         "5",
         "Santa Fe"
        ],
        [
         "6",
         "Centro Histórico"
        ],
        [
         "7",
         "Centro Histórico"
        ],
        [
         "8",
         "Condesa"
        ],
        [
         "9",
         "Condesa"
        ],
        [
         "10",
         "Condesa"
        ],
        [
         "11",
         "Roma"
        ],
        [
         "12",
         "Roma"
        ],
        [
         "13",
         "Santa Fe"
        ],
        [
         "14",
         "Narvarte"
        ],
        [
         "15",
         "Santa Fe"
        ],
        [
         "16",
         "Narvarte"
        ],
        [
         "17",
         "Lomas de Chapultepec"
        ],
        [
         "18",
         "Coyoacán"
        ],
        [
         "19",
         "Narvarte"
        ],
        [
         "20",
         "Santa Fe"
        ],
        [
         "21",
         "Roma"
        ],
        [
         "22",
         "Condesa"
        ],
        [
         "23",
         "Condesa"
        ],
        [
         "24",
         "Santa Fe"
        ],
        [
         "25",
         "Lomas de Chapultepec"
        ],
        [
         "26",
         "Centro Histórico"
        ],
        [
         "27",
         "Condesa"
        ],
        [
         "28",
         "Santa Fe"
        ],
        [
         "29",
         "Condesa"
        ],
        [
         "30",
         "Santa Fe"
        ],
        [
         "31",
         "Centro Histórico"
        ],
        [
         "32",
         "Centro Histórico"
        ],
        [
         "33",
         "Santa Fe"
        ],
        [
         "34",
         "San Pedro de los Pinos"
        ],
        [
         "35",
         "Centro Histórico"
        ],
        [
         "36",
         "Polanco"
        ],
        [
         "37",
         "Centro Histórico"
        ],
        [
         "38",
         "Coyoacán"
        ],
        [
         "39",
         "Coyoacán"
        ],
        [
         "40",
         "Condesa"
        ],
        [
         "41",
         "Santa Fe"
        ],
        [
         "42",
         "Santa Fe"
        ],
        [
         "43",
         "Coyoacán"
        ],
        [
         "44",
         "Roma"
        ],
        [
         "45",
         "Coyoacán"
        ],
        [
         "46",
         "Centro Histórico"
        ],
        [
         "47",
         "Coyoacán"
        ],
        [
         "48",
         "Polanco"
        ],
        [
         "49",
         "Santa Fe"
        ]
       ],
       "shape": {
        "columns": 1,
        "rows": 25121
       }
      },
      "text/plain": [
       "0                     Condesa\n",
       "1                     Polanco\n",
       "2                    Santa Fe\n",
       "3            Centro Histórico\n",
       "4                   Del Valle\n",
       "                 ...         \n",
       "25116        Centro Histórico\n",
       "25117        Centro Histórico\n",
       "25118                 Mixcoac\n",
       "25119    Lomas de Chapultepec\n",
       "25120        Centro Histórico\n",
       "Name: Colonia, Length: 25121, dtype: object"
      ]
     },
     "execution_count": 39,
     "metadata": {},
     "output_type": "execute_result"
    }
   ],
   "source": [
    "# Verificacion por columna del tipo de dato contenida en ella (columna)\n",
    "df['Colonia']"
   ]
  },
  {
   "cell_type": "code",
   "execution_count": 40,
   "id": "d736385e",
   "metadata": {},
   "outputs": [
    {
     "data": {
      "application/vnd.microsoft.datawrangler.viewer.v0+json": {
       "columns": [
        {
         "name": "index",
         "rawType": "int64",
         "type": "integer"
        },
        {
         "name": "Area",
         "rawType": "int64",
         "type": "integer"
        },
        {
         "name": "Valor",
         "rawType": "float64",
         "type": "float"
        }
       ],
       "ref": "58afa143-e1bb-4897-be9f-0eb51e1f2500",
       "rows": [
        [
         "0",
         "40",
         "5950.0"
        ],
        [
         "1",
         "100",
         "24500.0"
        ],
        [
         "2",
         "150",
         "18200.0"
        ],
        [
         "3",
         "15",
         "2800.0"
        ],
        [
         "4",
         "48",
         "2800.0"
        ],
        [
         "5",
         "750",
         "77000.0"
        ],
        [
         "6",
         "695",
         "122500.0"
        ],
        [
         "7",
         "36",
         "4200.0"
        ],
        [
         "8",
         "40",
         "7000.0"
        ],
        [
         "9",
         "27",
         "6300.0"
        ],
        [
         "10",
         "243",
         "45500.0"
        ],
        [
         "11",
         "536",
         "98000.0"
        ],
        [
         "12",
         "80",
         "13300.0"
        ],
        [
         "13",
         "67",
         "5950.0"
        ],
        [
         "14",
         "110",
         "6650.0"
        ],
        [
         "15",
         "466",
         "26250.0"
        ],
        [
         "16",
         "78",
         "7000.0"
        ],
        [
         "17",
         "56",
         "15750.0"
        ],
        [
         "18",
         "125",
         "24500.0"
        ],
        [
         "19",
         "48",
         "2625.0"
        ],
        [
         "20",
         "175",
         "14700.0"
        ],
        [
         "21",
         "76",
         "8750.0"
        ],
        [
         "22",
         "378",
         "35000.0"
        ],
        [
         "23",
         "180",
         "19250.0"
        ],
        [
         "24",
         "22",
         "2450.0"
        ],
        [
         "25",
         "110",
         "13650.0"
        ],
        [
         "26",
         "1306",
         "411390.0"
        ],
        [
         "27",
         "27",
         "4550.0"
        ],
        [
         "28",
         "70",
         "6300.0"
        ],
        [
         "29",
         "244",
         "17500.0"
        ],
        [
         "30",
         "110",
         "15750.0"
        ],
        [
         "31",
         "460",
         "26250.0"
        ],
        [
         "32",
         "1170",
         "491596.0"
        ],
        [
         "33",
         "72",
         "8225.0"
        ],
        [
         "34",
         "180",
         "14000.0"
        ],
        [
         "35",
         "70",
         "6650.0"
        ],
        [
         "36",
         "50",
         "14000.0"
        ],
        [
         "37",
         "27",
         "2625.0"
        ],
        [
         "38",
         "35",
         "7000.0"
        ],
        [
         "39",
         "38",
         "4900.0"
        ],
        [
         "40",
         "34",
         "7000.0"
        ],
        [
         "41",
         "1600",
         "87500.0"
        ],
        [
         "42",
         "153",
         "22750.0"
        ],
        [
         "43",
         "87",
         "11200.0"
        ],
        [
         "44",
         "108",
         "20825.0"
        ],
        [
         "45",
         "150",
         "28000.0"
        ],
        [
         "46",
         "1",
         "9975.0"
        ],
        [
         "47",
         "140",
         "27650.0"
        ],
        [
         "48",
         "95",
         "14000.0"
        ],
        [
         "49",
         "70",
         null
        ]
       ],
       "shape": {
        "columns": 2,
        "rows": 25121
       }
      },
      "text/html": [
       "<div>\n",
       "<style scoped>\n",
       "    .dataframe tbody tr th:only-of-type {\n",
       "        vertical-align: middle;\n",
       "    }\n",
       "\n",
       "    .dataframe tbody tr th {\n",
       "        vertical-align: top;\n",
       "    }\n",
       "\n",
       "    .dataframe thead th {\n",
       "        text-align: right;\n",
       "    }\n",
       "</style>\n",
       "<table border=\"1\" class=\"dataframe\">\n",
       "  <thead>\n",
       "    <tr style=\"text-align: right;\">\n",
       "      <th></th>\n",
       "      <th>Area</th>\n",
       "      <th>Valor</th>\n",
       "    </tr>\n",
       "  </thead>\n",
       "  <tbody>\n",
       "    <tr>\n",
       "      <th>0</th>\n",
       "      <td>40</td>\n",
       "      <td>5950.0</td>\n",
       "    </tr>\n",
       "    <tr>\n",
       "      <th>1</th>\n",
       "      <td>100</td>\n",
       "      <td>24500.0</td>\n",
       "    </tr>\n",
       "    <tr>\n",
       "      <th>2</th>\n",
       "      <td>150</td>\n",
       "      <td>18200.0</td>\n",
       "    </tr>\n",
       "    <tr>\n",
       "      <th>3</th>\n",
       "      <td>15</td>\n",
       "      <td>2800.0</td>\n",
       "    </tr>\n",
       "    <tr>\n",
       "      <th>4</th>\n",
       "      <td>48</td>\n",
       "      <td>2800.0</td>\n",
       "    </tr>\n",
       "    <tr>\n",
       "      <th>...</th>\n",
       "      <td>...</td>\n",
       "      <td>...</td>\n",
       "    </tr>\n",
       "    <tr>\n",
       "      <th>25116</th>\n",
       "      <td>755</td>\n",
       "      <td>49000.0</td>\n",
       "    </tr>\n",
       "    <tr>\n",
       "      <th>25117</th>\n",
       "      <td>27</td>\n",
       "      <td>2800.0</td>\n",
       "    </tr>\n",
       "    <tr>\n",
       "      <th>25118</th>\n",
       "      <td>48</td>\n",
       "      <td>4900.0</td>\n",
       "    </tr>\n",
       "    <tr>\n",
       "      <th>25119</th>\n",
       "      <td>70</td>\n",
       "      <td>10500.0</td>\n",
       "    </tr>\n",
       "    <tr>\n",
       "      <th>25120</th>\n",
       "      <td>250</td>\n",
       "      <td>22750.0</td>\n",
       "    </tr>\n",
       "  </tbody>\n",
       "</table>\n",
       "<p>25121 rows × 2 columns</p>\n",
       "</div>"
      ],
      "text/plain": [
       "       Area    Valor\n",
       "0        40   5950.0\n",
       "1       100  24500.0\n",
       "2       150  18200.0\n",
       "3        15   2800.0\n",
       "4        48   2800.0\n",
       "...     ...      ...\n",
       "25116   755  49000.0\n",
       "25117    27   2800.0\n",
       "25118    48   4900.0\n",
       "25119    70  10500.0\n",
       "25120   250  22750.0\n",
       "\n",
       "[25121 rows x 2 columns]"
      ]
     },
     "execution_count": 40,
     "metadata": {},
     "output_type": "execute_result"
    }
   ],
   "source": [
    "# Verificación de los tipos de datos de dos columnas\n",
    "df[['Area','Valor']]  # solamente ['Area','Valor'] es una tupla, se tiene que pasar una lista "
   ]
  },
  {
   "cell_type": "markdown",
   "id": "d5d1199d",
   "metadata": {},
   "source": [
    "# ML Demands"
   ]
  },
  {
   "cell_type": "markdown",
   "id": "23f804bc",
   "metadata": {},
   "source": [
    "- Valores promedio de alquiler por tipo de inmueble\n",
    "- Porcentaje de cada tipo de inmueble presente en la base de datos"
   ]
  },
  {
   "cell_type": "code",
   "execution_count": 41,
   "id": "acd63417",
   "metadata": {},
   "outputs": [
    {
     "data": {
      "application/vnd.microsoft.datawrangler.viewer.v0+json": {
       "columns": [
        {
         "name": "index",
         "rawType": "int64",
         "type": "integer"
        },
        {
         "name": "Tipo",
         "rawType": "object",
         "type": "string"
        },
        {
         "name": "Colonia",
         "rawType": "object",
         "type": "string"
        },
        {
         "name": "Habitaciones",
         "rawType": "int64",
         "type": "integer"
        },
        {
         "name": "Garages",
         "rawType": "int64",
         "type": "integer"
        },
        {
         "name": "Suites",
         "rawType": "int64",
         "type": "integer"
        },
        {
         "name": "Area",
         "rawType": "int64",
         "type": "integer"
        },
        {
         "name": "Valor",
         "rawType": "float64",
         "type": "float"
        },
        {
         "name": "Condominio",
         "rawType": "float64",
         "type": "float"
        },
        {
         "name": "Impuesto",
         "rawType": "float64",
         "type": "float"
        }
       ],
       "ref": "708234df-9ab1-4ca0-8bb3-7158678bbba2",
       "rows": [
        [
         "0",
         "Cocineta",
         "Condesa",
         "1",
         "0",
         "0",
         "40",
         "5950.0",
         "1750.0",
         "210.0"
        ],
        [
         "1",
         "Casa",
         "Polanco",
         "2",
         "0",
         "1",
         "100",
         "24500.0",
         null,
         null
        ],
        [
         "2",
         "Conjunto Comercial/Sala",
         "Santa Fe",
         "0",
         "4",
         "0",
         "150",
         "18200.0",
         "14070.0",
         "3888.5"
        ],
        [
         "3",
         "Departamento",
         "Centro Histórico",
         "1",
         "0",
         "0",
         "15",
         "2800.0",
         "1365.0",
         "70.0"
        ],
        [
         "4",
         "Departamento",
         "Del Valle",
         "1",
         "0",
         "0",
         "48",
         "2800.0",
         "805.0",
         null
        ]
       ],
       "shape": {
        "columns": 9,
        "rows": 5
       }
      },
      "text/html": [
       "<div>\n",
       "<style scoped>\n",
       "    .dataframe tbody tr th:only-of-type {\n",
       "        vertical-align: middle;\n",
       "    }\n",
       "\n",
       "    .dataframe tbody tr th {\n",
       "        vertical-align: top;\n",
       "    }\n",
       "\n",
       "    .dataframe thead th {\n",
       "        text-align: right;\n",
       "    }\n",
       "</style>\n",
       "<table border=\"1\" class=\"dataframe\">\n",
       "  <thead>\n",
       "    <tr style=\"text-align: right;\">\n",
       "      <th></th>\n",
       "      <th>Tipo</th>\n",
       "      <th>Colonia</th>\n",
       "      <th>Habitaciones</th>\n",
       "      <th>Garages</th>\n",
       "      <th>Suites</th>\n",
       "      <th>Area</th>\n",
       "      <th>Valor</th>\n",
       "      <th>Condominio</th>\n",
       "      <th>Impuesto</th>\n",
       "    </tr>\n",
       "  </thead>\n",
       "  <tbody>\n",
       "    <tr>\n",
       "      <th>0</th>\n",
       "      <td>Cocineta</td>\n",
       "      <td>Condesa</td>\n",
       "      <td>1</td>\n",
       "      <td>0</td>\n",
       "      <td>0</td>\n",
       "      <td>40</td>\n",
       "      <td>5950.0</td>\n",
       "      <td>1750.0</td>\n",
       "      <td>210.0</td>\n",
       "    </tr>\n",
       "    <tr>\n",
       "      <th>1</th>\n",
       "      <td>Casa</td>\n",
       "      <td>Polanco</td>\n",
       "      <td>2</td>\n",
       "      <td>0</td>\n",
       "      <td>1</td>\n",
       "      <td>100</td>\n",
       "      <td>24500.0</td>\n",
       "      <td>NaN</td>\n",
       "      <td>NaN</td>\n",
       "    </tr>\n",
       "    <tr>\n",
       "      <th>2</th>\n",
       "      <td>Conjunto Comercial/Sala</td>\n",
       "      <td>Santa Fe</td>\n",
       "      <td>0</td>\n",
       "      <td>4</td>\n",
       "      <td>0</td>\n",
       "      <td>150</td>\n",
       "      <td>18200.0</td>\n",
       "      <td>14070.0</td>\n",
       "      <td>3888.5</td>\n",
       "    </tr>\n",
       "    <tr>\n",
       "      <th>3</th>\n",
       "      <td>Departamento</td>\n",
       "      <td>Centro Histórico</td>\n",
       "      <td>1</td>\n",
       "      <td>0</td>\n",
       "      <td>0</td>\n",
       "      <td>15</td>\n",
       "      <td>2800.0</td>\n",
       "      <td>1365.0</td>\n",
       "      <td>70.0</td>\n",
       "    </tr>\n",
       "    <tr>\n",
       "      <th>4</th>\n",
       "      <td>Departamento</td>\n",
       "      <td>Del Valle</td>\n",
       "      <td>1</td>\n",
       "      <td>0</td>\n",
       "      <td>0</td>\n",
       "      <td>48</td>\n",
       "      <td>2800.0</td>\n",
       "      <td>805.0</td>\n",
       "      <td>NaN</td>\n",
       "    </tr>\n",
       "  </tbody>\n",
       "</table>\n",
       "</div>"
      ],
      "text/plain": [
       "                      Tipo           Colonia  Habitaciones  Garages  Suites  \\\n",
       "0                 Cocineta           Condesa             1        0       0   \n",
       "1                     Casa           Polanco             2        0       1   \n",
       "2  Conjunto Comercial/Sala          Santa Fe             0        4       0   \n",
       "3             Departamento  Centro Histórico             1        0       0   \n",
       "4             Departamento         Del Valle             1        0       0   \n",
       "\n",
       "   Area    Valor  Condominio  Impuesto  \n",
       "0    40   5950.0      1750.0     210.0  \n",
       "1   100  24500.0         NaN       NaN  \n",
       "2   150  18200.0     14070.0    3888.5  \n",
       "3    15   2800.0      1365.0      70.0  \n",
       "4    48   2800.0       805.0       NaN  "
      ]
     },
     "execution_count": 41,
     "metadata": {},
     "output_type": "execute_result"
    }
   ],
   "source": [
    "# Ver primeras filas\n",
    "df.head()"
   ]
  },
  {
   "cell_type": "code",
   "execution_count": 25,
   "id": "78214276",
   "metadata": {},
   "outputs": [
    {
     "data": {
      "text/plain": [
       "np.float64(36885.05048392878)"
      ]
     },
     "execution_count": 25,
     "metadata": {},
     "output_type": "execute_result"
    }
   ],
   "source": [
    "# Suma de todos los valores de el dataframe\n",
    "df['Valor'].mean()"
   ]
  },
  {
   "cell_type": "code",
   "execution_count": 43,
   "id": "03f42a26",
   "metadata": {},
   "outputs": [
    {
     "name": "stdout",
     "output_type": "stream",
     "text": [
      "Tipo             object\n",
      "Colonia          object\n",
      "Habitaciones      int64\n",
      "Garages           int64\n",
      "Suites            int64\n",
      "Area              int64\n",
      "Valor           float64\n",
      "Condominio      float64\n",
      "Impuesto        float64\n",
      "dtype: object\n"
     ]
    }
   ],
   "source": [
    "print(df.dtypes)"
   ]
  },
  {
   "cell_type": "code",
   "execution_count": null,
   "id": "cd45a6d7",
   "metadata": {},
   "outputs": [
    {
     "data": {
      "application/vnd.microsoft.datawrangler.viewer.v0+json": {
       "columns": [
        {
         "name": "Tipo",
         "rawType": "object",
         "type": "string"
        },
        {
         "name": "Habitaciones",
         "rawType": "float64",
         "type": "float"
        },
        {
         "name": "Garages",
         "rawType": "float64",
         "type": "float"
        },
        {
         "name": "Suites",
         "rawType": "float64",
         "type": "float"
        },
        {
         "name": "Area",
         "rawType": "float64",
         "type": "float"
        },
        {
         "name": "Valor",
         "rawType": "float64",
         "type": "float"
        },
        {
         "name": "Condominio",
         "rawType": "float64",
         "type": "float"
        },
        {
         "name": "Impuesto",
         "rawType": "float64",
         "type": "float"
        }
       ],
       "ref": "e25ac9ad-4ad4-4a43-a07d-f86049900064",
       "rows": [
        [
         "Casa",
         "3.3596330275229356",
         "1.8972477064220183",
         "1.4385321100917432",
         "289.943119266055",
         "31453.177064220185",
         "3699.4216417910447",
         "6629.4048507462685"
        ],
        [
         "Casa Comercial",
         "1.801980198019802",
         "2.118811881188119",
         "0.25742574257425743",
         "370.2772277227723",
         "54735.841584158414",
         "7622.192307692308",
         "6166.06338028169"
        ],
        [
         "Casa de Condominio",
         "4.319672131147541",
         "3.555737704918033",
         "3.2475409836065574",
         "566.3032786885246",
         "51428.609836065574",
         "5286.578804347826",
         "15046.939393939394"
        ],
        [
         "Casa de Vecindad",
         "1.9746835443037976",
         "0.379746835443038",
         "0.21518987341772153",
         "79.98101265822785",
         "5961.7405063291135",
         "413.44444444444446",
         "706.85"
        ],
        [
         "Cochera/Estacionamiento",
         "0.06493506493506493",
         "1.3766233766233766",
         "0.0",
         "18.662337662337663",
         "6995.454545454545",
         "1069.075",
         "449.4583333333333"
        ],
        [
         "Cocineta",
         "0.8360881542699724",
         "0.02066115702479339",
         "0.04132231404958678",
         "29.09090909090909",
         "4425.856060606061",
         "1521.7342143906021",
         "280.70146137787054"
        ],
        [
         "Conjunto Comercial/Sala",
         "0.047174793170216514",
         "2.6863228304875904",
         "0.0003520506953001232",
         "236.32371061432846",
         "57675.21454993835",
         "17489.36114200964",
         "5425.980245061265"
        ],
        [
         "Departamento",
         "2.5041994039555675",
         "1.2563668382552153",
         "0.8918992143050664",
         "124.0142915199133",
         "18683.269431456258",
         "6797.092950739261",
         "2634.9210814260964"
        ],
        [
         "Departamento en Hotel",
         "1.4197802197802198",
         "0.9692307692307692",
         "0.7582417582417582",
         "65.84835164835165",
         "16285.430769230768",
         "7250.650602409639",
         "1768.9238845144357"
        ],
        [
         "Edificio Completo",
         "0.4055299539170507",
         "11.175115207373272",
         "0.027649769585253458",
         "1717.2718894009217",
         "409418.0806451613",
         "234304.60869565216",
         "50413.73529411765"
        ],
        [
         "Estudio",
         "0.5",
         "0.25",
         "0.0",
         "103.25",
         "8400.0",
         "1921.5",
         "529.375"
        ],
        [
         "Galpón/Depósito/Almacén",
         "0.06920415224913495",
         "5.311418685121107",
         "0.0",
         "2660.4878892733564",
         "299984.1401384083",
         "48581.166666666664",
         "22260.530898876405"
        ],
        [
         "Hotel",
         "25.5",
         "2.5",
         "12.0",
         "885.5",
         "87500.0",
         null,
         "21707.0"
        ],
        [
         "Industria",
         "0.0",
         "0.0",
         "0.0",
         "22.0",
         "420000.0",
         null,
         null
        ],
        [
         "Loft",
         "1.0789473684210527",
         "0.5526315789473685",
         "0.42105263157894735",
         "56.26315789473684",
         "9924.526315789473",
         "3501.2",
         "887.0806451612904"
        ],
        [
         "Loteo/Condominio",
         "0.0",
         "0.0",
         "0.0",
         "215.0",
         "92166.66666666667",
         null,
         "17097.5"
        ],
        [
         "Posada/Chalé",
         "23.0",
         "0.0",
         "23.0",
         "862.0",
         "5180.0",
         "1032.5",
         null
        ],
        [
         "Rancho",
         "5.125",
         "0.0",
         "3.75",
         "14993.75",
         "38014.375",
         null,
         "4375.0"
        ],
        [
         "Terreno Estándar",
         "0.06666666666666667",
         "0.0",
         "0.0",
         "4012.0444444444443",
         "135364.44444444444",
         null,
         "24988.75"
        ],
        [
         "Tienda en Centro Comercial",
         "0.05583756345177665",
         "8.385786802030458",
         "0.01015228426395939",
         "92.19796954314721",
         "32556.785714285714",
         "6824.166666666667",
         "4127.755882352942"
        ],
        [
         "Tienda/Salón",
         "0.011839708561020037",
         "1.349726775956284",
         "0.0018214936247723133",
         "242.1693989071038",
         "56263.54425182482",
         "10395.491137370753",
         "10532.468926553673"
        ]
       ],
       "shape": {
        "columns": 7,
        "rows": 21
       }
      },
      "text/html": [
       "<div>\n",
       "<style scoped>\n",
       "    .dataframe tbody tr th:only-of-type {\n",
       "        vertical-align: middle;\n",
       "    }\n",
       "\n",
       "    .dataframe tbody tr th {\n",
       "        vertical-align: top;\n",
       "    }\n",
       "\n",
       "    .dataframe thead th {\n",
       "        text-align: right;\n",
       "    }\n",
       "</style>\n",
       "<table border=\"1\" class=\"dataframe\">\n",
       "  <thead>\n",
       "    <tr style=\"text-align: right;\">\n",
       "      <th></th>\n",
       "      <th>Habitaciones</th>\n",
       "      <th>Garages</th>\n",
       "      <th>Suites</th>\n",
       "      <th>Area</th>\n",
       "      <th>Valor</th>\n",
       "      <th>Condominio</th>\n",
       "      <th>Impuesto</th>\n",
       "    </tr>\n",
       "    <tr>\n",
       "      <th>Tipo</th>\n",
       "      <th></th>\n",
       "      <th></th>\n",
       "      <th></th>\n",
       "      <th></th>\n",
       "      <th></th>\n",
       "      <th></th>\n",
       "      <th></th>\n",
       "    </tr>\n",
       "  </thead>\n",
       "  <tbody>\n",
       "    <tr>\n",
       "      <th>Casa</th>\n",
       "      <td>3.359633</td>\n",
       "      <td>1.897248</td>\n",
       "      <td>1.438532</td>\n",
       "      <td>289.943119</td>\n",
       "      <td>31453.177064</td>\n",
       "      <td>3699.421642</td>\n",
       "      <td>6629.404851</td>\n",
       "    </tr>\n",
       "    <tr>\n",
       "      <th>Casa Comercial</th>\n",
       "      <td>1.801980</td>\n",
       "      <td>2.118812</td>\n",
       "      <td>0.257426</td>\n",
       "      <td>370.277228</td>\n",
       "      <td>54735.841584</td>\n",
       "      <td>7622.192308</td>\n",
       "      <td>6166.063380</td>\n",
       "    </tr>\n",
       "    <tr>\n",
       "      <th>Casa de Condominio</th>\n",
       "      <td>4.319672</td>\n",
       "      <td>3.555738</td>\n",
       "      <td>3.247541</td>\n",
       "      <td>566.303279</td>\n",
       "      <td>51428.609836</td>\n",
       "      <td>5286.578804</td>\n",
       "      <td>15046.939394</td>\n",
       "    </tr>\n",
       "    <tr>\n",
       "      <th>Casa de Vecindad</th>\n",
       "      <td>1.974684</td>\n",
       "      <td>0.379747</td>\n",
       "      <td>0.215190</td>\n",
       "      <td>79.981013</td>\n",
       "      <td>5961.740506</td>\n",
       "      <td>413.444444</td>\n",
       "      <td>706.850000</td>\n",
       "    </tr>\n",
       "    <tr>\n",
       "      <th>Cochera/Estacionamiento</th>\n",
       "      <td>0.064935</td>\n",
       "      <td>1.376623</td>\n",
       "      <td>0.000000</td>\n",
       "      <td>18.662338</td>\n",
       "      <td>6995.454545</td>\n",
       "      <td>1069.075000</td>\n",
       "      <td>449.458333</td>\n",
       "    </tr>\n",
       "    <tr>\n",
       "      <th>Cocineta</th>\n",
       "      <td>0.836088</td>\n",
       "      <td>0.020661</td>\n",
       "      <td>0.041322</td>\n",
       "      <td>29.090909</td>\n",
       "      <td>4425.856061</td>\n",
       "      <td>1521.734214</td>\n",
       "      <td>280.701461</td>\n",
       "    </tr>\n",
       "    <tr>\n",
       "      <th>Conjunto Comercial/Sala</th>\n",
       "      <td>0.047175</td>\n",
       "      <td>2.686323</td>\n",
       "      <td>0.000352</td>\n",
       "      <td>236.323711</td>\n",
       "      <td>57675.214550</td>\n",
       "      <td>17489.361142</td>\n",
       "      <td>5425.980245</td>\n",
       "    </tr>\n",
       "    <tr>\n",
       "      <th>Departamento</th>\n",
       "      <td>2.504199</td>\n",
       "      <td>1.256367</td>\n",
       "      <td>0.891899</td>\n",
       "      <td>124.014292</td>\n",
       "      <td>18683.269431</td>\n",
       "      <td>6797.092951</td>\n",
       "      <td>2634.921081</td>\n",
       "    </tr>\n",
       "    <tr>\n",
       "      <th>Departamento en Hotel</th>\n",
       "      <td>1.419780</td>\n",
       "      <td>0.969231</td>\n",
       "      <td>0.758242</td>\n",
       "      <td>65.848352</td>\n",
       "      <td>16285.430769</td>\n",
       "      <td>7250.650602</td>\n",
       "      <td>1768.923885</td>\n",
       "    </tr>\n",
       "    <tr>\n",
       "      <th>Edificio Completo</th>\n",
       "      <td>0.405530</td>\n",
       "      <td>11.175115</td>\n",
       "      <td>0.027650</td>\n",
       "      <td>1717.271889</td>\n",
       "      <td>409418.080645</td>\n",
       "      <td>234304.608696</td>\n",
       "      <td>50413.735294</td>\n",
       "    </tr>\n",
       "    <tr>\n",
       "      <th>Estudio</th>\n",
       "      <td>0.500000</td>\n",
       "      <td>0.250000</td>\n",
       "      <td>0.000000</td>\n",
       "      <td>103.250000</td>\n",
       "      <td>8400.000000</td>\n",
       "      <td>1921.500000</td>\n",
       "      <td>529.375000</td>\n",
       "    </tr>\n",
       "    <tr>\n",
       "      <th>Galpón/Depósito/Almacén</th>\n",
       "      <td>0.069204</td>\n",
       "      <td>5.311419</td>\n",
       "      <td>0.000000</td>\n",
       "      <td>2660.487889</td>\n",
       "      <td>299984.140138</td>\n",
       "      <td>48581.166667</td>\n",
       "      <td>22260.530899</td>\n",
       "    </tr>\n",
       "    <tr>\n",
       "      <th>Hotel</th>\n",
       "      <td>25.500000</td>\n",
       "      <td>2.500000</td>\n",
       "      <td>12.000000</td>\n",
       "      <td>885.500000</td>\n",
       "      <td>87500.000000</td>\n",
       "      <td>NaN</td>\n",
       "      <td>21707.000000</td>\n",
       "    </tr>\n",
       "    <tr>\n",
       "      <th>Industria</th>\n",
       "      <td>0.000000</td>\n",
       "      <td>0.000000</td>\n",
       "      <td>0.000000</td>\n",
       "      <td>22.000000</td>\n",
       "      <td>420000.000000</td>\n",
       "      <td>NaN</td>\n",
       "      <td>NaN</td>\n",
       "    </tr>\n",
       "    <tr>\n",
       "      <th>Loft</th>\n",
       "      <td>1.078947</td>\n",
       "      <td>0.552632</td>\n",
       "      <td>0.421053</td>\n",
       "      <td>56.263158</td>\n",
       "      <td>9924.526316</td>\n",
       "      <td>3501.200000</td>\n",
       "      <td>887.080645</td>\n",
       "    </tr>\n",
       "    <tr>\n",
       "      <th>Loteo/Condominio</th>\n",
       "      <td>0.000000</td>\n",
       "      <td>0.000000</td>\n",
       "      <td>0.000000</td>\n",
       "      <td>215.000000</td>\n",
       "      <td>92166.666667</td>\n",
       "      <td>NaN</td>\n",
       "      <td>17097.500000</td>\n",
       "    </tr>\n",
       "    <tr>\n",
       "      <th>Posada/Chalé</th>\n",
       "      <td>23.000000</td>\n",
       "      <td>0.000000</td>\n",
       "      <td>23.000000</td>\n",
       "      <td>862.000000</td>\n",
       "      <td>5180.000000</td>\n",
       "      <td>1032.500000</td>\n",
       "      <td>NaN</td>\n",
       "    </tr>\n",
       "    <tr>\n",
       "      <th>Rancho</th>\n",
       "      <td>5.125000</td>\n",
       "      <td>0.000000</td>\n",
       "      <td>3.750000</td>\n",
       "      <td>14993.750000</td>\n",
       "      <td>38014.375000</td>\n",
       "      <td>NaN</td>\n",
       "      <td>4375.000000</td>\n",
       "    </tr>\n",
       "    <tr>\n",
       "      <th>Terreno Estándar</th>\n",
       "      <td>0.066667</td>\n",
       "      <td>0.000000</td>\n",
       "      <td>0.000000</td>\n",
       "      <td>4012.044444</td>\n",
       "      <td>135364.444444</td>\n",
       "      <td>NaN</td>\n",
       "      <td>24988.750000</td>\n",
       "    </tr>\n",
       "    <tr>\n",
       "      <th>Tienda en Centro Comercial</th>\n",
       "      <td>0.055838</td>\n",
       "      <td>8.385787</td>\n",
       "      <td>0.010152</td>\n",
       "      <td>92.197970</td>\n",
       "      <td>32556.785714</td>\n",
       "      <td>6824.166667</td>\n",
       "      <td>4127.755882</td>\n",
       "    </tr>\n",
       "    <tr>\n",
       "      <th>Tienda/Salón</th>\n",
       "      <td>0.011840</td>\n",
       "      <td>1.349727</td>\n",
       "      <td>0.001821</td>\n",
       "      <td>242.169399</td>\n",
       "      <td>56263.544252</td>\n",
       "      <td>10395.491137</td>\n",
       "      <td>10532.468927</td>\n",
       "    </tr>\n",
       "  </tbody>\n",
       "</table>\n",
       "</div>"
      ],
      "text/plain": [
       "                            Habitaciones    Garages     Suites          Area  \\\n",
       "Tipo                                                                           \n",
       "Casa                            3.359633   1.897248   1.438532    289.943119   \n",
       "Casa Comercial                  1.801980   2.118812   0.257426    370.277228   \n",
       "Casa de Condominio              4.319672   3.555738   3.247541    566.303279   \n",
       "Casa de Vecindad                1.974684   0.379747   0.215190     79.981013   \n",
       "Cochera/Estacionamiento         0.064935   1.376623   0.000000     18.662338   \n",
       "Cocineta                        0.836088   0.020661   0.041322     29.090909   \n",
       "Conjunto Comercial/Sala         0.047175   2.686323   0.000352    236.323711   \n",
       "Departamento                    2.504199   1.256367   0.891899    124.014292   \n",
       "Departamento en Hotel           1.419780   0.969231   0.758242     65.848352   \n",
       "Edificio Completo               0.405530  11.175115   0.027650   1717.271889   \n",
       "Estudio                         0.500000   0.250000   0.000000    103.250000   \n",
       "Galpón/Depósito/Almacén         0.069204   5.311419   0.000000   2660.487889   \n",
       "Hotel                          25.500000   2.500000  12.000000    885.500000   \n",
       "Industria                       0.000000   0.000000   0.000000     22.000000   \n",
       "Loft                            1.078947   0.552632   0.421053     56.263158   \n",
       "Loteo/Condominio                0.000000   0.000000   0.000000    215.000000   \n",
       "Posada/Chalé                   23.000000   0.000000  23.000000    862.000000   \n",
       "Rancho                          5.125000   0.000000   3.750000  14993.750000   \n",
       "Terreno Estándar                0.066667   0.000000   0.000000   4012.044444   \n",
       "Tienda en Centro Comercial      0.055838   8.385787   0.010152     92.197970   \n",
       "Tienda/Salón                    0.011840   1.349727   0.001821    242.169399   \n",
       "\n",
       "                                    Valor     Condominio      Impuesto  \n",
       "Tipo                                                                    \n",
       "Casa                         31453.177064    3699.421642   6629.404851  \n",
       "Casa Comercial               54735.841584    7622.192308   6166.063380  \n",
       "Casa de Condominio           51428.609836    5286.578804  15046.939394  \n",
       "Casa de Vecindad              5961.740506     413.444444    706.850000  \n",
       "Cochera/Estacionamiento       6995.454545    1069.075000    449.458333  \n",
       "Cocineta                      4425.856061    1521.734214    280.701461  \n",
       "Conjunto Comercial/Sala      57675.214550   17489.361142   5425.980245  \n",
       "Departamento                 18683.269431    6797.092951   2634.921081  \n",
       "Departamento en Hotel        16285.430769    7250.650602   1768.923885  \n",
       "Edificio Completo           409418.080645  234304.608696  50413.735294  \n",
       "Estudio                       8400.000000    1921.500000    529.375000  \n",
       "Galpón/Depósito/Almacén     299984.140138   48581.166667  22260.530899  \n",
       "Hotel                        87500.000000            NaN  21707.000000  \n",
       "Industria                   420000.000000            NaN           NaN  \n",
       "Loft                          9924.526316    3501.200000    887.080645  \n",
       "Loteo/Condominio             92166.666667            NaN  17097.500000  \n",
       "Posada/Chalé                  5180.000000    1032.500000           NaN  \n",
       "Rancho                       38014.375000            NaN   4375.000000  \n",
       "Terreno Estándar            135364.444444            NaN  24988.750000  \n",
       "Tienda en Centro Comercial   32556.785714    6824.166667   4127.755882  \n",
       "Tienda/Salón                 56263.544252   10395.491137  10532.468927  "
      ]
     },
     "execution_count": 44,
     "metadata": {},
     "output_type": "execute_result"
    }
   ],
   "source": [
    "# ¿Cuáles son los valores promedio de alquiler por tipo de propiedad?\n",
    "df.groupby('Tipo').mean(numeric_only=True) # 'False' por defecto\n",
    "# 'numeric_only=True : Arg que fuerza el calculo solo en las columnas de tipo numerico\n",
    "\n",
    "# Muy general, solo veremos la columna de 'VALOR'\n"
   ]
  },
  {
   "cell_type": "code",
   "execution_count": null,
   "id": "f9f41e3b",
   "metadata": {},
   "outputs": [
    {
     "data": {
      "application/vnd.microsoft.datawrangler.viewer.v0+json": {
       "columns": [
        {
         "name": "Tipo",
         "rawType": "object",
         "type": "string"
        },
        {
         "name": "Valor",
         "rawType": "float64",
         "type": "float"
        }
       ],
       "ref": "99c68594-55e3-46ef-8557-2827e0d5b4c8",
       "rows": [
        [
         "Casa",
         "31453.177064220185"
        ],
        [
         "Casa Comercial",
         "54735.841584158414"
        ],
        [
         "Casa de Condominio",
         "51428.609836065574"
        ],
        [
         "Casa de Vecindad",
         "5961.7405063291135"
        ],
        [
         "Cochera/Estacionamiento",
         "6995.454545454545"
        ],
        [
         "Cocineta",
         "4425.856060606061"
        ],
        [
         "Conjunto Comercial/Sala",
         "57675.21454993835"
        ],
        [
         "Departamento",
         "18683.269431456258"
        ],
        [
         "Departamento en Hotel",
         "16285.430769230768"
        ],
        [
         "Edificio Completo",
         "409418.0806451613"
        ],
        [
         "Estudio",
         "8400.0"
        ],
        [
         "Galpón/Depósito/Almacén",
         "299984.1401384083"
        ],
        [
         "Hotel",
         "87500.0"
        ],
        [
         "Industria",
         "420000.0"
        ],
        [
         "Loft",
         "9924.526315789473"
        ],
        [
         "Loteo/Condominio",
         "92166.66666666667"
        ],
        [
         "Posada/Chalé",
         "5180.0"
        ],
        [
         "Rancho",
         "38014.375"
        ],
        [
         "Terreno Estándar",
         "135364.44444444444"
        ],
        [
         "Tienda en Centro Comercial",
         "32556.785714285714"
        ],
        [
         "Tienda/Salón",
         "56263.54425182482"
        ]
       ],
       "shape": {
        "columns": 1,
        "rows": 21
       }
      },
      "text/plain": [
       "Tipo\n",
       "Casa                           31453.177064\n",
       "Casa Comercial                 54735.841584\n",
       "Casa de Condominio             51428.609836\n",
       "Casa de Vecindad                5961.740506\n",
       "Cochera/Estacionamiento         6995.454545\n",
       "Cocineta                        4425.856061\n",
       "Conjunto Comercial/Sala        57675.214550\n",
       "Departamento                   18683.269431\n",
       "Departamento en Hotel          16285.430769\n",
       "Edificio Completo             409418.080645\n",
       "Estudio                         8400.000000\n",
       "Galpón/Depósito/Almacén       299984.140138\n",
       "Hotel                          87500.000000\n",
       "Industria                     420000.000000\n",
       "Loft                            9924.526316\n",
       "Loteo/Condominio               92166.666667\n",
       "Posada/Chalé                    5180.000000\n",
       "Rancho                         38014.375000\n",
       "Terreno Estándar              135364.444444\n",
       "Tienda en Centro Comercial     32556.785714\n",
       "Tienda/Salón                   56263.544252\n",
       "Name: Valor, dtype: float64"
      ]
     },
     "execution_count": 48,
     "metadata": {},
     "output_type": "execute_result"
    }
   ],
   "source": [
    "df.groupby('Tipo')['Valor'].mean() \n",
    "# Retiramos el valor 'True' porque estamos seleccionando una columna de números (Seria redundante)\n",
    "# Esta operacion devuelve una serie con la Columna 'Valor' y su Índice 'Tipo'"
   ]
  },
  {
   "cell_type": "code",
   "execution_count": 52,
   "id": "83cd32a4",
   "metadata": {},
   "outputs": [
    {
     "data": {
      "text/plain": [
       "pandas.core.series.Series"
      ]
     },
     "execution_count": 52,
     "metadata": {},
     "output_type": "execute_result"
    }
   ],
   "source": [
    "# Verificamos el tipo de dato\n",
    "type(df.groupby('Tipo')['Valor'].mean() )"
   ]
  },
  {
   "cell_type": "code",
   "execution_count": 51,
   "id": "576646d9",
   "metadata": {},
   "outputs": [
    {
     "data": {
      "application/vnd.microsoft.datawrangler.viewer.v0+json": {
       "columns": [
        {
         "name": "Tipo",
         "rawType": "object",
         "type": "string"
        },
        {
         "name": "Valor",
         "rawType": "float64",
         "type": "float"
        }
       ],
       "ref": "d35ebfa7-b024-45b0-ba74-2c7464313945",
       "rows": [
        [
         "Cocineta",
         "4425.856060606061"
        ],
        [
         "Posada/Chalé",
         "5180.0"
        ],
        [
         "Casa de Vecindad",
         "5961.7405063291135"
        ],
        [
         "Cochera/Estacionamiento",
         "6995.454545454545"
        ],
        [
         "Estudio",
         "8400.0"
        ],
        [
         "Loft",
         "9924.526315789473"
        ],
        [
         "Departamento en Hotel",
         "16285.430769230768"
        ],
        [
         "Departamento",
         "18683.269431456258"
        ],
        [
         "Casa",
         "31453.177064220185"
        ],
        [
         "Tienda en Centro Comercial",
         "32556.785714285714"
        ],
        [
         "Rancho",
         "38014.375"
        ],
        [
         "Casa de Condominio",
         "51428.609836065574"
        ],
        [
         "Casa Comercial",
         "54735.841584158414"
        ],
        [
         "Tienda/Salón",
         "56263.54425182482"
        ],
        [
         "Conjunto Comercial/Sala",
         "57675.21454993835"
        ],
        [
         "Hotel",
         "87500.0"
        ],
        [
         "Loteo/Condominio",
         "92166.66666666667"
        ],
        [
         "Terreno Estándar",
         "135364.44444444444"
        ],
        [
         "Galpón/Depósito/Almacén",
         "299984.1401384083"
        ],
        [
         "Edificio Completo",
         "409418.0806451613"
        ],
        [
         "Industria",
         "420000.0"
        ]
       ],
       "shape": {
        "columns": 1,
        "rows": 21
       }
      },
      "text/html": [
       "<div>\n",
       "<style scoped>\n",
       "    .dataframe tbody tr th:only-of-type {\n",
       "        vertical-align: middle;\n",
       "    }\n",
       "\n",
       "    .dataframe tbody tr th {\n",
       "        vertical-align: top;\n",
       "    }\n",
       "\n",
       "    .dataframe thead th {\n",
       "        text-align: right;\n",
       "    }\n",
       "</style>\n",
       "<table border=\"1\" class=\"dataframe\">\n",
       "  <thead>\n",
       "    <tr style=\"text-align: right;\">\n",
       "      <th></th>\n",
       "      <th>Valor</th>\n",
       "    </tr>\n",
       "    <tr>\n",
       "      <th>Tipo</th>\n",
       "      <th></th>\n",
       "    </tr>\n",
       "  </thead>\n",
       "  <tbody>\n",
       "    <tr>\n",
       "      <th>Cocineta</th>\n",
       "      <td>4425.856061</td>\n",
       "    </tr>\n",
       "    <tr>\n",
       "      <th>Posada/Chalé</th>\n",
       "      <td>5180.000000</td>\n",
       "    </tr>\n",
       "    <tr>\n",
       "      <th>Casa de Vecindad</th>\n",
       "      <td>5961.740506</td>\n",
       "    </tr>\n",
       "    <tr>\n",
       "      <th>Cochera/Estacionamiento</th>\n",
       "      <td>6995.454545</td>\n",
       "    </tr>\n",
       "    <tr>\n",
       "      <th>Estudio</th>\n",
       "      <td>8400.000000</td>\n",
       "    </tr>\n",
       "    <tr>\n",
       "      <th>Loft</th>\n",
       "      <td>9924.526316</td>\n",
       "    </tr>\n",
       "    <tr>\n",
       "      <th>Departamento en Hotel</th>\n",
       "      <td>16285.430769</td>\n",
       "    </tr>\n",
       "    <tr>\n",
       "      <th>Departamento</th>\n",
       "      <td>18683.269431</td>\n",
       "    </tr>\n",
       "    <tr>\n",
       "      <th>Casa</th>\n",
       "      <td>31453.177064</td>\n",
       "    </tr>\n",
       "    <tr>\n",
       "      <th>Tienda en Centro Comercial</th>\n",
       "      <td>32556.785714</td>\n",
       "    </tr>\n",
       "    <tr>\n",
       "      <th>Rancho</th>\n",
       "      <td>38014.375000</td>\n",
       "    </tr>\n",
       "    <tr>\n",
       "      <th>Casa de Condominio</th>\n",
       "      <td>51428.609836</td>\n",
       "    </tr>\n",
       "    <tr>\n",
       "      <th>Casa Comercial</th>\n",
       "      <td>54735.841584</td>\n",
       "    </tr>\n",
       "    <tr>\n",
       "      <th>Tienda/Salón</th>\n",
       "      <td>56263.544252</td>\n",
       "    </tr>\n",
       "    <tr>\n",
       "      <th>Conjunto Comercial/Sala</th>\n",
       "      <td>57675.214550</td>\n",
       "    </tr>\n",
       "    <tr>\n",
       "      <th>Hotel</th>\n",
       "      <td>87500.000000</td>\n",
       "    </tr>\n",
       "    <tr>\n",
       "      <th>Loteo/Condominio</th>\n",
       "      <td>92166.666667</td>\n",
       "    </tr>\n",
       "    <tr>\n",
       "      <th>Terreno Estándar</th>\n",
       "      <td>135364.444444</td>\n",
       "    </tr>\n",
       "    <tr>\n",
       "      <th>Galpón/Depósito/Almacén</th>\n",
       "      <td>299984.140138</td>\n",
       "    </tr>\n",
       "    <tr>\n",
       "      <th>Edificio Completo</th>\n",
       "      <td>409418.080645</td>\n",
       "    </tr>\n",
       "    <tr>\n",
       "      <th>Industria</th>\n",
       "      <td>420000.000000</td>\n",
       "    </tr>\n",
       "  </tbody>\n",
       "</table>\n",
       "</div>"
      ],
      "text/plain": [
       "                                    Valor\n",
       "Tipo                                     \n",
       "Cocineta                      4425.856061\n",
       "Posada/Chalé                  5180.000000\n",
       "Casa de Vecindad              5961.740506\n",
       "Cochera/Estacionamiento       6995.454545\n",
       "Estudio                       8400.000000\n",
       "Loft                          9924.526316\n",
       "Departamento en Hotel        16285.430769\n",
       "Departamento                 18683.269431\n",
       "Casa                         31453.177064\n",
       "Tienda en Centro Comercial   32556.785714\n",
       "Rancho                       38014.375000\n",
       "Casa de Condominio           51428.609836\n",
       "Casa Comercial               54735.841584\n",
       "Tienda/Salón                 56263.544252\n",
       "Conjunto Comercial/Sala      57675.214550\n",
       "Hotel                        87500.000000\n",
       "Loteo/Condominio             92166.666667\n",
       "Terreno Estándar            135364.444444\n",
       "Galpón/Depósito/Almacén     299984.140138\n",
       "Edificio Completo           409418.080645\n",
       "Industria                   420000.000000"
      ]
     },
     "execution_count": 51,
     "metadata": {},
     "output_type": "execute_result"
    }
   ],
   "source": [
    "# Esta operacion SI devuelve un dataframe y organizarlos en orden ascendente\n",
    "df.groupby('Tipo')[['Valor']].mean().sort_values('Valor') "
   ]
  },
  {
   "cell_type": "code",
   "execution_count": 53,
   "id": "e6f20080",
   "metadata": {},
   "outputs": [
    {
     "data": {
      "text/plain": [
       "pandas.core.frame.DataFrame"
      ]
     },
     "execution_count": 53,
     "metadata": {},
     "output_type": "execute_result"
    }
   ],
   "source": [
    "# Verificamos el tipo de dato\n",
    "type(df.groupby('Tipo')[['Valor']].mean() )"
   ]
  },
  {
   "cell_type": "code",
   "execution_count": null,
   "id": "d3cb7e10",
   "metadata": {},
   "outputs": [
    {
     "data": {
      "text/plain": [
       "<Axes: ylabel='Tipo'>"
      ]
     },
     "execution_count": 65,
     "metadata": {},
     "output_type": "execute_result"
    },
    {
     "data": {
      "image/png": "[encoded data removed]",
      "text/plain": [
       "<Figure size 1200x800 with 1 Axes>"
      ]
     },
     "metadata": {},
     "output_type": "display_data"
    }
   ],
   "source": [
    "# Asignamos variable que devuelva un DataFrame con solo dos columnas \n",
    "# → df[['Tipo', 'Valor']]\n",
    "df_tipo_valor = df.groupby('Tipo')[['Valor']].mean().sort_values('Valor') \n",
    "\n",
    "# Grafico del DataFrame\n",
    "df_tipo_valor.plot(kind='barh', figsize=(12,8), color= 'purple')"
   ]
  },
  {
   "cell_type": "code",
   "execution_count": null,
   "id": "d7f5017c",
   "metadata": {},
   "outputs": [
    {
     "data": {
      "text/plain": [
       "array(['Cocineta', 'Casa', 'Conjunto Comercial/Sala', 'Departamento',\n",
       "       'Casa de Condominio', 'Edificio Completo', 'Departamento en Hotel',\n",
       "       'Tienda/Salón', 'Casa Comercial', 'Casa de Vecindad',\n",
       "       'Terreno Estándar', 'Cochera/Estacionamiento', 'Loft',\n",
       "       'Galpón/Depósito/Almacén', 'Tienda en Centro Comercial', 'Rancho',\n",
       "       'Posada/Chalé', 'Estudio', 'Hotel', 'Loteo/Condominio',\n",
       "       'Industria'], dtype=object)"
      ]
     },
     "execution_count": 58,
     "metadata": {},
     "output_type": "execute_result"
    }
   ],
   "source": [
    "# Verificamos las diferentes tipos de inmuebles en la serie 'Tipo'\n",
    "# solo debemos verificar los inmuebles residenciales.\n",
    "# df.Tipo.unique() → es similar@\n",
    "df['Tipo'].unique() "
   ]
  },
  {
   "cell_type": "code",
   "execution_count": null,
   "id": "80dd88fb",
   "metadata": {},
   "outputs": [
    {
     "data": {
      "application/vnd.microsoft.datawrangler.viewer.v0+json": {
       "columns": [
        {
         "name": "index",
         "rawType": "int64",
         "type": "integer"
        },
        {
         "name": "Tipo",
         "rawType": "object",
         "type": "string"
        },
        {
         "name": "Colonia",
         "rawType": "object",
         "type": "string"
        },
        {
         "name": "Habitaciones",
         "rawType": "int64",
         "type": "integer"
        },
        {
         "name": "Garages",
         "rawType": "int64",
         "type": "integer"
        },
        {
         "name": "Suites",
         "rawType": "int64",
         "type": "integer"
        },
        {
         "name": "Area",
         "rawType": "int64",
         "type": "integer"
        },
        {
         "name": "Valor",
         "rawType": "float64",
         "type": "float"
        },
        {
         "name": "Condominio",
         "rawType": "float64",
         "type": "float"
        },
        {
         "name": "Impuesto",
         "rawType": "float64",
         "type": "float"
        }
       ],
       "ref": "a731dec8-5781-4c91-ad57-5f1b4ee58967",
       "rows": [
        [
         "0",
         "Cocineta",
         "Condesa",
         "1",
         "0",
         "0",
         "40",
         "5950.0",
         "1750.0",
         "210.0"
        ],
        [
         "1",
         "Casa",
         "Polanco",
         "2",
         "0",
         "1",
         "100",
         "24500.0",
         null,
         null
        ],
        [
         "3",
         "Departamento",
         "Centro Histórico",
         "1",
         "0",
         "0",
         "15",
         "2800.0",
         "1365.0",
         "70.0"
        ],
        [
         "4",
         "Departamento",
         "Del Valle",
         "1",
         "0",
         "0",
         "48",
         "2800.0",
         "805.0",
         null
        ],
        [
         "5",
         "Casa de Condominio",
         "Santa Fe",
         "5",
         "4",
         "5",
         "750",
         "77000.0",
         null,
         null
        ],
        [
         "7",
         "Departamento",
         "Centro Histórico",
         "1",
         "0",
         "0",
         "36",
         "4200.0",
         null,
         null
        ],
        [
         "8",
         "Departamento",
         "Condesa",
         "1",
         "0",
         "1",
         "40",
         "7000.0",
         "1963.5",
         "175.0"
        ],
        [
         "9",
         "Cocineta",
         "Condesa",
         "1",
         "0",
         "0",
         "27",
         "6300.0",
         "1753.5",
         null
        ],
        [
         "10",
         "Departamento",
         "Condesa",
         "4",
         "3",
         "1",
         "243",
         "45500.0",
         "7000.0",
         "2810.5"
        ],
        [
         "12",
         "Departamento en Hotel",
         "Roma",
         "3",
         "1",
         "1",
         "80",
         "13300.0",
         "3640.0",
         null
        ],
        [
         "13",
         "Departamento",
         "Santa Fe",
         "2",
         "1",
         "1",
         "67",
         "5950.0",
         "2061.5",
         "514.5"
        ],
        [
         "14",
         "Departamento",
         "Narvarte",
         "2",
         "1",
         "0",
         "110",
         "6650.0",
         "2450.0",
         "483.0"
        ],
        [
         "15",
         "Casa de Condominio",
         "Santa Fe",
         "4",
         "3",
         "2",
         "466",
         "26250.0",
         "9432.5",
         null
        ],
        [
         "16",
         "Departamento",
         "Narvarte",
         "2",
         "1",
         "0",
         "78",
         "7000.0",
         "2450.0",
         null
        ],
        [
         "17",
         "Departamento en Hotel",
         "Lomas de Chapultepec",
         "1",
         "0",
         "0",
         "56",
         "15750.0",
         "6650.0",
         "5250.0"
        ],
        [
         "18",
         "Departamento",
         "Coyoacán",
         "3",
         "1",
         "1",
         "125",
         "24500.0",
         "7350.0",
         "1620.5"
        ],
        [
         "19",
         "Departamento",
         "Narvarte",
         "1",
         "0",
         "0",
         "48",
         "2625.0",
         "2702.0",
         "87.5"
        ],
        [
         "20",
         "Departamento",
         "Santa Fe",
         "3",
         "3",
         "1",
         "175",
         "14700.0",
         "5250.0",
         "1750.0"
        ],
        [
         "21",
         "Departamento",
         "Roma",
         "2",
         "1",
         "0",
         "76",
         "8750.0",
         "2590.0",
         null
        ],
        [
         "22",
         "Departamento",
         "Condesa",
         "3",
         "1",
         "2",
         "378",
         "35000.0",
         "7525.0",
         "2450.0"
        ],
        [
         "23",
         "Departamento",
         "Condesa",
         "3",
         "0",
         "0",
         "180",
         "19250.0",
         "6230.0",
         "1470.0"
        ],
        [
         "25",
         "Departamento",
         "Lomas de Chapultepec",
         "3",
         "1",
         "0",
         "110",
         "13650.0",
         "5250.0",
         "420.0"
        ],
        [
         "27",
         "Cocineta",
         "Condesa",
         "1",
         "0",
         "0",
         "27",
         "4550.0",
         "1330.0",
         "185.5"
        ],
        [
         "28",
         "Departamento",
         "Santa Fe",
         "3",
         "1",
         "2",
         "70",
         "6300.0",
         "3832.5",
         "490.0"
        ],
        [
         "29",
         "Departamento",
         "Condesa",
         "4",
         "1",
         "0",
         "244",
         "17500.0",
         "8750.0",
         "14350.0"
        ],
        [
         "30",
         "Departamento",
         "Santa Fe",
         "3",
         "2",
         "1",
         "110",
         "15750.0",
         "7000.0",
         "1575.0"
        ],
        [
         "33",
         "Departamento",
         "Santa Fe",
         "3",
         "1",
         "1",
         "72",
         "8225.0",
         "2100.0",
         "245.0"
        ],
        [
         "34",
         "Departamento",
         "San Pedro de los Pinos",
         "2",
         "2",
         "1",
         "180",
         "14000.0",
         "8750.0",
         "1050.0"
        ],
        [
         "37",
         "Departamento",
         "Centro Histórico",
         "1",
         "0",
         "0",
         "27",
         "2625.0",
         "1298.5",
         "66.5"
        ],
        [
         "38",
         "Departamento",
         "Coyoacán",
         "1",
         "0",
         "0",
         "35",
         "7000.0",
         "2275.0",
         "262.5"
        ],
        [
         "39",
         "Departamento",
         "Coyoacán",
         "1",
         "0",
         "0",
         "38",
         "4900.0",
         "1855.0",
         "269.5"
        ],
        [
         "41",
         "Casa de Condominio",
         "Santa Fe",
         "5",
         "10",
         "5",
         "1600",
         "87500.0",
         "5600.0",
         null
        ],
        [
         "42",
         "Departamento",
         "Santa Fe",
         "4",
         "3",
         "3",
         "153",
         "22750.0",
         "8050.0",
         "1519.0"
        ],
        [
         "43",
         "Departamento",
         "Coyoacán",
         "3",
         "1",
         "0",
         "87",
         "11200.0",
         "4567.5",
         "759.5"
        ],
        [
         "44",
         "Departamento",
         "Roma",
         "3",
         "1",
         "1",
         "108",
         "20825.0",
         "4917.5",
         "1011.5"
        ],
        [
         "45",
         "Departamento",
         "Coyoacán",
         "3",
         "2",
         "1",
         "150",
         "28000.0",
         "8400.0",
         null
        ],
        [
         "47",
         "Departamento",
         "Coyoacán",
         "3",
         "1",
         "1",
         "140",
         "27650.0",
         "10150.0",
         "1750.0"
        ],
        [
         "48",
         "Departamento",
         "Polanco",
         "2",
         "2",
         "0",
         "95",
         "14000.0",
         "4095.0",
         null
        ],
        [
         "49",
         "Departamento",
         "Santa Fe",
         "2",
         "1",
         "1",
         "70",
         null,
         "3395.0",
         "238.0"
        ],
        [
         "56",
         "Departamento",
         "Lomas de Chapultepec",
         "2",
         "1",
         "1",
         "80",
         "12250.0",
         "3465.0",
         "857.5"
        ],
        [
         "57",
         "Departamento",
         "Santa Fe",
         "4",
         "4",
         "4",
         "240",
         "44450.0",
         "15400.0",
         "5040.0"
        ],
        [
         "58",
         "Departamento",
         "Santa Fe",
         "3",
         "2",
         "1",
         "104",
         "9100.0",
         "4774.0",
         "1421.0"
        ],
        [
         "59",
         "Departamento",
         "San Ángel",
         "2",
         "1",
         "0",
         "70",
         "9800.0",
         "2380.0",
         "343.0"
        ],
        [
         "60",
         "Departamento",
         "Santa Fe",
         "2",
         "1",
         "1",
         "88",
         "9450.0",
         "4550.0",
         "7147.0"
        ],
        [
         "61",
         "Departamento",
         "Centro Histórico",
         "1",
         "1",
         "0",
         "37",
         "3850.0",
         "1890.0",
         "3150.0"
        ],
        [
         "62",
         "Departamento",
         "San Jerónimo",
         "3",
         "4",
         "0",
         "130",
         "19250.0",
         "4924.5",
         "861.0"
        ],
        [
         "63",
         "Departamento",
         "Santa Fe",
         "3",
         "2",
         "2",
         "85",
         "8750.0",
         "4900.0",
         "665.0"
        ],
        [
         "64",
         "Departamento",
         "Del Valle",
         "2",
         "1",
         "0",
         "54",
         "8050.0",
         "2037.0",
         null
        ],
        [
         "65",
         "Cocineta",
         "Centro Histórico",
         "0",
         "0",
         "0",
         "30",
         "2800.0",
         "1767.5",
         null
        ],
        [
         "66",
         "Departamento",
         "Coyoacán",
         "3",
         "1",
         "1",
         "120",
         "24500.0",
         "6300.0",
         "1295.0"
        ]
       ],
       "shape": {
        "columns": 9,
        "rows": 17309
       }
      },
      "text/html": [
       "<div>\n",
       "<style scoped>\n",
       "    .dataframe tbody tr th:only-of-type {\n",
       "        vertical-align: middle;\n",
       "    }\n",
       "\n",
       "    .dataframe tbody tr th {\n",
       "        vertical-align: top;\n",
       "    }\n",
       "\n",
       "    .dataframe thead th {\n",
       "        text-align: right;\n",
       "    }\n",
       "</style>\n",
       "<table border=\"1\" class=\"dataframe\">\n",
       "  <thead>\n",
       "    <tr style=\"text-align: right;\">\n",
       "      <th></th>\n",
       "      <th>Tipo</th>\n",
       "      <th>Colonia</th>\n",
       "      <th>Habitaciones</th>\n",
       "      <th>Garages</th>\n",
       "      <th>Suites</th>\n",
       "      <th>Area</th>\n",
       "      <th>Valor</th>\n",
       "      <th>Condominio</th>\n",
       "      <th>Impuesto</th>\n",
       "    </tr>\n",
       "  </thead>\n",
       "  <tbody>\n",
       "    <tr>\n",
       "      <th>0</th>\n",
       "      <td>Cocineta</td>\n",
       "      <td>Condesa</td>\n",
       "      <td>1</td>\n",
       "      <td>0</td>\n",
       "      <td>0</td>\n",
       "      <td>40</td>\n",
       "      <td>5950.0</td>\n",
       "      <td>1750.0</td>\n",
       "      <td>210.0</td>\n",
       "    </tr>\n",
       "    <tr>\n",
       "      <th>1</th>\n",
       "      <td>Casa</td>\n",
       "      <td>Polanco</td>\n",
       "      <td>2</td>\n",
       "      <td>0</td>\n",
       "      <td>1</td>\n",
       "      <td>100</td>\n",
       "      <td>24500.0</td>\n",
       "      <td>NaN</td>\n",
       "      <td>NaN</td>\n",
       "    </tr>\n",
       "    <tr>\n",
       "      <th>3</th>\n",
       "      <td>Departamento</td>\n",
       "      <td>Centro Histórico</td>\n",
       "      <td>1</td>\n",
       "      <td>0</td>\n",
       "      <td>0</td>\n",
       "      <td>15</td>\n",
       "      <td>2800.0</td>\n",
       "      <td>1365.0</td>\n",
       "      <td>70.0</td>\n",
       "    </tr>\n",
       "    <tr>\n",
       "      <th>4</th>\n",
       "      <td>Departamento</td>\n",
       "      <td>Del Valle</td>\n",
       "      <td>1</td>\n",
       "      <td>0</td>\n",
       "      <td>0</td>\n",
       "      <td>48</td>\n",
       "      <td>2800.0</td>\n",
       "      <td>805.0</td>\n",
       "      <td>NaN</td>\n",
       "    </tr>\n",
       "    <tr>\n",
       "      <th>5</th>\n",
       "      <td>Casa de Condominio</td>\n",
       "      <td>Santa Fe</td>\n",
       "      <td>5</td>\n",
       "      <td>4</td>\n",
       "      <td>5</td>\n",
       "      <td>750</td>\n",
       "      <td>77000.0</td>\n",
       "      <td>NaN</td>\n",
       "      <td>NaN</td>\n",
       "    </tr>\n",
       "    <tr>\n",
       "      <th>...</th>\n",
       "      <td>...</td>\n",
       "      <td>...</td>\n",
       "      <td>...</td>\n",
       "      <td>...</td>\n",
       "      <td>...</td>\n",
       "      <td>...</td>\n",
       "      <td>...</td>\n",
       "      <td>...</td>\n",
       "      <td>...</td>\n",
       "    </tr>\n",
       "    <tr>\n",
       "      <th>25114</th>\n",
       "      <td>Departamento</td>\n",
       "      <td>Narvarte</td>\n",
       "      <td>1</td>\n",
       "      <td>0</td>\n",
       "      <td>0</td>\n",
       "      <td>28</td>\n",
       "      <td>3500.0</td>\n",
       "      <td>1260.0</td>\n",
       "      <td>87.5</td>\n",
       "    </tr>\n",
       "    <tr>\n",
       "      <th>25115</th>\n",
       "      <td>Casa de Condominio</td>\n",
       "      <td>Santa Fe</td>\n",
       "      <td>5</td>\n",
       "      <td>3</td>\n",
       "      <td>4</td>\n",
       "      <td>450</td>\n",
       "      <td>52500.0</td>\n",
       "      <td>5988.5</td>\n",
       "      <td>8162.0</td>\n",
       "    </tr>\n",
       "    <tr>\n",
       "      <th>25117</th>\n",
       "      <td>Cocineta</td>\n",
       "      <td>Centro Histórico</td>\n",
       "      <td>0</td>\n",
       "      <td>0</td>\n",
       "      <td>0</td>\n",
       "      <td>27</td>\n",
       "      <td>2800.0</td>\n",
       "      <td>1225.0</td>\n",
       "      <td>87.5</td>\n",
       "    </tr>\n",
       "    <tr>\n",
       "      <th>25118</th>\n",
       "      <td>Departamento</td>\n",
       "      <td>Mixcoac</td>\n",
       "      <td>2</td>\n",
       "      <td>1</td>\n",
       "      <td>0</td>\n",
       "      <td>48</td>\n",
       "      <td>4900.0</td>\n",
       "      <td>1781.5</td>\n",
       "      <td>129.5</td>\n",
       "    </tr>\n",
       "    <tr>\n",
       "      <th>25119</th>\n",
       "      <td>Departamento</td>\n",
       "      <td>Lomas de Chapultepec</td>\n",
       "      <td>2</td>\n",
       "      <td>0</td>\n",
       "      <td>0</td>\n",
       "      <td>70</td>\n",
       "      <td>10500.0</td>\n",
       "      <td>2660.0</td>\n",
       "      <td>NaN</td>\n",
       "    </tr>\n",
       "  </tbody>\n",
       "</table>\n",
       "<p>17309 rows × 9 columns</p>\n",
       "</div>"
      ],
      "text/plain": [
       "                     Tipo               Colonia  Habitaciones  Garages  \\\n",
       "0                Cocineta               Condesa             1        0   \n",
       "1                    Casa               Polanco             2        0   \n",
       "3            Departamento      Centro Histórico             1        0   \n",
       "4            Departamento             Del Valle             1        0   \n",
       "5      Casa de Condominio              Santa Fe             5        4   \n",
       "...                   ...                   ...           ...      ...   \n",
       "25114        Departamento              Narvarte             1        0   \n",
       "25115  Casa de Condominio              Santa Fe             5        3   \n",
       "25117            Cocineta      Centro Histórico             0        0   \n",
       "25118        Departamento               Mixcoac             2        1   \n",
       "25119        Departamento  Lomas de Chapultepec             2        0   \n",
       "\n",
       "       Suites  Area    Valor  Condominio  Impuesto  \n",
       "0           0    40   5950.0      1750.0     210.0  \n",
       "1           1   100  24500.0         NaN       NaN  \n",
       "3           0    15   2800.0      1365.0      70.0  \n",
       "4           0    48   2800.0       805.0       NaN  \n",
       "5           5   750  77000.0         NaN       NaN  \n",
       "...       ...   ...      ...         ...       ...  \n",
       "25114       0    28   3500.0      1260.0      87.5  \n",
       "25115       4   450  52500.0      5988.5    8162.0  \n",
       "25117       0    27   2800.0      1225.0      87.5  \n",
       "25118       0    48   4900.0      1781.5     129.5  \n",
       "25119       0    70  10500.0      2660.0       NaN  \n",
       "\n",
       "[17309 rows x 9 columns]"
      ]
     },
     "execution_count": 60,
     "metadata": {},
     "output_type": "execute_result"
    }
   ],
   "source": [
    "# Asignación de variable para inmuebles comerciales\n",
    "inmuebles_comerciales = [\n",
    "    'Conjunto Comercial/Sala', 'Edificio Completo', 'Tienda/Salón',\n",
    "    'Casa Comercial', 'Terreno Estándar', 'Cochera/Estacionamiento',\n",
    "    'Galpón/Depósito/Almacén','Tienda en Centro Comercial', 'Hotel',\n",
    "    'Loteo/Condominio', 'Industria'\n",
    "]\n",
    "\n",
    "# Filtramos el dataFrame para tener un dataframe nuevo donde no incluya ('not in') las \n",
    "# filas que contengan las entradas que son identicas a las almacenadas en \n",
    "# la variable externa 'inmuebles_comerciales' (por ello anteponemos un @)\n",
    "df.query('@inmuebles_comerciales not in Tipo')"
   ]
  },
  {
   "cell_type": "code",
   "execution_count": 64,
   "id": "eeef702c",
   "metadata": {},
   "outputs": [
    {
     "data": {
      "application/vnd.microsoft.datawrangler.viewer.v0+json": {
       "columns": [
        {
         "name": "index",
         "rawType": "int64",
         "type": "integer"
        },
        {
         "name": "Tipo",
         "rawType": "object",
         "type": "string"
        },
        {
         "name": "Colonia",
         "rawType": "object",
         "type": "string"
        },
        {
         "name": "Habitaciones",
         "rawType": "int64",
         "type": "integer"
        },
        {
         "name": "Garages",
         "rawType": "int64",
         "type": "integer"
        },
        {
         "name": "Suites",
         "rawType": "int64",
         "type": "integer"
        },
        {
         "name": "Area",
         "rawType": "int64",
         "type": "integer"
        },
        {
         "name": "Valor",
         "rawType": "float64",
         "type": "float"
        },
        {
         "name": "Condominio",
         "rawType": "float64",
         "type": "float"
        },
        {
         "name": "Impuesto",
         "rawType": "float64",
         "type": "float"
        }
       ],
       "ref": "d6876119-88b8-4b33-8f18-a9b9d8eca5f8",
       "rows": [
        [
         "0",
         "Cocineta",
         "Condesa",
         "1",
         "0",
         "0",
         "40",
         "5950.0",
         "1750.0",
         "210.0"
        ],
        [
         "1",
         "Casa",
         "Polanco",
         "2",
         "0",
         "1",
         "100",
         "24500.0",
         null,
         null
        ],
        [
         "3",
         "Departamento",
         "Centro Histórico",
         "1",
         "0",
         "0",
         "15",
         "2800.0",
         "1365.0",
         "70.0"
        ],
        [
         "4",
         "Departamento",
         "Del Valle",
         "1",
         "0",
         "0",
         "48",
         "2800.0",
         "805.0",
         null
        ],
        [
         "5",
         "Casa de Condominio",
         "Santa Fe",
         "5",
         "4",
         "5",
         "750",
         "77000.0",
         null,
         null
        ]
       ],
       "shape": {
        "columns": 9,
        "rows": 5
       }
      },
      "text/html": [
       "<div>\n",
       "<style scoped>\n",
       "    .dataframe tbody tr th:only-of-type {\n",
       "        vertical-align: middle;\n",
       "    }\n",
       "\n",
       "    .dataframe tbody tr th {\n",
       "        vertical-align: top;\n",
       "    }\n",
       "\n",
       "    .dataframe thead th {\n",
       "        text-align: right;\n",
       "    }\n",
       "</style>\n",
       "<table border=\"1\" class=\"dataframe\">\n",
       "  <thead>\n",
       "    <tr style=\"text-align: right;\">\n",
       "      <th></th>\n",
       "      <th>Tipo</th>\n",
       "      <th>Colonia</th>\n",
       "      <th>Habitaciones</th>\n",
       "      <th>Garages</th>\n",
       "      <th>Suites</th>\n",
       "      <th>Area</th>\n",
       "      <th>Valor</th>\n",
       "      <th>Condominio</th>\n",
       "      <th>Impuesto</th>\n",
       "    </tr>\n",
       "  </thead>\n",
       "  <tbody>\n",
       "    <tr>\n",
       "      <th>0</th>\n",
       "      <td>Cocineta</td>\n",
       "      <td>Condesa</td>\n",
       "      <td>1</td>\n",
       "      <td>0</td>\n",
       "      <td>0</td>\n",
       "      <td>40</td>\n",
       "      <td>5950.0</td>\n",
       "      <td>1750.0</td>\n",
       "      <td>210.0</td>\n",
       "    </tr>\n",
       "    <tr>\n",
       "      <th>1</th>\n",
       "      <td>Casa</td>\n",
       "      <td>Polanco</td>\n",
       "      <td>2</td>\n",
       "      <td>0</td>\n",
       "      <td>1</td>\n",
       "      <td>100</td>\n",
       "      <td>24500.0</td>\n",
       "      <td>NaN</td>\n",
       "      <td>NaN</td>\n",
       "    </tr>\n",
       "    <tr>\n",
       "      <th>3</th>\n",
       "      <td>Departamento</td>\n",
       "      <td>Centro Histórico</td>\n",
       "      <td>1</td>\n",
       "      <td>0</td>\n",
       "      <td>0</td>\n",
       "      <td>15</td>\n",
       "      <td>2800.0</td>\n",
       "      <td>1365.0</td>\n",
       "      <td>70.0</td>\n",
       "    </tr>\n",
       "    <tr>\n",
       "      <th>4</th>\n",
       "      <td>Departamento</td>\n",
       "      <td>Del Valle</td>\n",
       "      <td>1</td>\n",
       "      <td>0</td>\n",
       "      <td>0</td>\n",
       "      <td>48</td>\n",
       "      <td>2800.0</td>\n",
       "      <td>805.0</td>\n",
       "      <td>NaN</td>\n",
       "    </tr>\n",
       "    <tr>\n",
       "      <th>5</th>\n",
       "      <td>Casa de Condominio</td>\n",
       "      <td>Santa Fe</td>\n",
       "      <td>5</td>\n",
       "      <td>4</td>\n",
       "      <td>5</td>\n",
       "      <td>750</td>\n",
       "      <td>77000.0</td>\n",
       "      <td>NaN</td>\n",
       "      <td>NaN</td>\n",
       "    </tr>\n",
       "  </tbody>\n",
       "</table>\n",
       "</div>"
      ],
      "text/plain": [
       "                 Tipo           Colonia  Habitaciones  Garages  Suites  Area  \\\n",
       "0            Cocineta           Condesa             1        0       0    40   \n",
       "1                Casa           Polanco             2        0       1   100   \n",
       "3        Departamento  Centro Histórico             1        0       0    15   \n",
       "4        Departamento         Del Valle             1        0       0    48   \n",
       "5  Casa de Condominio          Santa Fe             5        4       5   750   \n",
       "\n",
       "     Valor  Condominio  Impuesto  \n",
       "0   5950.0      1750.0     210.0  \n",
       "1  24500.0         NaN       NaN  \n",
       "3   2800.0      1365.0      70.0  \n",
       "4   2800.0       805.0       NaN  \n",
       "5  77000.0         NaN       NaN  "
      ]
     },
     "execution_count": 64,
     "metadata": {},
     "output_type": "execute_result"
    }
   ],
   "source": [
    "# Generamos un nuevo dataFrame con solo los locales residenciales\n",
    "new_df = df.query('@inmuebles_comerciales not in Tipo')\n",
    "new_df.head()"
   ]
  },
  {
   "cell_type": "markdown",
   "id": "1f647fb5",
   "metadata": {},
   "source": [
    "Generacion de un nuevo gráfico con los valores residenciales utilizando el nuevo dataframe **new_df**\n",
    "(Utilizamos la info de la celda 22)"
   ]
  },
  {
   "cell_type": "code",
   "execution_count": 66,
   "id": "830919f0",
   "metadata": {},
   "outputs": [
    {
     "data": {
      "text/plain": [
       "<Axes: ylabel='Tipo'>"
      ]
     },
     "execution_count": 66,
     "metadata": {},
     "output_type": "execute_result"
    },
    {
     "data": {
      "image/png": "[encoded data removed]",
      "text/plain": [
       "<Figure size 1200x800 with 1 Axes>"
      ]
     },
     "metadata": {},
     "output_type": "display_data"
    }
   ],
   "source": [
    "# Asignamos variable que devuelva un DataFrame con solo dos columnas \n",
    "# → df[['Tipo', 'Valor']]\n",
    "df_tipo_valor = new_df.groupby('Tipo')[['Valor']].mean().sort_values('Valor') \n",
    "\n",
    "# Grafico del DataFrame\n",
    "df_tipo_valor.plot(kind='barh', figsize=(12,8), color= 'purple')"
   ]
  }
 ],
 "metadata": {
  "kernelspec": {
   "display_name": "ven",
   "language": "python",
   "name": "python3"
  },
  "language_info": {
   "codemirror_mode": {
    "name": "ipython",
    "version": 3
   },
   "file_extension": ".py",
   "mimetype": "text/x-python",
   "name": "python",
   "nbconvert_exporter": "python",
   "pygments_lexer": "ipython3",
   "version": "3.9.9"
  }
 },
 "nbformat": 4,
 "nbformat_minor": 5
}
