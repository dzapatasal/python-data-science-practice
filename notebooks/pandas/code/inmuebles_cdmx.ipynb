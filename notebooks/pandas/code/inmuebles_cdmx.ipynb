{
 "cells": [
  {
   "cell_type": "markdown",
   "id": "1a55004b",
   "metadata": {},
   "source": [
    "# FIRST STEPS"
   ]
  },
  {
   "cell_type": "markdown",
   "id": "d633f064",
   "metadata": {},
   "source": [
    "## Importing dataFrame"
   ]
  },
  {
   "cell_type": "code",
   "execution_count": 74,
   "id": "019e03ae",
   "metadata": {},
   "outputs": [
    {
     "data": {
      "application/vnd.microsoft.datawrangler.viewer.v0+json": {
       "columns": [
        {
         "name": "index",
         "rawType": "int64",
         "type": "integer"
        },
        {
         "name": "Tipo",
         "rawType": "object",
         "type": "string"
        },
        {
         "name": "Colonia",
         "rawType": "object",
         "type": "string"
        },
        {
         "name": "Habitaciones",
         "rawType": "int64",
         "type": "integer"
        },
        {
         "name": "Garages",
         "rawType": "int64",
         "type": "integer"
        },
        {
         "name": "Suites",
         "rawType": "int64",
         "type": "integer"
        },
        {
         "name": "Area",
         "rawType": "int64",
         "type": "integer"
        },
        {
         "name": "Valor",
         "rawType": "float64",
         "type": "float"
        },
        {
         "name": "Condominio",
         "rawType": "float64",
         "type": "float"
        },
        {
         "name": "Impuesto",
         "rawType": "float64",
         "type": "float"
        }
       ],
       "ref": "11eafff8-4132-4965-a3a2-5d4ff19a7103",
       "rows": [
        [
         "0",
         "Cocineta",
         "Condesa",
         "1",
         "0",
         "0",
         "40",
         "5950.0",
         "1750.0",
         "210.0"
        ],
        [
         "1",
         "Casa",
         "Polanco",
         "2",
         "0",
         "1",
         "100",
         "24500.0",
         null,
         null
        ],
        [
         "2",
         "Conjunto Comercial/Sala",
         "Santa Fe",
         "0",
         "4",
         "0",
         "150",
         "18200.0",
         "14070.0",
         "3888.5"
        ],
        [
         "3",
         "Departamento",
         "Centro Histórico",
         "1",
         "0",
         "0",
         "15",
         "2800.0",
         "1365.0",
         "70.0"
        ],
        [
         "4",
         "Departamento",
         "Del Valle",
         "1",
         "0",
         "0",
         "48",
         "2800.0",
         "805.0",
         null
        ]
       ],
       "shape": {
        "columns": 9,
        "rows": 5
       }
      },
      "text/html": [
       "<div>\n",
       "<style scoped>\n",
       "    .dataframe tbody tr th:only-of-type {\n",
       "        vertical-align: middle;\n",
       "    }\n",
       "\n",
       "    .dataframe tbody tr th {\n",
       "        vertical-align: top;\n",
       "    }\n",
       "\n",
       "    .dataframe thead th {\n",
       "        text-align: right;\n",
       "    }\n",
       "</style>\n",
       "<table border=\"1\" class=\"dataframe\">\n",
       "  <thead>\n",
       "    <tr style=\"text-align: right;\">\n",
       "      <th></th>\n",
       "      <th>Tipo</th>\n",
       "      <th>Colonia</th>\n",
       "      <th>Habitaciones</th>\n",
       "      <th>Garages</th>\n",
       "      <th>Suites</th>\n",
       "      <th>Area</th>\n",
       "      <th>Valor</th>\n",
       "      <th>Condominio</th>\n",
       "      <th>Impuesto</th>\n",
       "    </tr>\n",
       "  </thead>\n",
       "  <tbody>\n",
       "    <tr>\n",
       "      <th>0</th>\n",
       "      <td>Cocineta</td>\n",
       "      <td>Condesa</td>\n",
       "      <td>1</td>\n",
       "      <td>0</td>\n",
       "      <td>0</td>\n",
       "      <td>40</td>\n",
       "      <td>5950.0</td>\n",
       "      <td>1750.0</td>\n",
       "      <td>210.0</td>\n",
       "    </tr>\n",
       "    <tr>\n",
       "      <th>1</th>\n",
       "      <td>Casa</td>\n",
       "      <td>Polanco</td>\n",
       "      <td>2</td>\n",
       "      <td>0</td>\n",
       "      <td>1</td>\n",
       "      <td>100</td>\n",
       "      <td>24500.0</td>\n",
       "      <td>NaN</td>\n",
       "      <td>NaN</td>\n",
       "    </tr>\n",
       "    <tr>\n",
       "      <th>2</th>\n",
       "      <td>Conjunto Comercial/Sala</td>\n",
       "      <td>Santa Fe</td>\n",
       "      <td>0</td>\n",
       "      <td>4</td>\n",
       "      <td>0</td>\n",
       "      <td>150</td>\n",
       "      <td>18200.0</td>\n",
       "      <td>14070.0</td>\n",
       "      <td>3888.5</td>\n",
       "    </tr>\n",
       "    <tr>\n",
       "      <th>3</th>\n",
       "      <td>Departamento</td>\n",
       "      <td>Centro Histórico</td>\n",
       "      <td>1</td>\n",
       "      <td>0</td>\n",
       "      <td>0</td>\n",
       "      <td>15</td>\n",
       "      <td>2800.0</td>\n",
       "      <td>1365.0</td>\n",
       "      <td>70.0</td>\n",
       "    </tr>\n",
       "    <tr>\n",
       "      <th>4</th>\n",
       "      <td>Departamento</td>\n",
       "      <td>Del Valle</td>\n",
       "      <td>1</td>\n",
       "      <td>0</td>\n",
       "      <td>0</td>\n",
       "      <td>48</td>\n",
       "      <td>2800.0</td>\n",
       "      <td>805.0</td>\n",
       "      <td>NaN</td>\n",
       "    </tr>\n",
       "  </tbody>\n",
       "</table>\n",
       "</div>"
      ],
      "text/plain": [
       "                      Tipo           Colonia  Habitaciones  Garages  Suites  \\\n",
       "0                 Cocineta           Condesa             1        0       0   \n",
       "1                     Casa           Polanco             2        0       1   \n",
       "2  Conjunto Comercial/Sala          Santa Fe             0        4       0   \n",
       "3             Departamento  Centro Histórico             1        0       0   \n",
       "4             Departamento         Del Valle             1        0       0   \n",
       "\n",
       "   Area    Valor  Condominio  Impuesto  \n",
       "0    40   5950.0      1750.0     210.0  \n",
       "1   100  24500.0         NaN       NaN  \n",
       "2   150  18200.0     14070.0    3888.5  \n",
       "3    15   2800.0      1365.0      70.0  \n",
       "4    48   2800.0       805.0       NaN  "
      ]
     },
     "execution_count": 74,
     "metadata": {},
     "output_type": "execute_result"
    }
   ],
   "source": [
    "import numpy as np\n",
    "import pandas as pd\n",
    "\n",
    "# Gist(CSV dataFrame): 'https://gist.github.com/ahcamachod/a572cfcc2527046db93101f88011b26e'\n",
    "# Adjuntamos ruta 'raw' DE GIST\n",
    "url = 'https://gist.githubusercontent.com/ahcamachod/a572cfcc2527046db93101f88011b26e/raw/ffb13f45a79d31223e645611a119397dd127ee3c/alquiler.csv'\n",
    "\n",
    "# Lectura de datos\n",
    "df = pd.read_csv(url, sep=';') # utilizo ';' ya que segun el dataframe estan separados por ese símbolo.\n",
    "df.head() # visualizacion solo de las 5 primeras filas\n"
   ]
  },
  {
   "cell_type": "code",
   "execution_count": 75,
   "id": "87d3f98f",
   "metadata": {},
   "outputs": [
    {
     "data": {
      "application/vnd.microsoft.datawrangler.viewer.v0+json": {
       "columns": [
        {
         "name": "index",
         "rawType": "int64",
         "type": "integer"
        },
        {
         "name": "Tipo",
         "rawType": "object",
         "type": "string"
        },
        {
         "name": "Colonia",
         "rawType": "object",
         "type": "string"
        },
        {
         "name": "Habitaciones",
         "rawType": "int64",
         "type": "integer"
        },
        {
         "name": "Garages",
         "rawType": "int64",
         "type": "integer"
        },
        {
         "name": "Suites",
         "rawType": "int64",
         "type": "integer"
        },
        {
         "name": "Area",
         "rawType": "int64",
         "type": "integer"
        },
        {
         "name": "Valor",
         "rawType": "float64",
         "type": "float"
        },
        {
         "name": "Condominio",
         "rawType": "float64",
         "type": "float"
        },
        {
         "name": "Impuesto",
         "rawType": "float64",
         "type": "float"
        }
       ],
       "ref": "8dc3006f-69a0-413c-9f14-77541caaeb0f",
       "rows": [
        [
         "2006",
         "Departamento",
         "Lomas de Chapultepec",
         "3",
         "1",
         "1",
         "100",
         "35000.0",
         "6650.0",
         "962.5"
        ],
        [
         "1104",
         "Departamento",
         "Condesa",
         "3",
         "1",
         "0",
         "380",
         "15750.0",
         "6930.0",
         null
        ],
        [
         "484",
         "Conjunto Comercial/Sala",
         "Centro Histórico",
         "0",
         "0",
         "0",
         "576",
         "100957.5",
         "31297.0",
         "7248.5"
        ],
        [
         "23682",
         "Departamento",
         "Coyoacán",
         "3",
         "2",
         "2",
         "186",
         "98000.0",
         "10325.0",
         "34300.0"
        ],
        [
         "17121",
         "Departamento",
         "Santa Fe",
         "2",
         "1",
         "1",
         "55",
         "3850.0",
         "2975.0",
         "490.0"
        ],
        [
         "24916",
         "Departamento",
         "Bosques de las Lomas",
         "4",
         "3",
         "1",
         "165",
         "28000.0",
         "5600.0",
         "2005.5"
        ],
        [
         "18407",
         "Departamento",
         "Condesa",
         "1",
         "0",
         "0",
         "27",
         "8750.0",
         "1925.0",
         "70.0"
        ],
        [
         "1122",
         "Departamento",
         "Condesa",
         "3",
         "1",
         "0",
         "140",
         "12250.0",
         "3500.0",
         "420.0"
        ],
        [
         "13992",
         "Departamento",
         "Condesa",
         "3",
         "1",
         "1",
         "138",
         "15750.0",
         "6300.0",
         "647.5"
        ],
        [
         "13235",
         "Departamento",
         "Coyoacán",
         "2",
         "1",
         "2",
         "92",
         "26250.0",
         "12250.0",
         "3500.0"
        ]
       ],
       "shape": {
        "columns": 9,
        "rows": 10
       }
      },
      "text/html": [
       "<div>\n",
       "<style scoped>\n",
       "    .dataframe tbody tr th:only-of-type {\n",
       "        vertical-align: middle;\n",
       "    }\n",
       "\n",
       "    .dataframe tbody tr th {\n",
       "        vertical-align: top;\n",
       "    }\n",
       "\n",
       "    .dataframe thead th {\n",
       "        text-align: right;\n",
       "    }\n",
       "</style>\n",
       "<table border=\"1\" class=\"dataframe\">\n",
       "  <thead>\n",
       "    <tr style=\"text-align: right;\">\n",
       "      <th></th>\n",
       "      <th>Tipo</th>\n",
       "      <th>Colonia</th>\n",
       "      <th>Habitaciones</th>\n",
       "      <th>Garages</th>\n",
       "      <th>Suites</th>\n",
       "      <th>Area</th>\n",
       "      <th>Valor</th>\n",
       "      <th>Condominio</th>\n",
       "      <th>Impuesto</th>\n",
       "    </tr>\n",
       "  </thead>\n",
       "  <tbody>\n",
       "    <tr>\n",
       "      <th>2006</th>\n",
       "      <td>Departamento</td>\n",
       "      <td>Lomas de Chapultepec</td>\n",
       "      <td>3</td>\n",
       "      <td>1</td>\n",
       "      <td>1</td>\n",
       "      <td>100</td>\n",
       "      <td>35000.0</td>\n",
       "      <td>6650.0</td>\n",
       "      <td>962.5</td>\n",
       "    </tr>\n",
       "    <tr>\n",
       "      <th>1104</th>\n",
       "      <td>Departamento</td>\n",
       "      <td>Condesa</td>\n",
       "      <td>3</td>\n",
       "      <td>1</td>\n",
       "      <td>0</td>\n",
       "      <td>380</td>\n",
       "      <td>15750.0</td>\n",
       "      <td>6930.0</td>\n",
       "      <td>NaN</td>\n",
       "    </tr>\n",
       "    <tr>\n",
       "      <th>484</th>\n",
       "      <td>Conjunto Comercial/Sala</td>\n",
       "      <td>Centro Histórico</td>\n",
       "      <td>0</td>\n",
       "      <td>0</td>\n",
       "      <td>0</td>\n",
       "      <td>576</td>\n",
       "      <td>100957.5</td>\n",
       "      <td>31297.0</td>\n",
       "      <td>7248.5</td>\n",
       "    </tr>\n",
       "    <tr>\n",
       "      <th>23682</th>\n",
       "      <td>Departamento</td>\n",
       "      <td>Coyoacán</td>\n",
       "      <td>3</td>\n",
       "      <td>2</td>\n",
       "      <td>2</td>\n",
       "      <td>186</td>\n",
       "      <td>98000.0</td>\n",
       "      <td>10325.0</td>\n",
       "      <td>34300.0</td>\n",
       "    </tr>\n",
       "    <tr>\n",
       "      <th>17121</th>\n",
       "      <td>Departamento</td>\n",
       "      <td>Santa Fe</td>\n",
       "      <td>2</td>\n",
       "      <td>1</td>\n",
       "      <td>1</td>\n",
       "      <td>55</td>\n",
       "      <td>3850.0</td>\n",
       "      <td>2975.0</td>\n",
       "      <td>490.0</td>\n",
       "    </tr>\n",
       "    <tr>\n",
       "      <th>24916</th>\n",
       "      <td>Departamento</td>\n",
       "      <td>Bosques de las Lomas</td>\n",
       "      <td>4</td>\n",
       "      <td>3</td>\n",
       "      <td>1</td>\n",
       "      <td>165</td>\n",
       "      <td>28000.0</td>\n",
       "      <td>5600.0</td>\n",
       "      <td>2005.5</td>\n",
       "    </tr>\n",
       "    <tr>\n",
       "      <th>18407</th>\n",
       "      <td>Departamento</td>\n",
       "      <td>Condesa</td>\n",
       "      <td>1</td>\n",
       "      <td>0</td>\n",
       "      <td>0</td>\n",
       "      <td>27</td>\n",
       "      <td>8750.0</td>\n",
       "      <td>1925.0</td>\n",
       "      <td>70.0</td>\n",
       "    </tr>\n",
       "    <tr>\n",
       "      <th>1122</th>\n",
       "      <td>Departamento</td>\n",
       "      <td>Condesa</td>\n",
       "      <td>3</td>\n",
       "      <td>1</td>\n",
       "      <td>0</td>\n",
       "      <td>140</td>\n",
       "      <td>12250.0</td>\n",
       "      <td>3500.0</td>\n",
       "      <td>420.0</td>\n",
       "    </tr>\n",
       "    <tr>\n",
       "      <th>13992</th>\n",
       "      <td>Departamento</td>\n",
       "      <td>Condesa</td>\n",
       "      <td>3</td>\n",
       "      <td>1</td>\n",
       "      <td>1</td>\n",
       "      <td>138</td>\n",
       "      <td>15750.0</td>\n",
       "      <td>6300.0</td>\n",
       "      <td>647.5</td>\n",
       "    </tr>\n",
       "    <tr>\n",
       "      <th>13235</th>\n",
       "      <td>Departamento</td>\n",
       "      <td>Coyoacán</td>\n",
       "      <td>2</td>\n",
       "      <td>1</td>\n",
       "      <td>2</td>\n",
       "      <td>92</td>\n",
       "      <td>26250.0</td>\n",
       "      <td>12250.0</td>\n",
       "      <td>3500.0</td>\n",
       "    </tr>\n",
       "  </tbody>\n",
       "</table>\n",
       "</div>"
      ],
      "text/plain": [
       "                          Tipo               Colonia  Habitaciones  Garages  \\\n",
       "2006              Departamento  Lomas de Chapultepec             3        1   \n",
       "1104              Departamento               Condesa             3        1   \n",
       "484    Conjunto Comercial/Sala      Centro Histórico             0        0   \n",
       "23682             Departamento              Coyoacán             3        2   \n",
       "17121             Departamento              Santa Fe             2        1   \n",
       "24916             Departamento  Bosques de las Lomas             4        3   \n",
       "18407             Departamento               Condesa             1        0   \n",
       "1122              Departamento               Condesa             3        1   \n",
       "13992             Departamento               Condesa             3        1   \n",
       "13235             Departamento              Coyoacán             2        1   \n",
       "\n",
       "       Suites  Area     Valor  Condominio  Impuesto  \n",
       "2006        1   100   35000.0      6650.0     962.5  \n",
       "1104        0   380   15750.0      6930.0       NaN  \n",
       "484         0   576  100957.5     31297.0    7248.5  \n",
       "23682       2   186   98000.0     10325.0   34300.0  \n",
       "17121       1    55    3850.0      2975.0     490.0  \n",
       "24916       1   165   28000.0      5600.0    2005.5  \n",
       "18407       0    27    8750.0      1925.0      70.0  \n",
       "1122        0   140   12250.0      3500.0     420.0  \n",
       "13992       1   138   15750.0      6300.0     647.5  \n",
       "13235       2    92   26250.0     12250.0    3500.0  "
      ]
     },
     "execution_count": 75,
     "metadata": {},
     "output_type": "execute_result"
    }
   ],
   "source": [
    "# Tomamos una muestra aleatoria de 10 filas del dataframe\n",
    "df.sample(10)"
   ]
  },
  {
   "cell_type": "code",
   "execution_count": 76,
   "id": "7d378f41",
   "metadata": {},
   "outputs": [
    {
     "data": {
      "text/plain": [
       "pandas.core.frame.DataFrame"
      ]
     },
     "execution_count": 76,
     "metadata": {},
     "output_type": "execute_result"
    }
   ],
   "source": [
    "# Verificando el tipo de datos, efectivamente es un dataFrame\n",
    "type(df)"
   ]
  },
  {
   "cell_type": "markdown",
   "id": "de8ea35e",
   "metadata": {},
   "source": [
    "## Analysis data exploration"
   ]
  },
  {
   "cell_type": "code",
   "execution_count": 77,
   "id": "2816f471",
   "metadata": {},
   "outputs": [
    {
     "data": {
      "application/vnd.microsoft.datawrangler.viewer.v0+json": {
       "columns": [
        {
         "name": "index",
         "rawType": "int64",
         "type": "integer"
        },
        {
         "name": "Tipo",
         "rawType": "object",
         "type": "string"
        },
        {
         "name": "Colonia",
         "rawType": "object",
         "type": "string"
        },
        {
         "name": "Habitaciones",
         "rawType": "int64",
         "type": "integer"
        },
        {
         "name": "Garages",
         "rawType": "int64",
         "type": "integer"
        },
        {
         "name": "Suites",
         "rawType": "int64",
         "type": "integer"
        },
        {
         "name": "Area",
         "rawType": "int64",
         "type": "integer"
        },
        {
         "name": "Valor",
         "rawType": "float64",
         "type": "float"
        },
        {
         "name": "Condominio",
         "rawType": "float64",
         "type": "float"
        },
        {
         "name": "Impuesto",
         "rawType": "float64",
         "type": "float"
        }
       ],
       "ref": "ffa4cd56-cbc6-4aa3-b448-3f29b4d7e371",
       "rows": [
        [
         "16570",
         "Departamento",
         "Narvarte",
         "2",
         "1",
         "0",
         "64",
         "5775.0",
         "2684.5",
         "231.0"
        ],
        [
         "12256",
         "Departamento",
         "Lomas de Chapultepec",
         "3",
         "1",
         "0",
         "122",
         "21700.0",
         "4648.0",
         null
        ],
        [
         "16173",
         "Conjunto Comercial/Sala",
         "Santa Fe",
         "0",
         "1",
         "0",
         "30",
         "2800.0",
         "2520.0",
         "2065.0"
        ],
        [
         "18556",
         "Conjunto Comercial/Sala",
         "Centro Histórico",
         "0",
         "0",
         "0",
         "300",
         "63000.0",
         "8750.0",
         "2432.5"
        ],
        [
         "3147",
         "Departamento",
         "La Florida",
         "2",
         "1",
         "1",
         "66",
         "4200.0",
         "1575.0",
         "224.0"
        ]
       ],
       "shape": {
        "columns": 9,
        "rows": 5
       }
      },
      "text/html": [
       "<div>\n",
       "<style scoped>\n",
       "    .dataframe tbody tr th:only-of-type {\n",
       "        vertical-align: middle;\n",
       "    }\n",
       "\n",
       "    .dataframe tbody tr th {\n",
       "        vertical-align: top;\n",
       "    }\n",
       "\n",
       "    .dataframe thead th {\n",
       "        text-align: right;\n",
       "    }\n",
       "</style>\n",
       "<table border=\"1\" class=\"dataframe\">\n",
       "  <thead>\n",
       "    <tr style=\"text-align: right;\">\n",
       "      <th></th>\n",
       "      <th>Tipo</th>\n",
       "      <th>Colonia</th>\n",
       "      <th>Habitaciones</th>\n",
       "      <th>Garages</th>\n",
       "      <th>Suites</th>\n",
       "      <th>Area</th>\n",
       "      <th>Valor</th>\n",
       "      <th>Condominio</th>\n",
       "      <th>Impuesto</th>\n",
       "    </tr>\n",
       "  </thead>\n",
       "  <tbody>\n",
       "    <tr>\n",
       "      <th>16570</th>\n",
       "      <td>Departamento</td>\n",
       "      <td>Narvarte</td>\n",
       "      <td>2</td>\n",
       "      <td>1</td>\n",
       "      <td>0</td>\n",
       "      <td>64</td>\n",
       "      <td>5775.0</td>\n",
       "      <td>2684.5</td>\n",
       "      <td>231.0</td>\n",
       "    </tr>\n",
       "    <tr>\n",
       "      <th>12256</th>\n",
       "      <td>Departamento</td>\n",
       "      <td>Lomas de Chapultepec</td>\n",
       "      <td>3</td>\n",
       "      <td>1</td>\n",
       "      <td>0</td>\n",
       "      <td>122</td>\n",
       "      <td>21700.0</td>\n",
       "      <td>4648.0</td>\n",
       "      <td>NaN</td>\n",
       "    </tr>\n",
       "    <tr>\n",
       "      <th>16173</th>\n",
       "      <td>Conjunto Comercial/Sala</td>\n",
       "      <td>Santa Fe</td>\n",
       "      <td>0</td>\n",
       "      <td>1</td>\n",
       "      <td>0</td>\n",
       "      <td>30</td>\n",
       "      <td>2800.0</td>\n",
       "      <td>2520.0</td>\n",
       "      <td>2065.0</td>\n",
       "    </tr>\n",
       "    <tr>\n",
       "      <th>18556</th>\n",
       "      <td>Conjunto Comercial/Sala</td>\n",
       "      <td>Centro Histórico</td>\n",
       "      <td>0</td>\n",
       "      <td>0</td>\n",
       "      <td>0</td>\n",
       "      <td>300</td>\n",
       "      <td>63000.0</td>\n",
       "      <td>8750.0</td>\n",
       "      <td>2432.5</td>\n",
       "    </tr>\n",
       "    <tr>\n",
       "      <th>3147</th>\n",
       "      <td>Departamento</td>\n",
       "      <td>La Florida</td>\n",
       "      <td>2</td>\n",
       "      <td>1</td>\n",
       "      <td>1</td>\n",
       "      <td>66</td>\n",
       "      <td>4200.0</td>\n",
       "      <td>1575.0</td>\n",
       "      <td>224.0</td>\n",
       "    </tr>\n",
       "  </tbody>\n",
       "</table>\n",
       "</div>"
      ],
      "text/plain": [
       "                          Tipo               Colonia  Habitaciones  Garages  \\\n",
       "16570             Departamento              Narvarte             2        1   \n",
       "12256             Departamento  Lomas de Chapultepec             3        1   \n",
       "16173  Conjunto Comercial/Sala              Santa Fe             0        1   \n",
       "18556  Conjunto Comercial/Sala      Centro Histórico             0        0   \n",
       "3147              Departamento            La Florida             2        1   \n",
       "\n",
       "       Suites  Area    Valor  Condominio  Impuesto  \n",
       "16570       0    64   5775.0      2684.5     231.0  \n",
       "12256       0   122  21700.0      4648.0       NaN  \n",
       "16173       0    30   2800.0      2520.0    2065.0  \n",
       "18556       0   300  63000.0      8750.0    2432.5  \n",
       "3147        1    66   4200.0      1575.0     224.0  "
      ]
     },
     "execution_count": 77,
     "metadata": {},
     "output_type": "execute_result"
    }
   ],
   "source": [
    "df.sample(5)"
   ]
  },
  {
   "cell_type": "code",
   "execution_count": 78,
   "id": "1c5d5a53",
   "metadata": {},
   "outputs": [
    {
     "data": {
      "text/plain": [
       "(25121, 9)"
      ]
     },
     "execution_count": 78,
     "metadata": {},
     "output_type": "execute_result"
    }
   ],
   "source": [
    "# Verificacion de la cantidad de dimensiones del array\n",
    "df.shape"
   ]
  },
  {
   "cell_type": "code",
   "execution_count": 79,
   "id": "0a237b37",
   "metadata": {},
   "outputs": [
    {
     "data": {
      "text/plain": [
       "Index(['Tipo', 'Colonia', 'Habitaciones', 'Garages', 'Suites', 'Area', 'Valor',\n",
       "       'Condominio', 'Impuesto'],\n",
       "      dtype='object')"
      ]
     },
     "execution_count": 79,
     "metadata": {},
     "output_type": "execute_result"
    }
   ],
   "source": [
    "# Verificamos las etiquetas de las columnas\n",
    "df.columns"
   ]
  },
  {
   "cell_type": "code",
   "execution_count": 80,
   "id": "d15ee3d4",
   "metadata": {},
   "outputs": [
    {
     "name": "stdout",
     "output_type": "stream",
     "text": [
      "<class 'pandas.core.frame.DataFrame'>\n",
      "RangeIndex: 25121 entries, 0 to 25120\n",
      "Data columns (total 9 columns):\n",
      " #   Column        Non-Null Count  Dtype  \n",
      "---  ------        --------------  -----  \n",
      " 0   Tipo          25121 non-null  object \n",
      " 1   Colonia       25121 non-null  object \n",
      " 2   Habitaciones  25121 non-null  int64  \n",
      " 3   Garages       25121 non-null  int64  \n",
      " 4   Suites        25121 non-null  int64  \n",
      " 5   Area          25121 non-null  int64  \n",
      " 6   Valor         25107 non-null  float64\n",
      " 7   Condominio    22495 non-null  float64\n",
      " 8   Impuesto      18037 non-null  float64\n",
      "dtypes: float64(3), int64(4), object(2)\n",
      "memory usage: 1.7+ MB\n"
     ]
    }
   ],
   "source": [
    "# Resumen de los datos analizados\n",
    "df.info()"
   ]
  },
  {
   "cell_type": "code",
   "execution_count": 81,
   "id": "66e6b069",
   "metadata": {},
   "outputs": [
    {
     "data": {
      "application/vnd.microsoft.datawrangler.viewer.v0+json": {
       "columns": [
        {
         "name": "index",
         "rawType": "int64",
         "type": "integer"
        },
        {
         "name": "Colonia",
         "rawType": "object",
         "type": "string"
        }
       ],
       "ref": "1b8dee21-6a24-4d37-b937-3161f1faa632",
       "rows": [
        [
         "0",
         "Condesa"
        ],
        [
         "1",
         "Polanco"
        ],
        [
         "2",
         "Santa Fe"
        ],
        [
         "3",
         "Centro Histórico"
        ],
        [
         "4",
         "Del Valle"
        ],
        [
         "5",
         "Santa Fe"
        ],
        [
         "6",
         "Centro Histórico"
        ],
        [
         "7",
         "Centro Histórico"
        ],
        [
         "8",
         "Condesa"
        ],
        [
         "9",
         "Condesa"
        ],
        [
         "10",
         "Condesa"
        ],
        [
         "11",
         "Roma"
        ],
        [
         "12",
         "Roma"
        ],
        [
         "13",
         "Santa Fe"
        ],
        [
         "14",
         "Narvarte"
        ],
        [
         "15",
         "Santa Fe"
        ],
        [
         "16",
         "Narvarte"
        ],
        [
         "17",
         "Lomas de Chapultepec"
        ],
        [
         "18",
         "Coyoacán"
        ],
        [
         "19",
         "Narvarte"
        ],
        [
         "20",
         "Santa Fe"
        ],
        [
         "21",
         "Roma"
        ],
        [
         "22",
         "Condesa"
        ],
        [
         "23",
         "Condesa"
        ],
        [
         "24",
         "Santa Fe"
        ],
        [
         "25",
         "Lomas de Chapultepec"
        ],
        [
         "26",
         "Centro Histórico"
        ],
        [
         "27",
         "Condesa"
        ],
        [
         "28",
         "Santa Fe"
        ],
        [
         "29",
         "Condesa"
        ],
        [
         "30",
         "Santa Fe"
        ],
        [
         "31",
         "Centro Histórico"
        ],
        [
         "32",
         "Centro Histórico"
        ],
        [
         "33",
         "Santa Fe"
        ],
        [
         "34",
         "San Pedro de los Pinos"
        ],
        [
         "35",
         "Centro Histórico"
        ],
        [
         "36",
         "Polanco"
        ],
        [
         "37",
         "Centro Histórico"
        ],
        [
         "38",
         "Coyoacán"
        ],
        [
         "39",
         "Coyoacán"
        ],
        [
         "40",
         "Condesa"
        ],
        [
         "41",
         "Santa Fe"
        ],
        [
         "42",
         "Santa Fe"
        ],
        [
         "43",
         "Coyoacán"
        ],
        [
         "44",
         "Roma"
        ],
        [
         "45",
         "Coyoacán"
        ],
        [
         "46",
         "Centro Histórico"
        ],
        [
         "47",
         "Coyoacán"
        ],
        [
         "48",
         "Polanco"
        ],
        [
         "49",
         "Santa Fe"
        ]
       ],
       "shape": {
        "columns": 1,
        "rows": 25121
       }
      },
      "text/plain": [
       "0                     Condesa\n",
       "1                     Polanco\n",
       "2                    Santa Fe\n",
       "3            Centro Histórico\n",
       "4                   Del Valle\n",
       "                 ...         \n",
       "25116        Centro Histórico\n",
       "25117        Centro Histórico\n",
       "25118                 Mixcoac\n",
       "25119    Lomas de Chapultepec\n",
       "25120        Centro Histórico\n",
       "Name: Colonia, Length: 25121, dtype: object"
      ]
     },
     "execution_count": 81,
     "metadata": {},
     "output_type": "execute_result"
    }
   ],
   "source": [
    "# Verificacion por columna del tipo de dato contenida en ella (columna)\n",
    "df['Colonia']"
   ]
  },
  {
   "cell_type": "code",
   "execution_count": 82,
   "id": "d736385e",
   "metadata": {},
   "outputs": [
    {
     "data": {
      "application/vnd.microsoft.datawrangler.viewer.v0+json": {
       "columns": [
        {
         "name": "index",
         "rawType": "int64",
         "type": "integer"
        },
        {
         "name": "Area",
         "rawType": "int64",
         "type": "integer"
        },
        {
         "name": "Valor",
         "rawType": "float64",
         "type": "float"
        }
       ],
       "ref": "08f7d027-5f5d-4e31-9a28-5c8a31d057cb",
       "rows": [
        [
         "0",
         "40",
         "5950.0"
        ],
        [
         "1",
         "100",
         "24500.0"
        ],
        [
         "2",
         "150",
         "18200.0"
        ],
        [
         "3",
         "15",
         "2800.0"
        ],
        [
         "4",
         "48",
         "2800.0"
        ],
        [
         "5",
         "750",
         "77000.0"
        ],
        [
         "6",
         "695",
         "122500.0"
        ],
        [
         "7",
         "36",
         "4200.0"
        ],
        [
         "8",
         "40",
         "7000.0"
        ],
        [
         "9",
         "27",
         "6300.0"
        ],
        [
         "10",
         "243",
         "45500.0"
        ],
        [
         "11",
         "536",
         "98000.0"
        ],
        [
         "12",
         "80",
         "13300.0"
        ],
        [
         "13",
         "67",
         "5950.0"
        ],
        [
         "14",
         "110",
         "6650.0"
        ],
        [
         "15",
         "466",
         "26250.0"
        ],
        [
         "16",
         "78",
         "7000.0"
        ],
        [
         "17",
         "56",
         "15750.0"
        ],
        [
         "18",
         "125",
         "24500.0"
        ],
        [
         "19",
         "48",
         "2625.0"
        ],
        [
         "20",
         "175",
         "14700.0"
        ],
        [
         "21",
         "76",
         "8750.0"
        ],
        [
         "22",
         "378",
         "35000.0"
        ],
        [
         "23",
         "180",
         "19250.0"
        ],
        [
         "24",
         "22",
         "2450.0"
        ],
        [
         "25",
         "110",
         "13650.0"
        ],
        [
         "26",
         "1306",
         "411390.0"
        ],
        [
         "27",
         "27",
         "4550.0"
        ],
        [
         "28",
         "70",
         "6300.0"
        ],
        [
         "29",
         "244",
         "17500.0"
        ],
        [
         "30",
         "110",
         "15750.0"
        ],
        [
         "31",
         "460",
         "26250.0"
        ],
        [
         "32",
         "1170",
         "491596.0"
        ],
        [
         "33",
         "72",
         "8225.0"
        ],
        [
         "34",
         "180",
         "14000.0"
        ],
        [
         "35",
         "70",
         "6650.0"
        ],
        [
         "36",
         "50",
         "14000.0"
        ],
        [
         "37",
         "27",
         "2625.0"
        ],
        [
         "38",
         "35",
         "7000.0"
        ],
        [
         "39",
         "38",
         "4900.0"
        ],
        [
         "40",
         "34",
         "7000.0"
        ],
        [
         "41",
         "1600",
         "87500.0"
        ],
        [
         "42",
         "153",
         "22750.0"
        ],
        [
         "43",
         "87",
         "11200.0"
        ],
        [
         "44",
         "108",
         "20825.0"
        ],
        [
         "45",
         "150",
         "28000.0"
        ],
        [
         "46",
         "1",
         "9975.0"
        ],
        [
         "47",
         "140",
         "27650.0"
        ],
        [
         "48",
         "95",
         "14000.0"
        ],
        [
         "49",
         "70",
         null
        ]
       ],
       "shape": {
        "columns": 2,
        "rows": 25121
       }
      },
      "text/html": [
       "<div>\n",
       "<style scoped>\n",
       "    .dataframe tbody tr th:only-of-type {\n",
       "        vertical-align: middle;\n",
       "    }\n",
       "\n",
       "    .dataframe tbody tr th {\n",
       "        vertical-align: top;\n",
       "    }\n",
       "\n",
       "    .dataframe thead th {\n",
       "        text-align: right;\n",
       "    }\n",
       "</style>\n",
       "<table border=\"1\" class=\"dataframe\">\n",
       "  <thead>\n",
       "    <tr style=\"text-align: right;\">\n",
       "      <th></th>\n",
       "      <th>Area</th>\n",
       "      <th>Valor</th>\n",
       "    </tr>\n",
       "  </thead>\n",
       "  <tbody>\n",
       "    <tr>\n",
       "      <th>0</th>\n",
       "      <td>40</td>\n",
       "      <td>5950.0</td>\n",
       "    </tr>\n",
       "    <tr>\n",
       "      <th>1</th>\n",
       "      <td>100</td>\n",
       "      <td>24500.0</td>\n",
       "    </tr>\n",
       "    <tr>\n",
       "      <th>2</th>\n",
       "      <td>150</td>\n",
       "      <td>18200.0</td>\n",
       "    </tr>\n",
       "    <tr>\n",
       "      <th>3</th>\n",
       "      <td>15</td>\n",
       "      <td>2800.0</td>\n",
       "    </tr>\n",
       "    <tr>\n",
       "      <th>4</th>\n",
       "      <td>48</td>\n",
       "      <td>2800.0</td>\n",
       "    </tr>\n",
       "    <tr>\n",
       "      <th>...</th>\n",
       "      <td>...</td>\n",
       "      <td>...</td>\n",
       "    </tr>\n",
       "    <tr>\n",
       "      <th>25116</th>\n",
       "      <td>755</td>\n",
       "      <td>49000.0</td>\n",
       "    </tr>\n",
       "    <tr>\n",
       "      <th>25117</th>\n",
       "      <td>27</td>\n",
       "      <td>2800.0</td>\n",
       "    </tr>\n",
       "    <tr>\n",
       "      <th>25118</th>\n",
       "      <td>48</td>\n",
       "      <td>4900.0</td>\n",
       "    </tr>\n",
       "    <tr>\n",
       "      <th>25119</th>\n",
       "      <td>70</td>\n",
       "      <td>10500.0</td>\n",
       "    </tr>\n",
       "    <tr>\n",
       "      <th>25120</th>\n",
       "      <td>250</td>\n",
       "      <td>22750.0</td>\n",
       "    </tr>\n",
       "  </tbody>\n",
       "</table>\n",
       "<p>25121 rows × 2 columns</p>\n",
       "</div>"
      ],
      "text/plain": [
       "       Area    Valor\n",
       "0        40   5950.0\n",
       "1       100  24500.0\n",
       "2       150  18200.0\n",
       "3        15   2800.0\n",
       "4        48   2800.0\n",
       "...     ...      ...\n",
       "25116   755  49000.0\n",
       "25117    27   2800.0\n",
       "25118    48   4900.0\n",
       "25119    70  10500.0\n",
       "25120   250  22750.0\n",
       "\n",
       "[25121 rows x 2 columns]"
      ]
     },
     "execution_count": 82,
     "metadata": {},
     "output_type": "execute_result"
    }
   ],
   "source": [
    "# Verificación de los tipos de datos de dos columnas\n",
    "df[['Area','Valor']]  # solamente ['Area','Valor'] es una tupla, se tiene que pasar una lista "
   ]
  },
  {
   "cell_type": "markdown",
   "id": "9c9259f3",
   "metadata": {},
   "source": [
    "# MACHINE LEARNING TASKS"
   ]
  },
  {
   "cell_type": "markdown",
   "id": "d5d1199d",
   "metadata": {},
   "source": [
    "## Average & porcentages"
   ]
  },
  {
   "cell_type": "markdown",
   "id": "23f804bc",
   "metadata": {},
   "source": [
    "### Valores promedio de alquiler por tipo de inmueble (residencial)"
   ]
  },
  {
   "cell_type": "code",
   "execution_count": 83,
   "id": "acd63417",
   "metadata": {},
   "outputs": [
    {
     "data": {
      "application/vnd.microsoft.datawrangler.viewer.v0+json": {
       "columns": [
        {
         "name": "index",
         "rawType": "int64",
         "type": "integer"
        },
        {
         "name": "Tipo",
         "rawType": "object",
         "type": "string"
        },
        {
         "name": "Colonia",
         "rawType": "object",
         "type": "string"
        },
        {
         "name": "Habitaciones",
         "rawType": "int64",
         "type": "integer"
        },
        {
         "name": "Garages",
         "rawType": "int64",
         "type": "integer"
        },
        {
         "name": "Suites",
         "rawType": "int64",
         "type": "integer"
        },
        {
         "name": "Area",
         "rawType": "int64",
         "type": "integer"
        },
        {
         "name": "Valor",
         "rawType": "float64",
         "type": "float"
        },
        {
         "name": "Condominio",
         "rawType": "float64",
         "type": "float"
        },
        {
         "name": "Impuesto",
         "rawType": "float64",
         "type": "float"
        }
       ],
       "ref": "e4241dd4-8565-4755-9864-13b0252f69e4",
       "rows": [
        [
         "0",
         "Cocineta",
         "Condesa",
         "1",
         "0",
         "0",
         "40",
         "5950.0",
         "1750.0",
         "210.0"
        ],
        [
         "1",
         "Casa",
         "Polanco",
         "2",
         "0",
         "1",
         "100",
         "24500.0",
         null,
         null
        ],
        [
         "2",
         "Conjunto Comercial/Sala",
         "Santa Fe",
         "0",
         "4",
         "0",
         "150",
         "18200.0",
         "14070.0",
         "3888.5"
        ],
        [
         "3",
         "Departamento",
         "Centro Histórico",
         "1",
         "0",
         "0",
         "15",
         "2800.0",
         "1365.0",
         "70.0"
        ],
        [
         "4",
         "Departamento",
         "Del Valle",
         "1",
         "0",
         "0",
         "48",
         "2800.0",
         "805.0",
         null
        ]
       ],
       "shape": {
        "columns": 9,
        "rows": 5
       }
      },
      "text/html": [
       "<div>\n",
       "<style scoped>\n",
       "    .dataframe tbody tr th:only-of-type {\n",
       "        vertical-align: middle;\n",
       "    }\n",
       "\n",
       "    .dataframe tbody tr th {\n",
       "        vertical-align: top;\n",
       "    }\n",
       "\n",
       "    .dataframe thead th {\n",
       "        text-align: right;\n",
       "    }\n",
       "</style>\n",
       "<table border=\"1\" class=\"dataframe\">\n",
       "  <thead>\n",
       "    <tr style=\"text-align: right;\">\n",
       "      <th></th>\n",
       "      <th>Tipo</th>\n",
       "      <th>Colonia</th>\n",
       "      <th>Habitaciones</th>\n",
       "      <th>Garages</th>\n",
       "      <th>Suites</th>\n",
       "      <th>Area</th>\n",
       "      <th>Valor</th>\n",
       "      <th>Condominio</th>\n",
       "      <th>Impuesto</th>\n",
       "    </tr>\n",
       "  </thead>\n",
       "  <tbody>\n",
       "    <tr>\n",
       "      <th>0</th>\n",
       "      <td>Cocineta</td>\n",
       "      <td>Condesa</td>\n",
       "      <td>1</td>\n",
       "      <td>0</td>\n",
       "      <td>0</td>\n",
       "      <td>40</td>\n",
       "      <td>5950.0</td>\n",
       "      <td>1750.0</td>\n",
       "      <td>210.0</td>\n",
       "    </tr>\n",
       "    <tr>\n",
       "      <th>1</th>\n",
       "      <td>Casa</td>\n",
       "      <td>Polanco</td>\n",
       "      <td>2</td>\n",
       "      <td>0</td>\n",
       "      <td>1</td>\n",
       "      <td>100</td>\n",
       "      <td>24500.0</td>\n",
       "      <td>NaN</td>\n",
       "      <td>NaN</td>\n",
       "    </tr>\n",
       "    <tr>\n",
       "      <th>2</th>\n",
       "      <td>Conjunto Comercial/Sala</td>\n",
       "      <td>Santa Fe</td>\n",
       "      <td>0</td>\n",
       "      <td>4</td>\n",
       "      <td>0</td>\n",
       "      <td>150</td>\n",
       "      <td>18200.0</td>\n",
       "      <td>14070.0</td>\n",
       "      <td>3888.5</td>\n",
       "    </tr>\n",
       "    <tr>\n",
       "      <th>3</th>\n",
       "      <td>Departamento</td>\n",
       "      <td>Centro Histórico</td>\n",
       "      <td>1</td>\n",
       "      <td>0</td>\n",
       "      <td>0</td>\n",
       "      <td>15</td>\n",
       "      <td>2800.0</td>\n",
       "      <td>1365.0</td>\n",
       "      <td>70.0</td>\n",
       "    </tr>\n",
       "    <tr>\n",
       "      <th>4</th>\n",
       "      <td>Departamento</td>\n",
       "      <td>Del Valle</td>\n",
       "      <td>1</td>\n",
       "      <td>0</td>\n",
       "      <td>0</td>\n",
       "      <td>48</td>\n",
       "      <td>2800.0</td>\n",
       "      <td>805.0</td>\n",
       "      <td>NaN</td>\n",
       "    </tr>\n",
       "  </tbody>\n",
       "</table>\n",
       "</div>"
      ],
      "text/plain": [
       "                      Tipo           Colonia  Habitaciones  Garages  Suites  \\\n",
       "0                 Cocineta           Condesa             1        0       0   \n",
       "1                     Casa           Polanco             2        0       1   \n",
       "2  Conjunto Comercial/Sala          Santa Fe             0        4       0   \n",
       "3             Departamento  Centro Histórico             1        0       0   \n",
       "4             Departamento         Del Valle             1        0       0   \n",
       "\n",
       "   Area    Valor  Condominio  Impuesto  \n",
       "0    40   5950.0      1750.0     210.0  \n",
       "1   100  24500.0         NaN       NaN  \n",
       "2   150  18200.0     14070.0    3888.5  \n",
       "3    15   2800.0      1365.0      70.0  \n",
       "4    48   2800.0       805.0       NaN  "
      ]
     },
     "execution_count": 83,
     "metadata": {},
     "output_type": "execute_result"
    }
   ],
   "source": [
    "# Ver primeras filas\n",
    "df.head()"
   ]
  },
  {
   "cell_type": "code",
   "execution_count": 84,
   "id": "78214276",
   "metadata": {},
   "outputs": [
    {
     "data": {
      "text/plain": [
       "np.float64(36885.05048392878)"
      ]
     },
     "execution_count": 84,
     "metadata": {},
     "output_type": "execute_result"
    }
   ],
   "source": [
    "# Suma de todos los valores de el dataframe\n",
    "df['Valor'].mean()"
   ]
  },
  {
   "cell_type": "code",
   "execution_count": 85,
   "id": "03f42a26",
   "metadata": {},
   "outputs": [
    {
     "name": "stdout",
     "output_type": "stream",
     "text": [
      "Tipo             object\n",
      "Colonia          object\n",
      "Habitaciones      int64\n",
      "Garages           int64\n",
      "Suites            int64\n",
      "Area              int64\n",
      "Valor           float64\n",
      "Condominio      float64\n",
      "Impuesto        float64\n",
      "dtype: object\n"
     ]
    }
   ],
   "source": [
    "print(df.dtypes)"
   ]
  },
  {
   "cell_type": "code",
   "execution_count": 86,
   "id": "cd45a6d7",
   "metadata": {},
   "outputs": [
    {
     "data": {
      "application/vnd.microsoft.datawrangler.viewer.v0+json": {
       "columns": [
        {
         "name": "Tipo",
         "rawType": "object",
         "type": "string"
        },
        {
         "name": "Habitaciones",
         "rawType": "float64",
         "type": "float"
        },
        {
         "name": "Garages",
         "rawType": "float64",
         "type": "float"
        },
        {
         "name": "Suites",
         "rawType": "float64",
         "type": "float"
        },
        {
         "name": "Area",
         "rawType": "float64",
         "type": "float"
        },
        {
         "name": "Valor",
         "rawType": "float64",
         "type": "float"
        },
        {
         "name": "Condominio",
         "rawType": "float64",
         "type": "float"
        },
        {
         "name": "Impuesto",
         "rawType": "float64",
         "type": "float"
        }
       ],
       "ref": "367b4407-2aff-4400-a0be-8718c9164608",
       "rows": [
        [
         "Casa",
         "3.3596330275229356",
         "1.8972477064220183",
         "1.4385321100917432",
         "289.943119266055",
         "31453.177064220185",
         "3699.4216417910447",
         "6629.4048507462685"
        ],
        [
         "Casa Comercial",
         "1.801980198019802",
         "2.118811881188119",
         "0.25742574257425743",
         "370.2772277227723",
         "54735.841584158414",
         "7622.192307692308",
         "6166.06338028169"
        ],
        [
         "Casa de Condominio",
         "4.319672131147541",
         "3.555737704918033",
         "3.2475409836065574",
         "566.3032786885246",
         "51428.609836065574",
         "5286.578804347826",
         "15046.939393939394"
        ],
        [
         "Casa de Vecindad",
         "1.9746835443037976",
         "0.379746835443038",
         "0.21518987341772153",
         "79.98101265822785",
         "5961.7405063291135",
         "413.44444444444446",
         "706.85"
        ],
        [
         "Cochera/Estacionamiento",
         "0.06493506493506493",
         "1.3766233766233766",
         "0.0",
         "18.662337662337663",
         "6995.454545454545",
         "1069.075",
         "449.4583333333333"
        ],
        [
         "Cocineta",
         "0.8360881542699724",
         "0.02066115702479339",
         "0.04132231404958678",
         "29.09090909090909",
         "4425.856060606061",
         "1521.7342143906021",
         "280.70146137787054"
        ],
        [
         "Conjunto Comercial/Sala",
         "0.047174793170216514",
         "2.6863228304875904",
         "0.0003520506953001232",
         "236.32371061432846",
         "57675.21454993835",
         "17489.36114200964",
         "5425.980245061265"
        ],
        [
         "Departamento",
         "2.5041994039555675",
         "1.2563668382552153",
         "0.8918992143050664",
         "124.0142915199133",
         "18683.269431456258",
         "6797.092950739261",
         "2634.9210814260964"
        ],
        [
         "Departamento en Hotel",
         "1.4197802197802198",
         "0.9692307692307692",
         "0.7582417582417582",
         "65.84835164835165",
         "16285.430769230768",
         "7250.650602409639",
         "1768.9238845144357"
        ],
        [
         "Edificio Completo",
         "0.4055299539170507",
         "11.175115207373272",
         "0.027649769585253458",
         "1717.2718894009217",
         "409418.0806451613",
         "234304.60869565216",
         "50413.73529411765"
        ],
        [
         "Estudio",
         "0.5",
         "0.25",
         "0.0",
         "103.25",
         "8400.0",
         "1921.5",
         "529.375"
        ],
        [
         "Galpón/Depósito/Almacén",
         "0.06920415224913495",
         "5.311418685121107",
         "0.0",
         "2660.4878892733564",
         "299984.1401384083",
         "48581.166666666664",
         "22260.530898876405"
        ],
        [
         "Hotel",
         "25.5",
         "2.5",
         "12.0",
         "885.5",
         "87500.0",
         null,
         "21707.0"
        ],
        [
         "Industria",
         "0.0",
         "0.0",
         "0.0",
         "22.0",
         "420000.0",
         null,
         null
        ],
        [
         "Loft",
         "1.0789473684210527",
         "0.5526315789473685",
         "0.42105263157894735",
         "56.26315789473684",
         "9924.526315789473",
         "3501.2",
         "887.0806451612904"
        ],
        [
         "Loteo/Condominio",
         "0.0",
         "0.0",
         "0.0",
         "215.0",
         "92166.66666666667",
         null,
         "17097.5"
        ],
        [
         "Posada/Chalé",
         "23.0",
         "0.0",
         "23.0",
         "862.0",
         "5180.0",
         "1032.5",
         null
        ],
        [
         "Rancho",
         "5.125",
         "0.0",
         "3.75",
         "14993.75",
         "38014.375",
         null,
         "4375.0"
        ],
        [
         "Terreno Estándar",
         "0.06666666666666667",
         "0.0",
         "0.0",
         "4012.0444444444443",
         "135364.44444444444",
         null,
         "24988.75"
        ],
        [
         "Tienda en Centro Comercial",
         "0.05583756345177665",
         "8.385786802030458",
         "0.01015228426395939",
         "92.19796954314721",
         "32556.785714285714",
         "6824.166666666667",
         "4127.755882352942"
        ],
        [
         "Tienda/Salón",
         "0.011839708561020037",
         "1.349726775956284",
         "0.0018214936247723133",
         "242.1693989071038",
         "56263.54425182482",
         "10395.491137370753",
         "10532.468926553673"
        ]
       ],
       "shape": {
        "columns": 7,
        "rows": 21
       }
      },
      "text/html": [
       "<div>\n",
       "<style scoped>\n",
       "    .dataframe tbody tr th:only-of-type {\n",
       "        vertical-align: middle;\n",
       "    }\n",
       "\n",
       "    .dataframe tbody tr th {\n",
       "        vertical-align: top;\n",
       "    }\n",
       "\n",
       "    .dataframe thead th {\n",
       "        text-align: right;\n",
       "    }\n",
       "</style>\n",
       "<table border=\"1\" class=\"dataframe\">\n",
       "  <thead>\n",
       "    <tr style=\"text-align: right;\">\n",
       "      <th></th>\n",
       "      <th>Habitaciones</th>\n",
       "      <th>Garages</th>\n",
       "      <th>Suites</th>\n",
       "      <th>Area</th>\n",
       "      <th>Valor</th>\n",
       "      <th>Condominio</th>\n",
       "      <th>Impuesto</th>\n",
       "    </tr>\n",
       "    <tr>\n",
       "      <th>Tipo</th>\n",
       "      <th></th>\n",
       "      <th></th>\n",
       "      <th></th>\n",
       "      <th></th>\n",
       "      <th></th>\n",
       "      <th></th>\n",
       "      <th></th>\n",
       "    </tr>\n",
       "  </thead>\n",
       "  <tbody>\n",
       "    <tr>\n",
       "      <th>Casa</th>\n",
       "      <td>3.359633</td>\n",
       "      <td>1.897248</td>\n",
       "      <td>1.438532</td>\n",
       "      <td>289.943119</td>\n",
       "      <td>31453.177064</td>\n",
       "      <td>3699.421642</td>\n",
       "      <td>6629.404851</td>\n",
       "    </tr>\n",
       "    <tr>\n",
       "      <th>Casa Comercial</th>\n",
       "      <td>1.801980</td>\n",
       "      <td>2.118812</td>\n",
       "      <td>0.257426</td>\n",
       "      <td>370.277228</td>\n",
       "      <td>54735.841584</td>\n",
       "      <td>7622.192308</td>\n",
       "      <td>6166.063380</td>\n",
       "    </tr>\n",
       "    <tr>\n",
       "      <th>Casa de Condominio</th>\n",
       "      <td>4.319672</td>\n",
       "      <td>3.555738</td>\n",
       "      <td>3.247541</td>\n",
       "      <td>566.303279</td>\n",
       "      <td>51428.609836</td>\n",
       "      <td>5286.578804</td>\n",
       "      <td>15046.939394</td>\n",
       "    </tr>\n",
       "    <tr>\n",
       "      <th>Casa de Vecindad</th>\n",
       "      <td>1.974684</td>\n",
       "      <td>0.379747</td>\n",
       "      <td>0.215190</td>\n",
       "      <td>79.981013</td>\n",
       "      <td>5961.740506</td>\n",
       "      <td>413.444444</td>\n",
       "      <td>706.850000</td>\n",
       "    </tr>\n",
       "    <tr>\n",
       "      <th>Cochera/Estacionamiento</th>\n",
       "      <td>0.064935</td>\n",
       "      <td>1.376623</td>\n",
       "      <td>0.000000</td>\n",
       "      <td>18.662338</td>\n",
       "      <td>6995.454545</td>\n",
       "      <td>1069.075000</td>\n",
       "      <td>449.458333</td>\n",
       "    </tr>\n",
       "    <tr>\n",
       "      <th>Cocineta</th>\n",
       "      <td>0.836088</td>\n",
       "      <td>0.020661</td>\n",
       "      <td>0.041322</td>\n",
       "      <td>29.090909</td>\n",
       "      <td>4425.856061</td>\n",
       "      <td>1521.734214</td>\n",
       "      <td>280.701461</td>\n",
       "    </tr>\n",
       "    <tr>\n",
       "      <th>Conjunto Comercial/Sala</th>\n",
       "      <td>0.047175</td>\n",
       "      <td>2.686323</td>\n",
       "      <td>0.000352</td>\n",
       "      <td>236.323711</td>\n",
       "      <td>57675.214550</td>\n",
       "      <td>17489.361142</td>\n",
       "      <td>5425.980245</td>\n",
       "    </tr>\n",
       "    <tr>\n",
       "      <th>Departamento</th>\n",
       "      <td>2.504199</td>\n",
       "      <td>1.256367</td>\n",
       "      <td>0.891899</td>\n",
       "      <td>124.014292</td>\n",
       "      <td>18683.269431</td>\n",
       "      <td>6797.092951</td>\n",
       "      <td>2634.921081</td>\n",
       "    </tr>\n",
       "    <tr>\n",
       "      <th>Departamento en Hotel</th>\n",
       "      <td>1.419780</td>\n",
       "      <td>0.969231</td>\n",
       "      <td>0.758242</td>\n",
       "      <td>65.848352</td>\n",
       "      <td>16285.430769</td>\n",
       "      <td>7250.650602</td>\n",
       "      <td>1768.923885</td>\n",
       "    </tr>\n",
       "    <tr>\n",
       "      <th>Edificio Completo</th>\n",
       "      <td>0.405530</td>\n",
       "      <td>11.175115</td>\n",
       "      <td>0.027650</td>\n",
       "      <td>1717.271889</td>\n",
       "      <td>409418.080645</td>\n",
       "      <td>234304.608696</td>\n",
       "      <td>50413.735294</td>\n",
       "    </tr>\n",
       "    <tr>\n",
       "      <th>Estudio</th>\n",
       "      <td>0.500000</td>\n",
       "      <td>0.250000</td>\n",
       "      <td>0.000000</td>\n",
       "      <td>103.250000</td>\n",
       "      <td>8400.000000</td>\n",
       "      <td>1921.500000</td>\n",
       "      <td>529.375000</td>\n",
       "    </tr>\n",
       "    <tr>\n",
       "      <th>Galpón/Depósito/Almacén</th>\n",
       "      <td>0.069204</td>\n",
       "      <td>5.311419</td>\n",
       "      <td>0.000000</td>\n",
       "      <td>2660.487889</td>\n",
       "      <td>299984.140138</td>\n",
       "      <td>48581.166667</td>\n",
       "      <td>22260.530899</td>\n",
       "    </tr>\n",
       "    <tr>\n",
       "      <th>Hotel</th>\n",
       "      <td>25.500000</td>\n",
       "      <td>2.500000</td>\n",
       "      <td>12.000000</td>\n",
       "      <td>885.500000</td>\n",
       "      <td>87500.000000</td>\n",
       "      <td>NaN</td>\n",
       "      <td>21707.000000</td>\n",
       "    </tr>\n",
       "    <tr>\n",
       "      <th>Industria</th>\n",
       "      <td>0.000000</td>\n",
       "      <td>0.000000</td>\n",
       "      <td>0.000000</td>\n",
       "      <td>22.000000</td>\n",
       "      <td>420000.000000</td>\n",
       "      <td>NaN</td>\n",
       "      <td>NaN</td>\n",
       "    </tr>\n",
       "    <tr>\n",
       "      <th>Loft</th>\n",
       "      <td>1.078947</td>\n",
       "      <td>0.552632</td>\n",
       "      <td>0.421053</td>\n",
       "      <td>56.263158</td>\n",
       "      <td>9924.526316</td>\n",
       "      <td>3501.200000</td>\n",
       "      <td>887.080645</td>\n",
       "    </tr>\n",
       "    <tr>\n",
       "      <th>Loteo/Condominio</th>\n",
       "      <td>0.000000</td>\n",
       "      <td>0.000000</td>\n",
       "      <td>0.000000</td>\n",
       "      <td>215.000000</td>\n",
       "      <td>92166.666667</td>\n",
       "      <td>NaN</td>\n",
       "      <td>17097.500000</td>\n",
       "    </tr>\n",
       "    <tr>\n",
       "      <th>Posada/Chalé</th>\n",
       "      <td>23.000000</td>\n",
       "      <td>0.000000</td>\n",
       "      <td>23.000000</td>\n",
       "      <td>862.000000</td>\n",
       "      <td>5180.000000</td>\n",
       "      <td>1032.500000</td>\n",
       "      <td>NaN</td>\n",
       "    </tr>\n",
       "    <tr>\n",
       "      <th>Rancho</th>\n",
       "      <td>5.125000</td>\n",
       "      <td>0.000000</td>\n",
       "      <td>3.750000</td>\n",
       "      <td>14993.750000</td>\n",
       "      <td>38014.375000</td>\n",
       "      <td>NaN</td>\n",
       "      <td>4375.000000</td>\n",
       "    </tr>\n",
       "    <tr>\n",
       "      <th>Terreno Estándar</th>\n",
       "      <td>0.066667</td>\n",
       "      <td>0.000000</td>\n",
       "      <td>0.000000</td>\n",
       "      <td>4012.044444</td>\n",
       "      <td>135364.444444</td>\n",
       "      <td>NaN</td>\n",
       "      <td>24988.750000</td>\n",
       "    </tr>\n",
       "    <tr>\n",
       "      <th>Tienda en Centro Comercial</th>\n",
       "      <td>0.055838</td>\n",
       "      <td>8.385787</td>\n",
       "      <td>0.010152</td>\n",
       "      <td>92.197970</td>\n",
       "      <td>32556.785714</td>\n",
       "      <td>6824.166667</td>\n",
       "      <td>4127.755882</td>\n",
       "    </tr>\n",
       "    <tr>\n",
       "      <th>Tienda/Salón</th>\n",
       "      <td>0.011840</td>\n",
       "      <td>1.349727</td>\n",
       "      <td>0.001821</td>\n",
       "      <td>242.169399</td>\n",
       "      <td>56263.544252</td>\n",
       "      <td>10395.491137</td>\n",
       "      <td>10532.468927</td>\n",
       "    </tr>\n",
       "  </tbody>\n",
       "</table>\n",
       "</div>"
      ],
      "text/plain": [
       "                            Habitaciones    Garages     Suites          Area  \\\n",
       "Tipo                                                                           \n",
       "Casa                            3.359633   1.897248   1.438532    289.943119   \n",
       "Casa Comercial                  1.801980   2.118812   0.257426    370.277228   \n",
       "Casa de Condominio              4.319672   3.555738   3.247541    566.303279   \n",
       "Casa de Vecindad                1.974684   0.379747   0.215190     79.981013   \n",
       "Cochera/Estacionamiento         0.064935   1.376623   0.000000     18.662338   \n",
       "Cocineta                        0.836088   0.020661   0.041322     29.090909   \n",
       "Conjunto Comercial/Sala         0.047175   2.686323   0.000352    236.323711   \n",
       "Departamento                    2.504199   1.256367   0.891899    124.014292   \n",
       "Departamento en Hotel           1.419780   0.969231   0.758242     65.848352   \n",
       "Edificio Completo               0.405530  11.175115   0.027650   1717.271889   \n",
       "Estudio                         0.500000   0.250000   0.000000    103.250000   \n",
       "Galpón/Depósito/Almacén         0.069204   5.311419   0.000000   2660.487889   \n",
       "Hotel                          25.500000   2.500000  12.000000    885.500000   \n",
       "Industria                       0.000000   0.000000   0.000000     22.000000   \n",
       "Loft                            1.078947   0.552632   0.421053     56.263158   \n",
       "Loteo/Condominio                0.000000   0.000000   0.000000    215.000000   \n",
       "Posada/Chalé                   23.000000   0.000000  23.000000    862.000000   \n",
       "Rancho                          5.125000   0.000000   3.750000  14993.750000   \n",
       "Terreno Estándar                0.066667   0.000000   0.000000   4012.044444   \n",
       "Tienda en Centro Comercial      0.055838   8.385787   0.010152     92.197970   \n",
       "Tienda/Salón                    0.011840   1.349727   0.001821    242.169399   \n",
       "\n",
       "                                    Valor     Condominio      Impuesto  \n",
       "Tipo                                                                    \n",
       "Casa                         31453.177064    3699.421642   6629.404851  \n",
       "Casa Comercial               54735.841584    7622.192308   6166.063380  \n",
       "Casa de Condominio           51428.609836    5286.578804  15046.939394  \n",
       "Casa de Vecindad              5961.740506     413.444444    706.850000  \n",
       "Cochera/Estacionamiento       6995.454545    1069.075000    449.458333  \n",
       "Cocineta                      4425.856061    1521.734214    280.701461  \n",
       "Conjunto Comercial/Sala      57675.214550   17489.361142   5425.980245  \n",
       "Departamento                 18683.269431    6797.092951   2634.921081  \n",
       "Departamento en Hotel        16285.430769    7250.650602   1768.923885  \n",
       "Edificio Completo           409418.080645  234304.608696  50413.735294  \n",
       "Estudio                       8400.000000    1921.500000    529.375000  \n",
       "Galpón/Depósito/Almacén     299984.140138   48581.166667  22260.530899  \n",
       "Hotel                        87500.000000            NaN  21707.000000  \n",
       "Industria                   420000.000000            NaN           NaN  \n",
       "Loft                          9924.526316    3501.200000    887.080645  \n",
       "Loteo/Condominio             92166.666667            NaN  17097.500000  \n",
       "Posada/Chalé                  5180.000000    1032.500000           NaN  \n",
       "Rancho                       38014.375000            NaN   4375.000000  \n",
       "Terreno Estándar            135364.444444            NaN  24988.750000  \n",
       "Tienda en Centro Comercial   32556.785714    6824.166667   4127.755882  \n",
       "Tienda/Salón                 56263.544252   10395.491137  10532.468927  "
      ]
     },
     "execution_count": 86,
     "metadata": {},
     "output_type": "execute_result"
    }
   ],
   "source": [
    "# ¿Cuáles son los valores promedio de alquiler por tipo de propiedad?\n",
    "df.groupby('Tipo').mean(numeric_only=True) # 'False' por defecto\n",
    "# 'numeric_only=True : Arg que fuerza el calculo solo en las columnas de tipo numerico\n",
    "\n",
    "# Muy general, solo veremos la columna de 'VALOR'\n"
   ]
  },
  {
   "cell_type": "code",
   "execution_count": 87,
   "id": "f9f41e3b",
   "metadata": {},
   "outputs": [
    {
     "data": {
      "application/vnd.microsoft.datawrangler.viewer.v0+json": {
       "columns": [
        {
         "name": "Tipo",
         "rawType": "object",
         "type": "string"
        },
        {
         "name": "Valor",
         "rawType": "float64",
         "type": "float"
        }
       ],
       "ref": "1f77d402-c930-4401-a888-950c08041b45",
       "rows": [
        [
         "Casa",
         "31453.177064220185"
        ],
        [
         "Casa Comercial",
         "54735.841584158414"
        ],
        [
         "Casa de Condominio",
         "51428.609836065574"
        ],
        [
         "Casa de Vecindad",
         "5961.7405063291135"
        ],
        [
         "Cochera/Estacionamiento",
         "6995.454545454545"
        ],
        [
         "Cocineta",
         "4425.856060606061"
        ],
        [
         "Conjunto Comercial/Sala",
         "57675.21454993835"
        ],
        [
         "Departamento",
         "18683.269431456258"
        ],
        [
         "Departamento en Hotel",
         "16285.430769230768"
        ],
        [
         "Edificio Completo",
         "409418.0806451613"
        ],
        [
         "Estudio",
         "8400.0"
        ],
        [
         "Galpón/Depósito/Almacén",
         "299984.1401384083"
        ],
        [
         "Hotel",
         "87500.0"
        ],
        [
         "Industria",
         "420000.0"
        ],
        [
         "Loft",
         "9924.526315789473"
        ],
        [
         "Loteo/Condominio",
         "92166.66666666667"
        ],
        [
         "Posada/Chalé",
         "5180.0"
        ],
        [
         "Rancho",
         "38014.375"
        ],
        [
         "Terreno Estándar",
         "135364.44444444444"
        ],
        [
         "Tienda en Centro Comercial",
         "32556.785714285714"
        ],
        [
         "Tienda/Salón",
         "56263.54425182482"
        ]
       ],
       "shape": {
        "columns": 1,
        "rows": 21
       }
      },
      "text/plain": [
       "Tipo\n",
       "Casa                           31453.177064\n",
       "Casa Comercial                 54735.841584\n",
       "Casa de Condominio             51428.609836\n",
       "Casa de Vecindad                5961.740506\n",
       "Cochera/Estacionamiento         6995.454545\n",
       "Cocineta                        4425.856061\n",
       "Conjunto Comercial/Sala        57675.214550\n",
       "Departamento                   18683.269431\n",
       "Departamento en Hotel          16285.430769\n",
       "Edificio Completo             409418.080645\n",
       "Estudio                         8400.000000\n",
       "Galpón/Depósito/Almacén       299984.140138\n",
       "Hotel                          87500.000000\n",
       "Industria                     420000.000000\n",
       "Loft                            9924.526316\n",
       "Loteo/Condominio               92166.666667\n",
       "Posada/Chalé                    5180.000000\n",
       "Rancho                         38014.375000\n",
       "Terreno Estándar              135364.444444\n",
       "Tienda en Centro Comercial     32556.785714\n",
       "Tienda/Salón                   56263.544252\n",
       "Name: Valor, dtype: float64"
      ]
     },
     "execution_count": 87,
     "metadata": {},
     "output_type": "execute_result"
    }
   ],
   "source": [
    "df.groupby('Tipo')['Valor'].mean() \n",
    "# Retiramos el valor 'True' porque estamos seleccionando una columna de números (Seria redundante)\n",
    "# Esta operacion devuelve una serie con la Columna 'Valor' y su Índice 'Tipo'"
   ]
  },
  {
   "cell_type": "code",
   "execution_count": 88,
   "id": "83cd32a4",
   "metadata": {},
   "outputs": [
    {
     "data": {
      "text/plain": [
       "pandas.core.series.Series"
      ]
     },
     "execution_count": 88,
     "metadata": {},
     "output_type": "execute_result"
    }
   ],
   "source": [
    "# Verificamos el tipo de dato\n",
    "type(df.groupby('Tipo')['Valor'].mean() )"
   ]
  },
  {
   "cell_type": "code",
   "execution_count": 89,
   "id": "576646d9",
   "metadata": {},
   "outputs": [
    {
     "data": {
      "application/vnd.microsoft.datawrangler.viewer.v0+json": {
       "columns": [
        {
         "name": "Tipo",
         "rawType": "object",
         "type": "string"
        },
        {
         "name": "Valor",
         "rawType": "float64",
         "type": "float"
        }
       ],
       "ref": "7294f2c6-f7f5-4e59-abf8-20e31348861e",
       "rows": [
        [
         "Cocineta",
         "4425.856060606061"
        ],
        [
         "Posada/Chalé",
         "5180.0"
        ],
        [
         "Casa de Vecindad",
         "5961.7405063291135"
        ],
        [
         "Cochera/Estacionamiento",
         "6995.454545454545"
        ],
        [
         "Estudio",
         "8400.0"
        ],
        [
         "Loft",
         "9924.526315789473"
        ],
        [
         "Departamento en Hotel",
         "16285.430769230768"
        ],
        [
         "Departamento",
         "18683.269431456258"
        ],
        [
         "Casa",
         "31453.177064220185"
        ],
        [
         "Tienda en Centro Comercial",
         "32556.785714285714"
        ],
        [
         "Rancho",
         "38014.375"
        ],
        [
         "Casa de Condominio",
         "51428.609836065574"
        ],
        [
         "Casa Comercial",
         "54735.841584158414"
        ],
        [
         "Tienda/Salón",
         "56263.54425182482"
        ],
        [
         "Conjunto Comercial/Sala",
         "57675.21454993835"
        ],
        [
         "Hotel",
         "87500.0"
        ],
        [
         "Loteo/Condominio",
         "92166.66666666667"
        ],
        [
         "Terreno Estándar",
         "135364.44444444444"
        ],
        [
         "Galpón/Depósito/Almacén",
         "299984.1401384083"
        ],
        [
         "Edificio Completo",
         "409418.0806451613"
        ],
        [
         "Industria",
         "420000.0"
        ]
       ],
       "shape": {
        "columns": 1,
        "rows": 21
       }
      },
      "text/html": [
       "<div>\n",
       "<style scoped>\n",
       "    .dataframe tbody tr th:only-of-type {\n",
       "        vertical-align: middle;\n",
       "    }\n",
       "\n",
       "    .dataframe tbody tr th {\n",
       "        vertical-align: top;\n",
       "    }\n",
       "\n",
       "    .dataframe thead th {\n",
       "        text-align: right;\n",
       "    }\n",
       "</style>\n",
       "<table border=\"1\" class=\"dataframe\">\n",
       "  <thead>\n",
       "    <tr style=\"text-align: right;\">\n",
       "      <th></th>\n",
       "      <th>Valor</th>\n",
       "    </tr>\n",
       "    <tr>\n",
       "      <th>Tipo</th>\n",
       "      <th></th>\n",
       "    </tr>\n",
       "  </thead>\n",
       "  <tbody>\n",
       "    <tr>\n",
       "      <th>Cocineta</th>\n",
       "      <td>4425.856061</td>\n",
       "    </tr>\n",
       "    <tr>\n",
       "      <th>Posada/Chalé</th>\n",
       "      <td>5180.000000</td>\n",
       "    </tr>\n",
       "    <tr>\n",
       "      <th>Casa de Vecindad</th>\n",
       "      <td>5961.740506</td>\n",
       "    </tr>\n",
       "    <tr>\n",
       "      <th>Cochera/Estacionamiento</th>\n",
       "      <td>6995.454545</td>\n",
       "    </tr>\n",
       "    <tr>\n",
       "      <th>Estudio</th>\n",
       "      <td>8400.000000</td>\n",
       "    </tr>\n",
       "    <tr>\n",
       "      <th>Loft</th>\n",
       "      <td>9924.526316</td>\n",
       "    </tr>\n",
       "    <tr>\n",
       "      <th>Departamento en Hotel</th>\n",
       "      <td>16285.430769</td>\n",
       "    </tr>\n",
       "    <tr>\n",
       "      <th>Departamento</th>\n",
       "      <td>18683.269431</td>\n",
       "    </tr>\n",
       "    <tr>\n",
       "      <th>Casa</th>\n",
       "      <td>31453.177064</td>\n",
       "    </tr>\n",
       "    <tr>\n",
       "      <th>Tienda en Centro Comercial</th>\n",
       "      <td>32556.785714</td>\n",
       "    </tr>\n",
       "    <tr>\n",
       "      <th>Rancho</th>\n",
       "      <td>38014.375000</td>\n",
       "    </tr>\n",
       "    <tr>\n",
       "      <th>Casa de Condominio</th>\n",
       "      <td>51428.609836</td>\n",
       "    </tr>\n",
       "    <tr>\n",
       "      <th>Casa Comercial</th>\n",
       "      <td>54735.841584</td>\n",
       "    </tr>\n",
       "    <tr>\n",
       "      <th>Tienda/Salón</th>\n",
       "      <td>56263.544252</td>\n",
       "    </tr>\n",
       "    <tr>\n",
       "      <th>Conjunto Comercial/Sala</th>\n",
       "      <td>57675.214550</td>\n",
       "    </tr>\n",
       "    <tr>\n",
       "      <th>Hotel</th>\n",
       "      <td>87500.000000</td>\n",
       "    </tr>\n",
       "    <tr>\n",
       "      <th>Loteo/Condominio</th>\n",
       "      <td>92166.666667</td>\n",
       "    </tr>\n",
       "    <tr>\n",
       "      <th>Terreno Estándar</th>\n",
       "      <td>135364.444444</td>\n",
       "    </tr>\n",
       "    <tr>\n",
       "      <th>Galpón/Depósito/Almacén</th>\n",
       "      <td>299984.140138</td>\n",
       "    </tr>\n",
       "    <tr>\n",
       "      <th>Edificio Completo</th>\n",
       "      <td>409418.080645</td>\n",
       "    </tr>\n",
       "    <tr>\n",
       "      <th>Industria</th>\n",
       "      <td>420000.000000</td>\n",
       "    </tr>\n",
       "  </tbody>\n",
       "</table>\n",
       "</div>"
      ],
      "text/plain": [
       "                                    Valor\n",
       "Tipo                                     \n",
       "Cocineta                      4425.856061\n",
       "Posada/Chalé                  5180.000000\n",
       "Casa de Vecindad              5961.740506\n",
       "Cochera/Estacionamiento       6995.454545\n",
       "Estudio                       8400.000000\n",
       "Loft                          9924.526316\n",
       "Departamento en Hotel        16285.430769\n",
       "Departamento                 18683.269431\n",
       "Casa                         31453.177064\n",
       "Tienda en Centro Comercial   32556.785714\n",
       "Rancho                       38014.375000\n",
       "Casa de Condominio           51428.609836\n",
       "Casa Comercial               54735.841584\n",
       "Tienda/Salón                 56263.544252\n",
       "Conjunto Comercial/Sala      57675.214550\n",
       "Hotel                        87500.000000\n",
       "Loteo/Condominio             92166.666667\n",
       "Terreno Estándar            135364.444444\n",
       "Galpón/Depósito/Almacén     299984.140138\n",
       "Edificio Completo           409418.080645\n",
       "Industria                   420000.000000"
      ]
     },
     "execution_count": 89,
     "metadata": {},
     "output_type": "execute_result"
    }
   ],
   "source": [
    "# Esta operacion SI devuelve un dataframe y organizarlos en orden ascendente\n",
    "df.groupby('Tipo')[['Valor']].mean().sort_values('Valor') "
   ]
  },
  {
   "cell_type": "code",
   "execution_count": 90,
   "id": "e6f20080",
   "metadata": {},
   "outputs": [
    {
     "data": {
      "text/plain": [
       "pandas.core.frame.DataFrame"
      ]
     },
     "execution_count": 90,
     "metadata": {},
     "output_type": "execute_result"
    }
   ],
   "source": [
    "# Verificamos el tipo de dato\n",
    "type(df.groupby('Tipo')[['Valor']].mean() )"
   ]
  },
  {
   "cell_type": "code",
   "execution_count": 91,
   "id": "d3cb7e10",
   "metadata": {},
   "outputs": [
    {
     "data": {
      "text/plain": [
       "<Axes: ylabel='Tipo'>"
      ]
     },
     "execution_count": 91,
     "metadata": {},
     "output_type": "execute_result"
    },
    {
     "data": {
      "image/png": "[encoded data removed]",
      "text/plain": [
       "<Figure size 1200x800 with 1 Axes>"
      ]
     },
     "metadata": {},
     "output_type": "display_data"
    }
   ],
   "source": [
    "# Asignamos variable que devuelva un DataFrame con solo dos columnas \n",
    "# → df[['Tipo', 'Valor']]\n",
    "df_tipo_valor = df.groupby('Tipo')[['Valor']].mean().sort_values('Valor') \n",
    "\n",
    "# Grafico del DataFrame\n",
    "df_tipo_valor.plot(kind='barh', figsize=(12,8), color= 'purple')"
   ]
  },
  {
   "cell_type": "code",
   "execution_count": 92,
   "id": "d7f5017c",
   "metadata": {},
   "outputs": [
    {
     "data": {
      "text/plain": [
       "array(['Cocineta', 'Casa', 'Conjunto Comercial/Sala', 'Departamento',\n",
       "       'Casa de Condominio', 'Edificio Completo', 'Departamento en Hotel',\n",
       "       'Tienda/Salón', 'Casa Comercial', 'Casa de Vecindad',\n",
       "       'Terreno Estándar', 'Cochera/Estacionamiento', 'Loft',\n",
       "       'Galpón/Depósito/Almacén', 'Tienda en Centro Comercial', 'Rancho',\n",
       "       'Posada/Chalé', 'Estudio', 'Hotel', 'Loteo/Condominio',\n",
       "       'Industria'], dtype=object)"
      ]
     },
     "execution_count": 92,
     "metadata": {},
     "output_type": "execute_result"
    }
   ],
   "source": [
    "# Verificamos las diferentes tipos de inmuebles en la serie 'Tipo'\n",
    "# solo debemos verificar los inmuebles residenciales.\n",
    "df['Tipo'].unique() # df.Tipo.unique() → es similar"
   ]
  },
  {
   "cell_type": "code",
   "execution_count": 93,
   "id": "80dd88fb",
   "metadata": {},
   "outputs": [
    {
     "data": {
      "application/vnd.microsoft.datawrangler.viewer.v0+json": {
       "columns": [
        {
         "name": "index",
         "rawType": "int64",
         "type": "integer"
        },
        {
         "name": "Tipo",
         "rawType": "object",
         "type": "string"
        },
        {
         "name": "Colonia",
         "rawType": "object",
         "type": "string"
        },
        {
         "name": "Habitaciones",
         "rawType": "int64",
         "type": "integer"
        },
        {
         "name": "Garages",
         "rawType": "int64",
         "type": "integer"
        },
        {
         "name": "Suites",
         "rawType": "int64",
         "type": "integer"
        },
        {
         "name": "Area",
         "rawType": "int64",
         "type": "integer"
        },
        {
         "name": "Valor",
         "rawType": "float64",
         "type": "float"
        },
        {
         "name": "Condominio",
         "rawType": "float64",
         "type": "float"
        },
        {
         "name": "Impuesto",
         "rawType": "float64",
         "type": "float"
        }
       ],
       "ref": "bb7ad7e0-dcc9-411b-997e-557606b5719d",
       "rows": [
        [
         "0",
         "Cocineta",
         "Condesa",
         "1",
         "0",
         "0",
         "40",
         "5950.0",
         "1750.0",
         "210.0"
        ],
        [
         "1",
         "Casa",
         "Polanco",
         "2",
         "0",
         "1",
         "100",
         "24500.0",
         null,
         null
        ],
        [
         "3",
         "Departamento",
         "Centro Histórico",
         "1",
         "0",
         "0",
         "15",
         "2800.0",
         "1365.0",
         "70.0"
        ],
        [
         "4",
         "Departamento",
         "Del Valle",
         "1",
         "0",
         "0",
         "48",
         "2800.0",
         "805.0",
         null
        ],
        [
         "5",
         "Casa de Condominio",
         "Santa Fe",
         "5",
         "4",
         "5",
         "750",
         "77000.0",
         null,
         null
        ],
        [
         "7",
         "Departamento",
         "Centro Histórico",
         "1",
         "0",
         "0",
         "36",
         "4200.0",
         null,
         null
        ],
        [
         "8",
         "Departamento",
         "Condesa",
         "1",
         "0",
         "1",
         "40",
         "7000.0",
         "1963.5",
         "175.0"
        ],
        [
         "9",
         "Cocineta",
         "Condesa",
         "1",
         "0",
         "0",
         "27",
         "6300.0",
         "1753.5",
         null
        ],
        [
         "10",
         "Departamento",
         "Condesa",
         "4",
         "3",
         "1",
         "243",
         "45500.0",
         "7000.0",
         "2810.5"
        ],
        [
         "12",
         "Departamento en Hotel",
         "Roma",
         "3",
         "1",
         "1",
         "80",
         "13300.0",
         "3640.0",
         null
        ],
        [
         "13",
         "Departamento",
         "Santa Fe",
         "2",
         "1",
         "1",
         "67",
         "5950.0",
         "2061.5",
         "514.5"
        ],
        [
         "14",
         "Departamento",
         "Narvarte",
         "2",
         "1",
         "0",
         "110",
         "6650.0",
         "2450.0",
         "483.0"
        ],
        [
         "15",
         "Casa de Condominio",
         "Santa Fe",
         "4",
         "3",
         "2",
         "466",
         "26250.0",
         "9432.5",
         null
        ],
        [
         "16",
         "Departamento",
         "Narvarte",
         "2",
         "1",
         "0",
         "78",
         "7000.0",
         "2450.0",
         null
        ],
        [
         "17",
         "Departamento en Hotel",
         "Lomas de Chapultepec",
         "1",
         "0",
         "0",
         "56",
         "15750.0",
         "6650.0",
         "5250.0"
        ],
        [
         "18",
         "Departamento",
         "Coyoacán",
         "3",
         "1",
         "1",
         "125",
         "24500.0",
         "7350.0",
         "1620.5"
        ],
        [
         "19",
         "Departamento",
         "Narvarte",
         "1",
         "0",
         "0",
         "48",
         "2625.0",
         "2702.0",
         "87.5"
        ],
        [
         "20",
         "Departamento",
         "Santa Fe",
         "3",
         "3",
         "1",
         "175",
         "14700.0",
         "5250.0",
         "1750.0"
        ],
        [
         "21",
         "Departamento",
         "Roma",
         "2",
         "1",
         "0",
         "76",
         "8750.0",
         "2590.0",
         null
        ],
        [
         "22",
         "Departamento",
         "Condesa",
         "3",
         "1",
         "2",
         "378",
         "35000.0",
         "7525.0",
         "2450.0"
        ],
        [
         "23",
         "Departamento",
         "Condesa",
         "3",
         "0",
         "0",
         "180",
         "19250.0",
         "6230.0",
         "1470.0"
        ],
        [
         "25",
         "Departamento",
         "Lomas de Chapultepec",
         "3",
         "1",
         "0",
         "110",
         "13650.0",
         "5250.0",
         "420.0"
        ],
        [
         "27",
         "Cocineta",
         "Condesa",
         "1",
         "0",
         "0",
         "27",
         "4550.0",
         "1330.0",
         "185.5"
        ],
        [
         "28",
         "Departamento",
         "Santa Fe",
         "3",
         "1",
         "2",
         "70",
         "6300.0",
         "3832.5",
         "490.0"
        ],
        [
         "29",
         "Departamento",
         "Condesa",
         "4",
         "1",
         "0",
         "244",
         "17500.0",
         "8750.0",
         "14350.0"
        ],
        [
         "30",
         "Departamento",
         "Santa Fe",
         "3",
         "2",
         "1",
         "110",
         "15750.0",
         "7000.0",
         "1575.0"
        ],
        [
         "33",
         "Departamento",
         "Santa Fe",
         "3",
         "1",
         "1",
         "72",
         "8225.0",
         "2100.0",
         "245.0"
        ],
        [
         "34",
         "Departamento",
         "San Pedro de los Pinos",
         "2",
         "2",
         "1",
         "180",
         "14000.0",
         "8750.0",
         "1050.0"
        ],
        [
         "37",
         "Departamento",
         "Centro Histórico",
         "1",
         "0",
         "0",
         "27",
         "2625.0",
         "1298.5",
         "66.5"
        ],
        [
         "38",
         "Departamento",
         "Coyoacán",
         "1",
         "0",
         "0",
         "35",
         "7000.0",
         "2275.0",
         "262.5"
        ],
        [
         "39",
         "Departamento",
         "Coyoacán",
         "1",
         "0",
         "0",
         "38",
         "4900.0",
         "1855.0",
         "269.5"
        ],
        [
         "41",
         "Casa de Condominio",
         "Santa Fe",
         "5",
         "10",
         "5",
         "1600",
         "87500.0",
         "5600.0",
         null
        ],
        [
         "42",
         "Departamento",
         "Santa Fe",
         "4",
         "3",
         "3",
         "153",
         "22750.0",
         "8050.0",
         "1519.0"
        ],
        [
         "43",
         "Departamento",
         "Coyoacán",
         "3",
         "1",
         "0",
         "87",
         "11200.0",
         "4567.5",
         "759.5"
        ],
        [
         "44",
         "Departamento",
         "Roma",
         "3",
         "1",
         "1",
         "108",
         "20825.0",
         "4917.5",
         "1011.5"
        ],
        [
         "45",
         "Departamento",
         "Coyoacán",
         "3",
         "2",
         "1",
         "150",
         "28000.0",
         "8400.0",
         null
        ],
        [
         "47",
         "Departamento",
         "Coyoacán",
         "3",
         "1",
         "1",
         "140",
         "27650.0",
         "10150.0",
         "1750.0"
        ],
        [
         "48",
         "Departamento",
         "Polanco",
         "2",
         "2",
         "0",
         "95",
         "14000.0",
         "4095.0",
         null
        ],
        [
         "49",
         "Departamento",
         "Santa Fe",
         "2",
         "1",
         "1",
         "70",
         null,
         "3395.0",
         "238.0"
        ],
        [
         "56",
         "Departamento",
         "Lomas de Chapultepec",
         "2",
         "1",
         "1",
         "80",
         "12250.0",
         "3465.0",
         "857.5"
        ],
        [
         "57",
         "Departamento",
         "Santa Fe",
         "4",
         "4",
         "4",
         "240",
         "44450.0",
         "15400.0",
         "5040.0"
        ],
        [
         "58",
         "Departamento",
         "Santa Fe",
         "3",
         "2",
         "1",
         "104",
         "9100.0",
         "4774.0",
         "1421.0"
        ],
        [
         "59",
         "Departamento",
         "San Ángel",
         "2",
         "1",
         "0",
         "70",
         "9800.0",
         "2380.0",
         "343.0"
        ],
        [
         "60",
         "Departamento",
         "Santa Fe",
         "2",
         "1",
         "1",
         "88",
         "9450.0",
         "4550.0",
         "7147.0"
        ],
        [
         "61",
         "Departamento",
         "Centro Histórico",
         "1",
         "1",
         "0",
         "37",
         "3850.0",
         "1890.0",
         "3150.0"
        ],
        [
         "62",
         "Departamento",
         "San Jerónimo",
         "3",
         "4",
         "0",
         "130",
         "19250.0",
         "4924.5",
         "861.0"
        ],
        [
         "63",
         "Departamento",
         "Santa Fe",
         "3",
         "2",
         "2",
         "85",
         "8750.0",
         "4900.0",
         "665.0"
        ],
        [
         "64",
         "Departamento",
         "Del Valle",
         "2",
         "1",
         "0",
         "54",
         "8050.0",
         "2037.0",
         null
        ],
        [
         "65",
         "Cocineta",
         "Centro Histórico",
         "0",
         "0",
         "0",
         "30",
         "2800.0",
         "1767.5",
         null
        ],
        [
         "66",
         "Departamento",
         "Coyoacán",
         "3",
         "1",
         "1",
         "120",
         "24500.0",
         "6300.0",
         "1295.0"
        ]
       ],
       "shape": {
        "columns": 9,
        "rows": 17309
       }
      },
      "text/html": [
       "<div>\n",
       "<style scoped>\n",
       "    .dataframe tbody tr th:only-of-type {\n",
       "        vertical-align: middle;\n",
       "    }\n",
       "\n",
       "    .dataframe tbody tr th {\n",
       "        vertical-align: top;\n",
       "    }\n",
       "\n",
       "    .dataframe thead th {\n",
       "        text-align: right;\n",
       "    }\n",
       "</style>\n",
       "<table border=\"1\" class=\"dataframe\">\n",
       "  <thead>\n",
       "    <tr style=\"text-align: right;\">\n",
       "      <th></th>\n",
       "      <th>Tipo</th>\n",
       "      <th>Colonia</th>\n",
       "      <th>Habitaciones</th>\n",
       "      <th>Garages</th>\n",
       "      <th>Suites</th>\n",
       "      <th>Area</th>\n",
       "      <th>Valor</th>\n",
       "      <th>Condominio</th>\n",
       "      <th>Impuesto</th>\n",
       "    </tr>\n",
       "  </thead>\n",
       "  <tbody>\n",
       "    <tr>\n",
       "      <th>0</th>\n",
       "      <td>Cocineta</td>\n",
       "      <td>Condesa</td>\n",
       "      <td>1</td>\n",
       "      <td>0</td>\n",
       "      <td>0</td>\n",
       "      <td>40</td>\n",
       "      <td>5950.0</td>\n",
       "      <td>1750.0</td>\n",
       "      <td>210.0</td>\n",
       "    </tr>\n",
       "    <tr>\n",
       "      <th>1</th>\n",
       "      <td>Casa</td>\n",
       "      <td>Polanco</td>\n",
       "      <td>2</td>\n",
       "      <td>0</td>\n",
       "      <td>1</td>\n",
       "      <td>100</td>\n",
       "      <td>24500.0</td>\n",
       "      <td>NaN</td>\n",
       "      <td>NaN</td>\n",
       "    </tr>\n",
       "    <tr>\n",
       "      <th>3</th>\n",
       "      <td>Departamento</td>\n",
       "      <td>Centro Histórico</td>\n",
       "      <td>1</td>\n",
       "      <td>0</td>\n",
       "      <td>0</td>\n",
       "      <td>15</td>\n",
       "      <td>2800.0</td>\n",
       "      <td>1365.0</td>\n",
       "      <td>70.0</td>\n",
       "    </tr>\n",
       "    <tr>\n",
       "      <th>4</th>\n",
       "      <td>Departamento</td>\n",
       "      <td>Del Valle</td>\n",
       "      <td>1</td>\n",
       "      <td>0</td>\n",
       "      <td>0</td>\n",
       "      <td>48</td>\n",
       "      <td>2800.0</td>\n",
       "      <td>805.0</td>\n",
       "      <td>NaN</td>\n",
       "    </tr>\n",
       "    <tr>\n",
       "      <th>5</th>\n",
       "      <td>Casa de Condominio</td>\n",
       "      <td>Santa Fe</td>\n",
       "      <td>5</td>\n",
       "      <td>4</td>\n",
       "      <td>5</td>\n",
       "      <td>750</td>\n",
       "      <td>77000.0</td>\n",
       "      <td>NaN</td>\n",
       "      <td>NaN</td>\n",
       "    </tr>\n",
       "    <tr>\n",
       "      <th>...</th>\n",
       "      <td>...</td>\n",
       "      <td>...</td>\n",
       "      <td>...</td>\n",
       "      <td>...</td>\n",
       "      <td>...</td>\n",
       "      <td>...</td>\n",
       "      <td>...</td>\n",
       "      <td>...</td>\n",
       "      <td>...</td>\n",
       "    </tr>\n",
       "    <tr>\n",
       "      <th>25114</th>\n",
       "      <td>Departamento</td>\n",
       "      <td>Narvarte</td>\n",
       "      <td>1</td>\n",
       "      <td>0</td>\n",
       "      <td>0</td>\n",
       "      <td>28</td>\n",
       "      <td>3500.0</td>\n",
       "      <td>1260.0</td>\n",
       "      <td>87.5</td>\n",
       "    </tr>\n",
       "    <tr>\n",
       "      <th>25115</th>\n",
       "      <td>Casa de Condominio</td>\n",
       "      <td>Santa Fe</td>\n",
       "      <td>5</td>\n",
       "      <td>3</td>\n",
       "      <td>4</td>\n",
       "      <td>450</td>\n",
       "      <td>52500.0</td>\n",
       "      <td>5988.5</td>\n",
       "      <td>8162.0</td>\n",
       "    </tr>\n",
       "    <tr>\n",
       "      <th>25117</th>\n",
       "      <td>Cocineta</td>\n",
       "      <td>Centro Histórico</td>\n",
       "      <td>0</td>\n",
       "      <td>0</td>\n",
       "      <td>0</td>\n",
       "      <td>27</td>\n",
       "      <td>2800.0</td>\n",
       "      <td>1225.0</td>\n",
       "      <td>87.5</td>\n",
       "    </tr>\n",
       "    <tr>\n",
       "      <th>25118</th>\n",
       "      <td>Departamento</td>\n",
       "      <td>Mixcoac</td>\n",
       "      <td>2</td>\n",
       "      <td>1</td>\n",
       "      <td>0</td>\n",
       "      <td>48</td>\n",
       "      <td>4900.0</td>\n",
       "      <td>1781.5</td>\n",
       "      <td>129.5</td>\n",
       "    </tr>\n",
       "    <tr>\n",
       "      <th>25119</th>\n",
       "      <td>Departamento</td>\n",
       "      <td>Lomas de Chapultepec</td>\n",
       "      <td>2</td>\n",
       "      <td>0</td>\n",
       "      <td>0</td>\n",
       "      <td>70</td>\n",
       "      <td>10500.0</td>\n",
       "      <td>2660.0</td>\n",
       "      <td>NaN</td>\n",
       "    </tr>\n",
       "  </tbody>\n",
       "</table>\n",
       "<p>17309 rows × 9 columns</p>\n",
       "</div>"
      ],
      "text/plain": [
       "                     Tipo               Colonia  Habitaciones  Garages  \\\n",
       "0                Cocineta               Condesa             1        0   \n",
       "1                    Casa               Polanco             2        0   \n",
       "3            Departamento      Centro Histórico             1        0   \n",
       "4            Departamento             Del Valle             1        0   \n",
       "5      Casa de Condominio              Santa Fe             5        4   \n",
       "...                   ...                   ...           ...      ...   \n",
       "25114        Departamento              Narvarte             1        0   \n",
       "25115  Casa de Condominio              Santa Fe             5        3   \n",
       "25117            Cocineta      Centro Histórico             0        0   \n",
       "25118        Departamento               Mixcoac             2        1   \n",
       "25119        Departamento  Lomas de Chapultepec             2        0   \n",
       "\n",
       "       Suites  Area    Valor  Condominio  Impuesto  \n",
       "0           0    40   5950.0      1750.0     210.0  \n",
       "1           1   100  24500.0         NaN       NaN  \n",
       "3           0    15   2800.0      1365.0      70.0  \n",
       "4           0    48   2800.0       805.0       NaN  \n",
       "5           5   750  77000.0         NaN       NaN  \n",
       "...       ...   ...      ...         ...       ...  \n",
       "25114       0    28   3500.0      1260.0      87.5  \n",
       "25115       4   450  52500.0      5988.5    8162.0  \n",
       "25117       0    27   2800.0      1225.0      87.5  \n",
       "25118       0    48   4900.0      1781.5     129.5  \n",
       "25119       0    70  10500.0      2660.0       NaN  \n",
       "\n",
       "[17309 rows x 9 columns]"
      ]
     },
     "execution_count": 93,
     "metadata": {},
     "output_type": "execute_result"
    }
   ],
   "source": [
    "# Asignación de variable para inmuebles comerciales\n",
    "inmuebles_comerciales = [\n",
    "    'Conjunto Comercial/Sala', 'Edificio Completo', 'Tienda/Salón',\n",
    "    'Casa Comercial', 'Terreno Estándar', 'Cochera/Estacionamiento',\n",
    "    'Galpón/Depósito/Almacén','Tienda en Centro Comercial', 'Hotel',\n",
    "    'Loteo/Condominio', 'Industria'\n",
    "]\n",
    "\n",
    "# Filtramos el dataFrame para tener un dataframe nuevo donde no incluya ('not in') las \n",
    "# filas que contengan las entradas que son identicas a las almacenadas en \n",
    "# la variable externa 'inmuebles_comerciales' (por ello anteponemos un arroba @)\n",
    "df.query('@inmuebles_comerciales not in Tipo')"
   ]
  },
  {
   "cell_type": "code",
   "execution_count": 94,
   "id": "eeef702c",
   "metadata": {},
   "outputs": [
    {
     "data": {
      "application/vnd.microsoft.datawrangler.viewer.v0+json": {
       "columns": [
        {
         "name": "index",
         "rawType": "int64",
         "type": "integer"
        },
        {
         "name": "Tipo",
         "rawType": "object",
         "type": "string"
        },
        {
         "name": "Colonia",
         "rawType": "object",
         "type": "string"
        },
        {
         "name": "Habitaciones",
         "rawType": "int64",
         "type": "integer"
        },
        {
         "name": "Garages",
         "rawType": "int64",
         "type": "integer"
        },
        {
         "name": "Suites",
         "rawType": "int64",
         "type": "integer"
        },
        {
         "name": "Area",
         "rawType": "int64",
         "type": "integer"
        },
        {
         "name": "Valor",
         "rawType": "float64",
         "type": "float"
        },
        {
         "name": "Condominio",
         "rawType": "float64",
         "type": "float"
        },
        {
         "name": "Impuesto",
         "rawType": "float64",
         "type": "float"
        }
       ],
       "ref": "69054363-7e3f-43f3-84df-76be48706085",
       "rows": [
        [
         "0",
         "Cocineta",
         "Condesa",
         "1",
         "0",
         "0",
         "40",
         "5950.0",
         "1750.0",
         "210.0"
        ],
        [
         "1",
         "Casa",
         "Polanco",
         "2",
         "0",
         "1",
         "100",
         "24500.0",
         null,
         null
        ],
        [
         "3",
         "Departamento",
         "Centro Histórico",
         "1",
         "0",
         "0",
         "15",
         "2800.0",
         "1365.0",
         "70.0"
        ],
        [
         "4",
         "Departamento",
         "Del Valle",
         "1",
         "0",
         "0",
         "48",
         "2800.0",
         "805.0",
         null
        ],
        [
         "5",
         "Casa de Condominio",
         "Santa Fe",
         "5",
         "4",
         "5",
         "750",
         "77000.0",
         null,
         null
        ]
       ],
       "shape": {
        "columns": 9,
        "rows": 5
       }
      },
      "text/html": [
       "<div>\n",
       "<style scoped>\n",
       "    .dataframe tbody tr th:only-of-type {\n",
       "        vertical-align: middle;\n",
       "    }\n",
       "\n",
       "    .dataframe tbody tr th {\n",
       "        vertical-align: top;\n",
       "    }\n",
       "\n",
       "    .dataframe thead th {\n",
       "        text-align: right;\n",
       "    }\n",
       "</style>\n",
       "<table border=\"1\" class=\"dataframe\">\n",
       "  <thead>\n",
       "    <tr style=\"text-align: right;\">\n",
       "      <th></th>\n",
       "      <th>Tipo</th>\n",
       "      <th>Colonia</th>\n",
       "      <th>Habitaciones</th>\n",
       "      <th>Garages</th>\n",
       "      <th>Suites</th>\n",
       "      <th>Area</th>\n",
       "      <th>Valor</th>\n",
       "      <th>Condominio</th>\n",
       "      <th>Impuesto</th>\n",
       "    </tr>\n",
       "  </thead>\n",
       "  <tbody>\n",
       "    <tr>\n",
       "      <th>0</th>\n",
       "      <td>Cocineta</td>\n",
       "      <td>Condesa</td>\n",
       "      <td>1</td>\n",
       "      <td>0</td>\n",
       "      <td>0</td>\n",
       "      <td>40</td>\n",
       "      <td>5950.0</td>\n",
       "      <td>1750.0</td>\n",
       "      <td>210.0</td>\n",
       "    </tr>\n",
       "    <tr>\n",
       "      <th>1</th>\n",
       "      <td>Casa</td>\n",
       "      <td>Polanco</td>\n",
       "      <td>2</td>\n",
       "      <td>0</td>\n",
       "      <td>1</td>\n",
       "      <td>100</td>\n",
       "      <td>24500.0</td>\n",
       "      <td>NaN</td>\n",
       "      <td>NaN</td>\n",
       "    </tr>\n",
       "    <tr>\n",
       "      <th>3</th>\n",
       "      <td>Departamento</td>\n",
       "      <td>Centro Histórico</td>\n",
       "      <td>1</td>\n",
       "      <td>0</td>\n",
       "      <td>0</td>\n",
       "      <td>15</td>\n",
       "      <td>2800.0</td>\n",
       "      <td>1365.0</td>\n",
       "      <td>70.0</td>\n",
       "    </tr>\n",
       "    <tr>\n",
       "      <th>4</th>\n",
       "      <td>Departamento</td>\n",
       "      <td>Del Valle</td>\n",
       "      <td>1</td>\n",
       "      <td>0</td>\n",
       "      <td>0</td>\n",
       "      <td>48</td>\n",
       "      <td>2800.0</td>\n",
       "      <td>805.0</td>\n",
       "      <td>NaN</td>\n",
       "    </tr>\n",
       "    <tr>\n",
       "      <th>5</th>\n",
       "      <td>Casa de Condominio</td>\n",
       "      <td>Santa Fe</td>\n",
       "      <td>5</td>\n",
       "      <td>4</td>\n",
       "      <td>5</td>\n",
       "      <td>750</td>\n",
       "      <td>77000.0</td>\n",
       "      <td>NaN</td>\n",
       "      <td>NaN</td>\n",
       "    </tr>\n",
       "  </tbody>\n",
       "</table>\n",
       "</div>"
      ],
      "text/plain": [
       "                 Tipo           Colonia  Habitaciones  Garages  Suites  Area  \\\n",
       "0            Cocineta           Condesa             1        0       0    40   \n",
       "1                Casa           Polanco             2        0       1   100   \n",
       "3        Departamento  Centro Histórico             1        0       0    15   \n",
       "4        Departamento         Del Valle             1        0       0    48   \n",
       "5  Casa de Condominio          Santa Fe             5        4       5   750   \n",
       "\n",
       "     Valor  Condominio  Impuesto  \n",
       "0   5950.0      1750.0     210.0  \n",
       "1  24500.0         NaN       NaN  \n",
       "3   2800.0      1365.0      70.0  \n",
       "4   2800.0       805.0       NaN  \n",
       "5  77000.0         NaN       NaN  "
      ]
     },
     "execution_count": 94,
     "metadata": {},
     "output_type": "execute_result"
    }
   ],
   "source": [
    "# Generamos un nuevo dataFrame con solo los locales residenciales\n",
    "new_df = df.query('@inmuebles_comerciales not in Tipo')\n",
    "new_df.head()"
   ]
  },
  {
   "cell_type": "markdown",
   "id": "1f647fb5",
   "metadata": {},
   "source": [
    "Generacion de un nuevo gráfico con los valores residenciales utilizando el nuevo dataframe **new_df**\n",
    "(Utilizamos la info de la celda 22)"
   ]
  },
  {
   "cell_type": "code",
   "execution_count": 95,
   "id": "830919f0",
   "metadata": {},
   "outputs": [
    {
     "data": {
      "text/plain": [
       "<Axes: ylabel='Tipo'>"
      ]
     },
     "execution_count": 95,
     "metadata": {},
     "output_type": "execute_result"
    },
    {
     "data": {
      "image/png": "[encoded data removed]",
      "text/plain": [
       "<Figure size 1200x800 with 1 Axes>"
      ]
     },
     "metadata": {},
     "output_type": "display_data"
    }
   ],
   "source": [
    "# Asignamos variable que devuelva un DataFrame con solo dos columnas \n",
    "# → df[['Tipo', 'Valor']]\n",
    "df_tipo_valor = new_df.groupby('Tipo')[['Valor']].mean().sort_values('Valor') \n",
    "\n",
    "# Grafico del DataFrame\n",
    "df_tipo_valor.plot(kind='barh', figsize=(12,8), color= 'blue')"
   ]
  },
  {
   "cell_type": "markdown",
   "id": "5d3958eb",
   "metadata": {},
   "source": [
    "### Porcentaje de cada tipo de inmueble (residenciales) presente en la base de datos"
   ]
  },
  {
   "cell_type": "code",
   "execution_count": 96,
   "id": "a1267780",
   "metadata": {},
   "outputs": [
    {
     "data": {
      "text/plain": [
       "array(['Cocineta', 'Casa', 'Departamento', 'Casa de Condominio',\n",
       "       'Departamento en Hotel', 'Casa de Vecindad', 'Loft', 'Rancho',\n",
       "       'Posada/Chalé', 'Estudio'], dtype=object)"
      ]
     },
     "execution_count": 96,
     "metadata": {},
     "output_type": "execute_result"
    }
   ],
   "source": [
    "# Verificamos las diferentes tipos de inmuebles en la serie 'Tipo'\n",
    "new_df['Tipo'].unique() # df.Tipo.unique() → es similar"
   ]
  },
  {
   "cell_type": "code",
   "execution_count": 97,
   "id": "29fec007",
   "metadata": {},
   "outputs": [
    {
     "data": {
      "application/vnd.microsoft.datawrangler.viewer.v0+json": {
       "columns": [
        {
         "name": "Tipo",
         "rawType": "object",
         "type": "string"
        },
        {
         "name": "count",
         "rawType": "int64",
         "type": "integer"
        }
       ],
       "ref": "d7de8881-cb38-413d-9e4b-ecb1750b2a45",
       "rows": [
        [
         "Departamento",
         "14764"
        ],
        [
         "Cocineta",
         "726"
        ],
        [
         "Casa de Condominio",
         "610"
        ],
        [
         "Casa",
         "545"
        ],
        [
         "Departamento en Hotel",
         "455"
        ],
        [
         "Casa de Vecindad",
         "158"
        ],
        [
         "Loft",
         "38"
        ],
        [
         "Rancho",
         "8"
        ],
        [
         "Estudio",
         "4"
        ],
        [
         "Posada/Chalé",
         "1"
        ]
       ],
       "shape": {
        "columns": 1,
        "rows": 10
       }
      },
      "text/plain": [
       "Tipo\n",
       "Departamento             14764\n",
       "Cocineta                   726\n",
       "Casa de Condominio         610\n",
       "Casa                       545\n",
       "Departamento en Hotel      455\n",
       "Casa de Vecindad           158\n",
       "Loft                        38\n",
       "Rancho                       8\n",
       "Estudio                      4\n",
       "Posada/Chalé                 1\n",
       "Name: count, dtype: int64"
      ]
     },
     "execution_count": 97,
     "metadata": {},
     "output_type": "execute_result"
    }
   ],
   "source": [
    "# Verificamos la cantidad de valores (entradas o filas) de cada tipo\n",
    "new_df.Tipo.value_counts()"
   ]
  },
  {
   "cell_type": "code",
   "execution_count": 98,
   "id": "2d0b1b1f",
   "metadata": {},
   "outputs": [
    {
     "data": {
      "application/vnd.microsoft.datawrangler.viewer.v0+json": {
       "columns": [
        {
         "name": "Tipo",
         "rawType": "object",
         "type": "string"
        },
        {
         "name": "proportion",
         "rawType": "float64",
         "type": "float"
        }
       ],
       "ref": "75937f17-09b8-4722-b8c4-08fb8a93d0a5",
       "rows": [
        [
         "Departamento",
         "0.8529666647408862"
        ],
        [
         "Cocineta",
         "0.04194349760240337"
        ],
        [
         "Casa de Condominio",
         "0.03524178173204691"
        ],
        [
         "Casa",
         "0.031486509908140274"
        ],
        [
         "Departamento en Hotel",
         "0.02628690276734647"
        ],
        [
         "Casa de Vecindad",
         "0.009128199202726905"
        ],
        [
         "Loft",
         "0.0021953896816684962"
        ],
        [
         "Rancho",
         "0.00046218730140389395"
        ],
        [
         "Estudio",
         "0.00023109365070194697"
        ],
        [
         "Posada/Chalé",
         "5.7773412675486743e-05"
        ]
       ],
       "shape": {
        "columns": 1,
        "rows": 10
       }
      },
      "text/plain": [
       "Tipo\n",
       "Departamento             0.852967\n",
       "Cocineta                 0.041943\n",
       "Casa de Condominio       0.035242\n",
       "Casa                     0.031487\n",
       "Departamento en Hotel    0.026287\n",
       "Casa de Vecindad         0.009128\n",
       "Loft                     0.002195\n",
       "Rancho                   0.000462\n",
       "Estudio                  0.000231\n",
       "Posada/Chalé             0.000058\n",
       "Name: proportion, dtype: float64"
      ]
     },
     "execution_count": 98,
     "metadata": {},
     "output_type": "execute_result"
    }
   ],
   "source": [
    "# Verificamos los porcentajes de cada tipo de inmueble residencial\n",
    "new_df.Tipo.value_counts(normalize=True)"
   ]
  },
  {
   "cell_type": "code",
   "execution_count": 99,
   "id": "6a21fa25",
   "metadata": {},
   "outputs": [
    {
     "data": {
      "text/plain": [
       "<Axes: xlabel='Tipo de inmueeble', ylabel='Porcentaje'>"
      ]
     },
     "execution_count": 99,
     "metadata": {},
     "output_type": "execute_result"
    },
    {
     "data": {
      "image/png": "[encoded data removed]",
      "text/plain": [
       "<Figure size 1200x800 with 1 Axes>"
      ]
     },
     "metadata": {},
     "output_type": "display_data"
    }
   ],
   "source": [
    "# Graficamos los porcentajes de cada tipo de inmueble residencial\n",
    "porcentaje_tipo = new_df.Tipo.value_counts(normalize=True).to_frame()\n",
    "porcentaje_tipo.plot(kind='bar', figsize=(12,8), color = 'green',xlabel='Tipo de inmueeble', ylabel= 'Porcentaje')"
   ]
  },
  {
   "cell_type": "code",
   "execution_count": 100,
   "id": "5a58b358",
   "metadata": {},
   "outputs": [
    {
     "data": {
      "application/vnd.microsoft.datawrangler.viewer.v0+json": {
       "columns": [
        {
         "name": "index",
         "rawType": "int64",
         "type": "integer"
        },
        {
         "name": "Tipo",
         "rawType": "object",
         "type": "string"
        },
        {
         "name": "Colonia",
         "rawType": "object",
         "type": "string"
        },
        {
         "name": "Habitaciones",
         "rawType": "int64",
         "type": "integer"
        },
        {
         "name": "Garages",
         "rawType": "int64",
         "type": "integer"
        },
        {
         "name": "Suites",
         "rawType": "int64",
         "type": "integer"
        },
        {
         "name": "Area",
         "rawType": "int64",
         "type": "integer"
        },
        {
         "name": "Valor",
         "rawType": "float64",
         "type": "float"
        },
        {
         "name": "Condominio",
         "rawType": "float64",
         "type": "float"
        },
        {
         "name": "Impuesto",
         "rawType": "float64",
         "type": "float"
        }
       ],
       "ref": "50d0d486-6e59-48c6-8f1f-867d8192df7c",
       "rows": [
        [
         "3",
         "Departamento",
         "Centro Histórico",
         "1",
         "0",
         "0",
         "15",
         "2800.0",
         "1365.0",
         "70.0"
        ],
        [
         "4",
         "Departamento",
         "Del Valle",
         "1",
         "0",
         "0",
         "48",
         "2800.0",
         "805.0",
         null
        ],
        [
         "7",
         "Departamento",
         "Centro Histórico",
         "1",
         "0",
         "0",
         "36",
         "4200.0",
         null,
         null
        ],
        [
         "8",
         "Departamento",
         "Condesa",
         "1",
         "0",
         "1",
         "40",
         "7000.0",
         "1963.5",
         "175.0"
        ]
       ],
       "shape": {
        "columns": 9,
        "rows": 4
       }
      },
      "text/html": [
       "<div>\n",
       "<style scoped>\n",
       "    .dataframe tbody tr th:only-of-type {\n",
       "        vertical-align: middle;\n",
       "    }\n",
       "\n",
       "    .dataframe tbody tr th {\n",
       "        vertical-align: top;\n",
       "    }\n",
       "\n",
       "    .dataframe thead th {\n",
       "        text-align: right;\n",
       "    }\n",
       "</style>\n",
       "<table border=\"1\" class=\"dataframe\">\n",
       "  <thead>\n",
       "    <tr style=\"text-align: right;\">\n",
       "      <th></th>\n",
       "      <th>Tipo</th>\n",
       "      <th>Colonia</th>\n",
       "      <th>Habitaciones</th>\n",
       "      <th>Garages</th>\n",
       "      <th>Suites</th>\n",
       "      <th>Area</th>\n",
       "      <th>Valor</th>\n",
       "      <th>Condominio</th>\n",
       "      <th>Impuesto</th>\n",
       "    </tr>\n",
       "  </thead>\n",
       "  <tbody>\n",
       "    <tr>\n",
       "      <th>3</th>\n",
       "      <td>Departamento</td>\n",
       "      <td>Centro Histórico</td>\n",
       "      <td>1</td>\n",
       "      <td>0</td>\n",
       "      <td>0</td>\n",
       "      <td>15</td>\n",
       "      <td>2800.0</td>\n",
       "      <td>1365.0</td>\n",
       "      <td>70.0</td>\n",
       "    </tr>\n",
       "    <tr>\n",
       "      <th>4</th>\n",
       "      <td>Departamento</td>\n",
       "      <td>Del Valle</td>\n",
       "      <td>1</td>\n",
       "      <td>0</td>\n",
       "      <td>0</td>\n",
       "      <td>48</td>\n",
       "      <td>2800.0</td>\n",
       "      <td>805.0</td>\n",
       "      <td>NaN</td>\n",
       "    </tr>\n",
       "    <tr>\n",
       "      <th>7</th>\n",
       "      <td>Departamento</td>\n",
       "      <td>Centro Histórico</td>\n",
       "      <td>1</td>\n",
       "      <td>0</td>\n",
       "      <td>0</td>\n",
       "      <td>36</td>\n",
       "      <td>4200.0</td>\n",
       "      <td>NaN</td>\n",
       "      <td>NaN</td>\n",
       "    </tr>\n",
       "    <tr>\n",
       "      <th>8</th>\n",
       "      <td>Departamento</td>\n",
       "      <td>Condesa</td>\n",
       "      <td>1</td>\n",
       "      <td>0</td>\n",
       "      <td>1</td>\n",
       "      <td>40</td>\n",
       "      <td>7000.0</td>\n",
       "      <td>1963.5</td>\n",
       "      <td>175.0</td>\n",
       "    </tr>\n",
       "  </tbody>\n",
       "</table>\n",
       "</div>"
      ],
      "text/plain": [
       "           Tipo           Colonia  Habitaciones  Garages  Suites  Area  \\\n",
       "3  Departamento  Centro Histórico             1        0       0    15   \n",
       "4  Departamento         Del Valle             1        0       0    48   \n",
       "7  Departamento  Centro Histórico             1        0       0    36   \n",
       "8  Departamento           Condesa             1        0       1    40   \n",
       "\n",
       "    Valor  Condominio  Impuesto  \n",
       "3  2800.0      1365.0      70.0  \n",
       "4  2800.0       805.0       NaN  \n",
       "7  4200.0         NaN       NaN  \n",
       "8  7000.0      1963.5     175.0  "
      ]
     },
     "execution_count": 100,
     "metadata": {},
     "output_type": "execute_result"
    }
   ],
   "source": [
    "# Generamos un nuevo dataFrame segregandolo con solo los `departamentos` ya que al consultarse con el equipo de ML\n",
    "# solo quieren los datos de esta serie de los `inmuebles residenciales`\n",
    "new_df.query('Tipo == \"Departamento\"')\n",
    "\n",
    "# reasignamos la misma variable al nuevo DataFrame\n",
    "new_df = new_df.query('Tipo == \"Departamento\"')\n",
    "new_df.head(4)"
   ]
  },
  {
   "cell_type": "code",
   "execution_count": 101,
   "id": "553f20b3",
   "metadata": {},
   "outputs": [
    {
     "data": {
      "text/plain": [
       "(14764, 9)"
      ]
     },
     "execution_count": 101,
     "metadata": {},
     "output_type": "execute_result"
    }
   ],
   "source": [
    "new_df.shape"
   ]
  },
  {
   "cell_type": "markdown",
   "id": "9b601356",
   "metadata": {},
   "source": [
    "## Desafio extra"
   ]
  },
  {
   "cell_type": "markdown",
   "id": "69a19e2a",
   "metadata": {},
   "source": [
    "### Calcular el **promedio de habitaciones por departamento**: \n",
    "Es necesario obtener el número promedio de habitaciones para cada departamento en el conjunto de datos."
   ]
  },
  {
   "cell_type": "code",
   "execution_count": 102,
   "id": "4e72fd38",
   "metadata": {},
   "outputs": [
    {
     "data": {
      "application/vnd.microsoft.datawrangler.viewer.v0+json": {
       "columns": [
        {
         "name": "index",
         "rawType": "int64",
         "type": "integer"
        },
        {
         "name": "Tipo",
         "rawType": "object",
         "type": "string"
        },
        {
         "name": "Colonia",
         "rawType": "object",
         "type": "string"
        },
        {
         "name": "Habitaciones",
         "rawType": "int64",
         "type": "integer"
        },
        {
         "name": "Garages",
         "rawType": "int64",
         "type": "integer"
        },
        {
         "name": "Suites",
         "rawType": "int64",
         "type": "integer"
        },
        {
         "name": "Area",
         "rawType": "int64",
         "type": "integer"
        },
        {
         "name": "Valor",
         "rawType": "float64",
         "type": "float"
        },
        {
         "name": "Condominio",
         "rawType": "float64",
         "type": "float"
        },
        {
         "name": "Impuesto",
         "rawType": "float64",
         "type": "float"
        }
       ],
       "ref": "e529680b-4875-487b-accd-8f7fc2a002ce",
       "rows": [
        [
         "3",
         "Departamento",
         "Centro Histórico",
         "1",
         "0",
         "0",
         "15",
         "2800.0",
         "1365.0",
         "70.0"
        ],
        [
         "4",
         "Departamento",
         "Del Valle",
         "1",
         "0",
         "0",
         "48",
         "2800.0",
         "805.0",
         null
        ],
        [
         "7",
         "Departamento",
         "Centro Histórico",
         "1",
         "0",
         "0",
         "36",
         "4200.0",
         null,
         null
        ],
        [
         "8",
         "Departamento",
         "Condesa",
         "1",
         "0",
         "1",
         "40",
         "7000.0",
         "1963.5",
         "175.0"
        ],
        [
         "10",
         "Departamento",
         "Condesa",
         "4",
         "3",
         "1",
         "243",
         "45500.0",
         "7000.0",
         "2810.5"
        ],
        [
         "13",
         "Departamento",
         "Santa Fe",
         "2",
         "1",
         "1",
         "67",
         "5950.0",
         "2061.5",
         "514.5"
        ],
        [
         "14",
         "Departamento",
         "Narvarte",
         "2",
         "1",
         "0",
         "110",
         "6650.0",
         "2450.0",
         "483.0"
        ],
        [
         "16",
         "Departamento",
         "Narvarte",
         "2",
         "1",
         "0",
         "78",
         "7000.0",
         "2450.0",
         null
        ],
        [
         "18",
         "Departamento",
         "Coyoacán",
         "3",
         "1",
         "1",
         "125",
         "24500.0",
         "7350.0",
         "1620.5"
        ],
        [
         "19",
         "Departamento",
         "Narvarte",
         "1",
         "0",
         "0",
         "48",
         "2625.0",
         "2702.0",
         "87.5"
        ],
        [
         "20",
         "Departamento",
         "Santa Fe",
         "3",
         "3",
         "1",
         "175",
         "14700.0",
         "5250.0",
         "1750.0"
        ],
        [
         "21",
         "Departamento",
         "Roma",
         "2",
         "1",
         "0",
         "76",
         "8750.0",
         "2590.0",
         null
        ],
        [
         "22",
         "Departamento",
         "Condesa",
         "3",
         "1",
         "2",
         "378",
         "35000.0",
         "7525.0",
         "2450.0"
        ],
        [
         "23",
         "Departamento",
         "Condesa",
         "3",
         "0",
         "0",
         "180",
         "19250.0",
         "6230.0",
         "1470.0"
        ],
        [
         "25",
         "Departamento",
         "Lomas de Chapultepec",
         "3",
         "1",
         "0",
         "110",
         "13650.0",
         "5250.0",
         "420.0"
        ],
        [
         "28",
         "Departamento",
         "Santa Fe",
         "3",
         "1",
         "2",
         "70",
         "6300.0",
         "3832.5",
         "490.0"
        ],
        [
         "29",
         "Departamento",
         "Condesa",
         "4",
         "1",
         "0",
         "244",
         "17500.0",
         "8750.0",
         "14350.0"
        ],
        [
         "30",
         "Departamento",
         "Santa Fe",
         "3",
         "2",
         "1",
         "110",
         "15750.0",
         "7000.0",
         "1575.0"
        ],
        [
         "33",
         "Departamento",
         "Santa Fe",
         "3",
         "1",
         "1",
         "72",
         "8225.0",
         "2100.0",
         "245.0"
        ],
        [
         "34",
         "Departamento",
         "San Pedro de los Pinos",
         "2",
         "2",
         "1",
         "180",
         "14000.0",
         "8750.0",
         "1050.0"
        ],
        [
         "37",
         "Departamento",
         "Centro Histórico",
         "1",
         "0",
         "0",
         "27",
         "2625.0",
         "1298.5",
         "66.5"
        ],
        [
         "38",
         "Departamento",
         "Coyoacán",
         "1",
         "0",
         "0",
         "35",
         "7000.0",
         "2275.0",
         "262.5"
        ],
        [
         "39",
         "Departamento",
         "Coyoacán",
         "1",
         "0",
         "0",
         "38",
         "4900.0",
         "1855.0",
         "269.5"
        ],
        [
         "42",
         "Departamento",
         "Santa Fe",
         "4",
         "3",
         "3",
         "153",
         "22750.0",
         "8050.0",
         "1519.0"
        ],
        [
         "43",
         "Departamento",
         "Coyoacán",
         "3",
         "1",
         "0",
         "87",
         "11200.0",
         "4567.5",
         "759.5"
        ],
        [
         "44",
         "Departamento",
         "Roma",
         "3",
         "1",
         "1",
         "108",
         "20825.0",
         "4917.5",
         "1011.5"
        ],
        [
         "45",
         "Departamento",
         "Coyoacán",
         "3",
         "2",
         "1",
         "150",
         "28000.0",
         "8400.0",
         null
        ],
        [
         "47",
         "Departamento",
         "Coyoacán",
         "3",
         "1",
         "1",
         "140",
         "27650.0",
         "10150.0",
         "1750.0"
        ],
        [
         "48",
         "Departamento",
         "Polanco",
         "2",
         "2",
         "0",
         "95",
         "14000.0",
         "4095.0",
         null
        ],
        [
         "49",
         "Departamento",
         "Santa Fe",
         "2",
         "1",
         "1",
         "70",
         null,
         "3395.0",
         "238.0"
        ],
        [
         "56",
         "Departamento",
         "Lomas de Chapultepec",
         "2",
         "1",
         "1",
         "80",
         "12250.0",
         "3465.0",
         "857.5"
        ],
        [
         "57",
         "Departamento",
         "Santa Fe",
         "4",
         "4",
         "4",
         "240",
         "44450.0",
         "15400.0",
         "5040.0"
        ],
        [
         "58",
         "Departamento",
         "Santa Fe",
         "3",
         "2",
         "1",
         "104",
         "9100.0",
         "4774.0",
         "1421.0"
        ],
        [
         "59",
         "Departamento",
         "San Ángel",
         "2",
         "1",
         "0",
         "70",
         "9800.0",
         "2380.0",
         "343.0"
        ],
        [
         "60",
         "Departamento",
         "Santa Fe",
         "2",
         "1",
         "1",
         "88",
         "9450.0",
         "4550.0",
         "7147.0"
        ],
        [
         "61",
         "Departamento",
         "Centro Histórico",
         "1",
         "1",
         "0",
         "37",
         "3850.0",
         "1890.0",
         "3150.0"
        ],
        [
         "62",
         "Departamento",
         "San Jerónimo",
         "3",
         "4",
         "0",
         "130",
         "19250.0",
         "4924.5",
         "861.0"
        ],
        [
         "63",
         "Departamento",
         "Santa Fe",
         "3",
         "2",
         "2",
         "85",
         "8750.0",
         "4900.0",
         "665.0"
        ],
        [
         "64",
         "Departamento",
         "Del Valle",
         "2",
         "1",
         "0",
         "54",
         "8050.0",
         "2037.0",
         null
        ],
        [
         "66",
         "Departamento",
         "Coyoacán",
         "3",
         "1",
         "1",
         "120",
         "24500.0",
         "6300.0",
         "1295.0"
        ],
        [
         "68",
         "Departamento",
         "Santa Fe",
         "2",
         "1",
         "1",
         "78",
         "9625.0",
         "4550.0",
         "483.0"
        ],
        [
         "71",
         "Departamento",
         "San Pedro de los Pinos",
         "2",
         "1",
         "0",
         "86",
         "14000.0",
         "4406.5",
         "658.0"
        ],
        [
         "72",
         "Departamento",
         "Santa Fe",
         "1",
         "1",
         "1",
         "70",
         "5950.0",
         "3045.0",
         "500.5"
        ],
        [
         "74",
         "Departamento",
         "Ciudad de los Deportes",
         "2",
         "0",
         "0",
         "80",
         "3500.0",
         null,
         null
        ],
        [
         "75",
         "Departamento",
         "Narvarte",
         "2",
         "1",
         "0",
         "80",
         "6300.0",
         "3850.0",
         "294.0"
        ],
        [
         "79",
         "Departamento",
         "Narvarte",
         "3",
         "1",
         "0",
         "172",
         "9450.0",
         "2730.0",
         "595.0"
        ],
        [
         "80",
         "Departamento",
         "Coyoacán",
         "3",
         "1",
         "1",
         "145",
         "28000.0",
         "51688.0",
         "15379.0"
        ],
        [
         "82",
         "Departamento",
         "Roma",
         "2",
         "1",
         "1",
         "83",
         "9800.0",
         "1960.0",
         "483.0"
        ],
        [
         "83",
         "Departamento",
         "Roma",
         "2",
         "1",
         "1",
         "80",
         "15050.0",
         "4123.0",
         "654.5"
        ],
        [
         "84",
         "Departamento",
         "Bosques de las Lomas",
         "3",
         "1",
         "2",
         "250",
         "48650.0",
         "8750.0",
         null
        ]
       ],
       "shape": {
        "columns": 9,
        "rows": 14764
       }
      },
      "text/html": [
       "<div>\n",
       "<style scoped>\n",
       "    .dataframe tbody tr th:only-of-type {\n",
       "        vertical-align: middle;\n",
       "    }\n",
       "\n",
       "    .dataframe tbody tr th {\n",
       "        vertical-align: top;\n",
       "    }\n",
       "\n",
       "    .dataframe thead th {\n",
       "        text-align: right;\n",
       "    }\n",
       "</style>\n",
       "<table border=\"1\" class=\"dataframe\">\n",
       "  <thead>\n",
       "    <tr style=\"text-align: right;\">\n",
       "      <th></th>\n",
       "      <th>Tipo</th>\n",
       "      <th>Colonia</th>\n",
       "      <th>Habitaciones</th>\n",
       "      <th>Garages</th>\n",
       "      <th>Suites</th>\n",
       "      <th>Area</th>\n",
       "      <th>Valor</th>\n",
       "      <th>Condominio</th>\n",
       "      <th>Impuesto</th>\n",
       "    </tr>\n",
       "  </thead>\n",
       "  <tbody>\n",
       "    <tr>\n",
       "      <th>3</th>\n",
       "      <td>Departamento</td>\n",
       "      <td>Centro Histórico</td>\n",
       "      <td>1</td>\n",
       "      <td>0</td>\n",
       "      <td>0</td>\n",
       "      <td>15</td>\n",
       "      <td>2800.0</td>\n",
       "      <td>1365.0</td>\n",
       "      <td>70.0</td>\n",
       "    </tr>\n",
       "    <tr>\n",
       "      <th>4</th>\n",
       "      <td>Departamento</td>\n",
       "      <td>Del Valle</td>\n",
       "      <td>1</td>\n",
       "      <td>0</td>\n",
       "      <td>0</td>\n",
       "      <td>48</td>\n",
       "      <td>2800.0</td>\n",
       "      <td>805.0</td>\n",
       "      <td>NaN</td>\n",
       "    </tr>\n",
       "    <tr>\n",
       "      <th>7</th>\n",
       "      <td>Departamento</td>\n",
       "      <td>Centro Histórico</td>\n",
       "      <td>1</td>\n",
       "      <td>0</td>\n",
       "      <td>0</td>\n",
       "      <td>36</td>\n",
       "      <td>4200.0</td>\n",
       "      <td>NaN</td>\n",
       "      <td>NaN</td>\n",
       "    </tr>\n",
       "    <tr>\n",
       "      <th>8</th>\n",
       "      <td>Departamento</td>\n",
       "      <td>Condesa</td>\n",
       "      <td>1</td>\n",
       "      <td>0</td>\n",
       "      <td>1</td>\n",
       "      <td>40</td>\n",
       "      <td>7000.0</td>\n",
       "      <td>1963.5</td>\n",
       "      <td>175.0</td>\n",
       "    </tr>\n",
       "    <tr>\n",
       "      <th>10</th>\n",
       "      <td>Departamento</td>\n",
       "      <td>Condesa</td>\n",
       "      <td>4</td>\n",
       "      <td>3</td>\n",
       "      <td>1</td>\n",
       "      <td>243</td>\n",
       "      <td>45500.0</td>\n",
       "      <td>7000.0</td>\n",
       "      <td>2810.5</td>\n",
       "    </tr>\n",
       "    <tr>\n",
       "      <th>...</th>\n",
       "      <td>...</td>\n",
       "      <td>...</td>\n",
       "      <td>...</td>\n",
       "      <td>...</td>\n",
       "      <td>...</td>\n",
       "      <td>...</td>\n",
       "      <td>...</td>\n",
       "      <td>...</td>\n",
       "      <td>...</td>\n",
       "    </tr>\n",
       "    <tr>\n",
       "      <th>25111</th>\n",
       "      <td>Departamento</td>\n",
       "      <td>Lomas de Chapultepec</td>\n",
       "      <td>3</td>\n",
       "      <td>0</td>\n",
       "      <td>1</td>\n",
       "      <td>80</td>\n",
       "      <td>10500.0</td>\n",
       "      <td>3535.0</td>\n",
       "      <td>871.5</td>\n",
       "    </tr>\n",
       "    <tr>\n",
       "      <th>25113</th>\n",
       "      <td>Departamento</td>\n",
       "      <td>Coyoacán</td>\n",
       "      <td>3</td>\n",
       "      <td>1</td>\n",
       "      <td>2</td>\n",
       "      <td>150</td>\n",
       "      <td>52500.0</td>\n",
       "      <td>4900.0</td>\n",
       "      <td>2100.0</td>\n",
       "    </tr>\n",
       "    <tr>\n",
       "      <th>25114</th>\n",
       "      <td>Departamento</td>\n",
       "      <td>Narvarte</td>\n",
       "      <td>1</td>\n",
       "      <td>0</td>\n",
       "      <td>0</td>\n",
       "      <td>28</td>\n",
       "      <td>3500.0</td>\n",
       "      <td>1260.0</td>\n",
       "      <td>87.5</td>\n",
       "    </tr>\n",
       "    <tr>\n",
       "      <th>25118</th>\n",
       "      <td>Departamento</td>\n",
       "      <td>Mixcoac</td>\n",
       "      <td>2</td>\n",
       "      <td>1</td>\n",
       "      <td>0</td>\n",
       "      <td>48</td>\n",
       "      <td>4900.0</td>\n",
       "      <td>1781.5</td>\n",
       "      <td>129.5</td>\n",
       "    </tr>\n",
       "    <tr>\n",
       "      <th>25119</th>\n",
       "      <td>Departamento</td>\n",
       "      <td>Lomas de Chapultepec</td>\n",
       "      <td>2</td>\n",
       "      <td>0</td>\n",
       "      <td>0</td>\n",
       "      <td>70</td>\n",
       "      <td>10500.0</td>\n",
       "      <td>2660.0</td>\n",
       "      <td>NaN</td>\n",
       "    </tr>\n",
       "  </tbody>\n",
       "</table>\n",
       "<p>14764 rows × 9 columns</p>\n",
       "</div>"
      ],
      "text/plain": [
       "               Tipo               Colonia  Habitaciones  Garages  Suites  \\\n",
       "3      Departamento      Centro Histórico             1        0       0   \n",
       "4      Departamento             Del Valle             1        0       0   \n",
       "7      Departamento      Centro Histórico             1        0       0   \n",
       "8      Departamento               Condesa             1        0       1   \n",
       "10     Departamento               Condesa             4        3       1   \n",
       "...             ...                   ...           ...      ...     ...   \n",
       "25111  Departamento  Lomas de Chapultepec             3        0       1   \n",
       "25113  Departamento              Coyoacán             3        1       2   \n",
       "25114  Departamento              Narvarte             1        0       0   \n",
       "25118  Departamento               Mixcoac             2        1       0   \n",
       "25119  Departamento  Lomas de Chapultepec             2        0       0   \n",
       "\n",
       "       Area    Valor  Condominio  Impuesto  \n",
       "3        15   2800.0      1365.0      70.0  \n",
       "4        48   2800.0       805.0       NaN  \n",
       "7        36   4200.0         NaN       NaN  \n",
       "8        40   7000.0      1963.5     175.0  \n",
       "10      243  45500.0      7000.0    2810.5  \n",
       "...     ...      ...         ...       ...  \n",
       "25111    80  10500.0      3535.0     871.5  \n",
       "25113   150  52500.0      4900.0    2100.0  \n",
       "25114    28   3500.0      1260.0      87.5  \n",
       "25118    48   4900.0      1781.5     129.5  \n",
       "25119    70  10500.0      2660.0       NaN  \n",
       "\n",
       "[14764 rows x 9 columns]"
      ]
     },
     "execution_count": 102,
     "metadata": {},
     "output_type": "execute_result"
    }
   ],
   "source": [
    "# Visualizamos el nuevo DataFrame\n",
    "new_df"
   ]
  },
  {
   "cell_type": "code",
   "execution_count": 103,
   "id": "13a2866b",
   "metadata": {},
   "outputs": [
    {
     "data": {
      "application/vnd.microsoft.datawrangler.viewer.v0+json": {
       "columns": [
        {
         "name": "Tipo",
         "rawType": "object",
         "type": "string"
        },
        {
         "name": "Habitaciones",
         "rawType": "float64",
         "type": "float"
        }
       ],
       "ref": "17a5ba33-7b42-4372-bd47-a4240ca4d7b7",
       "rows": [
        [
         "Departamento",
         "2.5041994039555675"
        ]
       ],
       "shape": {
        "columns": 1,
        "rows": 1
       }
      },
      "text/plain": [
       "Tipo\n",
       "Departamento    2.504199\n",
       "Name: Habitaciones, dtype: float64"
      ]
     },
     "execution_count": 103,
     "metadata": {},
     "output_type": "execute_result"
    }
   ],
   "source": [
    "new_df.groupby('Tipo')['Habitaciones'].mean()"
   ]
  },
  {
   "cell_type": "markdown",
   "id": "c83319e3",
   "metadata": {},
   "source": [
    "### Verificar el número de colonias únicas:\n",
    "- Se debe contar la cantidad de colonias distintas que existen en la base de datos."
   ]
  },
  {
   "cell_type": "code",
   "execution_count": 104,
   "id": "bf192796",
   "metadata": {},
   "outputs": [
    {
     "data": {
      "application/vnd.microsoft.datawrangler.viewer.v0+json": {
       "columns": [
        {
         "name": "Colonia",
         "rawType": "object",
         "type": "string"
        },
        {
         "name": "Valor",
         "rawType": "float64",
         "type": "float"
        }
       ],
       "ref": "7be58584-38c1-46fd-a28a-6b90ddfeb272",
       "rows": [
        [
         "Ajusco",
         "17150.0"
        ],
        [
         "Arboledas",
         "4050.15625"
        ],
        [
         "Atlalilco",
         "4360.0"
        ],
        [
         "Atlampa",
         "4211.666666666667"
        ],
        [
         "Barrio Bravo",
         "3129.0"
        ],
        [
         "Bosques de Aragón",
         "35948.71875"
        ],
        [
         "Bosques de las Lomas",
         "28119.69427402863"
        ],
        [
         "Casa Blanca",
         "4223.333333333333"
        ],
        [
         "Centro Histórico",
         "5411.267942583732"
        ],
        [
         "Chapultepec",
         "5250.0"
        ],
        [
         "Ciudad de los Deportes",
         "3333.75"
        ],
        [
         "Condesa",
         "15266.71599372795"
        ],
        [
         "Coyoacán",
         "33205.218608597286"
        ],
        [
         "Culhuacán CTM",
         "3820.0"
        ],
        [
         "Del Valle",
         "11152.562195121951"
        ],
        [
         "Del Valle Centro",
         "3054.5454545454545"
        ],
        [
         "Doctores",
         "3853.28125"
        ],
        [
         "El Arenal",
         "4550.0"
        ],
        [
         "El Contadero",
         "6944.21875"
        ],
        [
         "El Rodeo",
         "2275.0"
        ],
        [
         "El Rosedal",
         "2799.883333333333"
        ],
        [
         "Industrial Vallejo",
         "3375.0"
        ],
        [
         "Iztacalco",
         "3445.75"
        ],
        [
         "Iztapalapa",
         "3546.6666666666665"
        ],
        [
         "Jardines de San Mateo",
         "2807.0"
        ],
        [
         "Juárez",
         "7451.410256410257"
        ],
        [
         "La Condesa",
         "5944.473684210527"
        ],
        [
         "La Florida",
         "4018.0"
        ],
        [
         "La Loma",
         "5838.159090909091"
        ],
        [
         "La Merced",
         "3762.5"
        ],
        [
         "La Virgen",
         "3693.4210526315787"
        ],
        [
         "Las Águilas",
         "5726.595744680851"
        ],
        [
         "Lindavista",
         "2751.0"
        ],
        [
         "Lindavista Sur",
         "3368.076923076923"
        ],
        [
         "Loma Bonita",
         "2352.777777777778"
        ],
        [
         "Lomas de Chapultepec",
         "30232.165189363415"
        ],
        [
         "Lomas de Padierna",
         "4500.0"
        ],
        [
         "Los Alpes",
         "54250.0"
        ],
        [
         "Los Reyes Coyoacán",
         "3281.25"
        ],
        [
         "Mixcoac",
         "4010.151515151515"
        ],
        [
         "Moctezuma",
         "3284.1666666666665"
        ],
        [
         "Napoles",
         "14612.89592760181"
        ],
        [
         "Narvarte",
         "6799.315789473684"
        ],
        [
         "Nativitas",
         "4175.234848484848"
        ],
        [
         "Nueva Santa María",
         "3558.214285714286"
        ],
        [
         "Pedregal",
         "6650.0"
        ],
        [
         "Peralvillo",
         "4343.614130434783"
        ],
        [
         "Polanco",
         "16683.013698630137"
        ],
        [
         "Potrero de San Bernardino",
         "1190.0"
        ],
        [
         "Pueblo Culhuacán",
         "2333.3333333333335"
        ]
       ],
       "shape": {
        "columns": 1,
        "rows": 83
       }
      },
      "text/plain": [
       "Colonia\n",
       "Ajusco                17150.000000\n",
       "Arboledas              4050.156250\n",
       "Atlalilco              4360.000000\n",
       "Atlampa                4211.666667\n",
       "Barrio Bravo           3129.000000\n",
       "                          ...     \n",
       "Villa Coapa            3442.600000\n",
       "Villa de Cortés        3885.795455\n",
       "Villa de Guadalupe     4633.548387\n",
       "Zacatenco              4123.000000\n",
       "Álvaro Obregón         3188.333333\n",
       "Name: Valor, Length: 83, dtype: float64"
      ]
     },
     "execution_count": 104,
     "metadata": {},
     "output_type": "execute_result"
    }
   ],
   "source": [
    "new_df.groupby('Colonia')['Valor'].mean()"
   ]
  },
  {
   "cell_type": "code",
   "execution_count": 105,
   "id": "5a46860e",
   "metadata": {},
   "outputs": [
    {
     "data": {
      "text/plain": [
       "(83,)"
      ]
     },
     "execution_count": 105,
     "metadata": {},
     "output_type": "execute_result"
    }
   ],
   "source": [
    "# Visualizamos el tamaño del dataFrame\n",
    "new_df.groupby('Colonia')['Valor'].mean().shape\n",
    "# resultado: 83 filas, 1 columna"
   ]
  },
  {
   "cell_type": "code",
   "execution_count": 106,
   "id": "146aed18",
   "metadata": {},
   "outputs": [
    {
     "data": {
      "text/plain": [
       "83"
      ]
     },
     "execution_count": 106,
     "metadata": {},
     "output_type": "execute_result"
    }
   ],
   "source": [
    "# Verificamos la cantidad de colonias con datos de alquiler\n",
    "len(new_df.groupby('Colonia')['Valor'].mean())"
   ]
  },
  {
   "cell_type": "markdown",
   "id": "76f5674b",
   "metadata": {},
   "source": [
    "### Analizar el promedio de alquiler por colonia: \n",
    "- Se requiere identificar y calcular el promedio de alquiler para cada colonia, para así determinar cuáles tienen los valores más altos."
   ]
  },
  {
   "cell_type": "code",
   "execution_count": 107,
   "id": "6d6faa0d",
   "metadata": {},
   "outputs": [
    {
     "data": {
      "application/vnd.microsoft.datawrangler.viewer.v0+json": {
       "columns": [
        {
         "name": "Colonia",
         "rawType": "object",
         "type": "string"
        },
        {
         "name": "Valor",
         "rawType": "float64",
         "type": "float"
        }
       ],
       "ref": "46867301-e9fc-4b9e-a8c1-e13ede10dc3c",
       "rows": [
        [
         "Los Alpes",
         "54250.0"
        ],
        [
         "Bosques de Aragón",
         "35948.71875"
        ],
        [
         "Coyoacán",
         "33205.218608597286"
        ],
        [
         "Roma",
         "32530.388539042822"
        ],
        [
         "Lomas de Chapultepec",
         "30232.165189363415"
        ],
        [
         "Bosques de las Lomas",
         "28119.69427402863"
        ],
        [
         "Santa Fe",
         "19541.149117559078"
        ],
        [
         "Tlalpan",
         "17537.1875"
        ],
        [
         "Ajusco",
         "17150.0"
        ],
        [
         "Polanco",
         "16683.013698630137"
        ],
        [
         "San Ángel",
         "15769.416201117318"
        ],
        [
         "Condesa",
         "15266.71599372795"
        ],
        [
         "Napoles",
         "14612.89592760181"
        ],
        [
         "San Jerónimo",
         "11926.923076923076"
        ],
        [
         "Del Valle",
         "11152.562195121951"
        ],
        [
         "San Pedro de los Pinos",
         "10989.689349112426"
        ],
        [
         "Juárez",
         "7451.410256410257"
        ],
        [
         "El Contadero",
         "6944.21875"
        ],
        [
         "Narvarte",
         "6799.315789473684"
        ],
        [
         "Pedregal",
         "6650.0"
        ],
        [
         "La Condesa",
         "5944.473684210527"
        ],
        [
         "La Loma",
         "5838.159090909091"
        ],
        [
         "Las Águilas",
         "5726.595744680851"
        ],
        [
         "Centro Histórico",
         "5411.267942583732"
        ],
        [
         "San Miguel Chapultepec",
         "5392.148014440433"
        ],
        [
         "Chapultepec",
         "5250.0"
        ],
        [
         "Roma Norte",
         "5158.030120481928"
        ],
        [
         "Reforma Política",
         "5110.0"
        ],
        [
         "Santa María Nativitas",
         "5016.666666666667"
        ],
        [
         "San Rafael",
         "4966.461956521739"
        ],
        [
         "Villa de Guadalupe",
         "4633.548387096775"
        ],
        [
         "San Sebastián",
         "4550.0"
        ],
        [
         "El Arenal",
         "4550.0"
        ],
        [
         "Lomas de Padierna",
         "4500.0"
        ],
        [
         "Atlalilco",
         "4360.0"
        ],
        [
         "Peralvillo",
         "4343.614130434783"
        ],
        [
         "Tlalnepantla",
         "4231.818181818182"
        ],
        [
         "Casa Blanca",
         "4223.333333333333"
        ],
        [
         "Atlampa",
         "4211.666666666667"
        ],
        [
         "Nativitas",
         "4175.234848484848"
        ],
        [
         "Zacatenco",
         "4123.0"
        ],
        [
         "Arboledas",
         "4050.15625"
        ],
        [
         "La Florida",
         "4018.0"
        ],
        [
         "Mixcoac",
         "4010.151515151515"
        ],
        [
         "Villa de Cortés",
         "3885.7954545454545"
        ],
        [
         "Doctores",
         "3853.28125"
        ],
        [
         "Culhuacán CTM",
         "3820.0"
        ],
        [
         "La Merced",
         "3762.5"
        ],
        [
         "San Andrés Tetepilco",
         "3706.6666666666665"
        ],
        [
         "La Virgen",
         "3693.4210526315787"
        ]
       ],
       "shape": {
        "columns": 1,
        "rows": 83
       }
      },
      "text/plain": [
       "Colonia\n",
       "Los Alpes                    54250.000000\n",
       "Bosques de Aragón            35948.718750\n",
       "Coyoacán                     33205.218609\n",
       "Roma                         32530.388539\n",
       "Lomas de Chapultepec         30232.165189\n",
       "                                 ...     \n",
       "El Rodeo                      2275.000000\n",
       "Tláhuac                       2275.000000\n",
       "San Antonio Tecomitl          2065.000000\n",
       "Santa María Aztahuacán        1785.000000\n",
       "Potrero de San Bernardino     1190.000000\n",
       "Name: Valor, Length: 83, dtype: float64"
      ]
     },
     "execution_count": 107,
     "metadata": {},
     "output_type": "execute_result"
    }
   ],
   "source": [
    "new_df.groupby('Colonia')['Valor'].mean().sort_values(ascending=False)"
   ]
  },
  {
   "cell_type": "markdown",
   "id": "94807106",
   "metadata": {},
   "source": [
    "### Generar un gráfico de barras horizontales: \n",
    "Se debe crear una visualización para mostrar las 5 colonias con el promedio de alquiler más alto."
   ]
  },
  {
   "cell_type": "code",
   "execution_count": 108,
   "id": "6d9d518b",
   "metadata": {},
   "outputs": [
    {
     "data": {
      "application/vnd.microsoft.datawrangler.viewer.v0+json": {
       "columns": [
        {
         "name": "index",
         "rawType": "int64",
         "type": "integer"
        },
        {
         "name": "Colonia",
         "rawType": "object",
         "type": "string"
        },
        {
         "name": "Valor",
         "rawType": "float64",
         "type": "float"
        }
       ],
       "ref": "6a1c9661-d4d6-41aa-97b3-dca331917567",
       "rows": [
        [
         "0",
         "Los Alpes",
         "54250.0"
        ],
        [
         "1",
         "Bosques de Aragón",
         "35948.71875"
        ],
        [
         "2",
         "Coyoacán",
         "33205.218608597286"
        ],
        [
         "3",
         "Roma",
         "32530.388539042822"
        ],
        [
         "4",
         "Lomas de Chapultepec",
         "30232.165189363415"
        ]
       ],
       "shape": {
        "columns": 2,
        "rows": 5
       }
      },
      "text/html": [
       "<div>\n",
       "<style scoped>\n",
       "    .dataframe tbody tr th:only-of-type {\n",
       "        vertical-align: middle;\n",
       "    }\n",
       "\n",
       "    .dataframe tbody tr th {\n",
       "        vertical-align: top;\n",
       "    }\n",
       "\n",
       "    .dataframe thead th {\n",
       "        text-align: right;\n",
       "    }\n",
       "</style>\n",
       "<table border=\"1\" class=\"dataframe\">\n",
       "  <thead>\n",
       "    <tr style=\"text-align: right;\">\n",
       "      <th></th>\n",
       "      <th>Colonia</th>\n",
       "      <th>Valor</th>\n",
       "    </tr>\n",
       "  </thead>\n",
       "  <tbody>\n",
       "    <tr>\n",
       "      <th>0</th>\n",
       "      <td>Los Alpes</td>\n",
       "      <td>54250.000000</td>\n",
       "    </tr>\n",
       "    <tr>\n",
       "      <th>1</th>\n",
       "      <td>Bosques de Aragón</td>\n",
       "      <td>35948.718750</td>\n",
       "    </tr>\n",
       "    <tr>\n",
       "      <th>2</th>\n",
       "      <td>Coyoacán</td>\n",
       "      <td>33205.218609</td>\n",
       "    </tr>\n",
       "    <tr>\n",
       "      <th>3</th>\n",
       "      <td>Roma</td>\n",
       "      <td>32530.388539</td>\n",
       "    </tr>\n",
       "    <tr>\n",
       "      <th>4</th>\n",
       "      <td>Lomas de Chapultepec</td>\n",
       "      <td>30232.165189</td>\n",
       "    </tr>\n",
       "  </tbody>\n",
       "</table>\n",
       "</div>"
      ],
      "text/plain": [
       "                Colonia         Valor\n",
       "0             Los Alpes  54250.000000\n",
       "1     Bosques de Aragón  35948.718750\n",
       "2              Coyoacán  33205.218609\n",
       "3                  Roma  32530.388539\n",
       "4  Lomas de Chapultepec  30232.165189"
      ]
     },
     "execution_count": 108,
     "metadata": {},
     "output_type": "execute_result"
    }
   ],
   "source": [
    "colonia_df = new_df.groupby('Colonia')['Valor'].mean().sort_values(ascending=False).to_frame().reset_index()\n",
    "colonia_df.head(5)\n"
   ]
  },
  {
   "cell_type": "code",
   "execution_count": 109,
   "id": "68b44cda",
   "metadata": {},
   "outputs": [
    {
     "data": {
      "text/plain": [
       "(83, 2)"
      ]
     },
     "execution_count": 109,
     "metadata": {},
     "output_type": "execute_result"
    }
   ],
   "source": [
    "colonia_df.shape"
   ]
  },
  {
   "cell_type": "code",
   "execution_count": 110,
   "id": "842c5ae9",
   "metadata": {},
   "outputs": [],
   "source": [
    "top_5_colonias = colonia_df.head(5)"
   ]
  },
  {
   "cell_type": "code",
   "execution_count": 111,
   "id": "ede8c9cf",
   "metadata": {},
   "outputs": [
    {
     "data": {
      "text/plain": [
       "<Axes: xlabel='Colonia'>"
      ]
     },
     "execution_count": 111,
     "metadata": {},
     "output_type": "execute_result"
    },
    {
     "data": {
      "image/png": "[encoded data removed]",
      "text/plain": [
       "<Figure size 1200x800 with 1 Axes>"
      ]
     },
     "metadata": {},
     "output_type": "display_data"
    }
   ],
   "source": [
    "# Generamos un gráfico de barras horizontales para las 5 colonias con el promedio de alquiler más alto\n",
    "top_5_colonias.plot(kind='bar', figsize=(12,8), x='Colonia', y='Valor')"
   ]
  },
  {
   "cell_type": "markdown",
   "id": "0c6435af",
   "metadata": {},
   "source": [
    "## NaN values"
   ]
  },
  {
   "cell_type": "markdown",
   "id": "24348ae6",
   "metadata": {},
   "source": [
    "### Check for 'Nan values'"
   ]
  },
  {
   "cell_type": "code",
   "execution_count": 112,
   "id": "38d25b0b",
   "metadata": {},
   "outputs": [
    {
     "data": {
      "application/vnd.microsoft.datawrangler.viewer.v0+json": {
       "columns": [
        {
         "name": "index",
         "rawType": "int64",
         "type": "integer"
        },
        {
         "name": "Tipo",
         "rawType": "bool",
         "type": "boolean"
        },
        {
         "name": "Colonia",
         "rawType": "bool",
         "type": "boolean"
        },
        {
         "name": "Habitaciones",
         "rawType": "bool",
         "type": "boolean"
        },
        {
         "name": "Garages",
         "rawType": "bool",
         "type": "boolean"
        },
        {
         "name": "Suites",
         "rawType": "bool",
         "type": "boolean"
        },
        {
         "name": "Area",
         "rawType": "bool",
         "type": "boolean"
        },
        {
         "name": "Valor",
         "rawType": "bool",
         "type": "boolean"
        },
        {
         "name": "Condominio",
         "rawType": "bool",
         "type": "boolean"
        },
        {
         "name": "Impuesto",
         "rawType": "bool",
         "type": "boolean"
        }
       ],
       "ref": "2e5ac491-2038-4fb8-a407-e62dc86b11c4",
       "rows": [
        [
         "3",
         "False",
         "False",
         "False",
         "False",
         "False",
         "False",
         "False",
         "False",
         "False"
        ],
        [
         "4",
         "False",
         "False",
         "False",
         "False",
         "False",
         "False",
         "False",
         "False",
         "True"
        ],
        [
         "7",
         "False",
         "False",
         "False",
         "False",
         "False",
         "False",
         "False",
         "True",
         "True"
        ],
        [
         "8",
         "False",
         "False",
         "False",
         "False",
         "False",
         "False",
         "False",
         "False",
         "False"
        ],
        [
         "10",
         "False",
         "False",
         "False",
         "False",
         "False",
         "False",
         "False",
         "False",
         "False"
        ],
        [
         "13",
         "False",
         "False",
         "False",
         "False",
         "False",
         "False",
         "False",
         "False",
         "False"
        ],
        [
         "14",
         "False",
         "False",
         "False",
         "False",
         "False",
         "False",
         "False",
         "False",
         "False"
        ],
        [
         "16",
         "False",
         "False",
         "False",
         "False",
         "False",
         "False",
         "False",
         "False",
         "True"
        ],
        [
         "18",
         "False",
         "False",
         "False",
         "False",
         "False",
         "False",
         "False",
         "False",
         "False"
        ],
        [
         "19",
         "False",
         "False",
         "False",
         "False",
         "False",
         "False",
         "False",
         "False",
         "False"
        ],
        [
         "20",
         "False",
         "False",
         "False",
         "False",
         "False",
         "False",
         "False",
         "False",
         "False"
        ],
        [
         "21",
         "False",
         "False",
         "False",
         "False",
         "False",
         "False",
         "False",
         "False",
         "True"
        ],
        [
         "22",
         "False",
         "False",
         "False",
         "False",
         "False",
         "False",
         "False",
         "False",
         "False"
        ],
        [
         "23",
         "False",
         "False",
         "False",
         "False",
         "False",
         "False",
         "False",
         "False",
         "False"
        ],
        [
         "25",
         "False",
         "False",
         "False",
         "False",
         "False",
         "False",
         "False",
         "False",
         "False"
        ],
        [
         "28",
         "False",
         "False",
         "False",
         "False",
         "False",
         "False",
         "False",
         "False",
         "False"
        ],
        [
         "29",
         "False",
         "False",
         "False",
         "False",
         "False",
         "False",
         "False",
         "False",
         "False"
        ],
        [
         "30",
         "False",
         "False",
         "False",
         "False",
         "False",
         "False",
         "False",
         "False",
         "False"
        ],
        [
         "33",
         "False",
         "False",
         "False",
         "False",
         "False",
         "False",
         "False",
         "False",
         "False"
        ],
        [
         "34",
         "False",
         "False",
         "False",
         "False",
         "False",
         "False",
         "False",
         "False",
         "False"
        ],
        [
         "37",
         "False",
         "False",
         "False",
         "False",
         "False",
         "False",
         "False",
         "False",
         "False"
        ],
        [
         "38",
         "False",
         "False",
         "False",
         "False",
         "False",
         "False",
         "False",
         "False",
         "False"
        ],
        [
         "39",
         "False",
         "False",
         "False",
         "False",
         "False",
         "False",
         "False",
         "False",
         "False"
        ],
        [
         "42",
         "False",
         "False",
         "False",
         "False",
         "False",
         "False",
         "False",
         "False",
         "False"
        ],
        [
         "43",
         "False",
         "False",
         "False",
         "False",
         "False",
         "False",
         "False",
         "False",
         "False"
        ],
        [
         "44",
         "False",
         "False",
         "False",
         "False",
         "False",
         "False",
         "False",
         "False",
         "False"
        ],
        [
         "45",
         "False",
         "False",
         "False",
         "False",
         "False",
         "False",
         "False",
         "False",
         "True"
        ],
        [
         "47",
         "False",
         "False",
         "False",
         "False",
         "False",
         "False",
         "False",
         "False",
         "False"
        ],
        [
         "48",
         "False",
         "False",
         "False",
         "False",
         "False",
         "False",
         "False",
         "False",
         "True"
        ],
        [
         "49",
         "False",
         "False",
         "False",
         "False",
         "False",
         "False",
         "True",
         "False",
         "False"
        ],
        [
         "56",
         "False",
         "False",
         "False",
         "False",
         "False",
         "False",
         "False",
         "False",
         "False"
        ],
        [
         "57",
         "False",
         "False",
         "False",
         "False",
         "False",
         "False",
         "False",
         "False",
         "False"
        ],
        [
         "58",
         "False",
         "False",
         "False",
         "False",
         "False",
         "False",
         "False",
         "False",
         "False"
        ],
        [
         "59",
         "False",
         "False",
         "False",
         "False",
         "False",
         "False",
         "False",
         "False",
         "False"
        ],
        [
         "60",
         "False",
         "False",
         "False",
         "False",
         "False",
         "False",
         "False",
         "False",
         "False"
        ],
        [
         "61",
         "False",
         "False",
         "False",
         "False",
         "False",
         "False",
         "False",
         "False",
         "False"
        ],
        [
         "62",
         "False",
         "False",
         "False",
         "False",
         "False",
         "False",
         "False",
         "False",
         "False"
        ],
        [
         "63",
         "False",
         "False",
         "False",
         "False",
         "False",
         "False",
         "False",
         "False",
         "False"
        ],
        [
         "64",
         "False",
         "False",
         "False",
         "False",
         "False",
         "False",
         "False",
         "False",
         "True"
        ],
        [
         "66",
         "False",
         "False",
         "False",
         "False",
         "False",
         "False",
         "False",
         "False",
         "False"
        ],
        [
         "68",
         "False",
         "False",
         "False",
         "False",
         "False",
         "False",
         "False",
         "False",
         "False"
        ],
        [
         "71",
         "False",
         "False",
         "False",
         "False",
         "False",
         "False",
         "False",
         "False",
         "False"
        ],
        [
         "72",
         "False",
         "False",
         "False",
         "False",
         "False",
         "False",
         "False",
         "False",
         "False"
        ],
        [
         "74",
         "False",
         "False",
         "False",
         "False",
         "False",
         "False",
         "False",
         "True",
         "True"
        ],
        [
         "75",
         "False",
         "False",
         "False",
         "False",
         "False",
         "False",
         "False",
         "False",
         "False"
        ],
        [
         "79",
         "False",
         "False",
         "False",
         "False",
         "False",
         "False",
         "False",
         "False",
         "False"
        ],
        [
         "80",
         "False",
         "False",
         "False",
         "False",
         "False",
         "False",
         "False",
         "False",
         "False"
        ],
        [
         "82",
         "False",
         "False",
         "False",
         "False",
         "False",
         "False",
         "False",
         "False",
         "False"
        ],
        [
         "83",
         "False",
         "False",
         "False",
         "False",
         "False",
         "False",
         "False",
         "False",
         "False"
        ],
        [
         "84",
         "False",
         "False",
         "False",
         "False",
         "False",
         "False",
         "False",
         "False",
         "True"
        ]
       ],
       "shape": {
        "columns": 9,
        "rows": 14764
       }
      },
      "text/html": [
       "<div>\n",
       "<style scoped>\n",
       "    .dataframe tbody tr th:only-of-type {\n",
       "        vertical-align: middle;\n",
       "    }\n",
       "\n",
       "    .dataframe tbody tr th {\n",
       "        vertical-align: top;\n",
       "    }\n",
       "\n",
       "    .dataframe thead th {\n",
       "        text-align: right;\n",
       "    }\n",
       "</style>\n",
       "<table border=\"1\" class=\"dataframe\">\n",
       "  <thead>\n",
       "    <tr style=\"text-align: right;\">\n",
       "      <th></th>\n",
       "      <th>Tipo</th>\n",
       "      <th>Colonia</th>\n",
       "      <th>Habitaciones</th>\n",
       "      <th>Garages</th>\n",
       "      <th>Suites</th>\n",
       "      <th>Area</th>\n",
       "      <th>Valor</th>\n",
       "      <th>Condominio</th>\n",
       "      <th>Impuesto</th>\n",
       "    </tr>\n",
       "  </thead>\n",
       "  <tbody>\n",
       "    <tr>\n",
       "      <th>3</th>\n",
       "      <td>False</td>\n",
       "      <td>False</td>\n",
       "      <td>False</td>\n",
       "      <td>False</td>\n",
       "      <td>False</td>\n",
       "      <td>False</td>\n",
       "      <td>False</td>\n",
       "      <td>False</td>\n",
       "      <td>False</td>\n",
       "    </tr>\n",
       "    <tr>\n",
       "      <th>4</th>\n",
       "      <td>False</td>\n",
       "      <td>False</td>\n",
       "      <td>False</td>\n",
       "      <td>False</td>\n",
       "      <td>False</td>\n",
       "      <td>False</td>\n",
       "      <td>False</td>\n",
       "      <td>False</td>\n",
       "      <td>True</td>\n",
       "    </tr>\n",
       "    <tr>\n",
       "      <th>7</th>\n",
       "      <td>False</td>\n",
       "      <td>False</td>\n",
       "      <td>False</td>\n",
       "      <td>False</td>\n",
       "      <td>False</td>\n",
       "      <td>False</td>\n",
       "      <td>False</td>\n",
       "      <td>True</td>\n",
       "      <td>True</td>\n",
       "    </tr>\n",
       "    <tr>\n",
       "      <th>8</th>\n",
       "      <td>False</td>\n",
       "      <td>False</td>\n",
       "      <td>False</td>\n",
       "      <td>False</td>\n",
       "      <td>False</td>\n",
       "      <td>False</td>\n",
       "      <td>False</td>\n",
       "      <td>False</td>\n",
       "      <td>False</td>\n",
       "    </tr>\n",
       "    <tr>\n",
       "      <th>10</th>\n",
       "      <td>False</td>\n",
       "      <td>False</td>\n",
       "      <td>False</td>\n",
       "      <td>False</td>\n",
       "      <td>False</td>\n",
       "      <td>False</td>\n",
       "      <td>False</td>\n",
       "      <td>False</td>\n",
       "      <td>False</td>\n",
       "    </tr>\n",
       "    <tr>\n",
       "      <th>...</th>\n",
       "      <td>...</td>\n",
       "      <td>...</td>\n",
       "      <td>...</td>\n",
       "      <td>...</td>\n",
       "      <td>...</td>\n",
       "      <td>...</td>\n",
       "      <td>...</td>\n",
       "      <td>...</td>\n",
       "      <td>...</td>\n",
       "    </tr>\n",
       "    <tr>\n",
       "      <th>25111</th>\n",
       "      <td>False</td>\n",
       "      <td>False</td>\n",
       "      <td>False</td>\n",
       "      <td>False</td>\n",
       "      <td>False</td>\n",
       "      <td>False</td>\n",
       "      <td>False</td>\n",
       "      <td>False</td>\n",
       "      <td>False</td>\n",
       "    </tr>\n",
       "    <tr>\n",
       "      <th>25113</th>\n",
       "      <td>False</td>\n",
       "      <td>False</td>\n",
       "      <td>False</td>\n",
       "      <td>False</td>\n",
       "      <td>False</td>\n",
       "      <td>False</td>\n",
       "      <td>False</td>\n",
       "      <td>False</td>\n",
       "      <td>False</td>\n",
       "    </tr>\n",
       "    <tr>\n",
       "      <th>25114</th>\n",
       "      <td>False</td>\n",
       "      <td>False</td>\n",
       "      <td>False</td>\n",
       "      <td>False</td>\n",
       "      <td>False</td>\n",
       "      <td>False</td>\n",
       "      <td>False</td>\n",
       "      <td>False</td>\n",
       "      <td>False</td>\n",
       "    </tr>\n",
       "    <tr>\n",
       "      <th>25118</th>\n",
       "      <td>False</td>\n",
       "      <td>False</td>\n",
       "      <td>False</td>\n",
       "      <td>False</td>\n",
       "      <td>False</td>\n",
       "      <td>False</td>\n",
       "      <td>False</td>\n",
       "      <td>False</td>\n",
       "      <td>False</td>\n",
       "    </tr>\n",
       "    <tr>\n",
       "      <th>25119</th>\n",
       "      <td>False</td>\n",
       "      <td>False</td>\n",
       "      <td>False</td>\n",
       "      <td>False</td>\n",
       "      <td>False</td>\n",
       "      <td>False</td>\n",
       "      <td>False</td>\n",
       "      <td>False</td>\n",
       "      <td>True</td>\n",
       "    </tr>\n",
       "  </tbody>\n",
       "</table>\n",
       "<p>14764 rows × 9 columns</p>\n",
       "</div>"
      ],
      "text/plain": [
       "        Tipo  Colonia  Habitaciones  Garages  Suites   Area  Valor  \\\n",
       "3      False    False         False    False   False  False  False   \n",
       "4      False    False         False    False   False  False  False   \n",
       "7      False    False         False    False   False  False  False   \n",
       "8      False    False         False    False   False  False  False   \n",
       "10     False    False         False    False   False  False  False   \n",
       "...      ...      ...           ...      ...     ...    ...    ...   \n",
       "25111  False    False         False    False   False  False  False   \n",
       "25113  False    False         False    False   False  False  False   \n",
       "25114  False    False         False    False   False  False  False   \n",
       "25118  False    False         False    False   False  False  False   \n",
       "25119  False    False         False    False   False  False  False   \n",
       "\n",
       "       Condominio  Impuesto  \n",
       "3           False     False  \n",
       "4           False      True  \n",
       "7            True      True  \n",
       "8           False     False  \n",
       "10          False     False  \n",
       "...           ...       ...  \n",
       "25111       False     False  \n",
       "25113       False     False  \n",
       "25114       False     False  \n",
       "25118       False     False  \n",
       "25119       False      True  \n",
       "\n",
       "[14764 rows x 9 columns]"
      ]
     },
     "execution_count": 112,
     "metadata": {},
     "output_type": "execute_result"
    }
   ],
   "source": [
    "# Verifcando la cantidad de datos nulos en todo el DataFrame\n",
    "new_df.isnull()"
   ]
  },
  {
   "cell_type": "code",
   "execution_count": 113,
   "id": "b4a4013c",
   "metadata": {},
   "outputs": [
    {
     "data": {
      "application/vnd.microsoft.datawrangler.viewer.v0+json": {
       "columns": [
        {
         "name": "index",
         "rawType": "object",
         "type": "string"
        },
        {
         "name": "0",
         "rawType": "int64",
         "type": "integer"
        }
       ],
       "ref": "172051e6-67f3-4b9d-8ef1-b39ff92ec1b0",
       "rows": [
        [
         "Tipo",
         "0"
        ],
        [
         "Colonia",
         "0"
        ],
        [
         "Habitaciones",
         "0"
        ],
        [
         "Garages",
         "0"
        ],
        [
         "Suites",
         "0"
        ],
        [
         "Area",
         "0"
        ],
        [
         "Valor",
         "7"
        ],
        [
         "Condominio",
         "493"
        ],
        [
         "Impuesto",
         "3797"
        ]
       ],
       "shape": {
        "columns": 1,
        "rows": 9
       }
      },
      "text/plain": [
       "Tipo               0\n",
       "Colonia            0\n",
       "Habitaciones       0\n",
       "Garages            0\n",
       "Suites             0\n",
       "Area               0\n",
       "Valor              7\n",
       "Condominio       493\n",
       "Impuesto        3797\n",
       "dtype: int64"
      ]
     },
     "execution_count": 113,
     "metadata": {},
     "output_type": "execute_result"
    }
   ],
   "source": [
    "# Sumamos todos los valores nulos del DataFrame para verificar si hay datos faltantes\n",
    "new_df.isnull().sum()"
   ]
  },
  {
   "cell_type": "markdown",
   "id": "23fb5d77",
   "metadata": {},
   "source": [
    "## Handling null values\n",
    "- Replacing null values with a numeric zero (0) as requested by the Machine Learning department"
   ]
  },
  {
   "cell_type": "code",
   "execution_count": 114,
   "id": "23c4eae3",
   "metadata": {},
   "outputs": [
    {
     "data": {
      "application/vnd.microsoft.datawrangler.viewer.v0+json": {
       "columns": [
        {
         "name": "index",
         "rawType": "int64",
         "type": "integer"
        },
        {
         "name": "Tipo",
         "rawType": "object",
         "type": "string"
        },
        {
         "name": "Colonia",
         "rawType": "object",
         "type": "string"
        },
        {
         "name": "Habitaciones",
         "rawType": "int64",
         "type": "integer"
        },
        {
         "name": "Garages",
         "rawType": "int64",
         "type": "integer"
        },
        {
         "name": "Suites",
         "rawType": "int64",
         "type": "integer"
        },
        {
         "name": "Area",
         "rawType": "int64",
         "type": "integer"
        },
        {
         "name": "Valor",
         "rawType": "float64",
         "type": "float"
        },
        {
         "name": "Condominio",
         "rawType": "float64",
         "type": "float"
        },
        {
         "name": "Impuesto",
         "rawType": "float64",
         "type": "float"
        }
       ],
       "ref": "cbaf2c97-0592-4509-a18f-25839e440674",
       "rows": [
        [
         "3",
         "Departamento",
         "Centro Histórico",
         "1",
         "0",
         "0",
         "15",
         "2800.0",
         "1365.0",
         "70.0"
        ],
        [
         "4",
         "Departamento",
         "Del Valle",
         "1",
         "0",
         "0",
         "48",
         "2800.0",
         "805.0",
         "0.0"
        ],
        [
         "7",
         "Departamento",
         "Centro Histórico",
         "1",
         "0",
         "0",
         "36",
         "4200.0",
         "0.0",
         "0.0"
        ],
        [
         "8",
         "Departamento",
         "Condesa",
         "1",
         "0",
         "1",
         "40",
         "7000.0",
         "1963.5",
         "175.0"
        ],
        [
         "10",
         "Departamento",
         "Condesa",
         "4",
         "3",
         "1",
         "243",
         "45500.0",
         "7000.0",
         "2810.5"
        ],
        [
         "13",
         "Departamento",
         "Santa Fe",
         "2",
         "1",
         "1",
         "67",
         "5950.0",
         "2061.5",
         "514.5"
        ],
        [
         "14",
         "Departamento",
         "Narvarte",
         "2",
         "1",
         "0",
         "110",
         "6650.0",
         "2450.0",
         "483.0"
        ],
        [
         "16",
         "Departamento",
         "Narvarte",
         "2",
         "1",
         "0",
         "78",
         "7000.0",
         "2450.0",
         "0.0"
        ],
        [
         "18",
         "Departamento",
         "Coyoacán",
         "3",
         "1",
         "1",
         "125",
         "24500.0",
         "7350.0",
         "1620.5"
        ],
        [
         "19",
         "Departamento",
         "Narvarte",
         "1",
         "0",
         "0",
         "48",
         "2625.0",
         "2702.0",
         "87.5"
        ],
        [
         "20",
         "Departamento",
         "Santa Fe",
         "3",
         "3",
         "1",
         "175",
         "14700.0",
         "5250.0",
         "1750.0"
        ],
        [
         "21",
         "Departamento",
         "Roma",
         "2",
         "1",
         "0",
         "76",
         "8750.0",
         "2590.0",
         "0.0"
        ],
        [
         "22",
         "Departamento",
         "Condesa",
         "3",
         "1",
         "2",
         "378",
         "35000.0",
         "7525.0",
         "2450.0"
        ],
        [
         "23",
         "Departamento",
         "Condesa",
         "3",
         "0",
         "0",
         "180",
         "19250.0",
         "6230.0",
         "1470.0"
        ],
        [
         "25",
         "Departamento",
         "Lomas de Chapultepec",
         "3",
         "1",
         "0",
         "110",
         "13650.0",
         "5250.0",
         "420.0"
        ],
        [
         "28",
         "Departamento",
         "Santa Fe",
         "3",
         "1",
         "2",
         "70",
         "6300.0",
         "3832.5",
         "490.0"
        ],
        [
         "29",
         "Departamento",
         "Condesa",
         "4",
         "1",
         "0",
         "244",
         "17500.0",
         "8750.0",
         "14350.0"
        ],
        [
         "30",
         "Departamento",
         "Santa Fe",
         "3",
         "2",
         "1",
         "110",
         "15750.0",
         "7000.0",
         "1575.0"
        ],
        [
         "33",
         "Departamento",
         "Santa Fe",
         "3",
         "1",
         "1",
         "72",
         "8225.0",
         "2100.0",
         "245.0"
        ],
        [
         "34",
         "Departamento",
         "San Pedro de los Pinos",
         "2",
         "2",
         "1",
         "180",
         "14000.0",
         "8750.0",
         "1050.0"
        ],
        [
         "37",
         "Departamento",
         "Centro Histórico",
         "1",
         "0",
         "0",
         "27",
         "2625.0",
         "1298.5",
         "66.5"
        ],
        [
         "38",
         "Departamento",
         "Coyoacán",
         "1",
         "0",
         "0",
         "35",
         "7000.0",
         "2275.0",
         "262.5"
        ],
        [
         "39",
         "Departamento",
         "Coyoacán",
         "1",
         "0",
         "0",
         "38",
         "4900.0",
         "1855.0",
         "269.5"
        ],
        [
         "42",
         "Departamento",
         "Santa Fe",
         "4",
         "3",
         "3",
         "153",
         "22750.0",
         "8050.0",
         "1519.0"
        ],
        [
         "43",
         "Departamento",
         "Coyoacán",
         "3",
         "1",
         "0",
         "87",
         "11200.0",
         "4567.5",
         "759.5"
        ],
        [
         "44",
         "Departamento",
         "Roma",
         "3",
         "1",
         "1",
         "108",
         "20825.0",
         "4917.5",
         "1011.5"
        ],
        [
         "45",
         "Departamento",
         "Coyoacán",
         "3",
         "2",
         "1",
         "150",
         "28000.0",
         "8400.0",
         "0.0"
        ],
        [
         "47",
         "Departamento",
         "Coyoacán",
         "3",
         "1",
         "1",
         "140",
         "27650.0",
         "10150.0",
         "1750.0"
        ],
        [
         "48",
         "Departamento",
         "Polanco",
         "2",
         "2",
         "0",
         "95",
         "14000.0",
         "4095.0",
         "0.0"
        ],
        [
         "49",
         "Departamento",
         "Santa Fe",
         "2",
         "1",
         "1",
         "70",
         "0.0",
         "3395.0",
         "238.0"
        ],
        [
         "56",
         "Departamento",
         "Lomas de Chapultepec",
         "2",
         "1",
         "1",
         "80",
         "12250.0",
         "3465.0",
         "857.5"
        ],
        [
         "57",
         "Departamento",
         "Santa Fe",
         "4",
         "4",
         "4",
         "240",
         "44450.0",
         "15400.0",
         "5040.0"
        ],
        [
         "58",
         "Departamento",
         "Santa Fe",
         "3",
         "2",
         "1",
         "104",
         "9100.0",
         "4774.0",
         "1421.0"
        ],
        [
         "59",
         "Departamento",
         "San Ángel",
         "2",
         "1",
         "0",
         "70",
         "9800.0",
         "2380.0",
         "343.0"
        ],
        [
         "60",
         "Departamento",
         "Santa Fe",
         "2",
         "1",
         "1",
         "88",
         "9450.0",
         "4550.0",
         "7147.0"
        ],
        [
         "61",
         "Departamento",
         "Centro Histórico",
         "1",
         "1",
         "0",
         "37",
         "3850.0",
         "1890.0",
         "3150.0"
        ],
        [
         "62",
         "Departamento",
         "San Jerónimo",
         "3",
         "4",
         "0",
         "130",
         "19250.0",
         "4924.5",
         "861.0"
        ],
        [
         "63",
         "Departamento",
         "Santa Fe",
         "3",
         "2",
         "2",
         "85",
         "8750.0",
         "4900.0",
         "665.0"
        ],
        [
         "64",
         "Departamento",
         "Del Valle",
         "2",
         "1",
         "0",
         "54",
         "8050.0",
         "2037.0",
         "0.0"
        ],
        [
         "66",
         "Departamento",
         "Coyoacán",
         "3",
         "1",
         "1",
         "120",
         "24500.0",
         "6300.0",
         "1295.0"
        ],
        [
         "68",
         "Departamento",
         "Santa Fe",
         "2",
         "1",
         "1",
         "78",
         "9625.0",
         "4550.0",
         "483.0"
        ],
        [
         "71",
         "Departamento",
         "San Pedro de los Pinos",
         "2",
         "1",
         "0",
         "86",
         "14000.0",
         "4406.5",
         "658.0"
        ],
        [
         "72",
         "Departamento",
         "Santa Fe",
         "1",
         "1",
         "1",
         "70",
         "5950.0",
         "3045.0",
         "500.5"
        ],
        [
         "74",
         "Departamento",
         "Ciudad de los Deportes",
         "2",
         "0",
         "0",
         "80",
         "3500.0",
         "0.0",
         "0.0"
        ],
        [
         "75",
         "Departamento",
         "Narvarte",
         "2",
         "1",
         "0",
         "80",
         "6300.0",
         "3850.0",
         "294.0"
        ],
        [
         "79",
         "Departamento",
         "Narvarte",
         "3",
         "1",
         "0",
         "172",
         "9450.0",
         "2730.0",
         "595.0"
        ],
        [
         "80",
         "Departamento",
         "Coyoacán",
         "3",
         "1",
         "1",
         "145",
         "28000.0",
         "51688.0",
         "15379.0"
        ],
        [
         "82",
         "Departamento",
         "Roma",
         "2",
         "1",
         "1",
         "83",
         "9800.0",
         "1960.0",
         "483.0"
        ],
        [
         "83",
         "Departamento",
         "Roma",
         "2",
         "1",
         "1",
         "80",
         "15050.0",
         "4123.0",
         "654.5"
        ],
        [
         "84",
         "Departamento",
         "Bosques de las Lomas",
         "3",
         "1",
         "2",
         "250",
         "48650.0",
         "8750.0",
         "0.0"
        ]
       ],
       "shape": {
        "columns": 9,
        "rows": 14764
       }
      },
      "text/html": [
       "<div>\n",
       "<style scoped>\n",
       "    .dataframe tbody tr th:only-of-type {\n",
       "        vertical-align: middle;\n",
       "    }\n",
       "\n",
       "    .dataframe tbody tr th {\n",
       "        vertical-align: top;\n",
       "    }\n",
       "\n",
       "    .dataframe thead th {\n",
       "        text-align: right;\n",
       "    }\n",
       "</style>\n",
       "<table border=\"1\" class=\"dataframe\">\n",
       "  <thead>\n",
       "    <tr style=\"text-align: right;\">\n",
       "      <th></th>\n",
       "      <th>Tipo</th>\n",
       "      <th>Colonia</th>\n",
       "      <th>Habitaciones</th>\n",
       "      <th>Garages</th>\n",
       "      <th>Suites</th>\n",
       "      <th>Area</th>\n",
       "      <th>Valor</th>\n",
       "      <th>Condominio</th>\n",
       "      <th>Impuesto</th>\n",
       "    </tr>\n",
       "  </thead>\n",
       "  <tbody>\n",
       "    <tr>\n",
       "      <th>3</th>\n",
       "      <td>Departamento</td>\n",
       "      <td>Centro Histórico</td>\n",
       "      <td>1</td>\n",
       "      <td>0</td>\n",
       "      <td>0</td>\n",
       "      <td>15</td>\n",
       "      <td>2800.0</td>\n",
       "      <td>1365.0</td>\n",
       "      <td>70.0</td>\n",
       "    </tr>\n",
       "    <tr>\n",
       "      <th>4</th>\n",
       "      <td>Departamento</td>\n",
       "      <td>Del Valle</td>\n",
       "      <td>1</td>\n",
       "      <td>0</td>\n",
       "      <td>0</td>\n",
       "      <td>48</td>\n",
       "      <td>2800.0</td>\n",
       "      <td>805.0</td>\n",
       "      <td>0.0</td>\n",
       "    </tr>\n",
       "    <tr>\n",
       "      <th>7</th>\n",
       "      <td>Departamento</td>\n",
       "      <td>Centro Histórico</td>\n",
       "      <td>1</td>\n",
       "      <td>0</td>\n",
       "      <td>0</td>\n",
       "      <td>36</td>\n",
       "      <td>4200.0</td>\n",
       "      <td>0.0</td>\n",
       "      <td>0.0</td>\n",
       "    </tr>\n",
       "    <tr>\n",
       "      <th>8</th>\n",
       "      <td>Departamento</td>\n",
       "      <td>Condesa</td>\n",
       "      <td>1</td>\n",
       "      <td>0</td>\n",
       "      <td>1</td>\n",
       "      <td>40</td>\n",
       "      <td>7000.0</td>\n",
       "      <td>1963.5</td>\n",
       "      <td>175.0</td>\n",
       "    </tr>\n",
       "    <tr>\n",
       "      <th>10</th>\n",
       "      <td>Departamento</td>\n",
       "      <td>Condesa</td>\n",
       "      <td>4</td>\n",
       "      <td>3</td>\n",
       "      <td>1</td>\n",
       "      <td>243</td>\n",
       "      <td>45500.0</td>\n",
       "      <td>7000.0</td>\n",
       "      <td>2810.5</td>\n",
       "    </tr>\n",
       "    <tr>\n",
       "      <th>...</th>\n",
       "      <td>...</td>\n",
       "      <td>...</td>\n",
       "      <td>...</td>\n",
       "      <td>...</td>\n",
       "      <td>...</td>\n",
       "      <td>...</td>\n",
       "      <td>...</td>\n",
       "      <td>...</td>\n",
       "      <td>...</td>\n",
       "    </tr>\n",
       "    <tr>\n",
       "      <th>25111</th>\n",
       "      <td>Departamento</td>\n",
       "      <td>Lomas de Chapultepec</td>\n",
       "      <td>3</td>\n",
       "      <td>0</td>\n",
       "      <td>1</td>\n",
       "      <td>80</td>\n",
       "      <td>10500.0</td>\n",
       "      <td>3535.0</td>\n",
       "      <td>871.5</td>\n",
       "    </tr>\n",
       "    <tr>\n",
       "      <th>25113</th>\n",
       "      <td>Departamento</td>\n",
       "      <td>Coyoacán</td>\n",
       "      <td>3</td>\n",
       "      <td>1</td>\n",
       "      <td>2</td>\n",
       "      <td>150</td>\n",
       "      <td>52500.0</td>\n",
       "      <td>4900.0</td>\n",
       "      <td>2100.0</td>\n",
       "    </tr>\n",
       "    <tr>\n",
       "      <th>25114</th>\n",
       "      <td>Departamento</td>\n",
       "      <td>Narvarte</td>\n",
       "      <td>1</td>\n",
       "      <td>0</td>\n",
       "      <td>0</td>\n",
       "      <td>28</td>\n",
       "      <td>3500.0</td>\n",
       "      <td>1260.0</td>\n",
       "      <td>87.5</td>\n",
       "    </tr>\n",
       "    <tr>\n",
       "      <th>25118</th>\n",
       "      <td>Departamento</td>\n",
       "      <td>Mixcoac</td>\n",
       "      <td>2</td>\n",
       "      <td>1</td>\n",
       "      <td>0</td>\n",
       "      <td>48</td>\n",
       "      <td>4900.0</td>\n",
       "      <td>1781.5</td>\n",
       "      <td>129.5</td>\n",
       "    </tr>\n",
       "    <tr>\n",
       "      <th>25119</th>\n",
       "      <td>Departamento</td>\n",
       "      <td>Lomas de Chapultepec</td>\n",
       "      <td>2</td>\n",
       "      <td>0</td>\n",
       "      <td>0</td>\n",
       "      <td>70</td>\n",
       "      <td>10500.0</td>\n",
       "      <td>2660.0</td>\n",
       "      <td>0.0</td>\n",
       "    </tr>\n",
       "  </tbody>\n",
       "</table>\n",
       "<p>14764 rows × 9 columns</p>\n",
       "</div>"
      ],
      "text/plain": [
       "               Tipo               Colonia  Habitaciones  Garages  Suites  \\\n",
       "3      Departamento      Centro Histórico             1        0       0   \n",
       "4      Departamento             Del Valle             1        0       0   \n",
       "7      Departamento      Centro Histórico             1        0       0   \n",
       "8      Departamento               Condesa             1        0       1   \n",
       "10     Departamento               Condesa             4        3       1   \n",
       "...             ...                   ...           ...      ...     ...   \n",
       "25111  Departamento  Lomas de Chapultepec             3        0       1   \n",
       "25113  Departamento              Coyoacán             3        1       2   \n",
       "25114  Departamento              Narvarte             1        0       0   \n",
       "25118  Departamento               Mixcoac             2        1       0   \n",
       "25119  Departamento  Lomas de Chapultepec             2        0       0   \n",
       "\n",
       "       Area    Valor  Condominio  Impuesto  \n",
       "3        15   2800.0      1365.0      70.0  \n",
       "4        48   2800.0       805.0       0.0  \n",
       "7        36   4200.0         0.0       0.0  \n",
       "8        40   7000.0      1963.5     175.0  \n",
       "10      243  45500.0      7000.0    2810.5  \n",
       "...     ...      ...         ...       ...  \n",
       "25111    80  10500.0      3535.0     871.5  \n",
       "25113   150  52500.0      4900.0    2100.0  \n",
       "25114    28   3500.0      1260.0      87.5  \n",
       "25118    48   4900.0      1781.5     129.5  \n",
       "25119    70  10500.0      2660.0       0.0  \n",
       "\n",
       "[14764 rows x 9 columns]"
      ]
     },
     "execution_count": 114,
     "metadata": {},
     "output_type": "execute_result"
    }
   ],
   "source": [
    "new_df.fillna(0)"
   ]
  },
  {
   "cell_type": "code",
   "execution_count": 115,
   "id": "12ffd6ad",
   "metadata": {},
   "outputs": [
    {
     "data": {
      "application/vnd.microsoft.datawrangler.viewer.v0+json": {
       "columns": [
        {
         "name": "index",
         "rawType": "object",
         "type": "string"
        },
        {
         "name": "0",
         "rawType": "int64",
         "type": "integer"
        }
       ],
       "ref": "06810dcd-2a50-48a4-94ab-484b4978a8a4",
       "rows": [
        [
         "Tipo",
         "0"
        ],
        [
         "Colonia",
         "0"
        ],
        [
         "Habitaciones",
         "0"
        ],
        [
         "Garages",
         "0"
        ],
        [
         "Suites",
         "0"
        ],
        [
         "Area",
         "0"
        ],
        [
         "Valor",
         "0"
        ],
        [
         "Condominio",
         "0"
        ],
        [
         "Impuesto",
         "0"
        ]
       ],
       "shape": {
        "columns": 1,
        "rows": 9
       }
      },
      "text/plain": [
       "Tipo            0\n",
       "Colonia         0\n",
       "Habitaciones    0\n",
       "Garages         0\n",
       "Suites          0\n",
       "Area            0\n",
       "Valor           0\n",
       "Condominio      0\n",
       "Impuesto        0\n",
       "dtype: int64"
      ]
     },
     "execution_count": 115,
     "metadata": {},
     "output_type": "execute_result"
    }
   ],
   "source": [
    "# Reemplazamos los valores nulos con 0\n",
    "new_df = new_df.fillna(0)  \n",
    "\n",
    "# Verificamos nuevamente si hay datos nulos\n",
    "new_df.isnull().sum() # → resultado: 0, es decir, no hay datos nulos"
   ]
  },
  {
   "cell_type": "markdown",
   "id": "dcd5d0ca",
   "metadata": {},
   "source": [
    "## Inconsistent values\n",
    "- Departments where the 'Valor' column (serie) is equal to 0\n",
    "- Departments where the 'Condominio' column (serie) is equal to 0"
   ]
  },
  {
   "cell_type": "markdown",
   "id": "9eb99d22",
   "metadata": {},
   "source": [
    "### Remove/Erase departments with a value of 0 from DataFrame"
   ]
  },
  {
   "cell_type": "code",
   "execution_count": 116,
   "id": "ebf15aa1",
   "metadata": {},
   "outputs": [
    {
     "data": {
      "application/vnd.microsoft.datawrangler.viewer.v0+json": {
       "columns": [
        {
         "name": "index",
         "rawType": "int64",
         "type": "integer"
        },
        {
         "name": "Tipo",
         "rawType": "object",
         "type": "string"
        },
        {
         "name": "Colonia",
         "rawType": "object",
         "type": "string"
        },
        {
         "name": "Habitaciones",
         "rawType": "int64",
         "type": "integer"
        },
        {
         "name": "Garages",
         "rawType": "int64",
         "type": "integer"
        },
        {
         "name": "Suites",
         "rawType": "int64",
         "type": "integer"
        },
        {
         "name": "Area",
         "rawType": "int64",
         "type": "integer"
        },
        {
         "name": "Valor",
         "rawType": "float64",
         "type": "float"
        },
        {
         "name": "Condominio",
         "rawType": "float64",
         "type": "float"
        },
        {
         "name": "Impuesto",
         "rawType": "float64",
         "type": "float"
        }
       ],
       "ref": "860e85b2-0410-491a-b862-a39f037dabdf",
       "rows": [
        [
         "3",
         "Departamento",
         "Centro Histórico",
         "1",
         "0",
         "0",
         "15",
         "2800.0",
         "1365.0",
         "70.0"
        ],
        [
         "4",
         "Departamento",
         "Del Valle",
         "1",
         "0",
         "0",
         "48",
         "2800.0",
         "805.0",
         "0.0"
        ],
        [
         "7",
         "Departamento",
         "Centro Histórico",
         "1",
         "0",
         "0",
         "36",
         "4200.0",
         "0.0",
         "0.0"
        ],
        [
         "8",
         "Departamento",
         "Condesa",
         "1",
         "0",
         "1",
         "40",
         "7000.0",
         "1963.5",
         "175.0"
        ],
        [
         "10",
         "Departamento",
         "Condesa",
         "4",
         "3",
         "1",
         "243",
         "45500.0",
         "7000.0",
         "2810.5"
        ],
        [
         "13",
         "Departamento",
         "Santa Fe",
         "2",
         "1",
         "1",
         "67",
         "5950.0",
         "2061.5",
         "514.5"
        ],
        [
         "14",
         "Departamento",
         "Narvarte",
         "2",
         "1",
         "0",
         "110",
         "6650.0",
         "2450.0",
         "483.0"
        ],
        [
         "16",
         "Departamento",
         "Narvarte",
         "2",
         "1",
         "0",
         "78",
         "7000.0",
         "2450.0",
         "0.0"
        ],
        [
         "18",
         "Departamento",
         "Coyoacán",
         "3",
         "1",
         "1",
         "125",
         "24500.0",
         "7350.0",
         "1620.5"
        ],
        [
         "19",
         "Departamento",
         "Narvarte",
         "1",
         "0",
         "0",
         "48",
         "2625.0",
         "2702.0",
         "87.5"
        ],
        [
         "20",
         "Departamento",
         "Santa Fe",
         "3",
         "3",
         "1",
         "175",
         "14700.0",
         "5250.0",
         "1750.0"
        ],
        [
         "21",
         "Departamento",
         "Roma",
         "2",
         "1",
         "0",
         "76",
         "8750.0",
         "2590.0",
         "0.0"
        ],
        [
         "22",
         "Departamento",
         "Condesa",
         "3",
         "1",
         "2",
         "378",
         "35000.0",
         "7525.0",
         "2450.0"
        ],
        [
         "23",
         "Departamento",
         "Condesa",
         "3",
         "0",
         "0",
         "180",
         "19250.0",
         "6230.0",
         "1470.0"
        ],
        [
         "25",
         "Departamento",
         "Lomas de Chapultepec",
         "3",
         "1",
         "0",
         "110",
         "13650.0",
         "5250.0",
         "420.0"
        ],
        [
         "28",
         "Departamento",
         "Santa Fe",
         "3",
         "1",
         "2",
         "70",
         "6300.0",
         "3832.5",
         "490.0"
        ],
        [
         "29",
         "Departamento",
         "Condesa",
         "4",
         "1",
         "0",
         "244",
         "17500.0",
         "8750.0",
         "14350.0"
        ],
        [
         "30",
         "Departamento",
         "Santa Fe",
         "3",
         "2",
         "1",
         "110",
         "15750.0",
         "7000.0",
         "1575.0"
        ],
        [
         "33",
         "Departamento",
         "Santa Fe",
         "3",
         "1",
         "1",
         "72",
         "8225.0",
         "2100.0",
         "245.0"
        ],
        [
         "34",
         "Departamento",
         "San Pedro de los Pinos",
         "2",
         "2",
         "1",
         "180",
         "14000.0",
         "8750.0",
         "1050.0"
        ],
        [
         "37",
         "Departamento",
         "Centro Histórico",
         "1",
         "0",
         "0",
         "27",
         "2625.0",
         "1298.5",
         "66.5"
        ],
        [
         "38",
         "Departamento",
         "Coyoacán",
         "1",
         "0",
         "0",
         "35",
         "7000.0",
         "2275.0",
         "262.5"
        ],
        [
         "39",
         "Departamento",
         "Coyoacán",
         "1",
         "0",
         "0",
         "38",
         "4900.0",
         "1855.0",
         "269.5"
        ],
        [
         "42",
         "Departamento",
         "Santa Fe",
         "4",
         "3",
         "3",
         "153",
         "22750.0",
         "8050.0",
         "1519.0"
        ],
        [
         "43",
         "Departamento",
         "Coyoacán",
         "3",
         "1",
         "0",
         "87",
         "11200.0",
         "4567.5",
         "759.5"
        ],
        [
         "44",
         "Departamento",
         "Roma",
         "3",
         "1",
         "1",
         "108",
         "20825.0",
         "4917.5",
         "1011.5"
        ],
        [
         "45",
         "Departamento",
         "Coyoacán",
         "3",
         "2",
         "1",
         "150",
         "28000.0",
         "8400.0",
         "0.0"
        ],
        [
         "47",
         "Departamento",
         "Coyoacán",
         "3",
         "1",
         "1",
         "140",
         "27650.0",
         "10150.0",
         "1750.0"
        ],
        [
         "48",
         "Departamento",
         "Polanco",
         "2",
         "2",
         "0",
         "95",
         "14000.0",
         "4095.0",
         "0.0"
        ],
        [
         "49",
         "Departamento",
         "Santa Fe",
         "2",
         "1",
         "1",
         "70",
         "0.0",
         "3395.0",
         "238.0"
        ],
        [
         "56",
         "Departamento",
         "Lomas de Chapultepec",
         "2",
         "1",
         "1",
         "80",
         "12250.0",
         "3465.0",
         "857.5"
        ],
        [
         "57",
         "Departamento",
         "Santa Fe",
         "4",
         "4",
         "4",
         "240",
         "44450.0",
         "15400.0",
         "5040.0"
        ],
        [
         "58",
         "Departamento",
         "Santa Fe",
         "3",
         "2",
         "1",
         "104",
         "9100.0",
         "4774.0",
         "1421.0"
        ],
        [
         "59",
         "Departamento",
         "San Ángel",
         "2",
         "1",
         "0",
         "70",
         "9800.0",
         "2380.0",
         "343.0"
        ],
        [
         "60",
         "Departamento",
         "Santa Fe",
         "2",
         "1",
         "1",
         "88",
         "9450.0",
         "4550.0",
         "7147.0"
        ],
        [
         "61",
         "Departamento",
         "Centro Histórico",
         "1",
         "1",
         "0",
         "37",
         "3850.0",
         "1890.0",
         "3150.0"
        ],
        [
         "62",
         "Departamento",
         "San Jerónimo",
         "3",
         "4",
         "0",
         "130",
         "19250.0",
         "4924.5",
         "861.0"
        ],
        [
         "63",
         "Departamento",
         "Santa Fe",
         "3",
         "2",
         "2",
         "85",
         "8750.0",
         "4900.0",
         "665.0"
        ],
        [
         "64",
         "Departamento",
         "Del Valle",
         "2",
         "1",
         "0",
         "54",
         "8050.0",
         "2037.0",
         "0.0"
        ],
        [
         "66",
         "Departamento",
         "Coyoacán",
         "3",
         "1",
         "1",
         "120",
         "24500.0",
         "6300.0",
         "1295.0"
        ],
        [
         "68",
         "Departamento",
         "Santa Fe",
         "2",
         "1",
         "1",
         "78",
         "9625.0",
         "4550.0",
         "483.0"
        ],
        [
         "71",
         "Departamento",
         "San Pedro de los Pinos",
         "2",
         "1",
         "0",
         "86",
         "14000.0",
         "4406.5",
         "658.0"
        ],
        [
         "72",
         "Departamento",
         "Santa Fe",
         "1",
         "1",
         "1",
         "70",
         "5950.0",
         "3045.0",
         "500.5"
        ],
        [
         "74",
         "Departamento",
         "Ciudad de los Deportes",
         "2",
         "0",
         "0",
         "80",
         "3500.0",
         "0.0",
         "0.0"
        ],
        [
         "75",
         "Departamento",
         "Narvarte",
         "2",
         "1",
         "0",
         "80",
         "6300.0",
         "3850.0",
         "294.0"
        ],
        [
         "79",
         "Departamento",
         "Narvarte",
         "3",
         "1",
         "0",
         "172",
         "9450.0",
         "2730.0",
         "595.0"
        ],
        [
         "80",
         "Departamento",
         "Coyoacán",
         "3",
         "1",
         "1",
         "145",
         "28000.0",
         "51688.0",
         "15379.0"
        ],
        [
         "82",
         "Departamento",
         "Roma",
         "2",
         "1",
         "1",
         "83",
         "9800.0",
         "1960.0",
         "483.0"
        ],
        [
         "83",
         "Departamento",
         "Roma",
         "2",
         "1",
         "1",
         "80",
         "15050.0",
         "4123.0",
         "654.5"
        ],
        [
         "84",
         "Departamento",
         "Bosques de las Lomas",
         "3",
         "1",
         "2",
         "250",
         "48650.0",
         "8750.0",
         "0.0"
        ]
       ],
       "shape": {
        "columns": 9,
        "rows": 14764
       }
      },
      "text/html": [
       "<div>\n",
       "<style scoped>\n",
       "    .dataframe tbody tr th:only-of-type {\n",
       "        vertical-align: middle;\n",
       "    }\n",
       "\n",
       "    .dataframe tbody tr th {\n",
       "        vertical-align: top;\n",
       "    }\n",
       "\n",
       "    .dataframe thead th {\n",
       "        text-align: right;\n",
       "    }\n",
       "</style>\n",
       "<table border=\"1\" class=\"dataframe\">\n",
       "  <thead>\n",
       "    <tr style=\"text-align: right;\">\n",
       "      <th></th>\n",
       "      <th>Tipo</th>\n",
       "      <th>Colonia</th>\n",
       "      <th>Habitaciones</th>\n",
       "      <th>Garages</th>\n",
       "      <th>Suites</th>\n",
       "      <th>Area</th>\n",
       "      <th>Valor</th>\n",
       "      <th>Condominio</th>\n",
       "      <th>Impuesto</th>\n",
       "    </tr>\n",
       "  </thead>\n",
       "  <tbody>\n",
       "    <tr>\n",
       "      <th>3</th>\n",
       "      <td>Departamento</td>\n",
       "      <td>Centro Histórico</td>\n",
       "      <td>1</td>\n",
       "      <td>0</td>\n",
       "      <td>0</td>\n",
       "      <td>15</td>\n",
       "      <td>2800.0</td>\n",
       "      <td>1365.0</td>\n",
       "      <td>70.0</td>\n",
       "    </tr>\n",
       "    <tr>\n",
       "      <th>4</th>\n",
       "      <td>Departamento</td>\n",
       "      <td>Del Valle</td>\n",
       "      <td>1</td>\n",
       "      <td>0</td>\n",
       "      <td>0</td>\n",
       "      <td>48</td>\n",
       "      <td>2800.0</td>\n",
       "      <td>805.0</td>\n",
       "      <td>0.0</td>\n",
       "    </tr>\n",
       "    <tr>\n",
       "      <th>7</th>\n",
       "      <td>Departamento</td>\n",
       "      <td>Centro Histórico</td>\n",
       "      <td>1</td>\n",
       "      <td>0</td>\n",
       "      <td>0</td>\n",
       "      <td>36</td>\n",
       "      <td>4200.0</td>\n",
       "      <td>0.0</td>\n",
       "      <td>0.0</td>\n",
       "    </tr>\n",
       "    <tr>\n",
       "      <th>8</th>\n",
       "      <td>Departamento</td>\n",
       "      <td>Condesa</td>\n",
       "      <td>1</td>\n",
       "      <td>0</td>\n",
       "      <td>1</td>\n",
       "      <td>40</td>\n",
       "      <td>7000.0</td>\n",
       "      <td>1963.5</td>\n",
       "      <td>175.0</td>\n",
       "    </tr>\n",
       "    <tr>\n",
       "      <th>10</th>\n",
       "      <td>Departamento</td>\n",
       "      <td>Condesa</td>\n",
       "      <td>4</td>\n",
       "      <td>3</td>\n",
       "      <td>1</td>\n",
       "      <td>243</td>\n",
       "      <td>45500.0</td>\n",
       "      <td>7000.0</td>\n",
       "      <td>2810.5</td>\n",
       "    </tr>\n",
       "    <tr>\n",
       "      <th>...</th>\n",
       "      <td>...</td>\n",
       "      <td>...</td>\n",
       "      <td>...</td>\n",
       "      <td>...</td>\n",
       "      <td>...</td>\n",
       "      <td>...</td>\n",
       "      <td>...</td>\n",
       "      <td>...</td>\n",
       "      <td>...</td>\n",
       "    </tr>\n",
       "    <tr>\n",
       "      <th>25111</th>\n",
       "      <td>Departamento</td>\n",
       "      <td>Lomas de Chapultepec</td>\n",
       "      <td>3</td>\n",
       "      <td>0</td>\n",
       "      <td>1</td>\n",
       "      <td>80</td>\n",
       "      <td>10500.0</td>\n",
       "      <td>3535.0</td>\n",
       "      <td>871.5</td>\n",
       "    </tr>\n",
       "    <tr>\n",
       "      <th>25113</th>\n",
       "      <td>Departamento</td>\n",
       "      <td>Coyoacán</td>\n",
       "      <td>3</td>\n",
       "      <td>1</td>\n",
       "      <td>2</td>\n",
       "      <td>150</td>\n",
       "      <td>52500.0</td>\n",
       "      <td>4900.0</td>\n",
       "      <td>2100.0</td>\n",
       "    </tr>\n",
       "    <tr>\n",
       "      <th>25114</th>\n",
       "      <td>Departamento</td>\n",
       "      <td>Narvarte</td>\n",
       "      <td>1</td>\n",
       "      <td>0</td>\n",
       "      <td>0</td>\n",
       "      <td>28</td>\n",
       "      <td>3500.0</td>\n",
       "      <td>1260.0</td>\n",
       "      <td>87.5</td>\n",
       "    </tr>\n",
       "    <tr>\n",
       "      <th>25118</th>\n",
       "      <td>Departamento</td>\n",
       "      <td>Mixcoac</td>\n",
       "      <td>2</td>\n",
       "      <td>1</td>\n",
       "      <td>0</td>\n",
       "      <td>48</td>\n",
       "      <td>4900.0</td>\n",
       "      <td>1781.5</td>\n",
       "      <td>129.5</td>\n",
       "    </tr>\n",
       "    <tr>\n",
       "      <th>25119</th>\n",
       "      <td>Departamento</td>\n",
       "      <td>Lomas de Chapultepec</td>\n",
       "      <td>2</td>\n",
       "      <td>0</td>\n",
       "      <td>0</td>\n",
       "      <td>70</td>\n",
       "      <td>10500.0</td>\n",
       "      <td>2660.0</td>\n",
       "      <td>0.0</td>\n",
       "    </tr>\n",
       "  </tbody>\n",
       "</table>\n",
       "<p>14764 rows × 9 columns</p>\n",
       "</div>"
      ],
      "text/plain": [
       "               Tipo               Colonia  Habitaciones  Garages  Suites  \\\n",
       "3      Departamento      Centro Histórico             1        0       0   \n",
       "4      Departamento             Del Valle             1        0       0   \n",
       "7      Departamento      Centro Histórico             1        0       0   \n",
       "8      Departamento               Condesa             1        0       1   \n",
       "10     Departamento               Condesa             4        3       1   \n",
       "...             ...                   ...           ...      ...     ...   \n",
       "25111  Departamento  Lomas de Chapultepec             3        0       1   \n",
       "25113  Departamento              Coyoacán             3        1       2   \n",
       "25114  Departamento              Narvarte             1        0       0   \n",
       "25118  Departamento               Mixcoac             2        1       0   \n",
       "25119  Departamento  Lomas de Chapultepec             2        0       0   \n",
       "\n",
       "       Area    Valor  Condominio  Impuesto  \n",
       "3        15   2800.0      1365.0      70.0  \n",
       "4        48   2800.0       805.0       0.0  \n",
       "7        36   4200.0         0.0       0.0  \n",
       "8        40   7000.0      1963.5     175.0  \n",
       "10      243  45500.0      7000.0    2810.5  \n",
       "...     ...      ...         ...       ...  \n",
       "25111    80  10500.0      3535.0     871.5  \n",
       "25113   150  52500.0      4900.0    2100.0  \n",
       "25114    28   3500.0      1260.0      87.5  \n",
       "25118    48   4900.0      1781.5     129.5  \n",
       "25119    70  10500.0      2660.0       0.0  \n",
       "\n",
       "[14764 rows x 9 columns]"
      ]
     },
     "execution_count": 116,
     "metadata": {},
     "output_type": "execute_result"
    }
   ],
   "source": [
    "# Verificamos los tipos de datos de las columnas (Solo para comprobar que no se hayan modificado)\n",
    "new_df"
   ]
  },
  {
   "cell_type": "code",
   "execution_count": 117,
   "id": "42df8f7d",
   "metadata": {},
   "outputs": [
    {
     "data": {
      "application/vnd.microsoft.datawrangler.viewer.v0+json": {
       "columns": [
        {
         "name": "index",
         "rawType": "int64",
         "type": "integer"
        },
        {
         "name": "Tipo",
         "rawType": "object",
         "type": "string"
        },
        {
         "name": "Colonia",
         "rawType": "object",
         "type": "string"
        },
        {
         "name": "Habitaciones",
         "rawType": "int64",
         "type": "integer"
        },
        {
         "name": "Garages",
         "rawType": "int64",
         "type": "integer"
        },
        {
         "name": "Suites",
         "rawType": "int64",
         "type": "integer"
        },
        {
         "name": "Area",
         "rawType": "int64",
         "type": "integer"
        },
        {
         "name": "Valor",
         "rawType": "float64",
         "type": "float"
        },
        {
         "name": "Condominio",
         "rawType": "float64",
         "type": "float"
        },
        {
         "name": "Impuesto",
         "rawType": "float64",
         "type": "float"
        }
       ],
       "ref": "c4e7e7c7-c1b1-455a-9d24-d4006f01c56c",
       "rows": [
        [
         "7",
         "Departamento",
         "Centro Histórico",
         "1",
         "0",
         "0",
         "36",
         "4200.0",
         "0.0",
         "0.0"
        ],
        [
         "49",
         "Departamento",
         "Santa Fe",
         "2",
         "1",
         "1",
         "70",
         "0.0",
         "3395.0",
         "238.0"
        ],
        [
         "74",
         "Departamento",
         "Ciudad de los Deportes",
         "2",
         "0",
         "0",
         "80",
         "3500.0",
         "0.0",
         "0.0"
        ],
        [
         "116",
         "Departamento",
         "El Rosedal",
         "2",
         "1",
         "0",
         "50",
         "3850.0",
         "0.0",
         "0.0"
        ],
        [
         "136",
         "Departamento",
         "Santa Fe",
         "1",
         "1",
         "1",
         "65",
         "8225.0",
         "0.0",
         "0.0"
        ],
        [
         "185",
         "Departamento",
         "Villa de Cortés",
         "1",
         "0",
         "0",
         "46",
         "3500.0",
         "0.0",
         "0.0"
        ],
        [
         "199",
         "Departamento",
         "Lomas de Chapultepec",
         "3",
         "0",
         "1",
         "85",
         "29750.0",
         "0.0",
         "6016.5"
        ],
        [
         "432",
         "Departamento",
         "Villa Coapa",
         "2",
         "1",
         "0",
         "83",
         "3325.0",
         "0.0",
         "45.5"
        ],
        [
         "504",
         "Departamento",
         "El Contadero",
         "2",
         "0",
         "0",
         "92",
         "5600.0",
         "0.0",
         "346.5"
        ],
        [
         "527",
         "Departamento",
         "Ciudad de los Deportes",
         "1",
         "0",
         "1",
         "50",
         "2100.0",
         "0.0",
         "0.0"
        ],
        [
         "552",
         "Departamento",
         "Narvarte",
         "2",
         "0",
         "1",
         "80",
         "4550.0",
         "0.0",
         "287.0"
        ],
        [
         "616",
         "Departamento",
         "Condesa",
         "2",
         "0",
         "0",
         "56",
         "10500.0",
         "0.0",
         "0.0"
        ],
        [
         "673",
         "Departamento",
         "San Andrés Tetepilco",
         "1",
         "0",
         "0",
         "58",
         "3325.0",
         "0.0",
         "0.0"
        ],
        [
         "681",
         "Departamento",
         "El Rosedal",
         "1",
         "0",
         "0",
         "33",
         "2625.0",
         "0.0",
         "0.0"
        ],
        [
         "719",
         "Departamento",
         "Loma Bonita",
         "1",
         "0",
         "0",
         "60",
         "2450.0",
         "0.0",
         "0.0"
        ],
        [
         "860",
         "Departamento",
         "Lindavista",
         "1",
         "0",
         "0",
         "15",
         "1225.0",
         "0.0",
         "0.0"
        ],
        [
         "961",
         "Departamento",
         "Condesa",
         "1",
         "0",
         "0",
         "25",
         "7000.0",
         "0.0",
         "0.0"
        ],
        [
         "1058",
         "Departamento",
         "Loma Bonita",
         "1",
         "0",
         "0",
         "30",
         "1575.0",
         "0.0",
         "0.0"
        ],
        [
         "1070",
         "Departamento",
         "Moctezuma",
         "2",
         "0",
         "0",
         "70",
         "3500.0",
         "0.0",
         "0.0"
        ],
        [
         "1095",
         "Departamento",
         "Condesa",
         "3",
         "0",
         "1",
         "110",
         "28000.0",
         "0.0",
         "0.0"
        ],
        [
         "1216",
         "Departamento",
         "Condesa",
         "2",
         "0",
         "1",
         "70",
         "14000.0",
         "0.0",
         "0.0"
        ],
        [
         "1305",
         "Departamento",
         "Potrero de San Bernardino",
         "1",
         "0",
         "0",
         "25",
         "1120.0",
         "0.0",
         "0.0"
        ],
        [
         "1421",
         "Departamento",
         "Arboledas",
         "3",
         "1",
         "1",
         "146",
         "8400.0",
         "0.0",
         "448.0"
        ],
        [
         "1460",
         "Departamento",
         "Santa Fe",
         "2",
         "1",
         "1",
         "78",
         "10500.0",
         "0.0",
         "0.0"
        ],
        [
         "1614",
         "Departamento",
         "Residencial Emiliano Zapata",
         "2",
         "1",
         "0",
         "75",
         "3500.0",
         "0.0",
         "0.0"
        ],
        [
         "1648",
         "Departamento",
         "Napoles",
         "2",
         "0",
         "0",
         "75",
         "0.0",
         "3073.0",
         "0.0"
        ],
        [
         "1688",
         "Departamento",
         "Nueva Santa María",
         "3",
         "0",
         "0",
         "75",
         "4550.0",
         "0.0",
         "0.0"
        ],
        [
         "1812",
         "Departamento",
         "San Jerónimo",
         "3",
         "1",
         "1",
         "115",
         "13825.0",
         "0.0",
         "0.0"
        ],
        [
         "1826",
         "Departamento",
         "Condesa",
         "1",
         "0",
         "0",
         "20",
         "10500.0",
         "0.0",
         "0.0"
        ],
        [
         "1857",
         "Departamento",
         "Villa de Cortés",
         "2",
         "0",
         "0",
         "117",
         "4550.0",
         "0.0",
         "385.0"
        ],
        [
         "1874",
         "Departamento",
         "Santa Marta Acatitla",
         "2",
         "0",
         "0",
         "40",
         "2100.0",
         "0.0",
         "0.0"
        ],
        [
         "1892",
         "Departamento",
         "Condesa",
         "1",
         "0",
         "0",
         "55",
         "8750.0",
         "0.0",
         "0.0"
        ],
        [
         "1924",
         "Departamento",
         "Culhuacán CTM",
         "2",
         "0",
         "0",
         "96",
         "4375.0",
         "0.0",
         "269.5"
        ],
        [
         "1946",
         "Departamento",
         "Lomas de Chapultepec",
         "3",
         "0",
         "0",
         "90",
         "35000.0",
         "0.0",
         "0.0"
        ],
        [
         "1993",
         "Departamento",
         "Condesa",
         "1",
         "0",
         "1",
         "30",
         "9450.0",
         "0.0",
         "0.0"
        ],
        [
         "2143",
         "Departamento",
         "Loma Bonita",
         "2",
         "0",
         "0",
         "57",
         "3325.0",
         "0.0",
         "0.0"
        ],
        [
         "2211",
         "Departamento",
         "Roma",
         "2",
         "0",
         "0",
         "95",
         "0.0",
         "3535.0",
         "595.0"
        ],
        [
         "2236",
         "Departamento",
         "Condesa",
         "2",
         "0",
         "0",
         "72",
         "0.0",
         "2975.0",
         "0.0"
        ],
        [
         "2240",
         "Departamento",
         "Loma Bonita",
         "2",
         "0",
         "0",
         "58",
         "2975.0",
         "0.0",
         "0.0"
        ],
        [
         "2245",
         "Departamento",
         "Condesa",
         "2",
         "0",
         "0",
         "45",
         "8750.0",
         "0.0",
         "0.0"
        ],
        [
         "2248",
         "Departamento",
         "Santa Fe",
         "1",
         "1",
         "0",
         "84",
         "14000.0",
         "0.0",
         "0.0"
        ],
        [
         "2295",
         "Departamento",
         "Condesa",
         "1",
         "0",
         "0",
         "35",
         "15750.0",
         "0.0",
         "0.0"
        ],
        [
         "2335",
         "Departamento",
         "Villa de Guadalupe",
         "1",
         "1",
         "0",
         "36",
         "3500.0",
         "0.0",
         "0.0"
        ],
        [
         "2404",
         "Departamento",
         "Condesa",
         "2",
         "0",
         "0",
         "65",
         "5250.0",
         "0.0",
         "371.0"
        ],
        [
         "2414",
         "Departamento",
         "Nativitas",
         "2",
         "0",
         "0",
         "50",
         "2625.0",
         "0.0",
         "0.0"
        ],
        [
         "2425",
         "Departamento",
         "San Rafael",
         "2",
         "0",
         "0",
         "55",
         "4550.0",
         "0.0",
         "59.5"
        ],
        [
         "2512",
         "Departamento",
         "Coyoacán",
         "4",
         "2",
         "0",
         "300",
         "105000.0",
         "0.0",
         "0.0"
        ],
        [
         "2826",
         "Departamento",
         "Condesa",
         "2",
         "0",
         "0",
         "110",
         "15750.0",
         "0.0",
         "0.0"
        ],
        [
         "2848",
         "Departamento",
         "Condesa",
         "1",
         "0",
         "0",
         "40",
         "5950.0",
         "0.0",
         "0.0"
        ],
        [
         "2852",
         "Departamento",
         "Condesa",
         "2",
         "1",
         "0",
         "80",
         "12250.0",
         "0.0",
         "0.0"
        ]
       ],
       "shape": {
        "columns": 9,
        "rows": 500
       }
      },
      "text/html": [
       "<div>\n",
       "<style scoped>\n",
       "    .dataframe tbody tr th:only-of-type {\n",
       "        vertical-align: middle;\n",
       "    }\n",
       "\n",
       "    .dataframe tbody tr th {\n",
       "        vertical-align: top;\n",
       "    }\n",
       "\n",
       "    .dataframe thead th {\n",
       "        text-align: right;\n",
       "    }\n",
       "</style>\n",
       "<table border=\"1\" class=\"dataframe\">\n",
       "  <thead>\n",
       "    <tr style=\"text-align: right;\">\n",
       "      <th></th>\n",
       "      <th>Tipo</th>\n",
       "      <th>Colonia</th>\n",
       "      <th>Habitaciones</th>\n",
       "      <th>Garages</th>\n",
       "      <th>Suites</th>\n",
       "      <th>Area</th>\n",
       "      <th>Valor</th>\n",
       "      <th>Condominio</th>\n",
       "      <th>Impuesto</th>\n",
       "    </tr>\n",
       "  </thead>\n",
       "  <tbody>\n",
       "    <tr>\n",
       "      <th>7</th>\n",
       "      <td>Departamento</td>\n",
       "      <td>Centro Histórico</td>\n",
       "      <td>1</td>\n",
       "      <td>0</td>\n",
       "      <td>0</td>\n",
       "      <td>36</td>\n",
       "      <td>4200.0</td>\n",
       "      <td>0.0</td>\n",
       "      <td>0.0</td>\n",
       "    </tr>\n",
       "    <tr>\n",
       "      <th>49</th>\n",
       "      <td>Departamento</td>\n",
       "      <td>Santa Fe</td>\n",
       "      <td>2</td>\n",
       "      <td>1</td>\n",
       "      <td>1</td>\n",
       "      <td>70</td>\n",
       "      <td>0.0</td>\n",
       "      <td>3395.0</td>\n",
       "      <td>238.0</td>\n",
       "    </tr>\n",
       "    <tr>\n",
       "      <th>74</th>\n",
       "      <td>Departamento</td>\n",
       "      <td>Ciudad de los Deportes</td>\n",
       "      <td>2</td>\n",
       "      <td>0</td>\n",
       "      <td>0</td>\n",
       "      <td>80</td>\n",
       "      <td>3500.0</td>\n",
       "      <td>0.0</td>\n",
       "      <td>0.0</td>\n",
       "    </tr>\n",
       "    <tr>\n",
       "      <th>116</th>\n",
       "      <td>Departamento</td>\n",
       "      <td>El Rosedal</td>\n",
       "      <td>2</td>\n",
       "      <td>1</td>\n",
       "      <td>0</td>\n",
       "      <td>50</td>\n",
       "      <td>3850.0</td>\n",
       "      <td>0.0</td>\n",
       "      <td>0.0</td>\n",
       "    </tr>\n",
       "    <tr>\n",
       "      <th>136</th>\n",
       "      <td>Departamento</td>\n",
       "      <td>Santa Fe</td>\n",
       "      <td>1</td>\n",
       "      <td>1</td>\n",
       "      <td>1</td>\n",
       "      <td>65</td>\n",
       "      <td>8225.0</td>\n",
       "      <td>0.0</td>\n",
       "      <td>0.0</td>\n",
       "    </tr>\n",
       "    <tr>\n",
       "      <th>...</th>\n",
       "      <td>...</td>\n",
       "      <td>...</td>\n",
       "      <td>...</td>\n",
       "      <td>...</td>\n",
       "      <td>...</td>\n",
       "      <td>...</td>\n",
       "      <td>...</td>\n",
       "      <td>...</td>\n",
       "      <td>...</td>\n",
       "    </tr>\n",
       "    <tr>\n",
       "      <th>24721</th>\n",
       "      <td>Departamento</td>\n",
       "      <td>Doctores</td>\n",
       "      <td>2</td>\n",
       "      <td>0</td>\n",
       "      <td>0</td>\n",
       "      <td>43</td>\n",
       "      <td>3150.0</td>\n",
       "      <td>0.0</td>\n",
       "      <td>56.0</td>\n",
       "    </tr>\n",
       "    <tr>\n",
       "      <th>24736</th>\n",
       "      <td>Departamento</td>\n",
       "      <td>Condesa</td>\n",
       "      <td>1</td>\n",
       "      <td>0</td>\n",
       "      <td>0</td>\n",
       "      <td>30</td>\n",
       "      <td>9100.0</td>\n",
       "      <td>0.0</td>\n",
       "      <td>0.0</td>\n",
       "    </tr>\n",
       "    <tr>\n",
       "      <th>24866</th>\n",
       "      <td>Departamento</td>\n",
       "      <td>Condesa</td>\n",
       "      <td>3</td>\n",
       "      <td>0</td>\n",
       "      <td>0</td>\n",
       "      <td>130</td>\n",
       "      <td>16100.0</td>\n",
       "      <td>0.0</td>\n",
       "      <td>0.0</td>\n",
       "    </tr>\n",
       "    <tr>\n",
       "      <th>24892</th>\n",
       "      <td>Departamento</td>\n",
       "      <td>Loma Bonita</td>\n",
       "      <td>1</td>\n",
       "      <td>0</td>\n",
       "      <td>0</td>\n",
       "      <td>40</td>\n",
       "      <td>1925.0</td>\n",
       "      <td>0.0</td>\n",
       "      <td>0.0</td>\n",
       "    </tr>\n",
       "    <tr>\n",
       "      <th>25014</th>\n",
       "      <td>Departamento</td>\n",
       "      <td>Culhuacán CTM</td>\n",
       "      <td>3</td>\n",
       "      <td>0</td>\n",
       "      <td>1</td>\n",
       "      <td>70</td>\n",
       "      <td>4200.0</td>\n",
       "      <td>0.0</td>\n",
       "      <td>0.0</td>\n",
       "    </tr>\n",
       "  </tbody>\n",
       "</table>\n",
       "<p>500 rows × 9 columns</p>\n",
       "</div>"
      ],
      "text/plain": [
       "               Tipo                 Colonia  Habitaciones  Garages  Suites  \\\n",
       "7      Departamento        Centro Histórico             1        0       0   \n",
       "49     Departamento                Santa Fe             2        1       1   \n",
       "74     Departamento  Ciudad de los Deportes             2        0       0   \n",
       "116    Departamento              El Rosedal             2        1       0   \n",
       "136    Departamento                Santa Fe             1        1       1   \n",
       "...             ...                     ...           ...      ...     ...   \n",
       "24721  Departamento                Doctores             2        0       0   \n",
       "24736  Departamento                 Condesa             1        0       0   \n",
       "24866  Departamento                 Condesa             3        0       0   \n",
       "24892  Departamento             Loma Bonita             1        0       0   \n",
       "25014  Departamento           Culhuacán CTM             3        0       1   \n",
       "\n",
       "       Area    Valor  Condominio  Impuesto  \n",
       "7        36   4200.0         0.0       0.0  \n",
       "49       70      0.0      3395.0     238.0  \n",
       "74       80   3500.0         0.0       0.0  \n",
       "116      50   3850.0         0.0       0.0  \n",
       "136      65   8225.0         0.0       0.0  \n",
       "...     ...      ...         ...       ...  \n",
       "24721    43   3150.0         0.0      56.0  \n",
       "24736    30   9100.0         0.0       0.0  \n",
       "24866   130  16100.0         0.0       0.0  \n",
       "24892    40   1925.0         0.0       0.0  \n",
       "25014    70   4200.0         0.0       0.0  \n",
       "\n",
       "[500 rows x 9 columns]"
      ]
     },
     "execution_count": 117,
     "metadata": {},
     "output_type": "execute_result"
    }
   ],
   "source": [
    "# Verificamos los valores '0' en las columnas 'Valor' y 'Condominio'\n",
    "# '|' operador lógico que significa \"o\" en la consulta\n",
    "new_df.query('Valor == 0 | Condominio == 0') \n"
   ]
  },
  {
   "cell_type": "code",
   "execution_count": 118,
   "id": "691d0b92",
   "metadata": {},
   "outputs": [
    {
     "data": {
      "text/plain": [
       "Index([    7,    49,    74,   116,   136,   185,   199,   432,   504,   527,\n",
       "       ...\n",
       "       24426, 24555, 24563, 24597, 24671, 24721, 24736, 24866, 24892, 25014],\n",
       "      dtype='int64', length=500)"
      ]
     },
     "execution_count": 118,
     "metadata": {},
     "output_type": "execute_result"
    }
   ],
   "source": [
    "# Verificamos los indices de los departamentos con valores '0' en las columnas 'Valor' y 'Condominio'\n",
    "# Este dato nos permitirá eliminar todas estas filas del DataFrame posteriormente\n",
    "new_df.query('Valor == 0 | Condominio == 0').index"
   ]
  },
  {
   "cell_type": "code",
   "execution_count": 119,
   "id": "f353dea7",
   "metadata": {},
   "outputs": [
    {
     "data": {
      "text/plain": [
       "pandas.core.indexes.base.Index"
      ]
     },
     "execution_count": 119,
     "metadata": {},
     "output_type": "execute_result"
    }
   ],
   "source": [
    "# Creación del dataFrame que contiene los indices de los departamentos con valores '0' en las columnas 'Valor' y 'Condominio'\n",
    "new_df_remove = new_df.query('Valor == 0 | Condominio == 0').index\n",
    "type(new_df_remove) \n",
    "# → resultado: <class 'pandas.core.indexes.base.Index'>, es decir, un objeto de tipo Index"
   ]
  },
  {
   "cell_type": "code",
   "execution_count": 120,
   "id": "17769516",
   "metadata": {},
   "outputs": [],
   "source": [
    "# Eliminamos las filas \n",
    "new_df.drop(new_df_remove, axis=0, inplace=True) # 'inplace=True' modifica el df original "
   ]
  },
  {
   "cell_type": "code",
   "execution_count": 121,
   "id": "fac69c17",
   "metadata": {},
   "outputs": [
    {
     "data": {
      "text/plain": [
       "Index([], dtype='int64')"
      ]
     },
     "execution_count": 121,
     "metadata": {},
     "output_type": "execute_result"
    }
   ],
   "source": [
    "# Verificamos nuevamente la cantidad de valores nulos en todo el DataFrame\n",
    "# Corroboramos que no haya valores '0' en las columnas 'Valor' y 'Condominio'\n",
    "new_df.query('Valor == 0 | Condominio == 0').index"
   ]
  },
  {
   "cell_type": "code",
   "execution_count": 122,
   "id": "31bdf6c1",
   "metadata": {},
   "outputs": [
    {
     "data": {
      "application/vnd.microsoft.datawrangler.viewer.v0+json": {
       "columns": [
        {
         "name": "index",
         "rawType": "object",
         "type": "string"
        },
        {
         "name": "0",
         "rawType": "int64",
         "type": "integer"
        }
       ],
       "ref": "f34916d8-60c1-43c7-bf24-bc44eebfbdc9",
       "rows": [
        [
         "Tipo",
         "0"
        ],
        [
         "Colonia",
         "0"
        ],
        [
         "Habitaciones",
         "0"
        ],
        [
         "Garages",
         "0"
        ],
        [
         "Suites",
         "0"
        ],
        [
         "Area",
         "0"
        ],
        [
         "Valor",
         "0"
        ],
        [
         "Condominio",
         "0"
        ],
        [
         "Impuesto",
         "0"
        ]
       ],
       "shape": {
        "columns": 1,
        "rows": 9
       }
      },
      "text/plain": [
       "Tipo            0\n",
       "Colonia         0\n",
       "Habitaciones    0\n",
       "Garages         0\n",
       "Suites          0\n",
       "Area            0\n",
       "Valor           0\n",
       "Condominio      0\n",
       "Impuesto        0\n",
       "dtype: int64"
      ]
     },
     "execution_count": 122,
     "metadata": {},
     "output_type": "execute_result"
    }
   ],
   "source": [
    "# Verificamos nuevamente si hay datos nulos\n",
    "new_df.isnull().sum() "
   ]
  },
  {
   "cell_type": "code",
   "execution_count": 123,
   "id": "1528522e",
   "metadata": {},
   "outputs": [
    {
     "data": {
      "application/vnd.microsoft.datawrangler.viewer.v0+json": {
       "columns": [
        {
         "name": "index",
         "rawType": "int64",
         "type": "integer"
        },
        {
         "name": "Tipo",
         "rawType": "object",
         "type": "string"
        },
        {
         "name": "Colonia",
         "rawType": "object",
         "type": "string"
        },
        {
         "name": "Habitaciones",
         "rawType": "int64",
         "type": "integer"
        },
        {
         "name": "Garages",
         "rawType": "int64",
         "type": "integer"
        },
        {
         "name": "Suites",
         "rawType": "int64",
         "type": "integer"
        },
        {
         "name": "Area",
         "rawType": "int64",
         "type": "integer"
        },
        {
         "name": "Valor",
         "rawType": "float64",
         "type": "float"
        },
        {
         "name": "Condominio",
         "rawType": "float64",
         "type": "float"
        },
        {
         "name": "Impuesto",
         "rawType": "float64",
         "type": "float"
        }
       ],
       "ref": "63ddb8d7-74d6-4532-bc92-084bcc7c6e21",
       "rows": [
        [
         "3",
         "Departamento",
         "Centro Histórico",
         "1",
         "0",
         "0",
         "15",
         "2800.0",
         "1365.0",
         "70.0"
        ],
        [
         "4",
         "Departamento",
         "Del Valle",
         "1",
         "0",
         "0",
         "48",
         "2800.0",
         "805.0",
         "0.0"
        ],
        [
         "8",
         "Departamento",
         "Condesa",
         "1",
         "0",
         "1",
         "40",
         "7000.0",
         "1963.5",
         "175.0"
        ],
        [
         "10",
         "Departamento",
         "Condesa",
         "4",
         "3",
         "1",
         "243",
         "45500.0",
         "7000.0",
         "2810.5"
        ],
        [
         "13",
         "Departamento",
         "Santa Fe",
         "2",
         "1",
         "1",
         "67",
         "5950.0",
         "2061.5",
         "514.5"
        ]
       ],
       "shape": {
        "columns": 9,
        "rows": 5
       }
      },
      "text/html": [
       "<div>\n",
       "<style scoped>\n",
       "    .dataframe tbody tr th:only-of-type {\n",
       "        vertical-align: middle;\n",
       "    }\n",
       "\n",
       "    .dataframe tbody tr th {\n",
       "        vertical-align: top;\n",
       "    }\n",
       "\n",
       "    .dataframe thead th {\n",
       "        text-align: right;\n",
       "    }\n",
       "</style>\n",
       "<table border=\"1\" class=\"dataframe\">\n",
       "  <thead>\n",
       "    <tr style=\"text-align: right;\">\n",
       "      <th></th>\n",
       "      <th>Tipo</th>\n",
       "      <th>Colonia</th>\n",
       "      <th>Habitaciones</th>\n",
       "      <th>Garages</th>\n",
       "      <th>Suites</th>\n",
       "      <th>Area</th>\n",
       "      <th>Valor</th>\n",
       "      <th>Condominio</th>\n",
       "      <th>Impuesto</th>\n",
       "    </tr>\n",
       "  </thead>\n",
       "  <tbody>\n",
       "    <tr>\n",
       "      <th>3</th>\n",
       "      <td>Departamento</td>\n",
       "      <td>Centro Histórico</td>\n",
       "      <td>1</td>\n",
       "      <td>0</td>\n",
       "      <td>0</td>\n",
       "      <td>15</td>\n",
       "      <td>2800.0</td>\n",
       "      <td>1365.0</td>\n",
       "      <td>70.0</td>\n",
       "    </tr>\n",
       "    <tr>\n",
       "      <th>4</th>\n",
       "      <td>Departamento</td>\n",
       "      <td>Del Valle</td>\n",
       "      <td>1</td>\n",
       "      <td>0</td>\n",
       "      <td>0</td>\n",
       "      <td>48</td>\n",
       "      <td>2800.0</td>\n",
       "      <td>805.0</td>\n",
       "      <td>0.0</td>\n",
       "    </tr>\n",
       "    <tr>\n",
       "      <th>8</th>\n",
       "      <td>Departamento</td>\n",
       "      <td>Condesa</td>\n",
       "      <td>1</td>\n",
       "      <td>0</td>\n",
       "      <td>1</td>\n",
       "      <td>40</td>\n",
       "      <td>7000.0</td>\n",
       "      <td>1963.5</td>\n",
       "      <td>175.0</td>\n",
       "    </tr>\n",
       "    <tr>\n",
       "      <th>10</th>\n",
       "      <td>Departamento</td>\n",
       "      <td>Condesa</td>\n",
       "      <td>4</td>\n",
       "      <td>3</td>\n",
       "      <td>1</td>\n",
       "      <td>243</td>\n",
       "      <td>45500.0</td>\n",
       "      <td>7000.0</td>\n",
       "      <td>2810.5</td>\n",
       "    </tr>\n",
       "    <tr>\n",
       "      <th>13</th>\n",
       "      <td>Departamento</td>\n",
       "      <td>Santa Fe</td>\n",
       "      <td>2</td>\n",
       "      <td>1</td>\n",
       "      <td>1</td>\n",
       "      <td>67</td>\n",
       "      <td>5950.0</td>\n",
       "      <td>2061.5</td>\n",
       "      <td>514.5</td>\n",
       "    </tr>\n",
       "  </tbody>\n",
       "</table>\n",
       "</div>"
      ],
      "text/plain": [
       "            Tipo           Colonia  Habitaciones  Garages  Suites  Area  \\\n",
       "3   Departamento  Centro Histórico             1        0       0    15   \n",
       "4   Departamento         Del Valle             1        0       0    48   \n",
       "8   Departamento           Condesa             1        0       1    40   \n",
       "10  Departamento           Condesa             4        3       1   243   \n",
       "13  Departamento          Santa Fe             2        1       1    67   \n",
       "\n",
       "      Valor  Condominio  Impuesto  \n",
       "3    2800.0      1365.0      70.0  \n",
       "4    2800.0       805.0       0.0  \n",
       "8    7000.0      1963.5     175.0  \n",
       "10  45500.0      7000.0    2810.5  \n",
       "13   5950.0      2061.5     514.5  "
      ]
     },
     "execution_count": 123,
     "metadata": {},
     "output_type": "execute_result"
    }
   ],
   "source": [
    "# Visualizamos que la columna 'Tipo' maneja para todos el mismo valor, asi que es ya no es necesario (podemos eliminarlo)\n",
    "new_df.head()"
   ]
  },
  {
   "cell_type": "code",
   "execution_count": 124,
   "id": "763389f0",
   "metadata": {},
   "outputs": [],
   "source": [
    "# Verificamos los tipos de datos de las columnas (Solo para comprobar que no se hayan modificado)\n",
    "# new_df['Tipo'].unique() ← El resultado es solo 'departamento', pero como ya se borro lineas abajo con el atributo (inplace=true) ya no aparece"
   ]
  },
  {
   "cell_type": "code",
   "execution_count": 125,
   "id": "7d8d0d10",
   "metadata": {},
   "outputs": [
    {
     "data": {
      "application/vnd.microsoft.datawrangler.viewer.v0+json": {
       "columns": [
        {
         "name": "index",
         "rawType": "int64",
         "type": "integer"
        },
        {
         "name": "Tipo",
         "rawType": "object",
         "type": "string"
        },
        {
         "name": "Colonia",
         "rawType": "object",
         "type": "string"
        },
        {
         "name": "Habitaciones",
         "rawType": "int64",
         "type": "integer"
        },
        {
         "name": "Garages",
         "rawType": "int64",
         "type": "integer"
        },
        {
         "name": "Suites",
         "rawType": "int64",
         "type": "integer"
        },
        {
         "name": "Area",
         "rawType": "int64",
         "type": "integer"
        },
        {
         "name": "Valor",
         "rawType": "float64",
         "type": "float"
        },
        {
         "name": "Condominio",
         "rawType": "float64",
         "type": "float"
        },
        {
         "name": "Impuesto",
         "rawType": "float64",
         "type": "float"
        }
       ],
       "ref": "575b2073-f4df-4e31-a7e3-bbc949a18c47",
       "rows": [
        [
         "1709",
         "Departamento",
         "Condesa",
         "1",
         "0",
         "0",
         "40",
         "5250.0",
         "1785.0",
         "189.0"
        ],
        [
         "7864",
         "Departamento",
         "Condesa",
         "2",
         "0",
         "0",
         "81",
         "8330.0",
         "1400.0",
         "0.0"
        ],
        [
         "24249",
         "Departamento",
         "Roma",
         "3",
         "1",
         "1",
         "101",
         "17850.0",
         "4515.0",
         "0.0"
        ],
        [
         "10333",
         "Departamento",
         "San Ángel",
         "1",
         "0",
         "0",
         "45",
         "7000.0",
         "2450.0",
         "1225.0"
        ],
        [
         "13919",
         "Departamento",
         "Villa de Guadalupe",
         "2",
         "1",
         "2",
         "61",
         "4830.0",
         "2264.5",
         "255.5"
        ],
        [
         "3116",
         "Departamento",
         "Lomas de Chapultepec",
         "2",
         "2",
         "1",
         "89",
         "22400.0",
         "6849.5",
         "1529.5"
        ],
        [
         "7786",
         "Departamento",
         "Coyoacán",
         "3",
         "1",
         "1",
         "130",
         "12250.0",
         "3958.5",
         "0.0"
        ],
        [
         "19307",
         "Departamento",
         "Condesa",
         "1",
         "0",
         "1",
         "37",
         "8050.0",
         "1547.0",
         "77.0"
        ],
        [
         "5665",
         "Departamento",
         "Lomas de Chapultepec",
         "3",
         "1",
         "0",
         "90",
         "15575.0",
         "3150.0",
         "700.0"
        ],
        [
         "24505",
         "Departamento",
         "Roma",
         "2",
         "1",
         "1",
         "70",
         "21000.0",
         "3150.0",
         "0.0"
        ]
       ],
       "shape": {
        "columns": 9,
        "rows": 10
       }
      },
      "text/html": [
       "<div>\n",
       "<style scoped>\n",
       "    .dataframe tbody tr th:only-of-type {\n",
       "        vertical-align: middle;\n",
       "    }\n",
       "\n",
       "    .dataframe tbody tr th {\n",
       "        vertical-align: top;\n",
       "    }\n",
       "\n",
       "    .dataframe thead th {\n",
       "        text-align: right;\n",
       "    }\n",
       "</style>\n",
       "<table border=\"1\" class=\"dataframe\">\n",
       "  <thead>\n",
       "    <tr style=\"text-align: right;\">\n",
       "      <th></th>\n",
       "      <th>Tipo</th>\n",
       "      <th>Colonia</th>\n",
       "      <th>Habitaciones</th>\n",
       "      <th>Garages</th>\n",
       "      <th>Suites</th>\n",
       "      <th>Area</th>\n",
       "      <th>Valor</th>\n",
       "      <th>Condominio</th>\n",
       "      <th>Impuesto</th>\n",
       "    </tr>\n",
       "  </thead>\n",
       "  <tbody>\n",
       "    <tr>\n",
       "      <th>1709</th>\n",
       "      <td>Departamento</td>\n",
       "      <td>Condesa</td>\n",
       "      <td>1</td>\n",
       "      <td>0</td>\n",
       "      <td>0</td>\n",
       "      <td>40</td>\n",
       "      <td>5250.0</td>\n",
       "      <td>1785.0</td>\n",
       "      <td>189.0</td>\n",
       "    </tr>\n",
       "    <tr>\n",
       "      <th>7864</th>\n",
       "      <td>Departamento</td>\n",
       "      <td>Condesa</td>\n",
       "      <td>2</td>\n",
       "      <td>0</td>\n",
       "      <td>0</td>\n",
       "      <td>81</td>\n",
       "      <td>8330.0</td>\n",
       "      <td>1400.0</td>\n",
       "      <td>0.0</td>\n",
       "    </tr>\n",
       "    <tr>\n",
       "      <th>24249</th>\n",
       "      <td>Departamento</td>\n",
       "      <td>Roma</td>\n",
       "      <td>3</td>\n",
       "      <td>1</td>\n",
       "      <td>1</td>\n",
       "      <td>101</td>\n",
       "      <td>17850.0</td>\n",
       "      <td>4515.0</td>\n",
       "      <td>0.0</td>\n",
       "    </tr>\n",
       "    <tr>\n",
       "      <th>10333</th>\n",
       "      <td>Departamento</td>\n",
       "      <td>San Ángel</td>\n",
       "      <td>1</td>\n",
       "      <td>0</td>\n",
       "      <td>0</td>\n",
       "      <td>45</td>\n",
       "      <td>7000.0</td>\n",
       "      <td>2450.0</td>\n",
       "      <td>1225.0</td>\n",
       "    </tr>\n",
       "    <tr>\n",
       "      <th>13919</th>\n",
       "      <td>Departamento</td>\n",
       "      <td>Villa de Guadalupe</td>\n",
       "      <td>2</td>\n",
       "      <td>1</td>\n",
       "      <td>2</td>\n",
       "      <td>61</td>\n",
       "      <td>4830.0</td>\n",
       "      <td>2264.5</td>\n",
       "      <td>255.5</td>\n",
       "    </tr>\n",
       "    <tr>\n",
       "      <th>3116</th>\n",
       "      <td>Departamento</td>\n",
       "      <td>Lomas de Chapultepec</td>\n",
       "      <td>2</td>\n",
       "      <td>2</td>\n",
       "      <td>1</td>\n",
       "      <td>89</td>\n",
       "      <td>22400.0</td>\n",
       "      <td>6849.5</td>\n",
       "      <td>1529.5</td>\n",
       "    </tr>\n",
       "    <tr>\n",
       "      <th>7786</th>\n",
       "      <td>Departamento</td>\n",
       "      <td>Coyoacán</td>\n",
       "      <td>3</td>\n",
       "      <td>1</td>\n",
       "      <td>1</td>\n",
       "      <td>130</td>\n",
       "      <td>12250.0</td>\n",
       "      <td>3958.5</td>\n",
       "      <td>0.0</td>\n",
       "    </tr>\n",
       "    <tr>\n",
       "      <th>19307</th>\n",
       "      <td>Departamento</td>\n",
       "      <td>Condesa</td>\n",
       "      <td>1</td>\n",
       "      <td>0</td>\n",
       "      <td>1</td>\n",
       "      <td>37</td>\n",
       "      <td>8050.0</td>\n",
       "      <td>1547.0</td>\n",
       "      <td>77.0</td>\n",
       "    </tr>\n",
       "    <tr>\n",
       "      <th>5665</th>\n",
       "      <td>Departamento</td>\n",
       "      <td>Lomas de Chapultepec</td>\n",
       "      <td>3</td>\n",
       "      <td>1</td>\n",
       "      <td>0</td>\n",
       "      <td>90</td>\n",
       "      <td>15575.0</td>\n",
       "      <td>3150.0</td>\n",
       "      <td>700.0</td>\n",
       "    </tr>\n",
       "    <tr>\n",
       "      <th>24505</th>\n",
       "      <td>Departamento</td>\n",
       "      <td>Roma</td>\n",
       "      <td>2</td>\n",
       "      <td>1</td>\n",
       "      <td>1</td>\n",
       "      <td>70</td>\n",
       "      <td>21000.0</td>\n",
       "      <td>3150.0</td>\n",
       "      <td>0.0</td>\n",
       "    </tr>\n",
       "  </tbody>\n",
       "</table>\n",
       "</div>"
      ],
      "text/plain": [
       "               Tipo               Colonia  Habitaciones  Garages  Suites  \\\n",
       "1709   Departamento               Condesa             1        0       0   \n",
       "7864   Departamento               Condesa             2        0       0   \n",
       "24249  Departamento                  Roma             3        1       1   \n",
       "10333  Departamento             San Ángel             1        0       0   \n",
       "13919  Departamento    Villa de Guadalupe             2        1       2   \n",
       "3116   Departamento  Lomas de Chapultepec             2        2       1   \n",
       "7786   Departamento              Coyoacán             3        1       1   \n",
       "19307  Departamento               Condesa             1        0       1   \n",
       "5665   Departamento  Lomas de Chapultepec             3        1       0   \n",
       "24505  Departamento                  Roma             2        1       1   \n",
       "\n",
       "       Area    Valor  Condominio  Impuesto  \n",
       "1709     40   5250.0      1785.0     189.0  \n",
       "7864     81   8330.0      1400.0       0.0  \n",
       "24249   101  17850.0      4515.0       0.0  \n",
       "10333    45   7000.0      2450.0    1225.0  \n",
       "13919    61   4830.0      2264.5     255.5  \n",
       "3116     89  22400.0      6849.5    1529.5  \n",
       "7786    130  12250.0      3958.5       0.0  \n",
       "19307    37   8050.0      1547.0      77.0  \n",
       "5665     90  15575.0      3150.0     700.0  \n",
       "24505    70  21000.0      3150.0       0.0  "
      ]
     },
     "execution_count": 125,
     "metadata": {},
     "output_type": "execute_result"
    }
   ],
   "source": [
    "new_df.sample(10)"
   ]
  },
  {
   "cell_type": "markdown",
   "id": "f7f25e42",
   "metadata": {},
   "source": [
    "## APLYING FILTERS"
   ]
  },
  {
   "cell_type": "markdown",
   "id": "072f5a8b",
   "metadata": {},
   "source": [
    "### Apartamentos que tienen **1 dormitorio y un alquiler menor a MXN 4200**.\n"
   ]
  },
  {
   "cell_type": "code",
   "execution_count": 126,
   "id": "f50d9ccf",
   "metadata": {},
   "outputs": [
    {
     "data": {
      "application/vnd.microsoft.datawrangler.viewer.v0+json": {
       "columns": [
        {
         "name": "index",
         "rawType": "int64",
         "type": "integer"
        },
        {
         "name": "Habitaciones",
         "rawType": "bool",
         "type": "boolean"
        }
       ],
       "ref": "e751a224-c22f-437b-a835-cb66c57779b2",
       "rows": [
        [
         "3",
         "True"
        ],
        [
         "4",
         "True"
        ],
        [
         "8",
         "True"
        ],
        [
         "10",
         "False"
        ],
        [
         "13",
         "False"
        ],
        [
         "14",
         "False"
        ],
        [
         "16",
         "False"
        ],
        [
         "18",
         "False"
        ],
        [
         "19",
         "True"
        ],
        [
         "20",
         "False"
        ],
        [
         "21",
         "False"
        ],
        [
         "22",
         "False"
        ],
        [
         "23",
         "False"
        ],
        [
         "25",
         "False"
        ],
        [
         "28",
         "False"
        ],
        [
         "29",
         "False"
        ],
        [
         "30",
         "False"
        ],
        [
         "33",
         "False"
        ],
        [
         "34",
         "False"
        ],
        [
         "37",
         "True"
        ],
        [
         "38",
         "True"
        ],
        [
         "39",
         "True"
        ],
        [
         "42",
         "False"
        ],
        [
         "43",
         "False"
        ],
        [
         "44",
         "False"
        ],
        [
         "45",
         "False"
        ],
        [
         "47",
         "False"
        ],
        [
         "48",
         "False"
        ],
        [
         "56",
         "False"
        ],
        [
         "57",
         "False"
        ],
        [
         "58",
         "False"
        ],
        [
         "59",
         "False"
        ],
        [
         "60",
         "False"
        ],
        [
         "61",
         "True"
        ],
        [
         "62",
         "False"
        ],
        [
         "63",
         "False"
        ],
        [
         "64",
         "False"
        ],
        [
         "66",
         "False"
        ],
        [
         "68",
         "False"
        ],
        [
         "71",
         "False"
        ],
        [
         "72",
         "True"
        ],
        [
         "75",
         "False"
        ],
        [
         "79",
         "False"
        ],
        [
         "80",
         "False"
        ],
        [
         "82",
         "False"
        ],
        [
         "83",
         "False"
        ],
        [
         "84",
         "False"
        ],
        [
         "87",
         "False"
        ],
        [
         "88",
         "False"
        ],
        [
         "89",
         "False"
        ]
       ],
       "shape": {
        "columns": 1,
        "rows": 14264
       }
      },
      "text/plain": [
       "3         True\n",
       "4         True\n",
       "8         True\n",
       "10       False\n",
       "13       False\n",
       "         ...  \n",
       "25111    False\n",
       "25113    False\n",
       "25114     True\n",
       "25118    False\n",
       "25119    False\n",
       "Name: Habitaciones, Length: 14264, dtype: bool"
      ]
     },
     "execution_count": 126,
     "metadata": {},
     "output_type": "execute_result"
    }
   ],
   "source": [
    "# Generamos una serie de booleanos para filtrar aquellas filas que cumplan con las condiciones de '1 dormitorio'.\n",
    "# Quienes cumplan con la condición se visualizarán como 'True'.\n",
    "# Guardamos la serie en una máscara booleana\n",
    "seleccion1 = new_df['Habitaciones'] == 1\n",
    "seleccion1"
   ]
  },
  {
   "cell_type": "code",
   "execution_count": 127,
   "id": "5bd92941",
   "metadata": {},
   "outputs": [
    {
     "data": {
      "application/vnd.microsoft.datawrangler.viewer.v0+json": {
       "columns": [
        {
         "name": "index",
         "rawType": "int64",
         "type": "integer"
        },
        {
         "name": "Tipo",
         "rawType": "object",
         "type": "string"
        },
        {
         "name": "Colonia",
         "rawType": "object",
         "type": "string"
        },
        {
         "name": "Habitaciones",
         "rawType": "int64",
         "type": "integer"
        },
        {
         "name": "Garages",
         "rawType": "int64",
         "type": "integer"
        },
        {
         "name": "Suites",
         "rawType": "int64",
         "type": "integer"
        },
        {
         "name": "Area",
         "rawType": "int64",
         "type": "integer"
        },
        {
         "name": "Valor",
         "rawType": "float64",
         "type": "float"
        },
        {
         "name": "Condominio",
         "rawType": "float64",
         "type": "float"
        },
        {
         "name": "Impuesto",
         "rawType": "float64",
         "type": "float"
        }
       ],
       "ref": "93686bef-6816-4984-9508-bfd53be0fbc5",
       "rows": [
        [
         "3",
         "Departamento",
         "Centro Histórico",
         "1",
         "0",
         "0",
         "15",
         "2800.0",
         "1365.0",
         "70.0"
        ],
        [
         "4",
         "Departamento",
         "Del Valle",
         "1",
         "0",
         "0",
         "48",
         "2800.0",
         "805.0",
         "0.0"
        ],
        [
         "8",
         "Departamento",
         "Condesa",
         "1",
         "0",
         "1",
         "40",
         "7000.0",
         "1963.5",
         "175.0"
        ],
        [
         "19",
         "Departamento",
         "Narvarte",
         "1",
         "0",
         "0",
         "48",
         "2625.0",
         "2702.0",
         "87.5"
        ],
        [
         "37",
         "Departamento",
         "Centro Histórico",
         "1",
         "0",
         "0",
         "27",
         "2625.0",
         "1298.5",
         "66.5"
        ],
        [
         "38",
         "Departamento",
         "Coyoacán",
         "1",
         "0",
         "0",
         "35",
         "7000.0",
         "2275.0",
         "262.5"
        ],
        [
         "39",
         "Departamento",
         "Coyoacán",
         "1",
         "0",
         "0",
         "38",
         "4900.0",
         "1855.0",
         "269.5"
        ],
        [
         "61",
         "Departamento",
         "Centro Histórico",
         "1",
         "1",
         "0",
         "37",
         "3850.0",
         "1890.0",
         "3150.0"
        ],
        [
         "72",
         "Departamento",
         "Santa Fe",
         "1",
         "1",
         "1",
         "70",
         "5950.0",
         "3045.0",
         "500.5"
        ],
        [
         "101",
         "Departamento",
         "San Miguel Chapultepec",
         "1",
         "0",
         "0",
         "37",
         "3500.0",
         "997.5",
         "84.0"
        ],
        [
         "133",
         "Departamento",
         "Roma",
         "1",
         "0",
         "0",
         "35",
         "5250.0",
         "1645.0",
         "175.0"
        ],
        [
         "160",
         "Departamento",
         "Narvarte",
         "1",
         "0",
         "0",
         "65",
         "4200.0",
         "1120.0",
         "0.0"
        ],
        [
         "195",
         "Departamento",
         "Centro Histórico",
         "1",
         "0",
         "0",
         "35",
         "4725.0",
         "1470.0",
         "84.0"
        ],
        [
         "203",
         "Departamento",
         "Santa Fe",
         "1",
         "1",
         "1",
         "60",
         "7700.0",
         "5600.0",
         "1225.0"
        ],
        [
         "212",
         "Departamento",
         "Roma",
         "1",
         "0",
         "0",
         "35",
         "3500.0",
         "1025.5",
         "301.0"
        ],
        [
         "215",
         "Departamento",
         "Narvarte",
         "1",
         "0",
         "0",
         "36",
         "4550.0",
         "1032.5",
         "84.0"
        ],
        [
         "219",
         "Departamento",
         "San Pedro de los Pinos",
         "1",
         "0",
         "0",
         "57",
         "13965.0",
         "3010.0",
         "350.0"
        ],
        [
         "240",
         "Departamento",
         "Bosques de las Lomas",
         "1",
         "1",
         "0",
         "75",
         "9800.0",
         "2800.0",
         "735.0"
        ],
        [
         "247",
         "Departamento",
         "Nueva Santa María",
         "1",
         "1",
         "0",
         "63",
         "2450.0",
         "2187.5",
         "126.0"
        ],
        [
         "286",
         "Departamento",
         "Condesa",
         "1",
         "0",
         "0",
         "43",
         "5600.0",
         "1582.0",
         "847.0"
        ],
        [
         "293",
         "Departamento",
         "Condesa",
         "1",
         "0",
         "0",
         "45",
         "9800.0",
         "1575.0",
         "105.0"
        ],
        [
         "301",
         "Departamento",
         "Condesa",
         "1",
         "0",
         "1",
         "37",
         "8750.0",
         "1564.5",
         "70.0"
        ],
        [
         "312",
         "Departamento",
         "Juárez",
         "1",
         "0",
         "0",
         "45",
         "5600.0",
         "1750.0",
         "192.5"
        ],
        [
         "328",
         "Departamento",
         "Centro Histórico",
         "1",
         "0",
         "0",
         "42",
         "7700.0",
         "2166.5",
         "707.0"
        ],
        [
         "336",
         "Departamento",
         "Condesa",
         "1",
         "0",
         "0",
         "43",
         "6300.0",
         "2236.5",
         "266.0"
        ],
        [
         "344",
         "Departamento",
         "Coyoacán",
         "1",
         "0",
         "1",
         "50",
         "8400.0",
         "3139.5",
         "91.0"
        ],
        [
         "359",
         "Departamento",
         "Tlalpan",
         "1",
         "0",
         "0",
         "53",
         "9800.0",
         "2695.0",
         "0.0"
        ],
        [
         "365",
         "Departamento",
         "Condesa",
         "1",
         "0",
         "0",
         "60",
         "9800.0",
         "2170.0",
         "448.0"
        ],
        [
         "373",
         "Departamento",
         "Narvarte",
         "1",
         "1",
         "1",
         "84",
         "7000.0",
         "2513.0",
         "420.0"
        ],
        [
         "375",
         "Departamento",
         "Condesa",
         "1",
         "1",
         "0",
         "150",
         "10500.0",
         "4200.0",
         "1365.0"
        ],
        [
         "412",
         "Departamento",
         "Napoles",
         "1",
         "0",
         "0",
         "31",
         "3990.0",
         "1470.0",
         "84.0"
        ],
        [
         "419",
         "Departamento",
         "La Condesa",
         "1",
         "0",
         "0",
         "48",
         "4900.0",
         "1680.0",
         "70.0"
        ],
        [
         "429",
         "Departamento",
         "Roma",
         "1",
         "0",
         "0",
         "17",
         "3850.0",
         "1155.0",
         "52.5"
        ],
        [
         "444",
         "Departamento",
         "Villa de Guadalupe",
         "1",
         "1",
         "0",
         "45",
         "2450.0",
         "1246.0",
         "441.0"
        ],
        [
         "447",
         "Departamento",
         "Santa Fe",
         "1",
         "1",
         "1",
         "80",
         "5950.0",
         "3430.0",
         "875.0"
        ],
        [
         "455",
         "Departamento",
         "Narvarte",
         "1",
         "1",
         "1",
         "87",
         "4900.0",
         "3699.5",
         "567.0"
        ],
        [
         "469",
         "Departamento",
         "San Rafael",
         "1",
         "0",
         "1",
         "30",
         "3850.0",
         "2030.0",
         "0.0"
        ],
        [
         "490",
         "Departamento",
         "Lomas de Padierna",
         "1",
         "1",
         "0",
         "47",
         "4200.0",
         "1015.0",
         "171.5"
        ],
        [
         "500",
         "Departamento",
         "Napoles",
         "1",
         "0",
         "0",
         "55",
         "7000.0",
         "2047.5",
         "276.5"
        ],
        [
         "510",
         "Departamento",
         "Condesa",
         "1",
         "0",
         "0",
         "30",
         "4200.0",
         "2275.0",
         "189.0"
        ],
        [
         "514",
         "Departamento",
         "Santa Fe",
         "1",
         "1",
         "1",
         "68",
         "9800.0",
         "4375.0",
         "766.5"
        ],
        [
         "528",
         "Departamento",
         "Santa Fe",
         "1",
         "0",
         "0",
         "71",
         "7350.0",
         "4200.0",
         "770.0"
        ],
        [
         "545",
         "Departamento",
         "Roma",
         "1",
         "0",
         "0",
         "38",
         "4550.0",
         "1400.0",
         "87.5"
        ],
        [
         "549",
         "Departamento",
         "Condesa",
         "1",
         "0",
         "0",
         "36",
         "5950.0",
         "2212.0",
         "241.5"
        ],
        [
         "554",
         "Departamento",
         "Condesa",
         "1",
         "0",
         "0",
         "37",
         "7700.0",
         "1942.5",
         "245.0"
        ],
        [
         "564",
         "Departamento",
         "La Condesa",
         "1",
         "0",
         "0",
         "28",
         "5250.0",
         "875.0",
         "0.0"
        ],
        [
         "604",
         "Departamento",
         "Coyoacán",
         "1",
         "0",
         "1",
         "46",
         "6300.0",
         "3276.0",
         "301.0"
        ],
        [
         "606",
         "Departamento",
         "Coyoacán",
         "1",
         "0",
         "1",
         "48",
         "7350.0",
         "1890.0",
         "283.5"
        ],
        [
         "614",
         "Departamento",
         "Centro Histórico",
         "1",
         "0",
         "1",
         "38",
         "4025.0",
         "1400.0",
         "87.5"
        ],
        [
         "627",
         "Departamento",
         "Roma",
         "1",
         "1",
         "0",
         "65",
         "7700.0",
         "2376.5",
         "94.5"
        ]
       ],
       "shape": {
        "columns": 9,
        "rows": 2072
       }
      },
      "text/html": [
       "<div>\n",
       "<style scoped>\n",
       "    .dataframe tbody tr th:only-of-type {\n",
       "        vertical-align: middle;\n",
       "    }\n",
       "\n",
       "    .dataframe tbody tr th {\n",
       "        vertical-align: top;\n",
       "    }\n",
       "\n",
       "    .dataframe thead th {\n",
       "        text-align: right;\n",
       "    }\n",
       "</style>\n",
       "<table border=\"1\" class=\"dataframe\">\n",
       "  <thead>\n",
       "    <tr style=\"text-align: right;\">\n",
       "      <th></th>\n",
       "      <th>Tipo</th>\n",
       "      <th>Colonia</th>\n",
       "      <th>Habitaciones</th>\n",
       "      <th>Garages</th>\n",
       "      <th>Suites</th>\n",
       "      <th>Area</th>\n",
       "      <th>Valor</th>\n",
       "      <th>Condominio</th>\n",
       "      <th>Impuesto</th>\n",
       "    </tr>\n",
       "  </thead>\n",
       "  <tbody>\n",
       "    <tr>\n",
       "      <th>3</th>\n",
       "      <td>Departamento</td>\n",
       "      <td>Centro Histórico</td>\n",
       "      <td>1</td>\n",
       "      <td>0</td>\n",
       "      <td>0</td>\n",
       "      <td>15</td>\n",
       "      <td>2800.0</td>\n",
       "      <td>1365.0</td>\n",
       "      <td>70.0</td>\n",
       "    </tr>\n",
       "    <tr>\n",
       "      <th>4</th>\n",
       "      <td>Departamento</td>\n",
       "      <td>Del Valle</td>\n",
       "      <td>1</td>\n",
       "      <td>0</td>\n",
       "      <td>0</td>\n",
       "      <td>48</td>\n",
       "      <td>2800.0</td>\n",
       "      <td>805.0</td>\n",
       "      <td>0.0</td>\n",
       "    </tr>\n",
       "    <tr>\n",
       "      <th>8</th>\n",
       "      <td>Departamento</td>\n",
       "      <td>Condesa</td>\n",
       "      <td>1</td>\n",
       "      <td>0</td>\n",
       "      <td>1</td>\n",
       "      <td>40</td>\n",
       "      <td>7000.0</td>\n",
       "      <td>1963.5</td>\n",
       "      <td>175.0</td>\n",
       "    </tr>\n",
       "    <tr>\n",
       "      <th>19</th>\n",
       "      <td>Departamento</td>\n",
       "      <td>Narvarte</td>\n",
       "      <td>1</td>\n",
       "      <td>0</td>\n",
       "      <td>0</td>\n",
       "      <td>48</td>\n",
       "      <td>2625.0</td>\n",
       "      <td>2702.0</td>\n",
       "      <td>87.5</td>\n",
       "    </tr>\n",
       "    <tr>\n",
       "      <th>37</th>\n",
       "      <td>Departamento</td>\n",
       "      <td>Centro Histórico</td>\n",
       "      <td>1</td>\n",
       "      <td>0</td>\n",
       "      <td>0</td>\n",
       "      <td>27</td>\n",
       "      <td>2625.0</td>\n",
       "      <td>1298.5</td>\n",
       "      <td>66.5</td>\n",
       "    </tr>\n",
       "    <tr>\n",
       "      <th>...</th>\n",
       "      <td>...</td>\n",
       "      <td>...</td>\n",
       "      <td>...</td>\n",
       "      <td>...</td>\n",
       "      <td>...</td>\n",
       "      <td>...</td>\n",
       "      <td>...</td>\n",
       "      <td>...</td>\n",
       "      <td>...</td>\n",
       "    </tr>\n",
       "    <tr>\n",
       "      <th>25090</th>\n",
       "      <td>Departamento</td>\n",
       "      <td>Coyoacán</td>\n",
       "      <td>1</td>\n",
       "      <td>0</td>\n",
       "      <td>0</td>\n",
       "      <td>55</td>\n",
       "      <td>7000.0</td>\n",
       "      <td>2205.0</td>\n",
       "      <td>66.5</td>\n",
       "    </tr>\n",
       "    <tr>\n",
       "      <th>25092</th>\n",
       "      <td>Departamento</td>\n",
       "      <td>Santa Fe</td>\n",
       "      <td>1</td>\n",
       "      <td>1</td>\n",
       "      <td>0</td>\n",
       "      <td>62</td>\n",
       "      <td>5950.0</td>\n",
       "      <td>3307.5</td>\n",
       "      <td>630.0</td>\n",
       "    </tr>\n",
       "    <tr>\n",
       "      <th>25100</th>\n",
       "      <td>Departamento</td>\n",
       "      <td>Lomas de Chapultepec</td>\n",
       "      <td>1</td>\n",
       "      <td>1</td>\n",
       "      <td>1</td>\n",
       "      <td>50</td>\n",
       "      <td>15050.0</td>\n",
       "      <td>6055.0</td>\n",
       "      <td>906.5</td>\n",
       "    </tr>\n",
       "    <tr>\n",
       "      <th>25103</th>\n",
       "      <td>Departamento</td>\n",
       "      <td>Condesa</td>\n",
       "      <td>1</td>\n",
       "      <td>0</td>\n",
       "      <td>0</td>\n",
       "      <td>50</td>\n",
       "      <td>6825.0</td>\n",
       "      <td>1575.0</td>\n",
       "      <td>245.0</td>\n",
       "    </tr>\n",
       "    <tr>\n",
       "      <th>25114</th>\n",
       "      <td>Departamento</td>\n",
       "      <td>Narvarte</td>\n",
       "      <td>1</td>\n",
       "      <td>0</td>\n",
       "      <td>0</td>\n",
       "      <td>28</td>\n",
       "      <td>3500.0</td>\n",
       "      <td>1260.0</td>\n",
       "      <td>87.5</td>\n",
       "    </tr>\n",
       "  </tbody>\n",
       "</table>\n",
       "<p>2072 rows × 9 columns</p>\n",
       "</div>"
      ],
      "text/plain": [
       "               Tipo               Colonia  Habitaciones  Garages  Suites  \\\n",
       "3      Departamento      Centro Histórico             1        0       0   \n",
       "4      Departamento             Del Valle             1        0       0   \n",
       "8      Departamento               Condesa             1        0       1   \n",
       "19     Departamento              Narvarte             1        0       0   \n",
       "37     Departamento      Centro Histórico             1        0       0   \n",
       "...             ...                   ...           ...      ...     ...   \n",
       "25090  Departamento              Coyoacán             1        0       0   \n",
       "25092  Departamento              Santa Fe             1        1       0   \n",
       "25100  Departamento  Lomas de Chapultepec             1        1       1   \n",
       "25103  Departamento               Condesa             1        0       0   \n",
       "25114  Departamento              Narvarte             1        0       0   \n",
       "\n",
       "       Area    Valor  Condominio  Impuesto  \n",
       "3        15   2800.0      1365.0      70.0  \n",
       "4        48   2800.0       805.0       0.0  \n",
       "8        40   7000.0      1963.5     175.0  \n",
       "19       48   2625.0      2702.0      87.5  \n",
       "37       27   2625.0      1298.5      66.5  \n",
       "...     ...      ...         ...       ...  \n",
       "25090    55   7000.0      2205.0      66.5  \n",
       "25092    62   5950.0      3307.5     630.0  \n",
       "25100    50  15050.0      6055.0     906.5  \n",
       "25103    50   6825.0      1575.0     245.0  \n",
       "25114    28   3500.0      1260.0      87.5  \n",
       "\n",
       "[2072 rows x 9 columns]"
      ]
     },
     "execution_count": 127,
     "metadata": {},
     "output_type": "execute_result"
    }
   ],
   "source": [
    "# Esta serie booleana nos permite filtrar el DataFrame para obtener solo los departamentos con 1 dormitorio.\n",
    "new_df[seleccion1]"
   ]
  },
  {
   "cell_type": "code",
   "execution_count": 128,
   "id": "26cceabf",
   "metadata": {},
   "outputs": [
    {
     "data": {
      "application/vnd.microsoft.datawrangler.viewer.v0+json": {
       "columns": [
        {
         "name": "index",
         "rawType": "int64",
         "type": "integer"
        },
        {
         "name": "Tipo",
         "rawType": "object",
         "type": "string"
        },
        {
         "name": "Colonia",
         "rawType": "object",
         "type": "string"
        },
        {
         "name": "Habitaciones",
         "rawType": "int64",
         "type": "integer"
        },
        {
         "name": "Garages",
         "rawType": "int64",
         "type": "integer"
        },
        {
         "name": "Suites",
         "rawType": "int64",
         "type": "integer"
        },
        {
         "name": "Area",
         "rawType": "int64",
         "type": "integer"
        },
        {
         "name": "Valor",
         "rawType": "float64",
         "type": "float"
        },
        {
         "name": "Condominio",
         "rawType": "float64",
         "type": "float"
        },
        {
         "name": "Impuesto",
         "rawType": "float64",
         "type": "float"
        }
       ],
       "ref": "925b350f-862b-446a-9797-9e7dee373a48",
       "rows": [
        [
         "3",
         "Departamento",
         "Centro Histórico",
         "1",
         "0",
         "0",
         "15",
         "2800.0",
         "1365.0",
         "70.0"
        ],
        [
         "4",
         "Departamento",
         "Del Valle",
         "1",
         "0",
         "0",
         "48",
         "2800.0",
         "805.0",
         "0.0"
        ],
        [
         "19",
         "Departamento",
         "Narvarte",
         "1",
         "0",
         "0",
         "48",
         "2625.0",
         "2702.0",
         "87.5"
        ],
        [
         "37",
         "Departamento",
         "Centro Histórico",
         "1",
         "0",
         "0",
         "27",
         "2625.0",
         "1298.5",
         "66.5"
        ],
        [
         "61",
         "Departamento",
         "Centro Histórico",
         "1",
         "1",
         "0",
         "37",
         "3850.0",
         "1890.0",
         "3150.0"
        ],
        [
         "100",
         "Departamento",
         "Ciudad de los Deportes",
         "2",
         "0",
         "0",
         "80",
         "3150.0",
         "1225.0",
         "0.0"
        ],
        [
         "101",
         "Departamento",
         "San Miguel Chapultepec",
         "1",
         "0",
         "0",
         "37",
         "3500.0",
         "997.5",
         "84.0"
        ],
        [
         "140",
         "Departamento",
         "Nueva Santa María",
         "2",
         "2",
         "0",
         "78",
         "2800.0",
         "3202.5",
         "192.5"
        ],
        [
         "212",
         "Departamento",
         "Roma",
         "1",
         "0",
         "0",
         "35",
         "3500.0",
         "1025.5",
         "301.0"
        ],
        [
         "247",
         "Departamento",
         "Nueva Santa María",
         "1",
         "1",
         "0",
         "63",
         "2450.0",
         "2187.5",
         "126.0"
        ],
        [
         "269",
         "Departamento",
         "Álvaro Obregón",
         "2",
         "0",
         "0",
         "70",
         "3500.0",
         "112.0",
         "0.0"
        ],
        [
         "273",
         "Departamento",
         "Iztacalco",
         "2",
         "0",
         "0",
         "40",
         "2100.0",
         "1452.5",
         "0.0"
        ],
        [
         "279",
         "Departamento",
         "Ciudad de los Deportes",
         "3",
         "0",
         "0",
         "90",
         "3150.0",
         "1155.0",
         "52.5"
        ],
        [
         "292",
         "Departamento",
         "Peralvillo",
         "2",
         "1",
         "0",
         "64",
         "2800.0",
         "868.0",
         "49.0"
        ],
        [
         "306",
         "Departamento",
         "Nativitas",
         "2",
         "1",
         "0",
         "65",
         "3850.0",
         "892.5",
         "0.0"
        ],
        [
         "310",
         "Departamento",
         "San Miguel Chapultepec",
         "2",
         "1",
         "0",
         "70",
         "3850.0",
         "1925.0",
         "0.0"
        ],
        [
         "367",
         "Departamento",
         "Villa de Cortés",
         "2",
         "0",
         "0",
         "64",
         "3325.0",
         "630.0",
         "0.0"
        ],
        [
         "412",
         "Departamento",
         "Napoles",
         "1",
         "0",
         "0",
         "31",
         "3990.0",
         "1470.0",
         "84.0"
        ],
        [
         "418",
         "Departamento",
         "Industrial Vallejo",
         "3",
         "1",
         "0",
         "60",
         "2625.0",
         "826.0",
         "0.0"
        ],
        [
         "422",
         "Departamento",
         "Peralvillo",
         "2",
         "1",
         "0",
         "65",
         "3325.0",
         "2240.0",
         "441.0"
        ],
        [
         "424",
         "Departamento",
         "Iztapalapa",
         "2",
         "1",
         "0",
         "70",
         "2975.0",
         "700.0",
         "0.0"
        ],
        [
         "425",
         "Departamento",
         "Ciudad de los Deportes",
         "2",
         "1",
         "1",
         "63",
         "3850.0",
         "1263.5",
         "0.0"
        ],
        [
         "429",
         "Departamento",
         "Roma",
         "1",
         "0",
         "0",
         "17",
         "3850.0",
         "1155.0",
         "52.5"
        ],
        [
         "444",
         "Departamento",
         "Villa de Guadalupe",
         "1",
         "1",
         "0",
         "45",
         "2450.0",
         "1246.0",
         "441.0"
        ],
        [
         "469",
         "Departamento",
         "San Rafael",
         "1",
         "0",
         "1",
         "30",
         "3850.0",
         "2030.0",
         "0.0"
        ],
        [
         "470",
         "Departamento",
         "Peralvillo",
         "2",
         "1",
         "0",
         "52",
         "2450.0",
         "1470.0",
         "122.5"
        ],
        [
         "535",
         "Departamento",
         "San Rafael",
         "2",
         "0",
         "0",
         "66",
         "2450.0",
         "3150.0",
         "161.0"
        ],
        [
         "537",
         "Departamento",
         "Peralvillo",
         "2",
         "1",
         "0",
         "60",
         "3150.0",
         "1470.0",
         "52.5"
        ],
        [
         "547",
         "Departamento",
         "Narvarte",
         "2",
         "1",
         "0",
         "88",
         "3850.0",
         "2425.5",
         "112.0"
        ],
        [
         "567",
         "Departamento",
         "Las Águilas",
         "2",
         "1",
         "0",
         "48",
         "3500.0",
         "1190.0",
         "315.0"
        ],
        [
         "578",
         "Departamento",
         "Culhuacán CTM",
         "3",
         "0",
         "0",
         "58",
         "3465.0",
         "350.0",
         "0.0"
        ],
        [
         "581",
         "Departamento",
         "Peralvillo",
         "2",
         "1",
         "1",
         "61",
         "3500.0",
         "1711.5",
         "0.0"
        ],
        [
         "614",
         "Departamento",
         "Centro Histórico",
         "1",
         "0",
         "1",
         "38",
         "4025.0",
         "1400.0",
         "87.5"
        ],
        [
         "642",
         "Departamento",
         "Condesa",
         "1",
         "0",
         "0",
         "21",
         "2800.0",
         "1092.0",
         "52.5"
        ],
        [
         "676",
         "Departamento",
         "Santa Fe",
         "2",
         "1",
         "1",
         "70",
         "4025.0",
         "4410.0",
         "560.0"
        ],
        [
         "718",
         "Departamento",
         "Centro Histórico",
         "1",
         "0",
         "0",
         "35",
         "3500.0",
         "1050.0",
         "0.0"
        ],
        [
         "794",
         "Departamento",
         "San Miguel Chapultepec",
         "1",
         "1",
         "1",
         "50",
         "3675.0",
         "1575.0",
         "0.0"
        ],
        [
         "814",
         "Departamento",
         "Arboledas",
         "2",
         "1",
         "0",
         "66",
         "3500.0",
         "1435.0",
         "0.0"
        ],
        [
         "816",
         "Departamento",
         "Santa Cruz Atoyac",
         "1",
         "0",
         "0",
         "50",
         "3850.0",
         "1953.0",
         "70.0"
        ],
        [
         "818",
         "Departamento",
         "Del Valle",
         "1",
         "0",
         "0",
         "55",
         "2625.0",
         "420.0",
         "0.0"
        ],
        [
         "824",
         "Departamento",
         "Peralvillo",
         "2",
         "1",
         "1",
         "50",
         "3325.0",
         "1925.0",
         "59.5"
        ],
        [
         "826",
         "Departamento",
         "El Rodeo",
         "2",
         "1",
         "0",
         "60",
         "2275.0",
         "892.5",
         "0.0"
        ],
        [
         "829",
         "Departamento",
         "Roma",
         "1",
         "0",
         "0",
         "35",
         "3500.0",
         "1025.5",
         "301.0"
        ],
        [
         "830",
         "Departamento",
         "Condesa",
         "1",
         "1",
         "0",
         "49",
         "4025.0",
         "1995.0",
         "98.0"
        ],
        [
         "841",
         "Departamento",
         "La Virgen",
         "2",
         "1",
         "0",
         "68",
         "3500.0",
         "3500.0",
         "0.0"
        ],
        [
         "878",
         "Departamento",
         "Roma Norte",
         "2",
         "1",
         "0",
         "56",
         "3500.0",
         "1092.0",
         "115.5"
        ],
        [
         "883",
         "Departamento",
         "Ciudad de los Deportes",
         "2",
         "1",
         "1",
         "64",
         "3850.0",
         "1540.0",
         "0.0"
        ],
        [
         "897",
         "Departamento",
         "San José Insurgentes",
         "3",
         "0",
         "0",
         "67",
         "2730.0",
         "577.5",
         "0.0"
        ],
        [
         "973",
         "Departamento",
         "Santa Fe",
         "2",
         "1",
         "0",
         "62",
         "3850.0",
         "2380.0",
         "346.5"
        ],
        [
         "1009",
         "Departamento",
         "Condesa",
         "1",
         "0",
         "0",
         "35",
         "3850.0",
         "1400.0",
         "192.5"
        ]
       ],
       "shape": {
        "columns": 9,
        "rows": 1013
       }
      },
      "text/html": [
       "<div>\n",
       "<style scoped>\n",
       "    .dataframe tbody tr th:only-of-type {\n",
       "        vertical-align: middle;\n",
       "    }\n",
       "\n",
       "    .dataframe tbody tr th {\n",
       "        vertical-align: top;\n",
       "    }\n",
       "\n",
       "    .dataframe thead th {\n",
       "        text-align: right;\n",
       "    }\n",
       "</style>\n",
       "<table border=\"1\" class=\"dataframe\">\n",
       "  <thead>\n",
       "    <tr style=\"text-align: right;\">\n",
       "      <th></th>\n",
       "      <th>Tipo</th>\n",
       "      <th>Colonia</th>\n",
       "      <th>Habitaciones</th>\n",
       "      <th>Garages</th>\n",
       "      <th>Suites</th>\n",
       "      <th>Area</th>\n",
       "      <th>Valor</th>\n",
       "      <th>Condominio</th>\n",
       "      <th>Impuesto</th>\n",
       "    </tr>\n",
       "  </thead>\n",
       "  <tbody>\n",
       "    <tr>\n",
       "      <th>3</th>\n",
       "      <td>Departamento</td>\n",
       "      <td>Centro Histórico</td>\n",
       "      <td>1</td>\n",
       "      <td>0</td>\n",
       "      <td>0</td>\n",
       "      <td>15</td>\n",
       "      <td>2800.0</td>\n",
       "      <td>1365.0</td>\n",
       "      <td>70.0</td>\n",
       "    </tr>\n",
       "    <tr>\n",
       "      <th>4</th>\n",
       "      <td>Departamento</td>\n",
       "      <td>Del Valle</td>\n",
       "      <td>1</td>\n",
       "      <td>0</td>\n",
       "      <td>0</td>\n",
       "      <td>48</td>\n",
       "      <td>2800.0</td>\n",
       "      <td>805.0</td>\n",
       "      <td>0.0</td>\n",
       "    </tr>\n",
       "    <tr>\n",
       "      <th>19</th>\n",
       "      <td>Departamento</td>\n",
       "      <td>Narvarte</td>\n",
       "      <td>1</td>\n",
       "      <td>0</td>\n",
       "      <td>0</td>\n",
       "      <td>48</td>\n",
       "      <td>2625.0</td>\n",
       "      <td>2702.0</td>\n",
       "      <td>87.5</td>\n",
       "    </tr>\n",
       "    <tr>\n",
       "      <th>37</th>\n",
       "      <td>Departamento</td>\n",
       "      <td>Centro Histórico</td>\n",
       "      <td>1</td>\n",
       "      <td>0</td>\n",
       "      <td>0</td>\n",
       "      <td>27</td>\n",
       "      <td>2625.0</td>\n",
       "      <td>1298.5</td>\n",
       "      <td>66.5</td>\n",
       "    </tr>\n",
       "    <tr>\n",
       "      <th>61</th>\n",
       "      <td>Departamento</td>\n",
       "      <td>Centro Histórico</td>\n",
       "      <td>1</td>\n",
       "      <td>1</td>\n",
       "      <td>0</td>\n",
       "      <td>37</td>\n",
       "      <td>3850.0</td>\n",
       "      <td>1890.0</td>\n",
       "      <td>3150.0</td>\n",
       "    </tr>\n",
       "    <tr>\n",
       "      <th>...</th>\n",
       "      <td>...</td>\n",
       "      <td>...</td>\n",
       "      <td>...</td>\n",
       "      <td>...</td>\n",
       "      <td>...</td>\n",
       "      <td>...</td>\n",
       "      <td>...</td>\n",
       "      <td>...</td>\n",
       "      <td>...</td>\n",
       "    </tr>\n",
       "    <tr>\n",
       "      <th>25038</th>\n",
       "      <td>Departamento</td>\n",
       "      <td>Villa de Guadalupe</td>\n",
       "      <td>2</td>\n",
       "      <td>1</td>\n",
       "      <td>0</td>\n",
       "      <td>50</td>\n",
       "      <td>2800.0</td>\n",
       "      <td>1435.0</td>\n",
       "      <td>0.0</td>\n",
       "    </tr>\n",
       "    <tr>\n",
       "      <th>25051</th>\n",
       "      <td>Departamento</td>\n",
       "      <td>Nativitas</td>\n",
       "      <td>2</td>\n",
       "      <td>1</td>\n",
       "      <td>0</td>\n",
       "      <td>62</td>\n",
       "      <td>3500.0</td>\n",
       "      <td>1050.0</td>\n",
       "      <td>0.0</td>\n",
       "    </tr>\n",
       "    <tr>\n",
       "      <th>25065</th>\n",
       "      <td>Departamento</td>\n",
       "      <td>Nativitas</td>\n",
       "      <td>2</td>\n",
       "      <td>1</td>\n",
       "      <td>0</td>\n",
       "      <td>50</td>\n",
       "      <td>3150.0</td>\n",
       "      <td>1050.0</td>\n",
       "      <td>0.0</td>\n",
       "    </tr>\n",
       "    <tr>\n",
       "      <th>25095</th>\n",
       "      <td>Departamento</td>\n",
       "      <td>Lindavista Sur</td>\n",
       "      <td>2</td>\n",
       "      <td>0</td>\n",
       "      <td>0</td>\n",
       "      <td>63</td>\n",
       "      <td>2800.0</td>\n",
       "      <td>1372.0</td>\n",
       "      <td>0.0</td>\n",
       "    </tr>\n",
       "    <tr>\n",
       "      <th>25114</th>\n",
       "      <td>Departamento</td>\n",
       "      <td>Narvarte</td>\n",
       "      <td>1</td>\n",
       "      <td>0</td>\n",
       "      <td>0</td>\n",
       "      <td>28</td>\n",
       "      <td>3500.0</td>\n",
       "      <td>1260.0</td>\n",
       "      <td>87.5</td>\n",
       "    </tr>\n",
       "  </tbody>\n",
       "</table>\n",
       "<p>1013 rows × 9 columns</p>\n",
       "</div>"
      ],
      "text/plain": [
       "               Tipo             Colonia  Habitaciones  Garages  Suites  Area  \\\n",
       "3      Departamento    Centro Histórico             1        0       0    15   \n",
       "4      Departamento           Del Valle             1        0       0    48   \n",
       "19     Departamento            Narvarte             1        0       0    48   \n",
       "37     Departamento    Centro Histórico             1        0       0    27   \n",
       "61     Departamento    Centro Histórico             1        1       0    37   \n",
       "...             ...                 ...           ...      ...     ...   ...   \n",
       "25038  Departamento  Villa de Guadalupe             2        1       0    50   \n",
       "25051  Departamento           Nativitas             2        1       0    62   \n",
       "25065  Departamento           Nativitas             2        1       0    50   \n",
       "25095  Departamento      Lindavista Sur             2        0       0    63   \n",
       "25114  Departamento            Narvarte             1        0       0    28   \n",
       "\n",
       "        Valor  Condominio  Impuesto  \n",
       "3      2800.0      1365.0      70.0  \n",
       "4      2800.0       805.0       0.0  \n",
       "19     2625.0      2702.0      87.5  \n",
       "37     2625.0      1298.5      66.5  \n",
       "61     3850.0      1890.0    3150.0  \n",
       "...       ...         ...       ...  \n",
       "25038  2800.0      1435.0       0.0  \n",
       "25051  3500.0      1050.0       0.0  \n",
       "25065  3150.0      1050.0       0.0  \n",
       "25095  2800.0      1372.0       0.0  \n",
       "25114  3500.0      1260.0      87.5  \n",
       "\n",
       "[1013 rows x 9 columns]"
      ]
     },
     "execution_count": 128,
     "metadata": {},
     "output_type": "execute_result"
    }
   ],
   "source": [
    "# Esta máscara booleana nos permite filtrar el DataFrame para obtener solo los departamentos con un alquiler menor a MXN 4200.\n",
    "seleccion2 = new_df['Valor'] < 4200\n",
    "new_df[seleccion2]"
   ]
  },
  {
   "cell_type": "code",
   "execution_count": 129,
   "id": "08e95e4c",
   "metadata": {},
   "outputs": [
    {
     "data": {
      "application/vnd.microsoft.datawrangler.viewer.v0+json": {
       "columns": [
        {
         "name": "index",
         "rawType": "object",
         "type": "string"
        },
        {
         "name": "0",
         "rawType": "object",
         "type": "unknown"
        }
       ],
       "ref": "b43c508e-745f-4faf-871e-83808b4e2922",
       "rows": [
        [
         "Tipo",
         "Departamento"
        ],
        [
         "Colonia",
         "Álvaro Obregón"
        ],
        [
         "Habitaciones",
         "3"
        ],
        [
         "Garages",
         "2"
        ],
        [
         "Suites",
         "2"
        ],
        [
         "Area",
         "176"
        ],
        [
         "Valor",
         "4025.0"
        ],
        [
         "Condominio",
         "152575.5"
        ],
        [
         "Impuesto",
         "6699.0"
        ]
       ],
       "shape": {
        "columns": 1,
        "rows": 9
       }
      },
      "text/plain": [
       "Tipo              Departamento\n",
       "Colonia         Álvaro Obregón\n",
       "Habitaciones                 3\n",
       "Garages                      2\n",
       "Suites                       2\n",
       "Area                       176\n",
       "Valor                   4025.0\n",
       "Condominio            152575.5\n",
       "Impuesto                6699.0\n",
       "dtype: object"
      ]
     },
     "execution_count": 129,
     "metadata": {},
     "output_type": "execute_result"
    }
   ],
   "source": [
    "# Funcion para visualizar el valor máximo de la máscara booleana 'seleccion2'\n",
    "new_df[seleccion2].max()"
   ]
  },
  {
   "cell_type": "code",
   "execution_count": 130,
   "id": "5b21b746",
   "metadata": {},
   "outputs": [
    {
     "data": {
      "application/vnd.microsoft.datawrangler.viewer.v0+json": {
       "columns": [
        {
         "name": "index",
         "rawType": "int64",
         "type": "integer"
        },
        {
         "name": "Tipo",
         "rawType": "object",
         "type": "string"
        },
        {
         "name": "Colonia",
         "rawType": "object",
         "type": "string"
        },
        {
         "name": "Habitaciones",
         "rawType": "int64",
         "type": "integer"
        },
        {
         "name": "Garages",
         "rawType": "int64",
         "type": "integer"
        },
        {
         "name": "Suites",
         "rawType": "int64",
         "type": "integer"
        },
        {
         "name": "Area",
         "rawType": "int64",
         "type": "integer"
        },
        {
         "name": "Valor",
         "rawType": "float64",
         "type": "float"
        },
        {
         "name": "Condominio",
         "rawType": "float64",
         "type": "float"
        },
        {
         "name": "Impuesto",
         "rawType": "float64",
         "type": "float"
        }
       ],
       "ref": "a4bbff80-54d6-467c-988c-9ac2444e2317",
       "rows": [
        [
         "3",
         "Departamento",
         "Centro Histórico",
         "1",
         "0",
         "0",
         "15",
         "2800.0",
         "1365.0",
         "70.0"
        ],
        [
         "4",
         "Departamento",
         "Del Valle",
         "1",
         "0",
         "0",
         "48",
         "2800.0",
         "805.0",
         "0.0"
        ],
        [
         "19",
         "Departamento",
         "Narvarte",
         "1",
         "0",
         "0",
         "48",
         "2625.0",
         "2702.0",
         "87.5"
        ],
        [
         "37",
         "Departamento",
         "Centro Histórico",
         "1",
         "0",
         "0",
         "27",
         "2625.0",
         "1298.5",
         "66.5"
        ],
        [
         "61",
         "Departamento",
         "Centro Histórico",
         "1",
         "1",
         "0",
         "37",
         "3850.0",
         "1890.0",
         "3150.0"
        ],
        [
         "101",
         "Departamento",
         "San Miguel Chapultepec",
         "1",
         "0",
         "0",
         "37",
         "3500.0",
         "997.5",
         "84.0"
        ],
        [
         "212",
         "Departamento",
         "Roma",
         "1",
         "0",
         "0",
         "35",
         "3500.0",
         "1025.5",
         "301.0"
        ],
        [
         "247",
         "Departamento",
         "Nueva Santa María",
         "1",
         "1",
         "0",
         "63",
         "2450.0",
         "2187.5",
         "126.0"
        ],
        [
         "412",
         "Departamento",
         "Napoles",
         "1",
         "0",
         "0",
         "31",
         "3990.0",
         "1470.0",
         "84.0"
        ],
        [
         "429",
         "Departamento",
         "Roma",
         "1",
         "0",
         "0",
         "17",
         "3850.0",
         "1155.0",
         "52.5"
        ],
        [
         "444",
         "Departamento",
         "Villa de Guadalupe",
         "1",
         "1",
         "0",
         "45",
         "2450.0",
         "1246.0",
         "441.0"
        ],
        [
         "469",
         "Departamento",
         "San Rafael",
         "1",
         "0",
         "1",
         "30",
         "3850.0",
         "2030.0",
         "0.0"
        ],
        [
         "614",
         "Departamento",
         "Centro Histórico",
         "1",
         "0",
         "1",
         "38",
         "4025.0",
         "1400.0",
         "87.5"
        ],
        [
         "642",
         "Departamento",
         "Condesa",
         "1",
         "0",
         "0",
         "21",
         "2800.0",
         "1092.0",
         "52.5"
        ],
        [
         "718",
         "Departamento",
         "Centro Histórico",
         "1",
         "0",
         "0",
         "35",
         "3500.0",
         "1050.0",
         "0.0"
        ],
        [
         "794",
         "Departamento",
         "San Miguel Chapultepec",
         "1",
         "1",
         "1",
         "50",
         "3675.0",
         "1575.0",
         "0.0"
        ],
        [
         "816",
         "Departamento",
         "Santa Cruz Atoyac",
         "1",
         "0",
         "0",
         "50",
         "3850.0",
         "1953.0",
         "70.0"
        ],
        [
         "818",
         "Departamento",
         "Del Valle",
         "1",
         "0",
         "0",
         "55",
         "2625.0",
         "420.0",
         "0.0"
        ],
        [
         "829",
         "Departamento",
         "Roma",
         "1",
         "0",
         "0",
         "35",
         "3500.0",
         "1025.5",
         "301.0"
        ],
        [
         "830",
         "Departamento",
         "Condesa",
         "1",
         "1",
         "0",
         "49",
         "4025.0",
         "1995.0",
         "98.0"
        ],
        [
         "1009",
         "Departamento",
         "Condesa",
         "1",
         "0",
         "0",
         "35",
         "3850.0",
         "1400.0",
         "192.5"
        ],
        [
         "1015",
         "Departamento",
         "Narvarte",
         "1",
         "0",
         "0",
         "40",
         "3850.0",
         "1225.0",
         "175.0"
        ],
        [
         "1060",
         "Departamento",
         "La Condesa",
         "1",
         "0",
         "0",
         "34",
         "3850.0",
         "962.5",
         "49.0"
        ],
        [
         "1062",
         "Departamento",
         "Del Valle",
         "1",
         "0",
         "1",
         "45",
         "2800.0",
         "420.0",
         "108.5"
        ],
        [
         "1124",
         "Departamento",
         "Nueva Santa María",
         "1",
         "0",
         "0",
         "37",
         "2100.0",
         "1449.0",
         "56.0"
        ],
        [
         "1194",
         "Departamento",
         "Del Valle Centro",
         "1",
         "1",
         "0",
         "44",
         "1750.0",
         "1211.0",
         "0.0"
        ],
        [
         "1198",
         "Departamento",
         "Santa Fe",
         "1",
         "1",
         "1",
         "45",
         "3185.0",
         "2240.0",
         "42.0"
        ],
        [
         "1220",
         "Departamento",
         "Centro Histórico",
         "1",
         "0",
         "0",
         "30",
         "3150.0",
         "1120.0",
         "0.0"
        ],
        [
         "1246",
         "Departamento",
         "Centro Histórico",
         "1",
         "0",
         "0",
         "21",
         "3150.0",
         "1011.5",
         "70.0"
        ],
        [
         "1261",
         "Departamento",
         "Nativitas",
         "1",
         "0",
         "0",
         "35",
         "1400.0",
         "455.0",
         "0.0"
        ],
        [
         "1294",
         "Departamento",
         "Roma Norte",
         "1",
         "0",
         "0",
         "33",
         "2800.0",
         "962.5",
         "84.0"
        ],
        [
         "1349",
         "Departamento",
         "Ciudad de los Deportes",
         "1",
         "1",
         "1",
         "70",
         "2100.0",
         "1683.5",
         "59.5"
        ],
        [
         "1555",
         "Departamento",
         "Centro Histórico",
         "1",
         "0",
         "0",
         "38",
         "3150.0",
         "780.5",
         "52.5"
        ],
        [
         "1602",
         "Departamento",
         "Nueva Santa María",
         "1",
         "1",
         "1",
         "51",
         "2975.0",
         "1781.5",
         "59.5"
        ],
        [
         "1780",
         "Departamento",
         "Condesa",
         "1",
         "0",
         "0",
         "45",
         "2590.0",
         "630.0",
         "87.5"
        ],
        [
         "1865",
         "Departamento",
         "La Florida",
         "1",
         "1",
         "1",
         "64",
         "3150.0",
         "1645.0",
         "52.5"
        ],
        [
         "1902",
         "Departamento",
         "La Condesa",
         "1",
         "0",
         "1",
         "48",
         "3850.0",
         "1750.0",
         "0.0"
        ],
        [
         "2094",
         "Departamento",
         "Centro Histórico",
         "1",
         "0",
         "0",
         "40",
         "3500.0",
         "1785.0",
         "73.5"
        ],
        [
         "2146",
         "Departamento",
         "Centro Histórico",
         "1",
         "0",
         "0",
         "55",
         "2975.0",
         "1225.0",
         "122.5"
        ],
        [
         "2161",
         "Departamento",
         "Centro Histórico",
         "1",
         "0",
         "0",
         "28",
         "3150.0",
         "1561.0",
         "84.0"
        ],
        [
         "2164",
         "Departamento",
         "Juárez",
         "1",
         "0",
         "0",
         "27",
         "3500.0",
         "1256.5",
         "101.5"
        ],
        [
         "2172",
         "Departamento",
         "Nueva Santa María",
         "1",
         "1",
         "0",
         "62",
         "3150.0",
         "1942.5",
         "0.0"
        ],
        [
         "2175",
         "Departamento",
         "Narvarte",
         "1",
         "0",
         "0",
         "35",
         "2800.0",
         "1330.0",
         "84.0"
        ],
        [
         "2182",
         "Departamento",
         "Culhuacán CTM",
         "1",
         "0",
         "0",
         "40",
         "2380.0",
         "840.0",
         "0.0"
        ],
        [
         "2276",
         "Departamento",
         "Centro Histórico",
         "1",
         "0",
         "0",
         "35",
         "3325.0",
         "1190.0",
         "84.0"
        ],
        [
         "2388",
         "Departamento",
         "Narvarte",
         "1",
         "1",
         "0",
         "47",
         "3850.0",
         "2100.0",
         "0.0"
        ],
        [
         "2409",
         "Departamento",
         "Iztacalco",
         "1",
         "0",
         "0",
         "55",
         "2450.0",
         "700.0",
         "0.0"
        ],
        [
         "2421",
         "Departamento",
         "Condesa",
         "1",
         "0",
         "0",
         "55",
         "3850.0",
         "1960.0",
         "199.5"
        ],
        [
         "2423",
         "Departamento",
         "Del Valle",
         "1",
         "0",
         "0",
         "27",
         "3850.0",
         "2380.0",
         "101.5"
        ],
        [
         "2451",
         "Departamento",
         "La Condesa",
         "1",
         "0",
         "0",
         "50",
         "3325.0",
         "1995.0",
         "234.5"
        ]
       ],
       "shape": {
        "columns": 9,
        "rows": 361
       }
      },
      "text/html": [
       "<div>\n",
       "<style scoped>\n",
       "    .dataframe tbody tr th:only-of-type {\n",
       "        vertical-align: middle;\n",
       "    }\n",
       "\n",
       "    .dataframe tbody tr th {\n",
       "        vertical-align: top;\n",
       "    }\n",
       "\n",
       "    .dataframe thead th {\n",
       "        text-align: right;\n",
       "    }\n",
       "</style>\n",
       "<table border=\"1\" class=\"dataframe\">\n",
       "  <thead>\n",
       "    <tr style=\"text-align: right;\">\n",
       "      <th></th>\n",
       "      <th>Tipo</th>\n",
       "      <th>Colonia</th>\n",
       "      <th>Habitaciones</th>\n",
       "      <th>Garages</th>\n",
       "      <th>Suites</th>\n",
       "      <th>Area</th>\n",
       "      <th>Valor</th>\n",
       "      <th>Condominio</th>\n",
       "      <th>Impuesto</th>\n",
       "    </tr>\n",
       "  </thead>\n",
       "  <tbody>\n",
       "    <tr>\n",
       "      <th>3</th>\n",
       "      <td>Departamento</td>\n",
       "      <td>Centro Histórico</td>\n",
       "      <td>1</td>\n",
       "      <td>0</td>\n",
       "      <td>0</td>\n",
       "      <td>15</td>\n",
       "      <td>2800.0</td>\n",
       "      <td>1365.0</td>\n",
       "      <td>70.0</td>\n",
       "    </tr>\n",
       "    <tr>\n",
       "      <th>4</th>\n",
       "      <td>Departamento</td>\n",
       "      <td>Del Valle</td>\n",
       "      <td>1</td>\n",
       "      <td>0</td>\n",
       "      <td>0</td>\n",
       "      <td>48</td>\n",
       "      <td>2800.0</td>\n",
       "      <td>805.0</td>\n",
       "      <td>0.0</td>\n",
       "    </tr>\n",
       "    <tr>\n",
       "      <th>19</th>\n",
       "      <td>Departamento</td>\n",
       "      <td>Narvarte</td>\n",
       "      <td>1</td>\n",
       "      <td>0</td>\n",
       "      <td>0</td>\n",
       "      <td>48</td>\n",
       "      <td>2625.0</td>\n",
       "      <td>2702.0</td>\n",
       "      <td>87.5</td>\n",
       "    </tr>\n",
       "    <tr>\n",
       "      <th>37</th>\n",
       "      <td>Departamento</td>\n",
       "      <td>Centro Histórico</td>\n",
       "      <td>1</td>\n",
       "      <td>0</td>\n",
       "      <td>0</td>\n",
       "      <td>27</td>\n",
       "      <td>2625.0</td>\n",
       "      <td>1298.5</td>\n",
       "      <td>66.5</td>\n",
       "    </tr>\n",
       "    <tr>\n",
       "      <th>61</th>\n",
       "      <td>Departamento</td>\n",
       "      <td>Centro Histórico</td>\n",
       "      <td>1</td>\n",
       "      <td>1</td>\n",
       "      <td>0</td>\n",
       "      <td>37</td>\n",
       "      <td>3850.0</td>\n",
       "      <td>1890.0</td>\n",
       "      <td>3150.0</td>\n",
       "    </tr>\n",
       "    <tr>\n",
       "      <th>...</th>\n",
       "      <td>...</td>\n",
       "      <td>...</td>\n",
       "      <td>...</td>\n",
       "      <td>...</td>\n",
       "      <td>...</td>\n",
       "      <td>...</td>\n",
       "      <td>...</td>\n",
       "      <td>...</td>\n",
       "      <td>...</td>\n",
       "    </tr>\n",
       "    <tr>\n",
       "      <th>24710</th>\n",
       "      <td>Departamento</td>\n",
       "      <td>Nativitas</td>\n",
       "      <td>1</td>\n",
       "      <td>0</td>\n",
       "      <td>0</td>\n",
       "      <td>40</td>\n",
       "      <td>3150.0</td>\n",
       "      <td>1522.5</td>\n",
       "      <td>0.0</td>\n",
       "    </tr>\n",
       "    <tr>\n",
       "      <th>24872</th>\n",
       "      <td>Departamento</td>\n",
       "      <td>Peralvillo</td>\n",
       "      <td>1</td>\n",
       "      <td>0</td>\n",
       "      <td>1</td>\n",
       "      <td>69</td>\n",
       "      <td>3150.0</td>\n",
       "      <td>2240.0</td>\n",
       "      <td>441.0</td>\n",
       "    </tr>\n",
       "    <tr>\n",
       "      <th>24880</th>\n",
       "      <td>Departamento</td>\n",
       "      <td>La Condesa</td>\n",
       "      <td>1</td>\n",
       "      <td>0</td>\n",
       "      <td>0</td>\n",
       "      <td>46</td>\n",
       "      <td>3850.0</td>\n",
       "      <td>1585.5</td>\n",
       "      <td>112.0</td>\n",
       "    </tr>\n",
       "    <tr>\n",
       "      <th>24943</th>\n",
       "      <td>Departamento</td>\n",
       "      <td>Roma</td>\n",
       "      <td>1</td>\n",
       "      <td>0</td>\n",
       "      <td>0</td>\n",
       "      <td>21</td>\n",
       "      <td>3500.0</td>\n",
       "      <td>987.0</td>\n",
       "      <td>87.5</td>\n",
       "    </tr>\n",
       "    <tr>\n",
       "      <th>25114</th>\n",
       "      <td>Departamento</td>\n",
       "      <td>Narvarte</td>\n",
       "      <td>1</td>\n",
       "      <td>0</td>\n",
       "      <td>0</td>\n",
       "      <td>28</td>\n",
       "      <td>3500.0</td>\n",
       "      <td>1260.0</td>\n",
       "      <td>87.5</td>\n",
       "    </tr>\n",
       "  </tbody>\n",
       "</table>\n",
       "<p>361 rows × 9 columns</p>\n",
       "</div>"
      ],
      "text/plain": [
       "               Tipo           Colonia  Habitaciones  Garages  Suites  Area  \\\n",
       "3      Departamento  Centro Histórico             1        0       0    15   \n",
       "4      Departamento         Del Valle             1        0       0    48   \n",
       "19     Departamento          Narvarte             1        0       0    48   \n",
       "37     Departamento  Centro Histórico             1        0       0    27   \n",
       "61     Departamento  Centro Histórico             1        1       0    37   \n",
       "...             ...               ...           ...      ...     ...   ...   \n",
       "24710  Departamento         Nativitas             1        0       0    40   \n",
       "24872  Departamento        Peralvillo             1        0       1    69   \n",
       "24880  Departamento        La Condesa             1        0       0    46   \n",
       "24943  Departamento              Roma             1        0       0    21   \n",
       "25114  Departamento          Narvarte             1        0       0    28   \n",
       "\n",
       "        Valor  Condominio  Impuesto  \n",
       "3      2800.0      1365.0      70.0  \n",
       "4      2800.0       805.0       0.0  \n",
       "19     2625.0      2702.0      87.5  \n",
       "37     2625.0      1298.5      66.5  \n",
       "61     3850.0      1890.0    3150.0  \n",
       "...       ...         ...       ...  \n",
       "24710  3150.0      1522.5       0.0  \n",
       "24872  3150.0      2240.0     441.0  \n",
       "24880  3850.0      1585.5     112.0  \n",
       "24943  3500.0       987.0      87.5  \n",
       "25114  3500.0      1260.0      87.5  \n",
       "\n",
       "[361 rows x 9 columns]"
      ]
     },
     "execution_count": 130,
     "metadata": {},
     "output_type": "execute_result"
    }
   ],
   "source": [
    "# Unimos las dos máscaras booleanas para filtrar los departamentos que cumplen con ambas condiciones\n",
    "# utilizamos el operador logico '&' (AND)\n",
    "filtro_1 = seleccion1 & seleccion2\n",
    "\n",
    "# Aplicamos el filtro al DataFrame para obtener los departamentos que cumplen con las condiciones\n",
    "new_df[filtro_1]"
   ]
  },
  {
   "cell_type": "code",
   "execution_count": 144,
   "id": "fa1b3b5f",
   "metadata": {},
   "outputs": [],
   "source": [
    "# Guardamos el DataFrame filtrado en una nueva variable para su posterior uso\n",
    "df1 = new_df[filtro_1].drop(columns=['Tipo']) # Eliminamos la columna 'Tipo' ya que no es necesaria"
   ]
  },
  {
   "cell_type": "markdown",
   "id": "9cb98c31",
   "metadata": {},
   "source": [
    "### Apartamentos que tienen **al menos 2 dormitorios, un alquiler menor a MXN 10500 y una superficie mayor a 70 m².**"
   ]
  },
  {
   "cell_type": "markdown",
   "id": "e6f14ac5",
   "metadata": {},
   "source": [
    "- Generación de filtro para hallar 2 o mas dormitorios"
   ]
  },
  {
   "cell_type": "code",
   "execution_count": 132,
   "id": "b788a3da",
   "metadata": {},
   "outputs": [
    {
     "data": {
      "application/vnd.microsoft.datawrangler.viewer.v0+json": {
       "columns": [
        {
         "name": "index",
         "rawType": "int64",
         "type": "integer"
        },
        {
         "name": "Habitaciones",
         "rawType": "bool",
         "type": "boolean"
        }
       ],
       "ref": "3238d60d-b547-4b22-91e3-15e21db945c6",
       "rows": [
        [
         "3",
         "False"
        ],
        [
         "4",
         "False"
        ],
        [
         "8",
         "False"
        ],
        [
         "10",
         "True"
        ],
        [
         "13",
         "True"
        ],
        [
         "14",
         "True"
        ],
        [
         "16",
         "True"
        ],
        [
         "18",
         "True"
        ],
        [
         "19",
         "False"
        ],
        [
         "20",
         "True"
        ],
        [
         "21",
         "True"
        ],
        [
         "22",
         "True"
        ],
        [
         "23",
         "True"
        ],
        [
         "25",
         "True"
        ],
        [
         "28",
         "True"
        ],
        [
         "29",
         "True"
        ],
        [
         "30",
         "True"
        ],
        [
         "33",
         "True"
        ],
        [
         "34",
         "True"
        ],
        [
         "37",
         "False"
        ],
        [
         "38",
         "False"
        ],
        [
         "39",
         "False"
        ],
        [
         "42",
         "True"
        ],
        [
         "43",
         "True"
        ],
        [
         "44",
         "True"
        ],
        [
         "45",
         "True"
        ],
        [
         "47",
         "True"
        ],
        [
         "48",
         "True"
        ],
        [
         "56",
         "True"
        ],
        [
         "57",
         "True"
        ],
        [
         "58",
         "True"
        ],
        [
         "59",
         "True"
        ],
        [
         "60",
         "True"
        ],
        [
         "61",
         "False"
        ],
        [
         "62",
         "True"
        ],
        [
         "63",
         "True"
        ],
        [
         "64",
         "True"
        ],
        [
         "66",
         "True"
        ],
        [
         "68",
         "True"
        ],
        [
         "71",
         "True"
        ],
        [
         "72",
         "False"
        ],
        [
         "75",
         "True"
        ],
        [
         "79",
         "True"
        ],
        [
         "80",
         "True"
        ],
        [
         "82",
         "True"
        ],
        [
         "83",
         "True"
        ],
        [
         "84",
         "True"
        ],
        [
         "87",
         "True"
        ],
        [
         "88",
         "True"
        ],
        [
         "89",
         "True"
        ]
       ],
       "shape": {
        "columns": 1,
        "rows": 14264
       }
      },
      "text/plain": [
       "3        False\n",
       "4        False\n",
       "8        False\n",
       "10        True\n",
       "13        True\n",
       "         ...  \n",
       "25111     True\n",
       "25113     True\n",
       "25114    False\n",
       "25118     True\n",
       "25119     True\n",
       "Name: Habitaciones, Length: 14264, dtype: bool"
      ]
     },
     "execution_count": 132,
     "metadata": {},
     "output_type": "execute_result"
    }
   ],
   "source": [
    "# Esta máscara booleana nos permite filtrar el DataFrame para obtener los departamentos con 2 dormitorio o más.\n",
    "# Guardamos la máscara en la variable 'seleccion3'\n",
    "seleccion3 = new_df['Habitaciones'] >= 2\n",
    "seleccion3"
   ]
  },
  {
   "cell_type": "markdown",
   "id": "778f3569",
   "metadata": {},
   "source": [
    "- Generación de filtro para hallar valores menores a 10,500"
   ]
  },
  {
   "cell_type": "code",
   "execution_count": 133,
   "id": "7d82c786",
   "metadata": {},
   "outputs": [
    {
     "data": {
      "application/vnd.microsoft.datawrangler.viewer.v0+json": {
       "columns": [
        {
         "name": "index",
         "rawType": "int64",
         "type": "integer"
        },
        {
         "name": "Valor",
         "rawType": "bool",
         "type": "boolean"
        }
       ],
       "ref": "427ebd90-2d06-4e61-b2b5-7f9aecbe14a7",
       "rows": [
        [
         "3",
         "True"
        ],
        [
         "4",
         "True"
        ],
        [
         "8",
         "True"
        ],
        [
         "10",
         "False"
        ],
        [
         "13",
         "True"
        ],
        [
         "14",
         "True"
        ],
        [
         "16",
         "True"
        ],
        [
         "18",
         "False"
        ],
        [
         "19",
         "True"
        ],
        [
         "20",
         "False"
        ],
        [
         "21",
         "True"
        ],
        [
         "22",
         "False"
        ],
        [
         "23",
         "False"
        ],
        [
         "25",
         "False"
        ],
        [
         "28",
         "True"
        ],
        [
         "29",
         "False"
        ],
        [
         "30",
         "False"
        ],
        [
         "33",
         "True"
        ],
        [
         "34",
         "False"
        ],
        [
         "37",
         "True"
        ],
        [
         "38",
         "True"
        ],
        [
         "39",
         "True"
        ],
        [
         "42",
         "False"
        ],
        [
         "43",
         "False"
        ],
        [
         "44",
         "False"
        ],
        [
         "45",
         "False"
        ],
        [
         "47",
         "False"
        ],
        [
         "48",
         "False"
        ],
        [
         "56",
         "False"
        ],
        [
         "57",
         "False"
        ],
        [
         "58",
         "True"
        ],
        [
         "59",
         "True"
        ],
        [
         "60",
         "True"
        ],
        [
         "61",
         "True"
        ],
        [
         "62",
         "False"
        ],
        [
         "63",
         "True"
        ],
        [
         "64",
         "True"
        ],
        [
         "66",
         "False"
        ],
        [
         "68",
         "True"
        ],
        [
         "71",
         "False"
        ],
        [
         "72",
         "True"
        ],
        [
         "75",
         "True"
        ],
        [
         "79",
         "True"
        ],
        [
         "80",
         "False"
        ],
        [
         "82",
         "True"
        ],
        [
         "83",
         "False"
        ],
        [
         "84",
         "False"
        ],
        [
         "87",
         "False"
        ],
        [
         "88",
         "False"
        ],
        [
         "89",
         "False"
        ]
       ],
       "shape": {
        "columns": 1,
        "rows": 14264
       }
      },
      "text/plain": [
       "3         True\n",
       "4         True\n",
       "8         True\n",
       "10       False\n",
       "13        True\n",
       "         ...  \n",
       "25111    False\n",
       "25113    False\n",
       "25114     True\n",
       "25118     True\n",
       "25119    False\n",
       "Name: Valor, Length: 14264, dtype: bool"
      ]
     },
     "execution_count": 133,
     "metadata": {},
     "output_type": "execute_result"
    }
   ],
   "source": [
    "# Esta máscara booleana nos permite filtrar el DataFrame para obtener los departamentos con valor menor a 10,500\n",
    "# Guardamos la máscara en la variable 'seleccion4'\n",
    "seleccion4 = new_df['Valor'] < 10500\n",
    "seleccion4"
   ]
  },
  {
   "cell_type": "code",
   "execution_count": 134,
   "id": "8d94b250",
   "metadata": {},
   "outputs": [
    {
     "data": {
      "application/vnd.microsoft.datawrangler.viewer.v0+json": {
       "columns": [
        {
         "name": "Valor",
         "rawType": "bool",
         "type": "boolean"
        },
        {
         "name": "count",
         "rawType": "int64",
         "type": "integer"
        }
       ],
       "ref": "7fa74835-45e6-40e0-88e9-80f7914f12a8",
       "rows": [
        [
         "False",
         "7882"
        ],
        [
         "True",
         "6382"
        ]
       ],
       "shape": {
        "columns": 1,
        "rows": 2
       }
      },
      "text/plain": [
       "Valor\n",
       "False    7882\n",
       "True     6382\n",
       "Name: count, dtype: int64"
      ]
     },
     "execution_count": 134,
     "metadata": {},
     "output_type": "execute_result"
    }
   ],
   "source": [
    "# Verificando cantidad de valores\n",
    "seleccion4.value_counts()"
   ]
  },
  {
   "cell_type": "markdown",
   "id": "32948c2b",
   "metadata": {},
   "source": [
    "- Generación de filtro para hallar departamentos con superficie mayor a 70 m2"
   ]
  },
  {
   "cell_type": "code",
   "execution_count": 135,
   "id": "7dfeeedd",
   "metadata": {},
   "outputs": [
    {
     "data": {
      "application/vnd.microsoft.datawrangler.viewer.v0+json": {
       "columns": [
        {
         "name": "index",
         "rawType": "int64",
         "type": "integer"
        },
        {
         "name": "Area",
         "rawType": "bool",
         "type": "boolean"
        }
       ],
       "ref": "7fd89144-0119-4f4c-97c7-65f0205a9f46",
       "rows": [
        [
         "3",
         "False"
        ],
        [
         "4",
         "False"
        ],
        [
         "8",
         "False"
        ],
        [
         "10",
         "True"
        ],
        [
         "13",
         "False"
        ],
        [
         "14",
         "True"
        ],
        [
         "16",
         "True"
        ],
        [
         "18",
         "True"
        ],
        [
         "19",
         "False"
        ],
        [
         "20",
         "True"
        ],
        [
         "21",
         "True"
        ],
        [
         "22",
         "True"
        ],
        [
         "23",
         "True"
        ],
        [
         "25",
         "True"
        ],
        [
         "28",
         "False"
        ],
        [
         "29",
         "True"
        ],
        [
         "30",
         "True"
        ],
        [
         "33",
         "True"
        ],
        [
         "34",
         "True"
        ],
        [
         "37",
         "False"
        ],
        [
         "38",
         "False"
        ],
        [
         "39",
         "False"
        ],
        [
         "42",
         "True"
        ],
        [
         "43",
         "True"
        ],
        [
         "44",
         "True"
        ],
        [
         "45",
         "True"
        ],
        [
         "47",
         "True"
        ],
        [
         "48",
         "True"
        ],
        [
         "56",
         "True"
        ],
        [
         "57",
         "True"
        ],
        [
         "58",
         "True"
        ],
        [
         "59",
         "False"
        ],
        [
         "60",
         "True"
        ],
        [
         "61",
         "False"
        ],
        [
         "62",
         "True"
        ],
        [
         "63",
         "True"
        ],
        [
         "64",
         "False"
        ],
        [
         "66",
         "True"
        ],
        [
         "68",
         "True"
        ],
        [
         "71",
         "True"
        ],
        [
         "72",
         "False"
        ],
        [
         "75",
         "True"
        ],
        [
         "79",
         "True"
        ],
        [
         "80",
         "True"
        ],
        [
         "82",
         "True"
        ],
        [
         "83",
         "True"
        ],
        [
         "84",
         "True"
        ],
        [
         "87",
         "True"
        ],
        [
         "88",
         "False"
        ],
        [
         "89",
         "True"
        ]
       ],
       "shape": {
        "columns": 1,
        "rows": 14264
       }
      },
      "text/plain": [
       "3        False\n",
       "4        False\n",
       "8        False\n",
       "10        True\n",
       "13       False\n",
       "         ...  \n",
       "25111     True\n",
       "25113     True\n",
       "25114    False\n",
       "25118    False\n",
       "25119    False\n",
       "Name: Area, Length: 14264, dtype: bool"
      ]
     },
     "execution_count": 135,
     "metadata": {},
     "output_type": "execute_result"
    }
   ],
   "source": [
    "# Esta máscara booleana nos permite filtrar el DataFrame para obtener los departamentos con valores que cumplan con dicho filtro\n",
    "seleccion5 = new_df['Area'] > 70\n",
    "seleccion5"
   ]
  },
  {
   "cell_type": "code",
   "execution_count": 136,
   "id": "9e3b4bcb",
   "metadata": {},
   "outputs": [],
   "source": [
    "# Almacenamos todos los filtros juntos ya que deben aplicarse de forma conjunta.\n",
    "filtro_2 = seleccion3 & seleccion4 & seleccion5"
   ]
  },
  {
   "cell_type": "code",
   "execution_count": 137,
   "id": "68404de1",
   "metadata": {},
   "outputs": [
    {
     "data": {
      "application/vnd.microsoft.datawrangler.viewer.v0+json": {
       "columns": [
        {
         "name": "index",
         "rawType": "int64",
         "type": "integer"
        },
        {
         "name": "Tipo",
         "rawType": "object",
         "type": "string"
        },
        {
         "name": "Colonia",
         "rawType": "object",
         "type": "string"
        },
        {
         "name": "Habitaciones",
         "rawType": "int64",
         "type": "integer"
        },
        {
         "name": "Garages",
         "rawType": "int64",
         "type": "integer"
        },
        {
         "name": "Suites",
         "rawType": "int64",
         "type": "integer"
        },
        {
         "name": "Area",
         "rawType": "int64",
         "type": "integer"
        },
        {
         "name": "Valor",
         "rawType": "float64",
         "type": "float"
        },
        {
         "name": "Condominio",
         "rawType": "float64",
         "type": "float"
        },
        {
         "name": "Impuesto",
         "rawType": "float64",
         "type": "float"
        }
       ],
       "ref": "6108e322-8903-41db-af5f-0343fc1ec05d",
       "rows": [
        [
         "14",
         "Departamento",
         "Narvarte",
         "2",
         "1",
         "0",
         "110",
         "6650.0",
         "2450.0",
         "483.0"
        ],
        [
         "16",
         "Departamento",
         "Narvarte",
         "2",
         "1",
         "0",
         "78",
         "7000.0",
         "2450.0",
         "0.0"
        ],
        [
         "21",
         "Departamento",
         "Roma",
         "2",
         "1",
         "0",
         "76",
         "8750.0",
         "2590.0",
         "0.0"
        ],
        [
         "33",
         "Departamento",
         "Santa Fe",
         "3",
         "1",
         "1",
         "72",
         "8225.0",
         "2100.0",
         "245.0"
        ],
        [
         "58",
         "Departamento",
         "Santa Fe",
         "3",
         "2",
         "1",
         "104",
         "9100.0",
         "4774.0",
         "1421.0"
        ],
        [
         "60",
         "Departamento",
         "Santa Fe",
         "2",
         "1",
         "1",
         "88",
         "9450.0",
         "4550.0",
         "7147.0"
        ],
        [
         "63",
         "Departamento",
         "Santa Fe",
         "3",
         "2",
         "2",
         "85",
         "8750.0",
         "4900.0",
         "665.0"
        ],
        [
         "68",
         "Departamento",
         "Santa Fe",
         "2",
         "1",
         "1",
         "78",
         "9625.0",
         "4550.0",
         "483.0"
        ],
        [
         "75",
         "Departamento",
         "Narvarte",
         "2",
         "1",
         "0",
         "80",
         "6300.0",
         "3850.0",
         "294.0"
        ],
        [
         "79",
         "Departamento",
         "Narvarte",
         "3",
         "1",
         "0",
         "172",
         "9450.0",
         "2730.0",
         "595.0"
        ],
        [
         "82",
         "Departamento",
         "Roma",
         "2",
         "1",
         "1",
         "83",
         "9800.0",
         "1960.0",
         "483.0"
        ],
        [
         "91",
         "Departamento",
         "Juárez",
         "2",
         "0",
         "0",
         "77",
         "8400.0",
         "3955.0",
         "490.0"
        ],
        [
         "100",
         "Departamento",
         "Ciudad de los Deportes",
         "2",
         "0",
         "0",
         "80",
         "3150.0",
         "1225.0",
         "0.0"
        ],
        [
         "125",
         "Departamento",
         "Santa Fe",
         "2",
         "1",
         "1",
         "72",
         "9100.0",
         "5950.0",
         "829.5"
        ],
        [
         "132",
         "Departamento",
         "Narvarte",
         "3",
         "0",
         "0",
         "87",
         "5600.0",
         "2275.0",
         "350.0"
        ],
        [
         "139",
         "Departamento",
         "Santa Fe",
         "3",
         "1",
         "2",
         "93",
         "8750.0",
         "3850.0",
         "0.0"
        ],
        [
         "140",
         "Departamento",
         "Nueva Santa María",
         "2",
         "2",
         "0",
         "78",
         "2800.0",
         "3202.5",
         "192.5"
        ],
        [
         "141",
         "Departamento",
         "Santa Fe",
         "2",
         "1",
         "1",
         "85",
         "8750.0",
         "5505.5",
         "689.5"
        ],
        [
         "155",
         "Departamento",
         "Narvarte",
         "3",
         "1",
         "1",
         "78",
         "8750.0",
         "2555.0",
         "623.0"
        ],
        [
         "163",
         "Departamento",
         "Santa Fe",
         "2",
         "1",
         "1",
         "83",
         "7000.0",
         "5418.0",
         "910.0"
        ],
        [
         "165",
         "Departamento",
         "Santa Fe",
         "3",
         "1",
         "1",
         "84",
         "6650.0",
         "3860.5",
         "742.0"
        ],
        [
         "166",
         "Departamento",
         "Narvarte",
         "3",
         "0",
         "0",
         "75",
         "6300.0",
         "1225.0",
         "0.0"
        ],
        [
         "175",
         "Departamento",
         "Narvarte",
         "2",
         "1",
         "1",
         "71",
         "5250.0",
         "2100.0",
         "0.0"
        ],
        [
         "176",
         "Departamento",
         "Santa Fe",
         "2",
         "1",
         "1",
         "81",
         "6650.0",
         "4200.0",
         "423.5"
        ],
        [
         "190",
         "Departamento",
         "Del Valle",
         "3",
         "1",
         "1",
         "90",
         "8400.0",
         "4588.5",
         "0.0"
        ],
        [
         "200",
         "Departamento",
         "Narvarte",
         "3",
         "1",
         "0",
         "129",
         "6300.0",
         "2975.0",
         "406.0"
        ],
        [
         "227",
         "Departamento",
         "Santa Fe",
         "3",
         "1",
         "1",
         "105",
         "8750.0",
         "4900.0",
         "5250.0"
        ],
        [
         "235",
         "Departamento",
         "San Ángel",
         "3",
         "0",
         "1",
         "120",
         "9450.0",
         "3080.0",
         "833.0"
        ],
        [
         "246",
         "Departamento",
         "Santa Fe",
         "2",
         "1",
         "1",
         "77",
         "8750.0",
         "2905.0",
         "546.0"
        ],
        [
         "253",
         "Departamento",
         "Santa Fe",
         "2",
         "1",
         "1",
         "75",
         "4900.0",
         "4480.0",
         "0.0"
        ],
        [
         "274",
         "Departamento",
         "Condesa",
         "2",
         "1",
         "1",
         "81",
         "10150.0",
         "3125.5",
         "665.0"
        ],
        [
         "279",
         "Departamento",
         "Ciudad de los Deportes",
         "3",
         "0",
         "0",
         "90",
         "3150.0",
         "1155.0",
         "52.5"
        ],
        [
         "280",
         "Departamento",
         "San Miguel Chapultepec",
         "3",
         "3",
         "1",
         "124",
         "5950.0",
         "4900.0",
         "0.0"
        ],
        [
         "288",
         "Departamento",
         "Mixcoac",
         "3",
         "1",
         "1",
         "73",
         "4200.0",
         "1820.0",
         "0.0"
        ],
        [
         "294",
         "Departamento",
         "Del Valle",
         "2",
         "0",
         "0",
         "110",
         "8750.0",
         "3388.0",
         "584.5"
        ],
        [
         "322",
         "Departamento",
         "Condesa",
         "3",
         "0",
         "0",
         "80",
         "8750.0",
         "2800.0",
         "549.5"
        ],
        [
         "337",
         "Departamento",
         "Bosques de las Lomas",
         "2",
         "1",
         "1",
         "80",
         "7700.0",
         "9100.0",
         "1470.0"
        ],
        [
         "356",
         "Departamento",
         "Narvarte",
         "3",
         "1",
         "0",
         "88",
         "8050.0",
         "2765.0",
         "3097.5"
        ],
        [
         "361",
         "Departamento",
         "Narvarte",
         "3",
         "1",
         "0",
         "116",
         "7000.0",
         "2765.0",
         "679.0"
        ],
        [
         "362",
         "Departamento",
         "San Miguel Chapultepec",
         "3",
         "0",
         "0",
         "82",
         "4200.0",
         "2324.0",
         "301.0"
        ],
        [
         "379",
         "Departamento",
         "Roma",
         "2",
         "0",
         "0",
         "115",
         "7700.0",
         "3657.5",
         "665.0"
        ],
        [
         "389",
         "Departamento",
         "Condesa",
         "2",
         "1",
         "0",
         "74",
         "9100.0",
         "3573.5",
         "0.0"
        ],
        [
         "390",
         "Departamento",
         "San Pedro de los Pinos",
         "2",
         "1",
         "0",
         "75",
         "10150.0",
         "3241.0",
         "315.0"
        ],
        [
         "395",
         "Departamento",
         "Del Valle",
         "2",
         "0",
         "0",
         "85",
         "7350.0",
         "2450.0",
         "332.5"
        ],
        [
         "402",
         "Departamento",
         "Santa Fe",
         "2",
         "1",
         "1",
         "88",
         "8400.0",
         "4595.5",
         "0.0"
        ],
        [
         "411",
         "Departamento",
         "Condesa",
         "2",
         "0",
         "0",
         "110",
         "9800.0",
         "2800.0",
         "420.0"
        ],
        [
         "431",
         "Departamento",
         "Bosques de las Lomas",
         "2",
         "1",
         "1",
         "90",
         "9450.0",
         "4725.0",
         "875.0"
        ],
        [
         "443",
         "Departamento",
         "San Pedro de los Pinos",
         "3",
         "1",
         "0",
         "95",
         "8050.0",
         "4550.0",
         "420.0"
        ],
        [
         "445",
         "Departamento",
         "Santa Fe",
         "2",
         "1",
         "0",
         "90",
         "7000.0",
         "3430.0",
         "5600.0"
        ],
        [
         "472",
         "Departamento",
         "Bosques de las Lomas",
         "2",
         "1",
         "0",
         "77",
         "9450.0",
         "3675.0",
         "1057.0"
        ]
       ],
       "shape": {
        "columns": 9,
        "rows": 2643
       }
      },
      "text/html": [
       "<div>\n",
       "<style scoped>\n",
       "    .dataframe tbody tr th:only-of-type {\n",
       "        vertical-align: middle;\n",
       "    }\n",
       "\n",
       "    .dataframe tbody tr th {\n",
       "        vertical-align: top;\n",
       "    }\n",
       "\n",
       "    .dataframe thead th {\n",
       "        text-align: right;\n",
       "    }\n",
       "</style>\n",
       "<table border=\"1\" class=\"dataframe\">\n",
       "  <thead>\n",
       "    <tr style=\"text-align: right;\">\n",
       "      <th></th>\n",
       "      <th>Tipo</th>\n",
       "      <th>Colonia</th>\n",
       "      <th>Habitaciones</th>\n",
       "      <th>Garages</th>\n",
       "      <th>Suites</th>\n",
       "      <th>Area</th>\n",
       "      <th>Valor</th>\n",
       "      <th>Condominio</th>\n",
       "      <th>Impuesto</th>\n",
       "    </tr>\n",
       "  </thead>\n",
       "  <tbody>\n",
       "    <tr>\n",
       "      <th>14</th>\n",
       "      <td>Departamento</td>\n",
       "      <td>Narvarte</td>\n",
       "      <td>2</td>\n",
       "      <td>1</td>\n",
       "      <td>0</td>\n",
       "      <td>110</td>\n",
       "      <td>6650.0</td>\n",
       "      <td>2450.0</td>\n",
       "      <td>483.0</td>\n",
       "    </tr>\n",
       "    <tr>\n",
       "      <th>16</th>\n",
       "      <td>Departamento</td>\n",
       "      <td>Narvarte</td>\n",
       "      <td>2</td>\n",
       "      <td>1</td>\n",
       "      <td>0</td>\n",
       "      <td>78</td>\n",
       "      <td>7000.0</td>\n",
       "      <td>2450.0</td>\n",
       "      <td>0.0</td>\n",
       "    </tr>\n",
       "    <tr>\n",
       "      <th>21</th>\n",
       "      <td>Departamento</td>\n",
       "      <td>Roma</td>\n",
       "      <td>2</td>\n",
       "      <td>1</td>\n",
       "      <td>0</td>\n",
       "      <td>76</td>\n",
       "      <td>8750.0</td>\n",
       "      <td>2590.0</td>\n",
       "      <td>0.0</td>\n",
       "    </tr>\n",
       "    <tr>\n",
       "      <th>33</th>\n",
       "      <td>Departamento</td>\n",
       "      <td>Santa Fe</td>\n",
       "      <td>3</td>\n",
       "      <td>1</td>\n",
       "      <td>1</td>\n",
       "      <td>72</td>\n",
       "      <td>8225.0</td>\n",
       "      <td>2100.0</td>\n",
       "      <td>245.0</td>\n",
       "    </tr>\n",
       "    <tr>\n",
       "      <th>58</th>\n",
       "      <td>Departamento</td>\n",
       "      <td>Santa Fe</td>\n",
       "      <td>3</td>\n",
       "      <td>2</td>\n",
       "      <td>1</td>\n",
       "      <td>104</td>\n",
       "      <td>9100.0</td>\n",
       "      <td>4774.0</td>\n",
       "      <td>1421.0</td>\n",
       "    </tr>\n",
       "    <tr>\n",
       "      <th>...</th>\n",
       "      <td>...</td>\n",
       "      <td>...</td>\n",
       "      <td>...</td>\n",
       "      <td>...</td>\n",
       "      <td>...</td>\n",
       "      <td>...</td>\n",
       "      <td>...</td>\n",
       "      <td>...</td>\n",
       "      <td>...</td>\n",
       "    </tr>\n",
       "    <tr>\n",
       "      <th>25028</th>\n",
       "      <td>Departamento</td>\n",
       "      <td>Del Valle</td>\n",
       "      <td>2</td>\n",
       "      <td>0</td>\n",
       "      <td>1</td>\n",
       "      <td>90</td>\n",
       "      <td>7700.0</td>\n",
       "      <td>1890.0</td>\n",
       "      <td>483.0</td>\n",
       "    </tr>\n",
       "    <tr>\n",
       "      <th>25062</th>\n",
       "      <td>Departamento</td>\n",
       "      <td>Santa Fe</td>\n",
       "      <td>2</td>\n",
       "      <td>1</td>\n",
       "      <td>1</td>\n",
       "      <td>72</td>\n",
       "      <td>5950.0</td>\n",
       "      <td>3045.0</td>\n",
       "      <td>560.0</td>\n",
       "    </tr>\n",
       "    <tr>\n",
       "      <th>25063</th>\n",
       "      <td>Departamento</td>\n",
       "      <td>Narvarte</td>\n",
       "      <td>3</td>\n",
       "      <td>1</td>\n",
       "      <td>0</td>\n",
       "      <td>75</td>\n",
       "      <td>6650.0</td>\n",
       "      <td>3010.0</td>\n",
       "      <td>493.5</td>\n",
       "    </tr>\n",
       "    <tr>\n",
       "      <th>25105</th>\n",
       "      <td>Departamento</td>\n",
       "      <td>Santa Fe</td>\n",
       "      <td>2</td>\n",
       "      <td>1</td>\n",
       "      <td>1</td>\n",
       "      <td>85</td>\n",
       "      <td>7875.0</td>\n",
       "      <td>5463.5</td>\n",
       "      <td>689.5</td>\n",
       "    </tr>\n",
       "    <tr>\n",
       "      <th>25106</th>\n",
       "      <td>Departamento</td>\n",
       "      <td>Santa Fe</td>\n",
       "      <td>3</td>\n",
       "      <td>2</td>\n",
       "      <td>0</td>\n",
       "      <td>98</td>\n",
       "      <td>8050.0</td>\n",
       "      <td>3104.5</td>\n",
       "      <td>619.5</td>\n",
       "    </tr>\n",
       "  </tbody>\n",
       "</table>\n",
       "<p>2643 rows × 9 columns</p>\n",
       "</div>"
      ],
      "text/plain": [
       "               Tipo    Colonia  Habitaciones  Garages  Suites  Area   Valor  \\\n",
       "14     Departamento   Narvarte             2        1       0   110  6650.0   \n",
       "16     Departamento   Narvarte             2        1       0    78  7000.0   \n",
       "21     Departamento       Roma             2        1       0    76  8750.0   \n",
       "33     Departamento   Santa Fe             3        1       1    72  8225.0   \n",
       "58     Departamento   Santa Fe             3        2       1   104  9100.0   \n",
       "...             ...        ...           ...      ...     ...   ...     ...   \n",
       "25028  Departamento  Del Valle             2        0       1    90  7700.0   \n",
       "25062  Departamento   Santa Fe             2        1       1    72  5950.0   \n",
       "25063  Departamento   Narvarte             3        1       0    75  6650.0   \n",
       "25105  Departamento   Santa Fe             2        1       1    85  7875.0   \n",
       "25106  Departamento   Santa Fe             3        2       0    98  8050.0   \n",
       "\n",
       "       Condominio  Impuesto  \n",
       "14         2450.0     483.0  \n",
       "16         2450.0       0.0  \n",
       "21         2590.0       0.0  \n",
       "33         2100.0     245.0  \n",
       "58         4774.0    1421.0  \n",
       "...           ...       ...  \n",
       "25028      1890.0     483.0  \n",
       "25062      3045.0     560.0  \n",
       "25063      3010.0     493.5  \n",
       "25105      5463.5     689.5  \n",
       "25106      3104.5     619.5  \n",
       "\n",
       "[2643 rows x 9 columns]"
      ]
     },
     "execution_count": 137,
     "metadata": {},
     "output_type": "execute_result"
    }
   ],
   "source": [
    "# Visualizamos los datos que cumplen con el filtro 'filtro_2'\n",
    "new_df[filtro_2]"
   ]
  },
  {
   "cell_type": "code",
   "execution_count": 147,
   "id": "970708df",
   "metadata": {},
   "outputs": [],
   "source": [
    "# Guardamos la condicion en una variable\n",
    "df2 = new_df[filtro_2].drop(columns=['Tipo']) # Eliminamos la columna 'Tipo' ya que no es necesaria"
   ]
  },
  {
   "cell_type": "markdown",
   "id": "911071e9",
   "metadata": {},
   "source": [
    "## SAVING DATA"
   ]
  },
  {
   "cell_type": "markdown",
   "id": "dded134e",
   "metadata": {},
   "source": [
    "### Store the complete DataFrame(s) in .CSV format after all modifications have been made."
   ]
  },
  {
   "cell_type": "code",
   "execution_count": 161,
   "id": "2b1d8124",
   "metadata": {},
   "outputs": [],
   "source": [
    "# Creamos un archivo CSV con los datos filtrados\n",
    "# Se guardará en el directorio actual ya que no se especifica una ruta\n",
    "# Se sobreescribirá el archivo si ya existe\n",
    "path = '../../../datasets/processed_dataframes/inmuebles_residenciales_ml.csv'\n",
    "# 'index=False' evita que se guarde el índice del DataFrame en el archivo CSV\n",
    "new_df.to_csv(path,sep=';', index=False)"
   ]
  },
  {
   "cell_type": "markdown",
   "id": "44090786",
   "metadata": {},
   "source": [
    "- Store CSV dataframes at datasets/processed_dataframes directory"
   ]
  },
  {
   "cell_type": "code",
   "execution_count": 140,
   "id": "a43cb12b",
   "metadata": {},
   "outputs": [
    {
     "data": {
      "application/vnd.microsoft.datawrangler.viewer.v0+json": {
       "columns": [
        {
         "name": "index",
         "rawType": "int64",
         "type": "integer"
        },
        {
         "name": "Colonia",
         "rawType": "object",
         "type": "string"
        },
        {
         "name": "Habitaciones",
         "rawType": "int64",
         "type": "integer"
        },
        {
         "name": "Garages",
         "rawType": "int64",
         "type": "integer"
        },
        {
         "name": "Suites",
         "rawType": "int64",
         "type": "integer"
        },
        {
         "name": "Area",
         "rawType": "int64",
         "type": "integer"
        },
        {
         "name": "Valor",
         "rawType": "float64",
         "type": "float"
        },
        {
         "name": "Condominio",
         "rawType": "float64",
         "type": "float"
        },
        {
         "name": "Impuesto",
         "rawType": "float64",
         "type": "float"
        }
       ],
       "ref": "e1350f35-0f16-4e28-afcc-de5405fe3893",
       "rows": [
        [
         "0",
         "Centro Histórico",
         "1",
         "0",
         "0",
         "15",
         "2800.0",
         "1365.0",
         "70.0"
        ],
        [
         "1",
         "Del Valle",
         "1",
         "0",
         "0",
         "48",
         "2800.0",
         "805.0",
         "0.0"
        ],
        [
         "2",
         "Condesa",
         "1",
         "0",
         "1",
         "40",
         "7000.0",
         "1963.5",
         "175.0"
        ],
        [
         "3",
         "Condesa",
         "4",
         "3",
         "1",
         "243",
         "45500.0",
         "7000.0",
         "2810.5"
        ],
        [
         "4",
         "Santa Fe",
         "2",
         "1",
         "1",
         "67",
         "5950.0",
         "2061.5",
         "514.5"
        ],
        [
         "5",
         "Narvarte",
         "2",
         "1",
         "0",
         "110",
         "6650.0",
         "2450.0",
         "483.0"
        ],
        [
         "6",
         "Narvarte",
         "2",
         "1",
         "0",
         "78",
         "7000.0",
         "2450.0",
         "0.0"
        ],
        [
         "7",
         "Coyoacán",
         "3",
         "1",
         "1",
         "125",
         "24500.0",
         "7350.0",
         "1620.5"
        ],
        [
         "8",
         "Narvarte",
         "1",
         "0",
         "0",
         "48",
         "2625.0",
         "2702.0",
         "87.5"
        ],
        [
         "9",
         "Santa Fe",
         "3",
         "3",
         "1",
         "175",
         "14700.0",
         "5250.0",
         "1750.0"
        ],
        [
         "10",
         "Roma",
         "2",
         "1",
         "0",
         "76",
         "8750.0",
         "2590.0",
         "0.0"
        ],
        [
         "11",
         "Condesa",
         "3",
         "1",
         "2",
         "378",
         "35000.0",
         "7525.0",
         "2450.0"
        ],
        [
         "12",
         "Condesa",
         "3",
         "0",
         "0",
         "180",
         "19250.0",
         "6230.0",
         "1470.0"
        ],
        [
         "13",
         "Lomas de Chapultepec",
         "3",
         "1",
         "0",
         "110",
         "13650.0",
         "5250.0",
         "420.0"
        ],
        [
         "14",
         "Santa Fe",
         "3",
         "1",
         "2",
         "70",
         "6300.0",
         "3832.5",
         "490.0"
        ],
        [
         "15",
         "Condesa",
         "4",
         "1",
         "0",
         "244",
         "17500.0",
         "8750.0",
         "14350.0"
        ],
        [
         "16",
         "Santa Fe",
         "3",
         "2",
         "1",
         "110",
         "15750.0",
         "7000.0",
         "1575.0"
        ],
        [
         "17",
         "Santa Fe",
         "3",
         "1",
         "1",
         "72",
         "8225.0",
         "2100.0",
         "245.0"
        ],
        [
         "18",
         "San Pedro de los Pinos",
         "2",
         "2",
         "1",
         "180",
         "14000.0",
         "8750.0",
         "1050.0"
        ],
        [
         "19",
         "Centro Histórico",
         "1",
         "0",
         "0",
         "27",
         "2625.0",
         "1298.5",
         "66.5"
        ],
        [
         "20",
         "Coyoacán",
         "1",
         "0",
         "0",
         "35",
         "7000.0",
         "2275.0",
         "262.5"
        ],
        [
         "21",
         "Coyoacán",
         "1",
         "0",
         "0",
         "38",
         "4900.0",
         "1855.0",
         "269.5"
        ],
        [
         "22",
         "Santa Fe",
         "4",
         "3",
         "3",
         "153",
         "22750.0",
         "8050.0",
         "1519.0"
        ],
        [
         "23",
         "Coyoacán",
         "3",
         "1",
         "0",
         "87",
         "11200.0",
         "4567.5",
         "759.5"
        ],
        [
         "24",
         "Roma",
         "3",
         "1",
         "1",
         "108",
         "20825.0",
         "4917.5",
         "1011.5"
        ],
        [
         "25",
         "Coyoacán",
         "3",
         "2",
         "1",
         "150",
         "28000.0",
         "8400.0",
         "0.0"
        ],
        [
         "26",
         "Coyoacán",
         "3",
         "1",
         "1",
         "140",
         "27650.0",
         "10150.0",
         "1750.0"
        ],
        [
         "27",
         "Polanco",
         "2",
         "2",
         "0",
         "95",
         "14000.0",
         "4095.0",
         "0.0"
        ],
        [
         "28",
         "Lomas de Chapultepec",
         "2",
         "1",
         "1",
         "80",
         "12250.0",
         "3465.0",
         "857.5"
        ],
        [
         "29",
         "Santa Fe",
         "4",
         "4",
         "4",
         "240",
         "44450.0",
         "15400.0",
         "5040.0"
        ],
        [
         "30",
         "Santa Fe",
         "3",
         "2",
         "1",
         "104",
         "9100.0",
         "4774.0",
         "1421.0"
        ],
        [
         "31",
         "San Ángel",
         "2",
         "1",
         "0",
         "70",
         "9800.0",
         "2380.0",
         "343.0"
        ],
        [
         "32",
         "Santa Fe",
         "2",
         "1",
         "1",
         "88",
         "9450.0",
         "4550.0",
         "7147.0"
        ],
        [
         "33",
         "Centro Histórico",
         "1",
         "1",
         "0",
         "37",
         "3850.0",
         "1890.0",
         "3150.0"
        ],
        [
         "34",
         "San Jerónimo",
         "3",
         "4",
         "0",
         "130",
         "19250.0",
         "4924.5",
         "861.0"
        ],
        [
         "35",
         "Santa Fe",
         "3",
         "2",
         "2",
         "85",
         "8750.0",
         "4900.0",
         "665.0"
        ],
        [
         "36",
         "Del Valle",
         "2",
         "1",
         "0",
         "54",
         "8050.0",
         "2037.0",
         "0.0"
        ],
        [
         "37",
         "Coyoacán",
         "3",
         "1",
         "1",
         "120",
         "24500.0",
         "6300.0",
         "1295.0"
        ],
        [
         "38",
         "Santa Fe",
         "2",
         "1",
         "1",
         "78",
         "9625.0",
         "4550.0",
         "483.0"
        ],
        [
         "39",
         "San Pedro de los Pinos",
         "2",
         "1",
         "0",
         "86",
         "14000.0",
         "4406.5",
         "658.0"
        ],
        [
         "40",
         "Santa Fe",
         "1",
         "1",
         "1",
         "70",
         "5950.0",
         "3045.0",
         "500.5"
        ],
        [
         "41",
         "Narvarte",
         "2",
         "1",
         "0",
         "80",
         "6300.0",
         "3850.0",
         "294.0"
        ],
        [
         "42",
         "Narvarte",
         "3",
         "1",
         "0",
         "172",
         "9450.0",
         "2730.0",
         "595.0"
        ],
        [
         "43",
         "Coyoacán",
         "3",
         "1",
         "1",
         "145",
         "28000.0",
         "51688.0",
         "15379.0"
        ],
        [
         "44",
         "Roma",
         "2",
         "1",
         "1",
         "83",
         "9800.0",
         "1960.0",
         "483.0"
        ],
        [
         "45",
         "Roma",
         "2",
         "1",
         "1",
         "80",
         "15050.0",
         "4123.0",
         "654.5"
        ],
        [
         "46",
         "Bosques de las Lomas",
         "3",
         "1",
         "2",
         "250",
         "48650.0",
         "8750.0",
         "0.0"
        ],
        [
         "47",
         "Lomas de Chapultepec",
         "3",
         "2",
         "1",
         "147",
         "26250.0",
         "3598.0",
         "864.5"
        ],
        [
         "48",
         "Condesa",
         "2",
         "1",
         "0",
         "67",
         "12250.0",
         "3325.0",
         "560.0"
        ],
        [
         "49",
         "Coyoacán",
         "3",
         "1",
         "1",
         "150",
         "87500.0",
         "5656.0",
         "14892.5"
        ]
       ],
       "shape": {
        "columns": 8,
        "rows": 14264
       }
      },
      "text/html": [
       "<div>\n",
       "<style scoped>\n",
       "    .dataframe tbody tr th:only-of-type {\n",
       "        vertical-align: middle;\n",
       "    }\n",
       "\n",
       "    .dataframe tbody tr th {\n",
       "        vertical-align: top;\n",
       "    }\n",
       "\n",
       "    .dataframe thead th {\n",
       "        text-align: right;\n",
       "    }\n",
       "</style>\n",
       "<table border=\"1\" class=\"dataframe\">\n",
       "  <thead>\n",
       "    <tr style=\"text-align: right;\">\n",
       "      <th></th>\n",
       "      <th>Colonia</th>\n",
       "      <th>Habitaciones</th>\n",
       "      <th>Garages</th>\n",
       "      <th>Suites</th>\n",
       "      <th>Area</th>\n",
       "      <th>Valor</th>\n",
       "      <th>Condominio</th>\n",
       "      <th>Impuesto</th>\n",
       "    </tr>\n",
       "  </thead>\n",
       "  <tbody>\n",
       "    <tr>\n",
       "      <th>0</th>\n",
       "      <td>Centro Histórico</td>\n",
       "      <td>1</td>\n",
       "      <td>0</td>\n",
       "      <td>0</td>\n",
       "      <td>15</td>\n",
       "      <td>2800.0</td>\n",
       "      <td>1365.0</td>\n",
       "      <td>70.0</td>\n",
       "    </tr>\n",
       "    <tr>\n",
       "      <th>1</th>\n",
       "      <td>Del Valle</td>\n",
       "      <td>1</td>\n",
       "      <td>0</td>\n",
       "      <td>0</td>\n",
       "      <td>48</td>\n",
       "      <td>2800.0</td>\n",
       "      <td>805.0</td>\n",
       "      <td>0.0</td>\n",
       "    </tr>\n",
       "    <tr>\n",
       "      <th>2</th>\n",
       "      <td>Condesa</td>\n",
       "      <td>1</td>\n",
       "      <td>0</td>\n",
       "      <td>1</td>\n",
       "      <td>40</td>\n",
       "      <td>7000.0</td>\n",
       "      <td>1963.5</td>\n",
       "      <td>175.0</td>\n",
       "    </tr>\n",
       "    <tr>\n",
       "      <th>3</th>\n",
       "      <td>Condesa</td>\n",
       "      <td>4</td>\n",
       "      <td>3</td>\n",
       "      <td>1</td>\n",
       "      <td>243</td>\n",
       "      <td>45500.0</td>\n",
       "      <td>7000.0</td>\n",
       "      <td>2810.5</td>\n",
       "    </tr>\n",
       "    <tr>\n",
       "      <th>4</th>\n",
       "      <td>Santa Fe</td>\n",
       "      <td>2</td>\n",
       "      <td>1</td>\n",
       "      <td>1</td>\n",
       "      <td>67</td>\n",
       "      <td>5950.0</td>\n",
       "      <td>2061.5</td>\n",
       "      <td>514.5</td>\n",
       "    </tr>\n",
       "    <tr>\n",
       "      <th>...</th>\n",
       "      <td>...</td>\n",
       "      <td>...</td>\n",
       "      <td>...</td>\n",
       "      <td>...</td>\n",
       "      <td>...</td>\n",
       "      <td>...</td>\n",
       "      <td>...</td>\n",
       "      <td>...</td>\n",
       "    </tr>\n",
       "    <tr>\n",
       "      <th>14259</th>\n",
       "      <td>Lomas de Chapultepec</td>\n",
       "      <td>3</td>\n",
       "      <td>0</td>\n",
       "      <td>1</td>\n",
       "      <td>80</td>\n",
       "      <td>10500.0</td>\n",
       "      <td>3535.0</td>\n",
       "      <td>871.5</td>\n",
       "    </tr>\n",
       "    <tr>\n",
       "      <th>14260</th>\n",
       "      <td>Coyoacán</td>\n",
       "      <td>3</td>\n",
       "      <td>1</td>\n",
       "      <td>2</td>\n",
       "      <td>150</td>\n",
       "      <td>52500.0</td>\n",
       "      <td>4900.0</td>\n",
       "      <td>2100.0</td>\n",
       "    </tr>\n",
       "    <tr>\n",
       "      <th>14261</th>\n",
       "      <td>Narvarte</td>\n",
       "      <td>1</td>\n",
       "      <td>0</td>\n",
       "      <td>0</td>\n",
       "      <td>28</td>\n",
       "      <td>3500.0</td>\n",
       "      <td>1260.0</td>\n",
       "      <td>87.5</td>\n",
       "    </tr>\n",
       "    <tr>\n",
       "      <th>14262</th>\n",
       "      <td>Mixcoac</td>\n",
       "      <td>2</td>\n",
       "      <td>1</td>\n",
       "      <td>0</td>\n",
       "      <td>48</td>\n",
       "      <td>4900.0</td>\n",
       "      <td>1781.5</td>\n",
       "      <td>129.5</td>\n",
       "    </tr>\n",
       "    <tr>\n",
       "      <th>14263</th>\n",
       "      <td>Lomas de Chapultepec</td>\n",
       "      <td>2</td>\n",
       "      <td>0</td>\n",
       "      <td>0</td>\n",
       "      <td>70</td>\n",
       "      <td>10500.0</td>\n",
       "      <td>2660.0</td>\n",
       "      <td>0.0</td>\n",
       "    </tr>\n",
       "  </tbody>\n",
       "</table>\n",
       "<p>14264 rows × 8 columns</p>\n",
       "</div>"
      ],
      "text/plain": [
       "                    Colonia  Habitaciones  Garages  Suites  Area    Valor  \\\n",
       "0          Centro Histórico             1        0       0    15   2800.0   \n",
       "1                 Del Valle             1        0       0    48   2800.0   \n",
       "2                   Condesa             1        0       1    40   7000.0   \n",
       "3                   Condesa             4        3       1   243  45500.0   \n",
       "4                  Santa Fe             2        1       1    67   5950.0   \n",
       "...                     ...           ...      ...     ...   ...      ...   \n",
       "14259  Lomas de Chapultepec             3        0       1    80  10500.0   \n",
       "14260              Coyoacán             3        1       2   150  52500.0   \n",
       "14261              Narvarte             1        0       0    28   3500.0   \n",
       "14262               Mixcoac             2        1       0    48   4900.0   \n",
       "14263  Lomas de Chapultepec             2        0       0    70  10500.0   \n",
       "\n",
       "       Condominio  Impuesto  \n",
       "0          1365.0      70.0  \n",
       "1           805.0       0.0  \n",
       "2          1963.5     175.0  \n",
       "3          7000.0    2810.5  \n",
       "4          2061.5     514.5  \n",
       "...           ...       ...  \n",
       "14259      3535.0     871.5  \n",
       "14260      4900.0    2100.0  \n",
       "14261      1260.0      87.5  \n",
       "14262      1781.5     129.5  \n",
       "14263      2660.0       0.0  \n",
       "\n",
       "[14264 rows x 8 columns]"
      ]
     },
     "execution_count": 140,
     "metadata": {},
     "output_type": "execute_result"
    }
   ],
   "source": [
    "# Verificamos el archivo creado\n",
    "pd.read_csv(path, sep=';')   "
   ]
  },
  {
   "cell_type": "code",
   "execution_count": 148,
   "id": "afdcba30",
   "metadata": {},
   "outputs": [],
   "source": [
    "# Creamos archivos CSV con los datos filtrados\n",
    "# Se guardarán en otro directorio ya que se especifica una ruta\n",
    "# Se sobreescribirá el archivo si ya existe\n",
    "\n",
    "path1 = '../../../datasets/processed_dataframes/inmuebles_residenciales_ml_filtro_1.csv'\n",
    "path2 = '../../../datasets/processed_dataframes/inmuebles_residenciales_ml_filtro_2.csv'\n",
    "\n",
    "df1.to_csv(path1,sep=';', index=False)\n",
    "df2.to_csv(path2,sep=';', index=False)"
   ]
  },
  {
   "cell_type": "code",
   "execution_count": 146,
   "id": "cd1c9a85",
   "metadata": {},
   "outputs": [
    {
     "data": {
      "application/vnd.microsoft.datawrangler.viewer.v0+json": {
       "columns": [
        {
         "name": "index",
         "rawType": "int64",
         "type": "integer"
        },
        {
         "name": "Colonia",
         "rawType": "object",
         "type": "string"
        },
        {
         "name": "Habitaciones",
         "rawType": "int64",
         "type": "integer"
        },
        {
         "name": "Garages",
         "rawType": "int64",
         "type": "integer"
        },
        {
         "name": "Suites",
         "rawType": "int64",
         "type": "integer"
        },
        {
         "name": "Area",
         "rawType": "int64",
         "type": "integer"
        },
        {
         "name": "Valor",
         "rawType": "float64",
         "type": "float"
        },
        {
         "name": "Condominio",
         "rawType": "float64",
         "type": "float"
        },
        {
         "name": "Impuesto",
         "rawType": "float64",
         "type": "float"
        }
       ],
       "ref": "0be15c50-4ead-42fc-961d-33dccde7d845",
       "rows": [
        [
         "0",
         "Centro Histórico",
         "1",
         "0",
         "0",
         "15",
         "2800.0",
         "1365.0",
         "70.0"
        ],
        [
         "1",
         "Del Valle",
         "1",
         "0",
         "0",
         "48",
         "2800.0",
         "805.0",
         "0.0"
        ],
        [
         "2",
         "Narvarte",
         "1",
         "0",
         "0",
         "48",
         "2625.0",
         "2702.0",
         "87.5"
        ],
        [
         "3",
         "Centro Histórico",
         "1",
         "0",
         "0",
         "27",
         "2625.0",
         "1298.5",
         "66.5"
        ],
        [
         "4",
         "Centro Histórico",
         "1",
         "1",
         "0",
         "37",
         "3850.0",
         "1890.0",
         "3150.0"
        ],
        [
         "5",
         "San Miguel Chapultepec",
         "1",
         "0",
         "0",
         "37",
         "3500.0",
         "997.5",
         "84.0"
        ],
        [
         "6",
         "Roma",
         "1",
         "0",
         "0",
         "35",
         "3500.0",
         "1025.5",
         "301.0"
        ],
        [
         "7",
         "Nueva Santa María",
         "1",
         "1",
         "0",
         "63",
         "2450.0",
         "2187.5",
         "126.0"
        ],
        [
         "8",
         "Napoles",
         "1",
         "0",
         "0",
         "31",
         "3990.0",
         "1470.0",
         "84.0"
        ],
        [
         "9",
         "Roma",
         "1",
         "0",
         "0",
         "17",
         "3850.0",
         "1155.0",
         "52.5"
        ],
        [
         "10",
         "Villa de Guadalupe",
         "1",
         "1",
         "0",
         "45",
         "2450.0",
         "1246.0",
         "441.0"
        ],
        [
         "11",
         "San Rafael",
         "1",
         "0",
         "1",
         "30",
         "3850.0",
         "2030.0",
         "0.0"
        ],
        [
         "12",
         "Centro Histórico",
         "1",
         "0",
         "1",
         "38",
         "4025.0",
         "1400.0",
         "87.5"
        ],
        [
         "13",
         "Condesa",
         "1",
         "0",
         "0",
         "21",
         "2800.0",
         "1092.0",
         "52.5"
        ],
        [
         "14",
         "Centro Histórico",
         "1",
         "0",
         "0",
         "35",
         "3500.0",
         "1050.0",
         "0.0"
        ],
        [
         "15",
         "San Miguel Chapultepec",
         "1",
         "1",
         "1",
         "50",
         "3675.0",
         "1575.0",
         "0.0"
        ],
        [
         "16",
         "Santa Cruz Atoyac",
         "1",
         "0",
         "0",
         "50",
         "3850.0",
         "1953.0",
         "70.0"
        ],
        [
         "17",
         "Del Valle",
         "1",
         "0",
         "0",
         "55",
         "2625.0",
         "420.0",
         "0.0"
        ],
        [
         "18",
         "Roma",
         "1",
         "0",
         "0",
         "35",
         "3500.0",
         "1025.5",
         "301.0"
        ],
        [
         "19",
         "Condesa",
         "1",
         "1",
         "0",
         "49",
         "4025.0",
         "1995.0",
         "98.0"
        ],
        [
         "20",
         "Condesa",
         "1",
         "0",
         "0",
         "35",
         "3850.0",
         "1400.0",
         "192.5"
        ],
        [
         "21",
         "Narvarte",
         "1",
         "0",
         "0",
         "40",
         "3850.0",
         "1225.0",
         "175.0"
        ],
        [
         "22",
         "La Condesa",
         "1",
         "0",
         "0",
         "34",
         "3850.0",
         "962.5",
         "49.0"
        ],
        [
         "23",
         "Del Valle",
         "1",
         "0",
         "1",
         "45",
         "2800.0",
         "420.0",
         "108.5"
        ],
        [
         "24",
         "Nueva Santa María",
         "1",
         "0",
         "0",
         "37",
         "2100.0",
         "1449.0",
         "56.0"
        ],
        [
         "25",
         "Del Valle Centro",
         "1",
         "1",
         "0",
         "44",
         "1750.0",
         "1211.0",
         "0.0"
        ],
        [
         "26",
         "Santa Fe",
         "1",
         "1",
         "1",
         "45",
         "3185.0",
         "2240.0",
         "42.0"
        ],
        [
         "27",
         "Centro Histórico",
         "1",
         "0",
         "0",
         "30",
         "3150.0",
         "1120.0",
         "0.0"
        ],
        [
         "28",
         "Centro Histórico",
         "1",
         "0",
         "0",
         "21",
         "3150.0",
         "1011.5",
         "70.0"
        ],
        [
         "29",
         "Nativitas",
         "1",
         "0",
         "0",
         "35",
         "1400.0",
         "455.0",
         "0.0"
        ],
        [
         "30",
         "Roma Norte",
         "1",
         "0",
         "0",
         "33",
         "2800.0",
         "962.5",
         "84.0"
        ],
        [
         "31",
         "Ciudad de los Deportes",
         "1",
         "1",
         "1",
         "70",
         "2100.0",
         "1683.5",
         "59.5"
        ],
        [
         "32",
         "Centro Histórico",
         "1",
         "0",
         "0",
         "38",
         "3150.0",
         "780.5",
         "52.5"
        ],
        [
         "33",
         "Nueva Santa María",
         "1",
         "1",
         "1",
         "51",
         "2975.0",
         "1781.5",
         "59.5"
        ],
        [
         "34",
         "Condesa",
         "1",
         "0",
         "0",
         "45",
         "2590.0",
         "630.0",
         "87.5"
        ],
        [
         "35",
         "La Florida",
         "1",
         "1",
         "1",
         "64",
         "3150.0",
         "1645.0",
         "52.5"
        ],
        [
         "36",
         "La Condesa",
         "1",
         "0",
         "1",
         "48",
         "3850.0",
         "1750.0",
         "0.0"
        ],
        [
         "37",
         "Centro Histórico",
         "1",
         "0",
         "0",
         "40",
         "3500.0",
         "1785.0",
         "73.5"
        ],
        [
         "38",
         "Centro Histórico",
         "1",
         "0",
         "0",
         "55",
         "2975.0",
         "1225.0",
         "122.5"
        ],
        [
         "39",
         "Centro Histórico",
         "1",
         "0",
         "0",
         "28",
         "3150.0",
         "1561.0",
         "84.0"
        ],
        [
         "40",
         "Juárez",
         "1",
         "0",
         "0",
         "27",
         "3500.0",
         "1256.5",
         "101.5"
        ],
        [
         "41",
         "Nueva Santa María",
         "1",
         "1",
         "0",
         "62",
         "3150.0",
         "1942.5",
         "0.0"
        ],
        [
         "42",
         "Narvarte",
         "1",
         "0",
         "0",
         "35",
         "2800.0",
         "1330.0",
         "84.0"
        ],
        [
         "43",
         "Culhuacán CTM",
         "1",
         "0",
         "0",
         "40",
         "2380.0",
         "840.0",
         "0.0"
        ],
        [
         "44",
         "Centro Histórico",
         "1",
         "0",
         "0",
         "35",
         "3325.0",
         "1190.0",
         "84.0"
        ],
        [
         "45",
         "Narvarte",
         "1",
         "1",
         "0",
         "47",
         "3850.0",
         "2100.0",
         "0.0"
        ],
        [
         "46",
         "Iztacalco",
         "1",
         "0",
         "0",
         "55",
         "2450.0",
         "700.0",
         "0.0"
        ],
        [
         "47",
         "Condesa",
         "1",
         "0",
         "0",
         "55",
         "3850.0",
         "1960.0",
         "199.5"
        ],
        [
         "48",
         "Del Valle",
         "1",
         "0",
         "0",
         "27",
         "3850.0",
         "2380.0",
         "101.5"
        ],
        [
         "49",
         "La Condesa",
         "1",
         "0",
         "0",
         "50",
         "3325.0",
         "1995.0",
         "234.5"
        ]
       ],
       "shape": {
        "columns": 8,
        "rows": 361
       }
      },
      "text/html": [
       "<div>\n",
       "<style scoped>\n",
       "    .dataframe tbody tr th:only-of-type {\n",
       "        vertical-align: middle;\n",
       "    }\n",
       "\n",
       "    .dataframe tbody tr th {\n",
       "        vertical-align: top;\n",
       "    }\n",
       "\n",
       "    .dataframe thead th {\n",
       "        text-align: right;\n",
       "    }\n",
       "</style>\n",
       "<table border=\"1\" class=\"dataframe\">\n",
       "  <thead>\n",
       "    <tr style=\"text-align: right;\">\n",
       "      <th></th>\n",
       "      <th>Colonia</th>\n",
       "      <th>Habitaciones</th>\n",
       "      <th>Garages</th>\n",
       "      <th>Suites</th>\n",
       "      <th>Area</th>\n",
       "      <th>Valor</th>\n",
       "      <th>Condominio</th>\n",
       "      <th>Impuesto</th>\n",
       "    </tr>\n",
       "  </thead>\n",
       "  <tbody>\n",
       "    <tr>\n",
       "      <th>0</th>\n",
       "      <td>Centro Histórico</td>\n",
       "      <td>1</td>\n",
       "      <td>0</td>\n",
       "      <td>0</td>\n",
       "      <td>15</td>\n",
       "      <td>2800.0</td>\n",
       "      <td>1365.0</td>\n",
       "      <td>70.0</td>\n",
       "    </tr>\n",
       "    <tr>\n",
       "      <th>1</th>\n",
       "      <td>Del Valle</td>\n",
       "      <td>1</td>\n",
       "      <td>0</td>\n",
       "      <td>0</td>\n",
       "      <td>48</td>\n",
       "      <td>2800.0</td>\n",
       "      <td>805.0</td>\n",
       "      <td>0.0</td>\n",
       "    </tr>\n",
       "    <tr>\n",
       "      <th>2</th>\n",
       "      <td>Narvarte</td>\n",
       "      <td>1</td>\n",
       "      <td>0</td>\n",
       "      <td>0</td>\n",
       "      <td>48</td>\n",
       "      <td>2625.0</td>\n",
       "      <td>2702.0</td>\n",
       "      <td>87.5</td>\n",
       "    </tr>\n",
       "    <tr>\n",
       "      <th>3</th>\n",
       "      <td>Centro Histórico</td>\n",
       "      <td>1</td>\n",
       "      <td>0</td>\n",
       "      <td>0</td>\n",
       "      <td>27</td>\n",
       "      <td>2625.0</td>\n",
       "      <td>1298.5</td>\n",
       "      <td>66.5</td>\n",
       "    </tr>\n",
       "    <tr>\n",
       "      <th>4</th>\n",
       "      <td>Centro Histórico</td>\n",
       "      <td>1</td>\n",
       "      <td>1</td>\n",
       "      <td>0</td>\n",
       "      <td>37</td>\n",
       "      <td>3850.0</td>\n",
       "      <td>1890.0</td>\n",
       "      <td>3150.0</td>\n",
       "    </tr>\n",
       "    <tr>\n",
       "      <th>...</th>\n",
       "      <td>...</td>\n",
       "      <td>...</td>\n",
       "      <td>...</td>\n",
       "      <td>...</td>\n",
       "      <td>...</td>\n",
       "      <td>...</td>\n",
       "      <td>...</td>\n",
       "      <td>...</td>\n",
       "    </tr>\n",
       "    <tr>\n",
       "      <th>356</th>\n",
       "      <td>Nativitas</td>\n",
       "      <td>1</td>\n",
       "      <td>0</td>\n",
       "      <td>0</td>\n",
       "      <td>40</td>\n",
       "      <td>3150.0</td>\n",
       "      <td>1522.5</td>\n",
       "      <td>0.0</td>\n",
       "    </tr>\n",
       "    <tr>\n",
       "      <th>357</th>\n",
       "      <td>Peralvillo</td>\n",
       "      <td>1</td>\n",
       "      <td>0</td>\n",
       "      <td>1</td>\n",
       "      <td>69</td>\n",
       "      <td>3150.0</td>\n",
       "      <td>2240.0</td>\n",
       "      <td>441.0</td>\n",
       "    </tr>\n",
       "    <tr>\n",
       "      <th>358</th>\n",
       "      <td>La Condesa</td>\n",
       "      <td>1</td>\n",
       "      <td>0</td>\n",
       "      <td>0</td>\n",
       "      <td>46</td>\n",
       "      <td>3850.0</td>\n",
       "      <td>1585.5</td>\n",
       "      <td>112.0</td>\n",
       "    </tr>\n",
       "    <tr>\n",
       "      <th>359</th>\n",
       "      <td>Roma</td>\n",
       "      <td>1</td>\n",
       "      <td>0</td>\n",
       "      <td>0</td>\n",
       "      <td>21</td>\n",
       "      <td>3500.0</td>\n",
       "      <td>987.0</td>\n",
       "      <td>87.5</td>\n",
       "    </tr>\n",
       "    <tr>\n",
       "      <th>360</th>\n",
       "      <td>Narvarte</td>\n",
       "      <td>1</td>\n",
       "      <td>0</td>\n",
       "      <td>0</td>\n",
       "      <td>28</td>\n",
       "      <td>3500.0</td>\n",
       "      <td>1260.0</td>\n",
       "      <td>87.5</td>\n",
       "    </tr>\n",
       "  </tbody>\n",
       "</table>\n",
       "<p>361 rows × 8 columns</p>\n",
       "</div>"
      ],
      "text/plain": [
       "              Colonia  Habitaciones  Garages  Suites  Area   Valor  \\\n",
       "0    Centro Histórico             1        0       0    15  2800.0   \n",
       "1           Del Valle             1        0       0    48  2800.0   \n",
       "2            Narvarte             1        0       0    48  2625.0   \n",
       "3    Centro Histórico             1        0       0    27  2625.0   \n",
       "4    Centro Histórico             1        1       0    37  3850.0   \n",
       "..                ...           ...      ...     ...   ...     ...   \n",
       "356         Nativitas             1        0       0    40  3150.0   \n",
       "357        Peralvillo             1        0       1    69  3150.0   \n",
       "358        La Condesa             1        0       0    46  3850.0   \n",
       "359              Roma             1        0       0    21  3500.0   \n",
       "360          Narvarte             1        0       0    28  3500.0   \n",
       "\n",
       "     Condominio  Impuesto  \n",
       "0        1365.0      70.0  \n",
       "1         805.0       0.0  \n",
       "2        2702.0      87.5  \n",
       "3        1298.5      66.5  \n",
       "4        1890.0    3150.0  \n",
       "..          ...       ...  \n",
       "356      1522.5       0.0  \n",
       "357      2240.0     441.0  \n",
       "358      1585.5     112.0  \n",
       "359       987.0      87.5  \n",
       "360      1260.0      87.5  \n",
       "\n",
       "[361 rows x 8 columns]"
      ]
     },
     "execution_count": 146,
     "metadata": {},
     "output_type": "execute_result"
    }
   ],
   "source": [
    "# Verificacion visual del archivo creado para 'filtro_1'\n",
    "pd.read_csv(path1, sep=';')"
   ]
  },
  {
   "cell_type": "code",
   "execution_count": 149,
   "id": "ab4f90a2",
   "metadata": {},
   "outputs": [
    {
     "data": {
      "application/vnd.microsoft.datawrangler.viewer.v0+json": {
       "columns": [
        {
         "name": "index",
         "rawType": "int64",
         "type": "integer"
        },
        {
         "name": "Colonia",
         "rawType": "object",
         "type": "string"
        },
        {
         "name": "Habitaciones",
         "rawType": "int64",
         "type": "integer"
        },
        {
         "name": "Garages",
         "rawType": "int64",
         "type": "integer"
        },
        {
         "name": "Suites",
         "rawType": "int64",
         "type": "integer"
        },
        {
         "name": "Area",
         "rawType": "int64",
         "type": "integer"
        },
        {
         "name": "Valor",
         "rawType": "float64",
         "type": "float"
        },
        {
         "name": "Condominio",
         "rawType": "float64",
         "type": "float"
        },
        {
         "name": "Impuesto",
         "rawType": "float64",
         "type": "float"
        }
       ],
       "ref": "dca155c4-9fba-491b-aafd-02b435933563",
       "rows": [
        [
         "0",
         "Narvarte",
         "2",
         "1",
         "0",
         "110",
         "6650.0",
         "2450.0",
         "483.0"
        ],
        [
         "1",
         "Narvarte",
         "2",
         "1",
         "0",
         "78",
         "7000.0",
         "2450.0",
         "0.0"
        ],
        [
         "2",
         "Roma",
         "2",
         "1",
         "0",
         "76",
         "8750.0",
         "2590.0",
         "0.0"
        ],
        [
         "3",
         "Santa Fe",
         "3",
         "1",
         "1",
         "72",
         "8225.0",
         "2100.0",
         "245.0"
        ],
        [
         "4",
         "Santa Fe",
         "3",
         "2",
         "1",
         "104",
         "9100.0",
         "4774.0",
         "1421.0"
        ],
        [
         "5",
         "Santa Fe",
         "2",
         "1",
         "1",
         "88",
         "9450.0",
         "4550.0",
         "7147.0"
        ],
        [
         "6",
         "Santa Fe",
         "3",
         "2",
         "2",
         "85",
         "8750.0",
         "4900.0",
         "665.0"
        ],
        [
         "7",
         "Santa Fe",
         "2",
         "1",
         "1",
         "78",
         "9625.0",
         "4550.0",
         "483.0"
        ],
        [
         "8",
         "Narvarte",
         "2",
         "1",
         "0",
         "80",
         "6300.0",
         "3850.0",
         "294.0"
        ],
        [
         "9",
         "Narvarte",
         "3",
         "1",
         "0",
         "172",
         "9450.0",
         "2730.0",
         "595.0"
        ],
        [
         "10",
         "Roma",
         "2",
         "1",
         "1",
         "83",
         "9800.0",
         "1960.0",
         "483.0"
        ],
        [
         "11",
         "Juárez",
         "2",
         "0",
         "0",
         "77",
         "8400.0",
         "3955.0",
         "490.0"
        ],
        [
         "12",
         "Ciudad de los Deportes",
         "2",
         "0",
         "0",
         "80",
         "3150.0",
         "1225.0",
         "0.0"
        ],
        [
         "13",
         "Santa Fe",
         "2",
         "1",
         "1",
         "72",
         "9100.0",
         "5950.0",
         "829.5"
        ],
        [
         "14",
         "Narvarte",
         "3",
         "0",
         "0",
         "87",
         "5600.0",
         "2275.0",
         "350.0"
        ],
        [
         "15",
         "Santa Fe",
         "3",
         "1",
         "2",
         "93",
         "8750.0",
         "3850.0",
         "0.0"
        ],
        [
         "16",
         "Nueva Santa María",
         "2",
         "2",
         "0",
         "78",
         "2800.0",
         "3202.5",
         "192.5"
        ],
        [
         "17",
         "Santa Fe",
         "2",
         "1",
         "1",
         "85",
         "8750.0",
         "5505.5",
         "689.5"
        ],
        [
         "18",
         "Narvarte",
         "3",
         "1",
         "1",
         "78",
         "8750.0",
         "2555.0",
         "623.0"
        ],
        [
         "19",
         "Santa Fe",
         "2",
         "1",
         "1",
         "83",
         "7000.0",
         "5418.0",
         "910.0"
        ],
        [
         "20",
         "Santa Fe",
         "3",
         "1",
         "1",
         "84",
         "6650.0",
         "3860.5",
         "742.0"
        ],
        [
         "21",
         "Narvarte",
         "3",
         "0",
         "0",
         "75",
         "6300.0",
         "1225.0",
         "0.0"
        ],
        [
         "22",
         "Narvarte",
         "2",
         "1",
         "1",
         "71",
         "5250.0",
         "2100.0",
         "0.0"
        ],
        [
         "23",
         "Santa Fe",
         "2",
         "1",
         "1",
         "81",
         "6650.0",
         "4200.0",
         "423.5"
        ],
        [
         "24",
         "Del Valle",
         "3",
         "1",
         "1",
         "90",
         "8400.0",
         "4588.5",
         "0.0"
        ],
        [
         "25",
         "Narvarte",
         "3",
         "1",
         "0",
         "129",
         "6300.0",
         "2975.0",
         "406.0"
        ],
        [
         "26",
         "Santa Fe",
         "3",
         "1",
         "1",
         "105",
         "8750.0",
         "4900.0",
         "5250.0"
        ],
        [
         "27",
         "San Ángel",
         "3",
         "0",
         "1",
         "120",
         "9450.0",
         "3080.0",
         "833.0"
        ],
        [
         "28",
         "Santa Fe",
         "2",
         "1",
         "1",
         "77",
         "8750.0",
         "2905.0",
         "546.0"
        ],
        [
         "29",
         "Santa Fe",
         "2",
         "1",
         "1",
         "75",
         "4900.0",
         "4480.0",
         "0.0"
        ],
        [
         "30",
         "Condesa",
         "2",
         "1",
         "1",
         "81",
         "10150.0",
         "3125.5",
         "665.0"
        ],
        [
         "31",
         "Ciudad de los Deportes",
         "3",
         "0",
         "0",
         "90",
         "3150.0",
         "1155.0",
         "52.5"
        ],
        [
         "32",
         "San Miguel Chapultepec",
         "3",
         "3",
         "1",
         "124",
         "5950.0",
         "4900.0",
         "0.0"
        ],
        [
         "33",
         "Mixcoac",
         "3",
         "1",
         "1",
         "73",
         "4200.0",
         "1820.0",
         "0.0"
        ],
        [
         "34",
         "Del Valle",
         "2",
         "0",
         "0",
         "110",
         "8750.0",
         "3388.0",
         "584.5"
        ],
        [
         "35",
         "Condesa",
         "3",
         "0",
         "0",
         "80",
         "8750.0",
         "2800.0",
         "549.5"
        ],
        [
         "36",
         "Bosques de las Lomas",
         "2",
         "1",
         "1",
         "80",
         "7700.0",
         "9100.0",
         "1470.0"
        ],
        [
         "37",
         "Narvarte",
         "3",
         "1",
         "0",
         "88",
         "8050.0",
         "2765.0",
         "3097.5"
        ],
        [
         "38",
         "Narvarte",
         "3",
         "1",
         "0",
         "116",
         "7000.0",
         "2765.0",
         "679.0"
        ],
        [
         "39",
         "San Miguel Chapultepec",
         "3",
         "0",
         "0",
         "82",
         "4200.0",
         "2324.0",
         "301.0"
        ],
        [
         "40",
         "Roma",
         "2",
         "0",
         "0",
         "115",
         "7700.0",
         "3657.5",
         "665.0"
        ],
        [
         "41",
         "Condesa",
         "2",
         "1",
         "0",
         "74",
         "9100.0",
         "3573.5",
         "0.0"
        ],
        [
         "42",
         "San Pedro de los Pinos",
         "2",
         "1",
         "0",
         "75",
         "10150.0",
         "3241.0",
         "315.0"
        ],
        [
         "43",
         "Del Valle",
         "2",
         "0",
         "0",
         "85",
         "7350.0",
         "2450.0",
         "332.5"
        ],
        [
         "44",
         "Santa Fe",
         "2",
         "1",
         "1",
         "88",
         "8400.0",
         "4595.5",
         "0.0"
        ],
        [
         "45",
         "Condesa",
         "2",
         "0",
         "0",
         "110",
         "9800.0",
         "2800.0",
         "420.0"
        ],
        [
         "46",
         "Bosques de las Lomas",
         "2",
         "1",
         "1",
         "90",
         "9450.0",
         "4725.0",
         "875.0"
        ],
        [
         "47",
         "San Pedro de los Pinos",
         "3",
         "1",
         "0",
         "95",
         "8050.0",
         "4550.0",
         "420.0"
        ],
        [
         "48",
         "Santa Fe",
         "2",
         "1",
         "0",
         "90",
         "7000.0",
         "3430.0",
         "5600.0"
        ],
        [
         "49",
         "Bosques de las Lomas",
         "2",
         "1",
         "0",
         "77",
         "9450.0",
         "3675.0",
         "1057.0"
        ]
       ],
       "shape": {
        "columns": 8,
        "rows": 2643
       }
      },
      "text/html": [
       "<div>\n",
       "<style scoped>\n",
       "    .dataframe tbody tr th:only-of-type {\n",
       "        vertical-align: middle;\n",
       "    }\n",
       "\n",
       "    .dataframe tbody tr th {\n",
       "        vertical-align: top;\n",
       "    }\n",
       "\n",
       "    .dataframe thead th {\n",
       "        text-align: right;\n",
       "    }\n",
       "</style>\n",
       "<table border=\"1\" class=\"dataframe\">\n",
       "  <thead>\n",
       "    <tr style=\"text-align: right;\">\n",
       "      <th></th>\n",
       "      <th>Colonia</th>\n",
       "      <th>Habitaciones</th>\n",
       "      <th>Garages</th>\n",
       "      <th>Suites</th>\n",
       "      <th>Area</th>\n",
       "      <th>Valor</th>\n",
       "      <th>Condominio</th>\n",
       "      <th>Impuesto</th>\n",
       "    </tr>\n",
       "  </thead>\n",
       "  <tbody>\n",
       "    <tr>\n",
       "      <th>0</th>\n",
       "      <td>Narvarte</td>\n",
       "      <td>2</td>\n",
       "      <td>1</td>\n",
       "      <td>0</td>\n",
       "      <td>110</td>\n",
       "      <td>6650.0</td>\n",
       "      <td>2450.0</td>\n",
       "      <td>483.0</td>\n",
       "    </tr>\n",
       "    <tr>\n",
       "      <th>1</th>\n",
       "      <td>Narvarte</td>\n",
       "      <td>2</td>\n",
       "      <td>1</td>\n",
       "      <td>0</td>\n",
       "      <td>78</td>\n",
       "      <td>7000.0</td>\n",
       "      <td>2450.0</td>\n",
       "      <td>0.0</td>\n",
       "    </tr>\n",
       "    <tr>\n",
       "      <th>2</th>\n",
       "      <td>Roma</td>\n",
       "      <td>2</td>\n",
       "      <td>1</td>\n",
       "      <td>0</td>\n",
       "      <td>76</td>\n",
       "      <td>8750.0</td>\n",
       "      <td>2590.0</td>\n",
       "      <td>0.0</td>\n",
       "    </tr>\n",
       "    <tr>\n",
       "      <th>3</th>\n",
       "      <td>Santa Fe</td>\n",
       "      <td>3</td>\n",
       "      <td>1</td>\n",
       "      <td>1</td>\n",
       "      <td>72</td>\n",
       "      <td>8225.0</td>\n",
       "      <td>2100.0</td>\n",
       "      <td>245.0</td>\n",
       "    </tr>\n",
       "    <tr>\n",
       "      <th>4</th>\n",
       "      <td>Santa Fe</td>\n",
       "      <td>3</td>\n",
       "      <td>2</td>\n",
       "      <td>1</td>\n",
       "      <td>104</td>\n",
       "      <td>9100.0</td>\n",
       "      <td>4774.0</td>\n",
       "      <td>1421.0</td>\n",
       "    </tr>\n",
       "    <tr>\n",
       "      <th>...</th>\n",
       "      <td>...</td>\n",
       "      <td>...</td>\n",
       "      <td>...</td>\n",
       "      <td>...</td>\n",
       "      <td>...</td>\n",
       "      <td>...</td>\n",
       "      <td>...</td>\n",
       "      <td>...</td>\n",
       "    </tr>\n",
       "    <tr>\n",
       "      <th>2638</th>\n",
       "      <td>Del Valle</td>\n",
       "      <td>2</td>\n",
       "      <td>0</td>\n",
       "      <td>1</td>\n",
       "      <td>90</td>\n",
       "      <td>7700.0</td>\n",
       "      <td>1890.0</td>\n",
       "      <td>483.0</td>\n",
       "    </tr>\n",
       "    <tr>\n",
       "      <th>2639</th>\n",
       "      <td>Santa Fe</td>\n",
       "      <td>2</td>\n",
       "      <td>1</td>\n",
       "      <td>1</td>\n",
       "      <td>72</td>\n",
       "      <td>5950.0</td>\n",
       "      <td>3045.0</td>\n",
       "      <td>560.0</td>\n",
       "    </tr>\n",
       "    <tr>\n",
       "      <th>2640</th>\n",
       "      <td>Narvarte</td>\n",
       "      <td>3</td>\n",
       "      <td>1</td>\n",
       "      <td>0</td>\n",
       "      <td>75</td>\n",
       "      <td>6650.0</td>\n",
       "      <td>3010.0</td>\n",
       "      <td>493.5</td>\n",
       "    </tr>\n",
       "    <tr>\n",
       "      <th>2641</th>\n",
       "      <td>Santa Fe</td>\n",
       "      <td>2</td>\n",
       "      <td>1</td>\n",
       "      <td>1</td>\n",
       "      <td>85</td>\n",
       "      <td>7875.0</td>\n",
       "      <td>5463.5</td>\n",
       "      <td>689.5</td>\n",
       "    </tr>\n",
       "    <tr>\n",
       "      <th>2642</th>\n",
       "      <td>Santa Fe</td>\n",
       "      <td>3</td>\n",
       "      <td>2</td>\n",
       "      <td>0</td>\n",
       "      <td>98</td>\n",
       "      <td>8050.0</td>\n",
       "      <td>3104.5</td>\n",
       "      <td>619.5</td>\n",
       "    </tr>\n",
       "  </tbody>\n",
       "</table>\n",
       "<p>2643 rows × 8 columns</p>\n",
       "</div>"
      ],
      "text/plain": [
       "        Colonia  Habitaciones  Garages  Suites  Area   Valor  Condominio  \\\n",
       "0      Narvarte             2        1       0   110  6650.0      2450.0   \n",
       "1      Narvarte             2        1       0    78  7000.0      2450.0   \n",
       "2          Roma             2        1       0    76  8750.0      2590.0   \n",
       "3      Santa Fe             3        1       1    72  8225.0      2100.0   \n",
       "4      Santa Fe             3        2       1   104  9100.0      4774.0   \n",
       "...         ...           ...      ...     ...   ...     ...         ...   \n",
       "2638  Del Valle             2        0       1    90  7700.0      1890.0   \n",
       "2639   Santa Fe             2        1       1    72  5950.0      3045.0   \n",
       "2640   Narvarte             3        1       0    75  6650.0      3010.0   \n",
       "2641   Santa Fe             2        1       1    85  7875.0      5463.5   \n",
       "2642   Santa Fe             3        2       0    98  8050.0      3104.5   \n",
       "\n",
       "      Impuesto  \n",
       "0        483.0  \n",
       "1          0.0  \n",
       "2          0.0  \n",
       "3        245.0  \n",
       "4       1421.0  \n",
       "...        ...  \n",
       "2638     483.0  \n",
       "2639     560.0  \n",
       "2640     493.5  \n",
       "2641     689.5  \n",
       "2642     619.5  \n",
       "\n",
       "[2643 rows x 8 columns]"
      ]
     },
     "execution_count": 149,
     "metadata": {},
     "output_type": "execute_result"
    }
   ],
   "source": [
    "# Verificacion visual del archivo creado para 'filtro_2'\n",
    "pd.read_csv(path2, sep=';')"
   ]
  },
  {
   "cell_type": "markdown",
   "id": "57199092",
   "metadata": {},
   "source": [
    "# DEV TASKS"
   ]
  },
  {
   "cell_type": "markdown",
   "id": "01f5b706",
   "metadata": {},
   "source": [
    "## Numeric columns creation"
   ]
  },
  {
   "cell_type": "markdown",
   "id": "3ee118ac",
   "metadata": {},
   "source": [
    "###  Valor_mensual Column creation\n",
    "- gastos mensuales de cada propiedad + alquiler + condominio"
   ]
  },
  {
   "cell_type": "code",
   "execution_count": 156,
   "id": "6e55f39a",
   "metadata": {},
   "outputs": [
    {
     "data": {
      "application/vnd.microsoft.datawrangler.viewer.v0+json": {
       "columns": [
        {
         "name": "index",
         "rawType": "int64",
         "type": "integer"
        },
        {
         "name": "Tipo",
         "rawType": "object",
         "type": "string"
        },
        {
         "name": "Colonia",
         "rawType": "object",
         "type": "string"
        },
        {
         "name": "Habitaciones",
         "rawType": "int64",
         "type": "integer"
        },
        {
         "name": "Garages",
         "rawType": "int64",
         "type": "integer"
        },
        {
         "name": "Suites",
         "rawType": "int64",
         "type": "integer"
        },
        {
         "name": "Area",
         "rawType": "int64",
         "type": "integer"
        },
        {
         "name": "Valor",
         "rawType": "float64",
         "type": "float"
        },
        {
         "name": "Condominio",
         "rawType": "float64",
         "type": "float"
        },
        {
         "name": "Impuesto",
         "rawType": "float64",
         "type": "float"
        }
       ],
       "ref": "dc778e3c-de67-4ab9-aa61-4bf2528cc9d8",
       "rows": [
        [
         "0",
         "Cocineta",
         "Condesa",
         "1",
         "0",
         "0",
         "40",
         "5950.0",
         "1750.0",
         "210.0"
        ],
        [
         "1",
         "Casa",
         "Polanco",
         "2",
         "0",
         "1",
         "100",
         "24500.0",
         null,
         null
        ],
        [
         "2",
         "Conjunto Comercial/Sala",
         "Santa Fe",
         "0",
         "4",
         "0",
         "150",
         "18200.0",
         "14070.0",
         "3888.5"
        ],
        [
         "3",
         "Departamento",
         "Centro Histórico",
         "1",
         "0",
         "0",
         "15",
         "2800.0",
         "1365.0",
         "70.0"
        ],
        [
         "4",
         "Departamento",
         "Del Valle",
         "1",
         "0",
         "0",
         "48",
         "2800.0",
         "805.0",
         null
        ]
       ],
       "shape": {
        "columns": 9,
        "rows": 5
       }
      },
      "text/html": [
       "<div>\n",
       "<style scoped>\n",
       "    .dataframe tbody tr th:only-of-type {\n",
       "        vertical-align: middle;\n",
       "    }\n",
       "\n",
       "    .dataframe tbody tr th {\n",
       "        vertical-align: top;\n",
       "    }\n",
       "\n",
       "    .dataframe thead th {\n",
       "        text-align: right;\n",
       "    }\n",
       "</style>\n",
       "<table border=\"1\" class=\"dataframe\">\n",
       "  <thead>\n",
       "    <tr style=\"text-align: right;\">\n",
       "      <th></th>\n",
       "      <th>Tipo</th>\n",
       "      <th>Colonia</th>\n",
       "      <th>Habitaciones</th>\n",
       "      <th>Garages</th>\n",
       "      <th>Suites</th>\n",
       "      <th>Area</th>\n",
       "      <th>Valor</th>\n",
       "      <th>Condominio</th>\n",
       "      <th>Impuesto</th>\n",
       "    </tr>\n",
       "  </thead>\n",
       "  <tbody>\n",
       "    <tr>\n",
       "      <th>0</th>\n",
       "      <td>Cocineta</td>\n",
       "      <td>Condesa</td>\n",
       "      <td>1</td>\n",
       "      <td>0</td>\n",
       "      <td>0</td>\n",
       "      <td>40</td>\n",
       "      <td>5950.0</td>\n",
       "      <td>1750.0</td>\n",
       "      <td>210.0</td>\n",
       "    </tr>\n",
       "    <tr>\n",
       "      <th>1</th>\n",
       "      <td>Casa</td>\n",
       "      <td>Polanco</td>\n",
       "      <td>2</td>\n",
       "      <td>0</td>\n",
       "      <td>1</td>\n",
       "      <td>100</td>\n",
       "      <td>24500.0</td>\n",
       "      <td>NaN</td>\n",
       "      <td>NaN</td>\n",
       "    </tr>\n",
       "    <tr>\n",
       "      <th>2</th>\n",
       "      <td>Conjunto Comercial/Sala</td>\n",
       "      <td>Santa Fe</td>\n",
       "      <td>0</td>\n",
       "      <td>4</td>\n",
       "      <td>0</td>\n",
       "      <td>150</td>\n",
       "      <td>18200.0</td>\n",
       "      <td>14070.0</td>\n",
       "      <td>3888.5</td>\n",
       "    </tr>\n",
       "    <tr>\n",
       "      <th>3</th>\n",
       "      <td>Departamento</td>\n",
       "      <td>Centro Histórico</td>\n",
       "      <td>1</td>\n",
       "      <td>0</td>\n",
       "      <td>0</td>\n",
       "      <td>15</td>\n",
       "      <td>2800.0</td>\n",
       "      <td>1365.0</td>\n",
       "      <td>70.0</td>\n",
       "    </tr>\n",
       "    <tr>\n",
       "      <th>4</th>\n",
       "      <td>Departamento</td>\n",
       "      <td>Del Valle</td>\n",
       "      <td>1</td>\n",
       "      <td>0</td>\n",
       "      <td>0</td>\n",
       "      <td>48</td>\n",
       "      <td>2800.0</td>\n",
       "      <td>805.0</td>\n",
       "      <td>NaN</td>\n",
       "    </tr>\n",
       "  </tbody>\n",
       "</table>\n",
       "</div>"
      ],
      "text/plain": [
       "                      Tipo           Colonia  Habitaciones  Garages  Suites  \\\n",
       "0                 Cocineta           Condesa             1        0       0   \n",
       "1                     Casa           Polanco             2        0       1   \n",
       "2  Conjunto Comercial/Sala          Santa Fe             0        4       0   \n",
       "3             Departamento  Centro Histórico             1        0       0   \n",
       "4             Departamento         Del Valle             1        0       0   \n",
       "\n",
       "   Area    Valor  Condominio  Impuesto  \n",
       "0    40   5950.0      1750.0     210.0  \n",
       "1   100  24500.0         NaN       NaN  \n",
       "2   150  18200.0     14070.0    3888.5  \n",
       "3    15   2800.0      1365.0      70.0  \n",
       "4    48   2800.0       805.0       NaN  "
      ]
     },
     "execution_count": 156,
     "metadata": {},
     "output_type": "execute_result"
    }
   ],
   "source": [
    "# Lectura de datos (carga de URL utilizada al principio del notebook))\n",
    "df = pd.read_csv(url, sep=';') # utilizo ';' ya que segun el dataframe estan separados por ese símbolo.\n",
    "df.head() # visualizacion solo de las 5 primeras filas"
   ]
  },
  {
   "cell_type": "code",
   "execution_count": 157,
   "id": "3ba0e575",
   "metadata": {},
   "outputs": [
    {
     "data": {
      "text/plain": [
       "(25121, 9)"
      ]
     },
     "execution_count": 157,
     "metadata": {},
     "output_type": "execute_result"
    }
   ],
   "source": [
    "# Guardamos el DataFrame en una variable para su posterior uso\n",
    "df_dev = df.copy()  # Creamos una copia del DataFrame original para evitar modificarlo directamente\n",
    "\n",
    "df_dev.shape"
   ]
  },
  {
   "cell_type": "code",
   "execution_count": 158,
   "id": "f6add069",
   "metadata": {},
   "outputs": [
    {
     "data": {
      "application/vnd.microsoft.datawrangler.viewer.v0+json": {
       "columns": [
        {
         "name": "index",
         "rawType": "int64",
         "type": "integer"
        },
        {
         "name": "Tipo",
         "rawType": "object",
         "type": "string"
        },
        {
         "name": "Colonia",
         "rawType": "object",
         "type": "string"
        },
        {
         "name": "Habitaciones",
         "rawType": "int64",
         "type": "integer"
        },
        {
         "name": "Garages",
         "rawType": "int64",
         "type": "integer"
        },
        {
         "name": "Suites",
         "rawType": "int64",
         "type": "integer"
        },
        {
         "name": "Area",
         "rawType": "int64",
         "type": "integer"
        },
        {
         "name": "Valor",
         "rawType": "float64",
         "type": "float"
        },
        {
         "name": "Condominio",
         "rawType": "float64",
         "type": "float"
        },
        {
         "name": "Impuesto",
         "rawType": "float64",
         "type": "float"
        },
        {
         "name": "Valor_mensual",
         "rawType": "float64",
         "type": "float"
        }
       ],
       "ref": "8d31c017-52bf-4ef6-8ee0-6a4db7d3242a",
       "rows": [
        [
         "0",
         "Cocineta",
         "Condesa",
         "1",
         "0",
         "0",
         "40",
         "5950.0",
         "1750.0",
         "210.0",
         "7700.0"
        ],
        [
         "1",
         "Casa",
         "Polanco",
         "2",
         "0",
         "1",
         "100",
         "24500.0",
         null,
         null,
         null
        ],
        [
         "2",
         "Conjunto Comercial/Sala",
         "Santa Fe",
         "0",
         "4",
         "0",
         "150",
         "18200.0",
         "14070.0",
         "3888.5",
         "32270.0"
        ],
        [
         "3",
         "Departamento",
         "Centro Histórico",
         "1",
         "0",
         "0",
         "15",
         "2800.0",
         "1365.0",
         "70.0",
         "4165.0"
        ],
        [
         "4",
         "Departamento",
         "Del Valle",
         "1",
         "0",
         "0",
         "48",
         "2800.0",
         "805.0",
         null,
         "3605.0"
        ]
       ],
       "shape": {
        "columns": 10,
        "rows": 5
       }
      },
      "text/html": [
       "<div>\n",
       "<style scoped>\n",
       "    .dataframe tbody tr th:only-of-type {\n",
       "        vertical-align: middle;\n",
       "    }\n",
       "\n",
       "    .dataframe tbody tr th {\n",
       "        vertical-align: top;\n",
       "    }\n",
       "\n",
       "    .dataframe thead th {\n",
       "        text-align: right;\n",
       "    }\n",
       "</style>\n",
       "<table border=\"1\" class=\"dataframe\">\n",
       "  <thead>\n",
       "    <tr style=\"text-align: right;\">\n",
       "      <th></th>\n",
       "      <th>Tipo</th>\n",
       "      <th>Colonia</th>\n",
       "      <th>Habitaciones</th>\n",
       "      <th>Garages</th>\n",
       "      <th>Suites</th>\n",
       "      <th>Area</th>\n",
       "      <th>Valor</th>\n",
       "      <th>Condominio</th>\n",
       "      <th>Impuesto</th>\n",
       "      <th>Valor_mensual</th>\n",
       "    </tr>\n",
       "  </thead>\n",
       "  <tbody>\n",
       "    <tr>\n",
       "      <th>0</th>\n",
       "      <td>Cocineta</td>\n",
       "      <td>Condesa</td>\n",
       "      <td>1</td>\n",
       "      <td>0</td>\n",
       "      <td>0</td>\n",
       "      <td>40</td>\n",
       "      <td>5950.0</td>\n",
       "      <td>1750.0</td>\n",
       "      <td>210.0</td>\n",
       "      <td>7700.0</td>\n",
       "    </tr>\n",
       "    <tr>\n",
       "      <th>1</th>\n",
       "      <td>Casa</td>\n",
       "      <td>Polanco</td>\n",
       "      <td>2</td>\n",
       "      <td>0</td>\n",
       "      <td>1</td>\n",
       "      <td>100</td>\n",
       "      <td>24500.0</td>\n",
       "      <td>NaN</td>\n",
       "      <td>NaN</td>\n",
       "      <td>NaN</td>\n",
       "    </tr>\n",
       "    <tr>\n",
       "      <th>2</th>\n",
       "      <td>Conjunto Comercial/Sala</td>\n",
       "      <td>Santa Fe</td>\n",
       "      <td>0</td>\n",
       "      <td>4</td>\n",
       "      <td>0</td>\n",
       "      <td>150</td>\n",
       "      <td>18200.0</td>\n",
       "      <td>14070.0</td>\n",
       "      <td>3888.5</td>\n",
       "      <td>32270.0</td>\n",
       "    </tr>\n",
       "    <tr>\n",
       "      <th>3</th>\n",
       "      <td>Departamento</td>\n",
       "      <td>Centro Histórico</td>\n",
       "      <td>1</td>\n",
       "      <td>0</td>\n",
       "      <td>0</td>\n",
       "      <td>15</td>\n",
       "      <td>2800.0</td>\n",
       "      <td>1365.0</td>\n",
       "      <td>70.0</td>\n",
       "      <td>4165.0</td>\n",
       "    </tr>\n",
       "    <tr>\n",
       "      <th>4</th>\n",
       "      <td>Departamento</td>\n",
       "      <td>Del Valle</td>\n",
       "      <td>1</td>\n",
       "      <td>0</td>\n",
       "      <td>0</td>\n",
       "      <td>48</td>\n",
       "      <td>2800.0</td>\n",
       "      <td>805.0</td>\n",
       "      <td>NaN</td>\n",
       "      <td>3605.0</td>\n",
       "    </tr>\n",
       "  </tbody>\n",
       "</table>\n",
       "</div>"
      ],
      "text/plain": [
       "                      Tipo           Colonia  Habitaciones  Garages  Suites  \\\n",
       "0                 Cocineta           Condesa             1        0       0   \n",
       "1                     Casa           Polanco             2        0       1   \n",
       "2  Conjunto Comercial/Sala          Santa Fe             0        4       0   \n",
       "3             Departamento  Centro Histórico             1        0       0   \n",
       "4             Departamento         Del Valle             1        0       0   \n",
       "\n",
       "   Area    Valor  Condominio  Impuesto  Valor_mensual  \n",
       "0    40   5950.0      1750.0     210.0         7700.0  \n",
       "1   100  24500.0         NaN       NaN            NaN  \n",
       "2   150  18200.0     14070.0    3888.5        32270.0  \n",
       "3    15   2800.0      1365.0      70.0         4165.0  \n",
       "4    48   2800.0       805.0       NaN         3605.0  "
      ]
     },
     "execution_count": 158,
     "metadata": {},
     "output_type": "execute_result"
    }
   ],
   "source": [
    "# Creacion de la columna ' valor_mensual'\n",
    "df_dev['Valor_mensual'] = df_dev['Valor'] + df_dev['Condominio']\n",
    "df_dev.shape # Corroboramos que se ha añadido una nueva columna (x,10)\n",
    "df_dev.head()"
   ]
  },
  {
   "cell_type": "markdown",
   "id": "1e502616",
   "metadata": {},
   "source": [
    "###  Valor_anual Column creation\n",
    "- gasto anual por propiedad es decir, el impuesto + 12 meses de alquiler y condominio)."
   ]
  },
  {
   "cell_type": "code",
   "execution_count": 160,
   "id": "8bf253d2",
   "metadata": {},
   "outputs": [
    {
     "data": {
      "application/vnd.microsoft.datawrangler.viewer.v0+json": {
       "columns": [
        {
         "name": "index",
         "rawType": "int64",
         "type": "integer"
        },
        {
         "name": "Tipo",
         "rawType": "object",
         "type": "string"
        },
        {
         "name": "Colonia",
         "rawType": "object",
         "type": "string"
        },
        {
         "name": "Habitaciones",
         "rawType": "int64",
         "type": "integer"
        },
        {
         "name": "Garages",
         "rawType": "int64",
         "type": "integer"
        },
        {
         "name": "Suites",
         "rawType": "int64",
         "type": "integer"
        },
        {
         "name": "Area",
         "rawType": "int64",
         "type": "integer"
        },
        {
         "name": "Valor",
         "rawType": "float64",
         "type": "float"
        },
        {
         "name": "Condominio",
         "rawType": "float64",
         "type": "float"
        },
        {
         "name": "Impuesto",
         "rawType": "float64",
         "type": "float"
        },
        {
         "name": "Valor_mensual",
         "rawType": "float64",
         "type": "float"
        },
        {
         "name": "Valor_anual",
         "rawType": "float64",
         "type": "float"
        }
       ],
       "ref": "f43e9358-0030-4209-b6aa-f75df53256c8",
       "rows": [
        [
         "25116",
         "Cochera/Estacionamiento",
         "Centro Histórico",
         "0",
         "0",
         "0",
         "755",
         "49000.0",
         null,
         null,
         null,
         null
        ],
        [
         "25117",
         "Cocineta",
         "Centro Histórico",
         "0",
         "0",
         "0",
         "27",
         "2800.0",
         "1225.0",
         "87.5",
         "4025.0",
         "49612.5"
        ],
        [
         "25118",
         "Departamento",
         "Mixcoac",
         "2",
         "1",
         "0",
         "48",
         "4900.0",
         "1781.5",
         "129.5",
         "6681.5",
         "82089.0"
        ],
        [
         "25119",
         "Departamento",
         "Lomas de Chapultepec",
         "2",
         "0",
         "0",
         "70",
         "10500.0",
         "2660.0",
         null,
         "13160.0",
         null
        ],
        [
         "25120",
         "Conjunto Comercial/Sala",
         "Centro Histórico",
         "0",
         "0",
         "0",
         "250",
         "22750.0",
         "14721.0",
         "3881.5",
         "37471.0",
         "468254.5"
        ]
       ],
       "shape": {
        "columns": 11,
        "rows": 5
       }
      },
      "text/html": [
       "<div>\n",
       "<style scoped>\n",
       "    .dataframe tbody tr th:only-of-type {\n",
       "        vertical-align: middle;\n",
       "    }\n",
       "\n",
       "    .dataframe tbody tr th {\n",
       "        vertical-align: top;\n",
       "    }\n",
       "\n",
       "    .dataframe thead th {\n",
       "        text-align: right;\n",
       "    }\n",
       "</style>\n",
       "<table border=\"1\" class=\"dataframe\">\n",
       "  <thead>\n",
       "    <tr style=\"text-align: right;\">\n",
       "      <th></th>\n",
       "      <th>Tipo</th>\n",
       "      <th>Colonia</th>\n",
       "      <th>Habitaciones</th>\n",
       "      <th>Garages</th>\n",
       "      <th>Suites</th>\n",
       "      <th>Area</th>\n",
       "      <th>Valor</th>\n",
       "      <th>Condominio</th>\n",
       "      <th>Impuesto</th>\n",
       "      <th>Valor_mensual</th>\n",
       "      <th>Valor_anual</th>\n",
       "    </tr>\n",
       "  </thead>\n",
       "  <tbody>\n",
       "    <tr>\n",
       "      <th>25116</th>\n",
       "      <td>Cochera/Estacionamiento</td>\n",
       "      <td>Centro Histórico</td>\n",
       "      <td>0</td>\n",
       "      <td>0</td>\n",
       "      <td>0</td>\n",
       "      <td>755</td>\n",
       "      <td>49000.0</td>\n",
       "      <td>NaN</td>\n",
       "      <td>NaN</td>\n",
       "      <td>NaN</td>\n",
       "      <td>NaN</td>\n",
       "    </tr>\n",
       "    <tr>\n",
       "      <th>25117</th>\n",
       "      <td>Cocineta</td>\n",
       "      <td>Centro Histórico</td>\n",
       "      <td>0</td>\n",
       "      <td>0</td>\n",
       "      <td>0</td>\n",
       "      <td>27</td>\n",
       "      <td>2800.0</td>\n",
       "      <td>1225.0</td>\n",
       "      <td>87.5</td>\n",
       "      <td>4025.0</td>\n",
       "      <td>49612.5</td>\n",
       "    </tr>\n",
       "    <tr>\n",
       "      <th>25118</th>\n",
       "      <td>Departamento</td>\n",
       "      <td>Mixcoac</td>\n",
       "      <td>2</td>\n",
       "      <td>1</td>\n",
       "      <td>0</td>\n",
       "      <td>48</td>\n",
       "      <td>4900.0</td>\n",
       "      <td>1781.5</td>\n",
       "      <td>129.5</td>\n",
       "      <td>6681.5</td>\n",
       "      <td>82089.0</td>\n",
       "    </tr>\n",
       "    <tr>\n",
       "      <th>25119</th>\n",
       "      <td>Departamento</td>\n",
       "      <td>Lomas de Chapultepec</td>\n",
       "      <td>2</td>\n",
       "      <td>0</td>\n",
       "      <td>0</td>\n",
       "      <td>70</td>\n",
       "      <td>10500.0</td>\n",
       "      <td>2660.0</td>\n",
       "      <td>NaN</td>\n",
       "      <td>13160.0</td>\n",
       "      <td>NaN</td>\n",
       "    </tr>\n",
       "    <tr>\n",
       "      <th>25120</th>\n",
       "      <td>Conjunto Comercial/Sala</td>\n",
       "      <td>Centro Histórico</td>\n",
       "      <td>0</td>\n",
       "      <td>0</td>\n",
       "      <td>0</td>\n",
       "      <td>250</td>\n",
       "      <td>22750.0</td>\n",
       "      <td>14721.0</td>\n",
       "      <td>3881.5</td>\n",
       "      <td>37471.0</td>\n",
       "      <td>468254.5</td>\n",
       "    </tr>\n",
       "  </tbody>\n",
       "</table>\n",
       "</div>"
      ],
      "text/plain": [
       "                          Tipo               Colonia  Habitaciones  Garages  \\\n",
       "25116  Cochera/Estacionamiento      Centro Histórico             0        0   \n",
       "25117                 Cocineta      Centro Histórico             0        0   \n",
       "25118             Departamento               Mixcoac             2        1   \n",
       "25119             Departamento  Lomas de Chapultepec             2        0   \n",
       "25120  Conjunto Comercial/Sala      Centro Histórico             0        0   \n",
       "\n",
       "       Suites  Area    Valor  Condominio  Impuesto  Valor_mensual  Valor_anual  \n",
       "25116       0   755  49000.0         NaN       NaN            NaN          NaN  \n",
       "25117       0    27   2800.0      1225.0      87.5         4025.0      49612.5  \n",
       "25118       0    48   4900.0      1781.5     129.5         6681.5      82089.0  \n",
       "25119       0    70  10500.0      2660.0       NaN        13160.0          NaN  \n",
       "25120       0   250  22750.0     14721.0    3881.5        37471.0     468254.5  "
      ]
     },
     "execution_count": 160,
     "metadata": {},
     "output_type": "execute_result"
    }
   ],
   "source": [
    "# Creacion de la columna 'Valor_anual'\n",
    "df_dev['Valor_anual'] = df_dev['Impuesto'] + (df_dev['Valor_mensual'] * 12) + df_dev['Condominio']\n",
    "# Verificamos los últimos registros del DataFrame.\n",
    "df_dev.tail()"
   ]
  },
  {
   "cell_type": "markdown",
   "id": "7ba5bd4f",
   "metadata": {},
   "source": [
    "## Categoric columns creation"
   ]
  },
  {
   "cell_type": "markdown",
   "id": "4fe6ae0a",
   "metadata": {},
   "source": [
    "###  Descripcion Column creation\n",
    "- Esta columna debe contener un **resumen** de la información clave de las propiedades que se mostrarán en el sitio web: \n",
    "```\n",
    "tipo de propiedad, barrio, cantidad de habitaciones y plazas de estacionamiento.\n",
    "```"
   ]
  },
  {
   "cell_type": "code",
   "execution_count": 174,
   "id": "8276ece4",
   "metadata": {},
   "outputs": [
    {
     "data": {
      "application/vnd.microsoft.datawrangler.viewer.v0+json": {
       "columns": [
        {
         "name": "index",
         "rawType": "int64",
         "type": "integer"
        },
        {
         "name": "Tipo",
         "rawType": "object",
         "type": "string"
        },
        {
         "name": "Colonia",
         "rawType": "object",
         "type": "string"
        },
        {
         "name": "Habitaciones",
         "rawType": "int64",
         "type": "integer"
        },
        {
         "name": "Garages",
         "rawType": "int64",
         "type": "integer"
        },
        {
         "name": "Suites",
         "rawType": "int64",
         "type": "integer"
        },
        {
         "name": "Area",
         "rawType": "int64",
         "type": "integer"
        },
        {
         "name": "Valor",
         "rawType": "float64",
         "type": "float"
        },
        {
         "name": "Condominio",
         "rawType": "float64",
         "type": "float"
        },
        {
         "name": "Impuesto",
         "rawType": "float64",
         "type": "float"
        },
        {
         "name": "Valor_mensual",
         "rawType": "float64",
         "type": "float"
        },
        {
         "name": "Valor_anual",
         "rawType": "float64",
         "type": "float"
        },
        {
         "name": "Descripcion",
         "rawType": "object",
         "type": "string"
        }
       ],
       "ref": "136db087-e315-4208-b362-a604fb1f527a",
       "rows": [
        [
         "0",
         "Cocineta",
         "Condesa",
         "1",
         "0",
         "0",
         "40",
         "5950.0",
         "1750.0",
         "210.0",
         "7700.0",
         "94360.0",
         "Cocineta en la colonia Condesa con 1 dormitorio(s) y 0 plaza(s) de estacionamiento."
        ],
        [
         "1",
         "Casa",
         "Polanco",
         "2",
         "0",
         "1",
         "100",
         "24500.0",
         null,
         null,
         null,
         null,
         "Casa en la colonia Polanco con 2 dormitorio(s) y 0 plaza(s) de estacionamiento."
        ],
        [
         "2",
         "Conjunto Comercial/Sala",
         "Santa Fe",
         "0",
         "4",
         "0",
         "150",
         "18200.0",
         "14070.0",
         "3888.5",
         "32270.0",
         "405198.5",
         "Conjunto Comercial/Sala en la colonia Santa Fe con 0 dormitorio(s) y 4 plaza(s) de estacionamiento."
        ],
        [
         "3",
         "Departamento",
         "Centro Histórico",
         "1",
         "0",
         "0",
         "15",
         "2800.0",
         "1365.0",
         "70.0",
         "4165.0",
         "51415.0",
         "Departamento en la colonia Centro Histórico con 1 dormitorio(s) y 0 plaza(s) de estacionamiento."
        ],
        [
         "4",
         "Departamento",
         "Del Valle",
         "1",
         "0",
         "0",
         "48",
         "2800.0",
         "805.0",
         null,
         "3605.0",
         null,
         "Departamento en la colonia Del Valle con 1 dormitorio(s) y 0 plaza(s) de estacionamiento."
        ]
       ],
       "shape": {
        "columns": 12,
        "rows": 5
       }
      },
      "text/html": [
       "<div>\n",
       "<style scoped>\n",
       "    .dataframe tbody tr th:only-of-type {\n",
       "        vertical-align: middle;\n",
       "    }\n",
       "\n",
       "    .dataframe tbody tr th {\n",
       "        vertical-align: top;\n",
       "    }\n",
       "\n",
       "    .dataframe thead th {\n",
       "        text-align: right;\n",
       "    }\n",
       "</style>\n",
       "<table border=\"1\" class=\"dataframe\">\n",
       "  <thead>\n",
       "    <tr style=\"text-align: right;\">\n",
       "      <th></th>\n",
       "      <th>Tipo</th>\n",
       "      <th>Colonia</th>\n",
       "      <th>Habitaciones</th>\n",
       "      <th>Garages</th>\n",
       "      <th>Suites</th>\n",
       "      <th>Area</th>\n",
       "      <th>Valor</th>\n",
       "      <th>Condominio</th>\n",
       "      <th>Impuesto</th>\n",
       "      <th>Valor_mensual</th>\n",
       "      <th>Valor_anual</th>\n",
       "      <th>Descripcion</th>\n",
       "    </tr>\n",
       "  </thead>\n",
       "  <tbody>\n",
       "    <tr>\n",
       "      <th>0</th>\n",
       "      <td>Cocineta</td>\n",
       "      <td>Condesa</td>\n",
       "      <td>1</td>\n",
       "      <td>0</td>\n",
       "      <td>0</td>\n",
       "      <td>40</td>\n",
       "      <td>5950.0</td>\n",
       "      <td>1750.0</td>\n",
       "      <td>210.0</td>\n",
       "      <td>7700.0</td>\n",
       "      <td>94360.0</td>\n",
       "      <td>Cocineta en la colonia Condesa con 1 dormitori...</td>\n",
       "    </tr>\n",
       "    <tr>\n",
       "      <th>1</th>\n",
       "      <td>Casa</td>\n",
       "      <td>Polanco</td>\n",
       "      <td>2</td>\n",
       "      <td>0</td>\n",
       "      <td>1</td>\n",
       "      <td>100</td>\n",
       "      <td>24500.0</td>\n",
       "      <td>NaN</td>\n",
       "      <td>NaN</td>\n",
       "      <td>NaN</td>\n",
       "      <td>NaN</td>\n",
       "      <td>Casa en la colonia Polanco con 2 dormitorio(s)...</td>\n",
       "    </tr>\n",
       "    <tr>\n",
       "      <th>2</th>\n",
       "      <td>Conjunto Comercial/Sala</td>\n",
       "      <td>Santa Fe</td>\n",
       "      <td>0</td>\n",
       "      <td>4</td>\n",
       "      <td>0</td>\n",
       "      <td>150</td>\n",
       "      <td>18200.0</td>\n",
       "      <td>14070.0</td>\n",
       "      <td>3888.5</td>\n",
       "      <td>32270.0</td>\n",
       "      <td>405198.5</td>\n",
       "      <td>Conjunto Comercial/Sala en la colonia Santa Fe...</td>\n",
       "    </tr>\n",
       "    <tr>\n",
       "      <th>3</th>\n",
       "      <td>Departamento</td>\n",
       "      <td>Centro Histórico</td>\n",
       "      <td>1</td>\n",
       "      <td>0</td>\n",
       "      <td>0</td>\n",
       "      <td>15</td>\n",
       "      <td>2800.0</td>\n",
       "      <td>1365.0</td>\n",
       "      <td>70.0</td>\n",
       "      <td>4165.0</td>\n",
       "      <td>51415.0</td>\n",
       "      <td>Departamento en la colonia Centro Histórico co...</td>\n",
       "    </tr>\n",
       "    <tr>\n",
       "      <th>4</th>\n",
       "      <td>Departamento</td>\n",
       "      <td>Del Valle</td>\n",
       "      <td>1</td>\n",
       "      <td>0</td>\n",
       "      <td>0</td>\n",
       "      <td>48</td>\n",
       "      <td>2800.0</td>\n",
       "      <td>805.0</td>\n",
       "      <td>NaN</td>\n",
       "      <td>3605.0</td>\n",
       "      <td>NaN</td>\n",
       "      <td>Departamento en la colonia Del Valle con 1 dor...</td>\n",
       "    </tr>\n",
       "  </tbody>\n",
       "</table>\n",
       "</div>"
      ],
      "text/plain": [
       "                      Tipo           Colonia  Habitaciones  Garages  Suites  \\\n",
       "0                 Cocineta           Condesa             1        0       0   \n",
       "1                     Casa           Polanco             2        0       1   \n",
       "2  Conjunto Comercial/Sala          Santa Fe             0        4       0   \n",
       "3             Departamento  Centro Histórico             1        0       0   \n",
       "4             Departamento         Del Valle             1        0       0   \n",
       "\n",
       "   Area    Valor  Condominio  Impuesto  Valor_mensual  Valor_anual  \\\n",
       "0    40   5950.0      1750.0     210.0         7700.0      94360.0   \n",
       "1   100  24500.0         NaN       NaN            NaN          NaN   \n",
       "2   150  18200.0     14070.0    3888.5        32270.0     405198.5   \n",
       "3    15   2800.0      1365.0      70.0         4165.0      51415.0   \n",
       "4    48   2800.0       805.0       NaN         3605.0          NaN   \n",
       "\n",
       "                                         Descripcion  \n",
       "0  Cocineta en la colonia Condesa con 1 dormitori...  \n",
       "1  Casa en la colonia Polanco con 2 dormitorio(s)...  \n",
       "2  Conjunto Comercial/Sala en la colonia Santa Fe...  \n",
       "3  Departamento en la colonia Centro Histórico co...  \n",
       "4  Departamento en la colonia Del Valle con 1 dor...  "
      ]
     },
     "execution_count": 174,
     "metadata": {},
     "output_type": "execute_result"
    }
   ],
   "source": [
    "# Concatenamos todas las columnas de tipo categorico para crear una nueva columna 'Descripcion'\n",
    "# Utilizamos 'astype(str)' para convertir los valores numéricos a cadenas de texto.\n",
    "df_dev['Descripcion'] = df_dev['Tipo'] + ' en la colonia ' + df_dev['Colonia'] + \\\n",
    "      ' con ' + df_dev['Habitaciones'].astype(str) + ' dormitorio(s) y ' + \\\n",
    "        df_dev['Garages'].astype(str) + ' plaza(s) de estacionamiento.'\n",
    "df_dev.head()"
   ]
  },
  {
   "cell_type": "code",
   "execution_count": 175,
   "id": "fdccc55a",
   "metadata": {},
   "outputs": [
    {
     "data": {
      "text/plain": [
       "'Departamento en la colonia Napoles con 1 dormitorio(s) y 0 plaza(s) de estacionamiento.'"
      ]
     },
     "execution_count": 175,
     "metadata": {},
     "output_type": "execute_result"
    }
   ],
   "source": [
    "# Verificacion del contenido de una celda en especifico de la columna 'Descripcion'\n",
    "# Colocamos como ejemplo la fila número 500\n",
    "df_dev.iloc[500].Descripcion"
   ]
  },
  {
   "cell_type": "markdown",
   "id": "ca2a87fa",
   "metadata": {},
   "source": [
    "###  Tiene_suite Column creation\n",
    "- Esta debe ser una columna que indique únicamente si la propiedad tiene o no suites, sin importar la cantidad."
   ]
  },
  {
   "cell_type": "code",
   "execution_count": 177,
   "id": "ae907521",
   "metadata": {},
   "outputs": [
    {
     "data": {
      "application/vnd.microsoft.datawrangler.viewer.v0+json": {
       "columns": [
        {
         "name": "index",
         "rawType": "int64",
         "type": "integer"
        },
        {
         "name": "Tipo",
         "rawType": "object",
         "type": "string"
        },
        {
         "name": "Colonia",
         "rawType": "object",
         "type": "string"
        },
        {
         "name": "Habitaciones",
         "rawType": "int64",
         "type": "integer"
        },
        {
         "name": "Garages",
         "rawType": "int64",
         "type": "integer"
        },
        {
         "name": "Suites",
         "rawType": "int64",
         "type": "integer"
        },
        {
         "name": "Area",
         "rawType": "int64",
         "type": "integer"
        },
        {
         "name": "Valor",
         "rawType": "float64",
         "type": "float"
        },
        {
         "name": "Condominio",
         "rawType": "float64",
         "type": "float"
        },
        {
         "name": "Impuesto",
         "rawType": "float64",
         "type": "float"
        },
        {
         "name": "Valor_mensual",
         "rawType": "float64",
         "type": "float"
        },
        {
         "name": "Valor_anual",
         "rawType": "float64",
         "type": "float"
        },
        {
         "name": "Descripcion",
         "rawType": "object",
         "type": "string"
        },
        {
         "name": "Tiene_suite",
         "rawType": "object",
         "type": "string"
        }
       ],
       "ref": "d643ff5b-c64c-4a5d-b5bc-c80c5e7c2c43",
       "rows": [
        [
         "0",
         "Cocineta",
         "Condesa",
         "1",
         "0",
         "0",
         "40",
         "5950.0",
         "1750.0",
         "210.0",
         "7700.0",
         "94360.0",
         "Cocineta en la colonia Condesa con 1 dormitorio(s) y 0 plaza(s) de estacionamiento.",
         "No"
        ],
        [
         "1",
         "Casa",
         "Polanco",
         "2",
         "0",
         "1",
         "100",
         "24500.0",
         null,
         null,
         null,
         null,
         "Casa en la colonia Polanco con 2 dormitorio(s) y 0 plaza(s) de estacionamiento.",
         "Si"
        ],
        [
         "2",
         "Conjunto Comercial/Sala",
         "Santa Fe",
         "0",
         "4",
         "0",
         "150",
         "18200.0",
         "14070.0",
         "3888.5",
         "32270.0",
         "405198.5",
         "Conjunto Comercial/Sala en la colonia Santa Fe con 0 dormitorio(s) y 4 plaza(s) de estacionamiento.",
         "No"
        ],
        [
         "3",
         "Departamento",
         "Centro Histórico",
         "1",
         "0",
         "0",
         "15",
         "2800.0",
         "1365.0",
         "70.0",
         "4165.0",
         "51415.0",
         "Departamento en la colonia Centro Histórico con 1 dormitorio(s) y 0 plaza(s) de estacionamiento.",
         "No"
        ],
        [
         "4",
         "Departamento",
         "Del Valle",
         "1",
         "0",
         "0",
         "48",
         "2800.0",
         "805.0",
         null,
         "3605.0",
         null,
         "Departamento en la colonia Del Valle con 1 dormitorio(s) y 0 plaza(s) de estacionamiento.",
         "No"
        ],
        [
         "5",
         "Casa de Condominio",
         "Santa Fe",
         "5",
         "4",
         "5",
         "750",
         "77000.0",
         null,
         null,
         null,
         null,
         "Casa de Condominio en la colonia Santa Fe con 5 dormitorio(s) y 4 plaza(s) de estacionamiento.",
         "Si"
        ],
        [
         "6",
         "Conjunto Comercial/Sala",
         "Centro Histórico",
         "0",
         "3",
         "0",
         "695",
         "122500.0",
         "67175.5",
         "10605.0",
         "189675.5",
         "2353886.5",
         "Conjunto Comercial/Sala en la colonia Centro Histórico con 0 dormitorio(s) y 3 plaza(s) de estacionamiento.",
         "No"
        ],
        [
         "7",
         "Departamento",
         "Centro Histórico",
         "1",
         "0",
         "0",
         "36",
         "4200.0",
         null,
         null,
         null,
         null,
         "Departamento en la colonia Centro Histórico con 1 dormitorio(s) y 0 plaza(s) de estacionamiento.",
         "No"
        ],
        [
         "8",
         "Departamento",
         "Condesa",
         "1",
         "0",
         "1",
         "40",
         "7000.0",
         "1963.5",
         "175.0",
         "8963.5",
         "109700.5",
         "Departamento en la colonia Condesa con 1 dormitorio(s) y 0 plaza(s) de estacionamiento.",
         "Si"
        ],
        [
         "9",
         "Cocineta",
         "Condesa",
         "1",
         "0",
         "0",
         "27",
         "6300.0",
         "1753.5",
         null,
         "8053.5",
         null,
         "Cocineta en la colonia Condesa con 1 dormitorio(s) y 0 plaza(s) de estacionamiento.",
         "No"
        ],
        [
         "10",
         "Departamento",
         "Condesa",
         "4",
         "3",
         "1",
         "243",
         "45500.0",
         "7000.0",
         "2810.5",
         "52500.0",
         "639810.5",
         "Departamento en la colonia Condesa con 4 dormitorio(s) y 3 plaza(s) de estacionamiento.",
         "Si"
        ],
        [
         "11",
         "Edificio Completo",
         "Roma",
         "0",
         "0",
         "0",
         "536",
         "98000.0",
         null,
         "12470.5",
         null,
         null,
         "Edificio Completo en la colonia Roma con 0 dormitorio(s) y 0 plaza(s) de estacionamiento.",
         "No"
        ],
        [
         "12",
         "Departamento en Hotel",
         "Roma",
         "3",
         "1",
         "1",
         "80",
         "13300.0",
         "3640.0",
         null,
         "16940.0",
         null,
         "Departamento en Hotel en la colonia Roma con 3 dormitorio(s) y 1 plaza(s) de estacionamiento.",
         "Si"
        ],
        [
         "13",
         "Departamento",
         "Santa Fe",
         "2",
         "1",
         "1",
         "67",
         "5950.0",
         "2061.5",
         "514.5",
         "8011.5",
         "98714.0",
         "Departamento en la colonia Santa Fe con 2 dormitorio(s) y 1 plaza(s) de estacionamiento.",
         "Si"
        ],
        [
         "14",
         "Departamento",
         "Narvarte",
         "2",
         "1",
         "0",
         "110",
         "6650.0",
         "2450.0",
         "483.0",
         "9100.0",
         "112133.0",
         "Departamento en la colonia Narvarte con 2 dormitorio(s) y 1 plaza(s) de estacionamiento.",
         "No"
        ],
        [
         "15",
         "Casa de Condominio",
         "Santa Fe",
         "4",
         "3",
         "2",
         "466",
         "26250.0",
         "9432.5",
         null,
         "35682.5",
         null,
         "Casa de Condominio en la colonia Santa Fe con 4 dormitorio(s) y 3 plaza(s) de estacionamiento.",
         "Si"
        ],
        [
         "16",
         "Departamento",
         "Narvarte",
         "2",
         "1",
         "0",
         "78",
         "7000.0",
         "2450.0",
         null,
         "9450.0",
         null,
         "Departamento en la colonia Narvarte con 2 dormitorio(s) y 1 plaza(s) de estacionamiento.",
         "No"
        ],
        [
         "17",
         "Departamento en Hotel",
         "Lomas de Chapultepec",
         "1",
         "0",
         "0",
         "56",
         "15750.0",
         "6650.0",
         "5250.0",
         "22400.0",
         "280700.0",
         "Departamento en Hotel en la colonia Lomas de Chapultepec con 1 dormitorio(s) y 0 plaza(s) de estacionamiento.",
         "No"
        ],
        [
         "18",
         "Departamento",
         "Coyoacán",
         "3",
         "1",
         "1",
         "125",
         "24500.0",
         "7350.0",
         "1620.5",
         "31850.0",
         "391170.5",
         "Departamento en la colonia Coyoacán con 3 dormitorio(s) y 1 plaza(s) de estacionamiento.",
         "Si"
        ],
        [
         "19",
         "Departamento",
         "Narvarte",
         "1",
         "0",
         "0",
         "48",
         "2625.0",
         "2702.0",
         "87.5",
         "5327.0",
         "66713.5",
         "Departamento en la colonia Narvarte con 1 dormitorio(s) y 0 plaza(s) de estacionamiento.",
         "No"
        ],
        [
         "20",
         "Departamento",
         "Santa Fe",
         "3",
         "3",
         "1",
         "175",
         "14700.0",
         "5250.0",
         "1750.0",
         "19950.0",
         "246400.0",
         "Departamento en la colonia Santa Fe con 3 dormitorio(s) y 3 plaza(s) de estacionamiento.",
         "Si"
        ],
        [
         "21",
         "Departamento",
         "Roma",
         "2",
         "1",
         "0",
         "76",
         "8750.0",
         "2590.0",
         null,
         "11340.0",
         null,
         "Departamento en la colonia Roma con 2 dormitorio(s) y 1 plaza(s) de estacionamiento.",
         "No"
        ],
        [
         "22",
         "Departamento",
         "Condesa",
         "3",
         "1",
         "2",
         "378",
         "35000.0",
         "7525.0",
         "2450.0",
         "42525.0",
         "520275.0",
         "Departamento en la colonia Condesa con 3 dormitorio(s) y 1 plaza(s) de estacionamiento.",
         "Si"
        ],
        [
         "23",
         "Departamento",
         "Condesa",
         "3",
         "0",
         "0",
         "180",
         "19250.0",
         "6230.0",
         "1470.0",
         "25480.0",
         "313460.0",
         "Departamento en la colonia Condesa con 3 dormitorio(s) y 0 plaza(s) de estacionamiento.",
         "No"
        ],
        [
         "24",
         "Conjunto Comercial/Sala",
         "Santa Fe",
         "0",
         "1",
         "0",
         "22",
         "2450.0",
         null,
         null,
         null,
         null,
         "Conjunto Comercial/Sala en la colonia Santa Fe con 0 dormitorio(s) y 1 plaza(s) de estacionamiento.",
         "No"
        ],
        [
         "25",
         "Departamento",
         "Lomas de Chapultepec",
         "3",
         "1",
         "0",
         "110",
         "13650.0",
         "5250.0",
         "420.0",
         "18900.0",
         "232470.0",
         "Departamento en la colonia Lomas de Chapultepec con 3 dormitorio(s) y 1 plaza(s) de estacionamiento.",
         "No"
        ],
        [
         "26",
         "Conjunto Comercial/Sala",
         "Centro Histórico",
         "0",
         "5",
         "0",
         "1306",
         "411390.0",
         "68201.0",
         null,
         "479591.0",
         null,
         "Conjunto Comercial/Sala en la colonia Centro Histórico con 0 dormitorio(s) y 5 plaza(s) de estacionamiento.",
         "No"
        ],
        [
         "27",
         "Cocineta",
         "Condesa",
         "1",
         "0",
         "0",
         "27",
         "4550.0",
         "1330.0",
         "185.5",
         "5880.0",
         "72075.5",
         "Cocineta en la colonia Condesa con 1 dormitorio(s) y 0 plaza(s) de estacionamiento.",
         "No"
        ],
        [
         "28",
         "Departamento",
         "Santa Fe",
         "3",
         "1",
         "2",
         "70",
         "6300.0",
         "3832.5",
         "490.0",
         "10132.5",
         "125912.5",
         "Departamento en la colonia Santa Fe con 3 dormitorio(s) y 1 plaza(s) de estacionamiento.",
         "Si"
        ],
        [
         "29",
         "Departamento",
         "Condesa",
         "4",
         "1",
         "0",
         "244",
         "17500.0",
         "8750.0",
         "14350.0",
         "26250.0",
         "338100.0",
         "Departamento en la colonia Condesa con 4 dormitorio(s) y 1 plaza(s) de estacionamiento.",
         "No"
        ],
        [
         "30",
         "Departamento",
         "Santa Fe",
         "3",
         "2",
         "1",
         "110",
         "15750.0",
         "7000.0",
         "1575.0",
         "22750.0",
         "281575.0",
         "Departamento en la colonia Santa Fe con 3 dormitorio(s) y 2 plaza(s) de estacionamiento.",
         "Si"
        ],
        [
         "31",
         "Conjunto Comercial/Sala",
         "Centro Histórico",
         "0",
         "0",
         "0",
         "460",
         "26250.0",
         "16789.5",
         "7066.5",
         "43039.5",
         "540330.0",
         "Conjunto Comercial/Sala en la colonia Centro Histórico con 0 dormitorio(s) y 0 plaza(s) de estacionamiento.",
         "No"
        ],
        [
         "32",
         "Conjunto Comercial/Sala",
         "Centro Histórico",
         "0",
         "0",
         "0",
         "1170",
         "491596.0",
         "81931.5",
         "20482.0",
         "573527.5",
         "6984743.5",
         "Conjunto Comercial/Sala en la colonia Centro Histórico con 0 dormitorio(s) y 0 plaza(s) de estacionamiento.",
         "No"
        ],
        [
         "33",
         "Departamento",
         "Santa Fe",
         "3",
         "1",
         "1",
         "72",
         "8225.0",
         "2100.0",
         "245.0",
         "10325.0",
         "126245.0",
         "Departamento en la colonia Santa Fe con 3 dormitorio(s) y 1 plaza(s) de estacionamiento.",
         "Si"
        ],
        [
         "34",
         "Departamento",
         "San Pedro de los Pinos",
         "2",
         "2",
         "1",
         "180",
         "14000.0",
         "8750.0",
         "1050.0",
         "22750.0",
         "282800.0",
         "Departamento en la colonia San Pedro de los Pinos con 2 dormitorio(s) y 2 plaza(s) de estacionamiento.",
         "Si"
        ],
        [
         "35",
         "Conjunto Comercial/Sala",
         "Centro Histórico",
         "0",
         "1",
         "0",
         "70",
         "6650.0",
         "3780.0",
         "878.5",
         "10430.0",
         "129818.5",
         "Conjunto Comercial/Sala en la colonia Centro Histórico con 0 dormitorio(s) y 1 plaza(s) de estacionamiento.",
         "No"
        ],
        [
         "36",
         "Conjunto Comercial/Sala",
         "Polanco",
         "0",
         "1",
         "0",
         "50",
         "14000.0",
         "4060.0",
         "700.0",
         "18060.0",
         "221480.0",
         "Conjunto Comercial/Sala en la colonia Polanco con 0 dormitorio(s) y 1 plaza(s) de estacionamiento.",
         "No"
        ],
        [
         "37",
         "Departamento",
         "Centro Histórico",
         "1",
         "0",
         "0",
         "27",
         "2625.0",
         "1298.5",
         "66.5",
         "3923.5",
         "48447.0",
         "Departamento en la colonia Centro Histórico con 1 dormitorio(s) y 0 plaza(s) de estacionamiento.",
         "No"
        ],
        [
         "38",
         "Departamento",
         "Coyoacán",
         "1",
         "0",
         "0",
         "35",
         "7000.0",
         "2275.0",
         "262.5",
         "9275.0",
         "113837.5",
         "Departamento en la colonia Coyoacán con 1 dormitorio(s) y 0 plaza(s) de estacionamiento.",
         "No"
        ],
        [
         "39",
         "Departamento",
         "Coyoacán",
         "1",
         "0",
         "0",
         "38",
         "4900.0",
         "1855.0",
         "269.5",
         "6755.0",
         "83184.5",
         "Departamento en la colonia Coyoacán con 1 dormitorio(s) y 0 plaza(s) de estacionamiento.",
         "No"
        ],
        [
         "40",
         "Tienda/Salón",
         "Condesa",
         "0",
         "0",
         "0",
         "34",
         "7000.0",
         "2572.5",
         null,
         "9572.5",
         null,
         "Tienda/Salón en la colonia Condesa con 0 dormitorio(s) y 0 plaza(s) de estacionamiento.",
         "No"
        ],
        [
         "41",
         "Casa de Condominio",
         "Santa Fe",
         "5",
         "10",
         "5",
         "1600",
         "87500.0",
         "5600.0",
         null,
         "93100.0",
         null,
         "Casa de Condominio en la colonia Santa Fe con 5 dormitorio(s) y 10 plaza(s) de estacionamiento.",
         "Si"
        ],
        [
         "42",
         "Departamento",
         "Santa Fe",
         "4",
         "3",
         "3",
         "153",
         "22750.0",
         "8050.0",
         "1519.0",
         "30800.0",
         "379169.0",
         "Departamento en la colonia Santa Fe con 4 dormitorio(s) y 3 plaza(s) de estacionamiento.",
         "Si"
        ],
        [
         "43",
         "Departamento",
         "Coyoacán",
         "3",
         "1",
         "0",
         "87",
         "11200.0",
         "4567.5",
         "759.5",
         "15767.5",
         "194537.0",
         "Departamento en la colonia Coyoacán con 3 dormitorio(s) y 1 plaza(s) de estacionamiento.",
         "No"
        ],
        [
         "44",
         "Departamento",
         "Roma",
         "3",
         "1",
         "1",
         "108",
         "20825.0",
         "4917.5",
         "1011.5",
         "25742.5",
         "314839.0",
         "Departamento en la colonia Roma con 3 dormitorio(s) y 1 plaza(s) de estacionamiento.",
         "Si"
        ],
        [
         "45",
         "Departamento",
         "Coyoacán",
         "3",
         "2",
         "1",
         "150",
         "28000.0",
         "8400.0",
         null,
         "36400.0",
         null,
         "Departamento en la colonia Coyoacán con 3 dormitorio(s) y 2 plaza(s) de estacionamiento.",
         "Si"
        ],
        [
         "46",
         "Conjunto Comercial/Sala",
         "Centro Histórico",
         "0",
         "0",
         "0",
         "1",
         "9975.0",
         "7175.0",
         null,
         "17150.0",
         null,
         "Conjunto Comercial/Sala en la colonia Centro Histórico con 0 dormitorio(s) y 0 plaza(s) de estacionamiento.",
         "No"
        ],
        [
         "47",
         "Departamento",
         "Coyoacán",
         "3",
         "1",
         "1",
         "140",
         "27650.0",
         "10150.0",
         "1750.0",
         "37800.0",
         "465500.0",
         "Departamento en la colonia Coyoacán con 3 dormitorio(s) y 1 plaza(s) de estacionamiento.",
         "Si"
        ],
        [
         "48",
         "Departamento",
         "Polanco",
         "2",
         "2",
         "0",
         "95",
         "14000.0",
         "4095.0",
         null,
         "18095.0",
         null,
         "Departamento en la colonia Polanco con 2 dormitorio(s) y 2 plaza(s) de estacionamiento.",
         "No"
        ],
        [
         "49",
         "Departamento",
         "Santa Fe",
         "2",
         "1",
         "1",
         "70",
         null,
         "3395.0",
         "238.0",
         null,
         null,
         "Departamento en la colonia Santa Fe con 2 dormitorio(s) y 1 plaza(s) de estacionamiento.",
         "Si"
        ]
       ],
       "shape": {
        "columns": 13,
        "rows": 25121
       }
      },
      "text/html": [
       "<div>\n",
       "<style scoped>\n",
       "    .dataframe tbody tr th:only-of-type {\n",
       "        vertical-align: middle;\n",
       "    }\n",
       "\n",
       "    .dataframe tbody tr th {\n",
       "        vertical-align: top;\n",
       "    }\n",
       "\n",
       "    .dataframe thead th {\n",
       "        text-align: right;\n",
       "    }\n",
       "</style>\n",
       "<table border=\"1\" class=\"dataframe\">\n",
       "  <thead>\n",
       "    <tr style=\"text-align: right;\">\n",
       "      <th></th>\n",
       "      <th>Tipo</th>\n",
       "      <th>Colonia</th>\n",
       "      <th>Habitaciones</th>\n",
       "      <th>Garages</th>\n",
       "      <th>Suites</th>\n",
       "      <th>Area</th>\n",
       "      <th>Valor</th>\n",
       "      <th>Condominio</th>\n",
       "      <th>Impuesto</th>\n",
       "      <th>Valor_mensual</th>\n",
       "      <th>Valor_anual</th>\n",
       "      <th>Descripcion</th>\n",
       "      <th>Tiene_suite</th>\n",
       "    </tr>\n",
       "  </thead>\n",
       "  <tbody>\n",
       "    <tr>\n",
       "      <th>0</th>\n",
       "      <td>Cocineta</td>\n",
       "      <td>Condesa</td>\n",
       "      <td>1</td>\n",
       "      <td>0</td>\n",
       "      <td>0</td>\n",
       "      <td>40</td>\n",
       "      <td>5950.0</td>\n",
       "      <td>1750.0</td>\n",
       "      <td>210.0</td>\n",
       "      <td>7700.0</td>\n",
       "      <td>94360.0</td>\n",
       "      <td>Cocineta en la colonia Condesa con 1 dormitori...</td>\n",
       "      <td>No</td>\n",
       "    </tr>\n",
       "    <tr>\n",
       "      <th>1</th>\n",
       "      <td>Casa</td>\n",
       "      <td>Polanco</td>\n",
       "      <td>2</td>\n",
       "      <td>0</td>\n",
       "      <td>1</td>\n",
       "      <td>100</td>\n",
       "      <td>24500.0</td>\n",
       "      <td>NaN</td>\n",
       "      <td>NaN</td>\n",
       "      <td>NaN</td>\n",
       "      <td>NaN</td>\n",
       "      <td>Casa en la colonia Polanco con 2 dormitorio(s)...</td>\n",
       "      <td>Si</td>\n",
       "    </tr>\n",
       "    <tr>\n",
       "      <th>2</th>\n",
       "      <td>Conjunto Comercial/Sala</td>\n",
       "      <td>Santa Fe</td>\n",
       "      <td>0</td>\n",
       "      <td>4</td>\n",
       "      <td>0</td>\n",
       "      <td>150</td>\n",
       "      <td>18200.0</td>\n",
       "      <td>14070.0</td>\n",
       "      <td>3888.5</td>\n",
       "      <td>32270.0</td>\n",
       "      <td>405198.5</td>\n",
       "      <td>Conjunto Comercial/Sala en la colonia Santa Fe...</td>\n",
       "      <td>No</td>\n",
       "    </tr>\n",
       "    <tr>\n",
       "      <th>3</th>\n",
       "      <td>Departamento</td>\n",
       "      <td>Centro Histórico</td>\n",
       "      <td>1</td>\n",
       "      <td>0</td>\n",
       "      <td>0</td>\n",
       "      <td>15</td>\n",
       "      <td>2800.0</td>\n",
       "      <td>1365.0</td>\n",
       "      <td>70.0</td>\n",
       "      <td>4165.0</td>\n",
       "      <td>51415.0</td>\n",
       "      <td>Departamento en la colonia Centro Histórico co...</td>\n",
       "      <td>No</td>\n",
       "    </tr>\n",
       "    <tr>\n",
       "      <th>4</th>\n",
       "      <td>Departamento</td>\n",
       "      <td>Del Valle</td>\n",
       "      <td>1</td>\n",
       "      <td>0</td>\n",
       "      <td>0</td>\n",
       "      <td>48</td>\n",
       "      <td>2800.0</td>\n",
       "      <td>805.0</td>\n",
       "      <td>NaN</td>\n",
       "      <td>3605.0</td>\n",
       "      <td>NaN</td>\n",
       "      <td>Departamento en la colonia Del Valle con 1 dor...</td>\n",
       "      <td>No</td>\n",
       "    </tr>\n",
       "    <tr>\n",
       "      <th>...</th>\n",
       "      <td>...</td>\n",
       "      <td>...</td>\n",
       "      <td>...</td>\n",
       "      <td>...</td>\n",
       "      <td>...</td>\n",
       "      <td>...</td>\n",
       "      <td>...</td>\n",
       "      <td>...</td>\n",
       "      <td>...</td>\n",
       "      <td>...</td>\n",
       "      <td>...</td>\n",
       "      <td>...</td>\n",
       "      <td>...</td>\n",
       "    </tr>\n",
       "    <tr>\n",
       "      <th>25116</th>\n",
       "      <td>Cochera/Estacionamiento</td>\n",
       "      <td>Centro Histórico</td>\n",
       "      <td>0</td>\n",
       "      <td>0</td>\n",
       "      <td>0</td>\n",
       "      <td>755</td>\n",
       "      <td>49000.0</td>\n",
       "      <td>NaN</td>\n",
       "      <td>NaN</td>\n",
       "      <td>NaN</td>\n",
       "      <td>NaN</td>\n",
       "      <td>Cochera/Estacionamiento en la colonia Centro H...</td>\n",
       "      <td>No</td>\n",
       "    </tr>\n",
       "    <tr>\n",
       "      <th>25117</th>\n",
       "      <td>Cocineta</td>\n",
       "      <td>Centro Histórico</td>\n",
       "      <td>0</td>\n",
       "      <td>0</td>\n",
       "      <td>0</td>\n",
       "      <td>27</td>\n",
       "      <td>2800.0</td>\n",
       "      <td>1225.0</td>\n",
       "      <td>87.5</td>\n",
       "      <td>4025.0</td>\n",
       "      <td>49612.5</td>\n",
       "      <td>Cocineta en la colonia Centro Histórico con 0 ...</td>\n",
       "      <td>No</td>\n",
       "    </tr>\n",
       "    <tr>\n",
       "      <th>25118</th>\n",
       "      <td>Departamento</td>\n",
       "      <td>Mixcoac</td>\n",
       "      <td>2</td>\n",
       "      <td>1</td>\n",
       "      <td>0</td>\n",
       "      <td>48</td>\n",
       "      <td>4900.0</td>\n",
       "      <td>1781.5</td>\n",
       "      <td>129.5</td>\n",
       "      <td>6681.5</td>\n",
       "      <td>82089.0</td>\n",
       "      <td>Departamento en la colonia Mixcoac con 2 dormi...</td>\n",
       "      <td>No</td>\n",
       "    </tr>\n",
       "    <tr>\n",
       "      <th>25119</th>\n",
       "      <td>Departamento</td>\n",
       "      <td>Lomas de Chapultepec</td>\n",
       "      <td>2</td>\n",
       "      <td>0</td>\n",
       "      <td>0</td>\n",
       "      <td>70</td>\n",
       "      <td>10500.0</td>\n",
       "      <td>2660.0</td>\n",
       "      <td>NaN</td>\n",
       "      <td>13160.0</td>\n",
       "      <td>NaN</td>\n",
       "      <td>Departamento en la colonia Lomas de Chapultepe...</td>\n",
       "      <td>No</td>\n",
       "    </tr>\n",
       "    <tr>\n",
       "      <th>25120</th>\n",
       "      <td>Conjunto Comercial/Sala</td>\n",
       "      <td>Centro Histórico</td>\n",
       "      <td>0</td>\n",
       "      <td>0</td>\n",
       "      <td>0</td>\n",
       "      <td>250</td>\n",
       "      <td>22750.0</td>\n",
       "      <td>14721.0</td>\n",
       "      <td>3881.5</td>\n",
       "      <td>37471.0</td>\n",
       "      <td>468254.5</td>\n",
       "      <td>Conjunto Comercial/Sala en la colonia Centro H...</td>\n",
       "      <td>No</td>\n",
       "    </tr>\n",
       "  </tbody>\n",
       "</table>\n",
       "<p>25121 rows × 13 columns</p>\n",
       "</div>"
      ],
      "text/plain": [
       "                          Tipo               Colonia  Habitaciones  Garages  \\\n",
       "0                     Cocineta               Condesa             1        0   \n",
       "1                         Casa               Polanco             2        0   \n",
       "2      Conjunto Comercial/Sala              Santa Fe             0        4   \n",
       "3                 Departamento      Centro Histórico             1        0   \n",
       "4                 Departamento             Del Valle             1        0   \n",
       "...                        ...                   ...           ...      ...   \n",
       "25116  Cochera/Estacionamiento      Centro Histórico             0        0   \n",
       "25117                 Cocineta      Centro Histórico             0        0   \n",
       "25118             Departamento               Mixcoac             2        1   \n",
       "25119             Departamento  Lomas de Chapultepec             2        0   \n",
       "25120  Conjunto Comercial/Sala      Centro Histórico             0        0   \n",
       "\n",
       "       Suites  Area    Valor  Condominio  Impuesto  Valor_mensual  \\\n",
       "0           0    40   5950.0      1750.0     210.0         7700.0   \n",
       "1           1   100  24500.0         NaN       NaN            NaN   \n",
       "2           0   150  18200.0     14070.0    3888.5        32270.0   \n",
       "3           0    15   2800.0      1365.0      70.0         4165.0   \n",
       "4           0    48   2800.0       805.0       NaN         3605.0   \n",
       "...       ...   ...      ...         ...       ...            ...   \n",
       "25116       0   755  49000.0         NaN       NaN            NaN   \n",
       "25117       0    27   2800.0      1225.0      87.5         4025.0   \n",
       "25118       0    48   4900.0      1781.5     129.5         6681.5   \n",
       "25119       0    70  10500.0      2660.0       NaN        13160.0   \n",
       "25120       0   250  22750.0     14721.0    3881.5        37471.0   \n",
       "\n",
       "       Valor_anual                                        Descripcion  \\\n",
       "0          94360.0  Cocineta en la colonia Condesa con 1 dormitori...   \n",
       "1              NaN  Casa en la colonia Polanco con 2 dormitorio(s)...   \n",
       "2         405198.5  Conjunto Comercial/Sala en la colonia Santa Fe...   \n",
       "3          51415.0  Departamento en la colonia Centro Histórico co...   \n",
       "4              NaN  Departamento en la colonia Del Valle con 1 dor...   \n",
       "...            ...                                                ...   \n",
       "25116          NaN  Cochera/Estacionamiento en la colonia Centro H...   \n",
       "25117      49612.5  Cocineta en la colonia Centro Histórico con 0 ...   \n",
       "25118      82089.0  Departamento en la colonia Mixcoac con 2 dormi...   \n",
       "25119          NaN  Departamento en la colonia Lomas de Chapultepe...   \n",
       "25120     468254.5  Conjunto Comercial/Sala en la colonia Centro H...   \n",
       "\n",
       "      Tiene_suite  \n",
       "0              No  \n",
       "1              Si  \n",
       "2              No  \n",
       "3              No  \n",
       "4              No  \n",
       "...           ...  \n",
       "25116          No  \n",
       "25117          No  \n",
       "25118          No  \n",
       "25119          No  \n",
       "25120          No  \n",
       "\n",
       "[25121 rows x 13 columns]"
      ]
     },
     "execution_count": 177,
     "metadata": {},
     "output_type": "execute_result"
    }
   ],
   "source": [
    "# Generamos  la columna 'Tiene-suite' utilizando una funcion anónima (lambda) para indicar si la propiedad tiene o no suites, sin importar la cantidad.\n",
    "df_dev['Tiene_suite'] = df_dev['Suites'].apply(lambda x: 'Si' if x > 0 else 'No')\n",
    "df_dev "
   ]
  },
  {
   "cell_type": "markdown",
   "id": "f7027357",
   "metadata": {},
   "source": [
    "## Saving dataFrame"
   ]
  },
  {
   "cell_type": "markdown",
   "id": "17384fb5",
   "metadata": {},
   "source": [
    "### Store the complete DataFrame(s) in .CSV format after all modifications have been made."
   ]
  },
  {
   "cell_type": "code",
   "execution_count": 180,
   "id": "8530daea",
   "metadata": {},
   "outputs": [],
   "source": [
    "path3 = '../../../datasets/processed_dataframes/inmuebles_dev.csv'\n",
    "\n",
    "#  ';' usamos el mismo símbolo que usa el dataframe original.\n",
    "df_dev.to_csv(path3, index=False, sep=';')"
   ]
  },
  {
   "cell_type": "code",
   "execution_count": null,
   "id": "8356dc12",
   "metadata": {},
   "outputs": [],
   "source": []
  }
 ],
 "metadata": {
  "kernelspec": {
   "display_name": "ven",
   "language": "python",
   "name": "python3"
  },
  "language_info": {
   "codemirror_mode": {
    "name": "ipython",
    "version": 3
   },
   "file_extension": ".py",
   "mimetype": "text/x-python",
   "name": "python",
   "nbconvert_exporter": "python",
   "pygments_lexer": "ipython3",
   "version": "3.9.9"
  }
 },
 "nbformat": 4,
 "nbformat_minor": 5
}
