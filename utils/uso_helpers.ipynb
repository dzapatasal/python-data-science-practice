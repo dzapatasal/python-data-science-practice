{
 "cells": [
  {
   "cell_type": "code",
   "execution_count": null,
   "id": "17061be6",
   "metadata": {},
   "outputs": [],
   "source": [
    "# Paso 1: Importar funciones desde helpers.py\n",
    "from utils.helpers import (\n",
    "    cargar_csv,\n",
    "    resumen,\n",
    "    transponer_y_guardar,\n",
    "    cargar_numeros_csv,\n",
    "    mostrar_completo\n",
    ")\n",
    "\n",
    "# Paso 2: Ruta del archivo CSV (ajusta según tu ubicación)\n",
    "ruta_csv = '../datasets/frutas.csv'\n",
    "\n",
    "# Paso 3: Cargar el CSV como DataFrame\n",
    "df = cargar_csv(ruta_csv, encabezado=True)\n",
    "\n",
    "# Paso 4: Mostrar resumen del contenido\n",
    "resumen(df)\n",
    "\n",
    "# Paso 5: Transponer el DataFrame y guardarlo como nuevo CSV\n",
    "df_transpuesto = transponer_y_guardar(df, '../datasets/frutas_transpuesto.csv', encabezado=False)\n",
    "\n",
    "# Paso 6: Visualizar el nuevo DataFrame transpuesto completo\n",
    "mostrar_completo(df_transpuesto)\n",
    "\n",
    "# Paso 7: (Opcional) Cargar solo los datos numéricos del CSV original ignorando la primera fila\n",
    "datos_numericos = cargar_numeros_csv(ruta_csv, saltar_fila=1)\n",
    "\n",
    "# Paso 8: Verificar el contenido de los datos numéricos\n",
    "print(\"\\n📊 Datos numéricos cargados:\\n\", datos_numericos)\n"
   ]
  }
 ],
 "metadata": {
  "language_info": {
   "name": "python"
  }
 },
 "nbformat": 4,
 "nbformat_minor": 5
}
